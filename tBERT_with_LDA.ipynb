{
 "cells": [
  {
   "cell_type": "markdown",
   "metadata": {
    "id": "Sph-HYUyIeRk"
   },
   "source": [
    "### Article's Code\n",
    "You can find it in <a href='https://github.com/wuningxi/tBERT'>this</a> Github.\n"
   ]
  },
  {
   "cell_type": "markdown",
   "metadata": {
    "id": "Zhce49Y27Lvq"
   },
   "source": [
    "### Prerequisites:"
   ]
  },
  {
   "cell_type": "code",
   "execution_count": 1,
   "metadata": {
    "colab": {
     "base_uri": "https://localhost:8080/"
    },
    "executionInfo": {
     "elapsed": 8919,
     "status": "ok",
     "timestamp": 1660500519261,
     "user": {
      "displayName": "Ilan Alex Golik",
      "userId": "15856695005902315184"
     },
     "user_tz": -180
    },
    "id": "8SMUUB6P5RvW",
    "outputId": "51bd2dd8-f047-44d8-e768-828436687530"
   },
   "outputs": [
    {
     "name": "stdout",
     "output_type": "stream",
     "text": [
      "\u001b[K     |████████████████████████████████| 4.7 MB 7.5 MB/s \n",
      "\u001b[K     |████████████████████████████████| 596 kB 89.1 MB/s \n",
      "\u001b[K     |████████████████████████████████| 101 kB 14.0 MB/s \n",
      "\u001b[K     |████████████████████████████████| 6.6 MB 79.6 MB/s \n",
      "\u001b[?25h"
     ]
    }
   ],
   "source": [
    "!pip install --quiet transformers"
   ]
  },
  {
   "cell_type": "markdown",
   "metadata": {
    "id": "TaSpFcqU7Qlv"
   },
   "source": [
    "### Imports:"
   ]
  },
  {
   "cell_type": "code",
   "execution_count": 2,
   "metadata": {
    "executionInfo": {
     "elapsed": 17591,
     "status": "ok",
     "timestamp": 1660500536844,
     "user": {
      "displayName": "Ilan Alex Golik",
      "userId": "15856695005902315184"
     },
     "user_tz": -180
    },
    "id": "K8RP-19ogtcq"
   },
   "outputs": [],
   "source": [
    "import gc\n",
    "import random\n",
    "import warnings\n",
    "\n",
    "\n",
    "import pickle\n",
    "import numpy as np\n",
    "import pandas as pd\n",
    "import matplotlib.pyplot as plt\n",
    "from wordcloud import WordCloud, STOPWORDS\n",
    "\n",
    "\n",
    "import nltk\n",
    "from nltk.corpus import stopwords \n",
    "from nltk.tokenize import word_tokenize\n",
    "\n",
    "\n",
    "import torch\n",
    "from torch import nn\n",
    "import torch.optim as optim\n",
    "from torch.cuda import empty_cache\n",
    "from torch.utils.data import DataLoader, random_split\n",
    "\n",
    "\n",
    "from transformers import logging\n",
    "from transformers import EarlyStoppingCallback\n",
    "from transformers import TrainingArguments, Trainer\n",
    "from transformers import BertModel,BertTokenizer\n",
    "from transformers.file_utils import is_tf_available, is_torch_available, is_torch_tpu_available\n",
    "\n",
    "\n",
    "from sklearn.model_selection import train_test_split\n",
    "from sklearn.decomposition import LatentDirichletAllocation\n",
    "from sklearn.feature_extraction.text import TfidfVectorizer, CountVectorizer\n",
    "from sklearn.metrics import accuracy_score, recall_score, precision_score, f1_score,classification_report\n",
    "\n",
    "from sklearn.utils import compute_class_weight\n",
    "from tqdm import tqdm\n",
    "\n",
    "import gensim, spacy\n",
    "import gensim.corpora as corpora\n",
    "from nltk.corpus import stopwords\n",
    "\n",
    "import pandas as pd\n",
    "import re\n",
    "from tqdm import tqdm\n",
    "import time\n",
    "\n",
    "from collections import defaultdict\n",
    "from google.colab import drive"
   ]
  },
  {
   "cell_type": "markdown",
   "metadata": {
    "id": "7iHzjW8kfJaG"
   },
   "source": [
    "##### Warnings & Verbose"
   ]
  },
  {
   "cell_type": "code",
   "execution_count": 3,
   "metadata": {
    "executionInfo": {
     "elapsed": 8,
     "status": "ok",
     "timestamp": 1660500536845,
     "user": {
      "displayName": "Ilan Alex Golik",
      "userId": "15856695005902315184"
     },
     "user_tz": -180
    },
    "id": "8WEWKsq2fIbn"
   },
   "outputs": [],
   "source": [
    "warnings.filterwarnings(\"ignore\") # general\n",
    "logging.set_verbosity_error() # huggingface"
   ]
  },
  {
   "cell_type": "markdown",
   "metadata": {
    "id": "pYQOVtPp7TkY"
   },
   "source": [
    "##### Setup -  Natural Language Tool Kit "
   ]
  },
  {
   "cell_type": "code",
   "execution_count": 4,
   "metadata": {
    "colab": {
     "base_uri": "https://localhost:8080/"
    },
    "executionInfo": {
     "elapsed": 699,
     "status": "ok",
     "timestamp": 1660500537538,
     "user": {
      "displayName": "Ilan Alex Golik",
      "userId": "15856695005902315184"
     },
     "user_tz": -180
    },
    "id": "czUOJpyLgzPc",
    "outputId": "b7947f42-c595-426c-d73e-162ae5903447"
   },
   "outputs": [
    {
     "name": "stderr",
     "output_type": "stream",
     "text": [
      "[nltk_data] Downloading package punkt to /root/nltk_data...\n",
      "[nltk_data]   Unzipping tokenizers/punkt.zip.\n",
      "[nltk_data] Downloading package stopwords to /root/nltk_data...\n",
      "[nltk_data]   Unzipping corpora/stopwords.zip.\n",
      "[nltk_data] Downloading package averaged_perceptron_tagger to\n",
      "[nltk_data]     /root/nltk_data...\n",
      "[nltk_data]   Unzipping taggers/averaged_perceptron_tagger.zip.\n"
     ]
    },
    {
     "data": {
      "text/plain": [
       "True"
      ]
     },
     "execution_count": 4,
     "metadata": {},
     "output_type": "execute_result"
    }
   ],
   "source": [
    "nltk.download('punkt')\n",
    "nltk.download('stopwords')\n",
    "nltk.download('averaged_perceptron_tagger')"
   ]
  },
  {
   "cell_type": "markdown",
   "metadata": {
    "id": "KRdRW1Zy7fV4"
   },
   "source": [
    "##### Setup - Google Drive"
   ]
  },
  {
   "cell_type": "code",
   "execution_count": 5,
   "metadata": {
    "colab": {
     "base_uri": "https://localhost:8080/"
    },
    "executionInfo": {
     "elapsed": 27584,
     "status": "ok",
     "timestamp": 1660500565113,
     "user": {
      "displayName": "Ilan Alex Golik",
      "userId": "15856695005902315184"
     },
     "user_tz": -180
    },
    "id": "2OcLhQnjg1GH",
    "outputId": "59b0cbe6-914e-454c-81e9-6be44f8a7314"
   },
   "outputs": [
    {
     "name": "stdout",
     "output_type": "stream",
     "text": [
      "Mounted at /content/drive\n"
     ]
    }
   ],
   "source": [
    "drive.mount('/content/drive')"
   ]
  },
  {
   "cell_type": "code",
   "execution_count": 6,
   "metadata": {
    "colab": {
     "base_uri": "https://localhost:8080/"
    },
    "executionInfo": {
     "elapsed": 412,
     "status": "ok",
     "timestamp": 1660500565519,
     "user": {
      "displayName": "Ilan Alex Golik",
      "userId": "15856695005902315184"
     },
     "user_tz": -180
    },
    "id": "vHSTV5wdyWtS",
    "outputId": "bf29fe36-2b78-431f-e493-1c5077af736a"
   },
   "outputs": [
    {
     "name": "stdout",
     "output_type": "stream",
     "text": [
      "/content/drive/MyDrive/NLP/tBert-final-project/tBERT\n"
     ]
    }
   ],
   "source": [
    "%cd drive/MyDrive/NLP/tBert-final-project/tBERT/"
   ]
  },
  {
   "cell_type": "code",
   "execution_count": 7,
   "metadata": {
    "colab": {
     "base_uri": "https://localhost:8080/"
    },
    "executionInfo": {
     "elapsed": 557,
     "status": "ok",
     "timestamp": 1660500566073,
     "user": {
      "displayName": "Ilan Alex Golik",
      "userId": "15856695005902315184"
     },
     "user_tz": -180
    },
    "id": "2wAlmDJ28i3E",
    "outputId": "92a33631-51d5-4ea2-e717-de6b816616f3"
   },
   "outputs": [
    {
     "name": "stdout",
     "output_type": "stream",
     "text": [
      "Code_Article_Torch_Original.ipynb\n",
      "data\n",
      "gensim-lda.ipynb\n",
      "lda_bert.ipynb\n",
      "lda_cv.ipynb\n",
      "results\n",
      "Sentiment_Analysis_and_Topic_Modelling_on_Brand-Related_Social_Media_Data.pdf\n",
      "tBERT.jpg\n",
      "tBERT_with_GSDMM.ipynb\n",
      "tBERT_with_LDA.ipynb\n",
      "tBERT_with_LDA_QOURA.ipynb\n"
     ]
    }
   ],
   "source": [
    "!ls"
   ]
  },
  {
   "cell_type": "code",
   "execution_count": 8,
   "metadata": {
    "executionInfo": {
     "elapsed": 10,
     "status": "ok",
     "timestamp": 1660500566074,
     "user": {
      "displayName": "Ilan Alex Golik",
      "userId": "15856695005902315184"
     },
     "user_tz": -180
    },
    "id": "RPzvoqQ8Augw"
   },
   "outputs": [],
   "source": [
    "SEED = 82"
   ]
  },
  {
   "cell_type": "code",
   "execution_count": 9,
   "metadata": {
    "executionInfo": {
     "elapsed": 10,
     "status": "ok",
     "timestamp": 1660500566075,
     "user": {
      "displayName": "Ilan Alex Golik",
      "userId": "15856695005902315184"
     },
     "user_tz": -180
    },
    "id": "Yj769BUk_gIC"
   },
   "outputs": [],
   "source": [
    "def set_seed(seed: int):\n",
    "    \"\"\"\n",
    "    Helper function for reproducible behavior to set the seed in ``random``, ``numpy``, ``torch`` and/or ``tf`` (if\n",
    "    installed).\n",
    "\n",
    "    Args:\n",
    "        seed (:obj:`int`): The seed to set.\n",
    "    \"\"\"\n",
    "    random.seed(seed)\n",
    "    np.random.seed(seed)\n",
    "    if is_torch_available():\n",
    "        torch.manual_seed(seed)\n",
    "        torch.cuda.manual_seed_all(seed)\n",
    "        # ^^ safe to call this function even if cuda is not available\n",
    "    if is_tf_available():\n",
    "        import tensorflow as tf\n",
    "\n",
    "        tf.random.set_seed(seed)\n",
    "\n",
    "set_seed(SEED)"
   ]
  },
  {
   "cell_type": "markdown",
   "metadata": {
    "id": "tQf3Yzez7plK"
   },
   "source": [
    "## Dataset"
   ]
  },
  {
   "cell_type": "markdown",
   "metadata": {
    "id": "ebWQqrJF1Tnc"
   },
   "source": [
    "##### Torch's Dataset"
   ]
  },
  {
   "cell_type": "code",
   "execution_count": 10,
   "metadata": {
    "executionInfo": {
     "elapsed": 9,
     "status": "ok",
     "timestamp": 1660500566075,
     "user": {
      "displayName": "Ilan Alex Golik",
      "userId": "15856695005902315184"
     },
     "user_tz": -180
    },
    "id": "9QIrR0jn1T3o"
   },
   "outputs": [],
   "source": [
    "class Dataset(torch.utils.data.Dataset):\n",
    "    def __init__(self, encodings, labels):\n",
    "        self.encodings = encodings\n",
    "        self.labels = labels\n",
    "\n",
    "    def __getitem__(self, idx):\n",
    "        x = self.encodings[idx]\n",
    "        y = self.labels[idx]\n",
    "        return x,y\n",
    "\n",
    "    def __len__(self):\n",
    "        return len(self.encodings)\n",
    "\n",
    "\n",
    "class PairDataset(torch.utils.data.Dataset):\n",
    "    def __init__(self, text1,text2,labels):\n",
    "        self.text1  = text1\n",
    "        self.text2  = text2\n",
    "        self.labels = labels\n",
    "\n",
    "    def __getitem__(self, idx):\n",
    "        x1 = self.text1[idx]\n",
    "        x2 = self.text2[idx]\n",
    "        y = self.labels[idx]\n",
    "        return x1,x2,y\n",
    "\n",
    "    def __len__(self):\n",
    "        return len(self.labels)"
   ]
  },
  {
   "cell_type": "markdown",
   "metadata": {
    "id": "yA1sNv_8zDvb"
   },
   "source": [
    "### MSRP\n"
   ]
  },
  {
   "cell_type": "code",
   "execution_count": 11,
   "metadata": {
    "executionInfo": {
     "elapsed": 9,
     "status": "ok",
     "timestamp": 1660500566076,
     "user": {
      "displayName": "Ilan Alex Golik",
      "userId": "15856695005902315184"
     },
     "user_tz": -180
    },
    "id": "whiu_RqzzEDW"
   },
   "outputs": [],
   "source": [
    "msrp_train = 'data/MSRP/MSRParaphraseCorpus/msr-para-train.tsv'\n",
    "msrp_val   = 'data/MSRP/MSRParaphraseCorpus/msr-para-val.tsv'\n",
    "msrp_test  = 'data/MSRP/MSRParaphraseCorpus/msr-para-test.tsv'"
   ]
  },
  {
   "cell_type": "markdown",
   "metadata": {
    "id": "WKkOa7Nbyob0"
   },
   "source": [
    "##### Create a dataframe"
   ]
  },
  {
   "cell_type": "code",
   "execution_count": 12,
   "metadata": {
    "colab": {
     "base_uri": "https://localhost:8080/"
    },
    "executionInfo": {
     "elapsed": 2107,
     "status": "ok",
     "timestamp": 1660500568176,
     "user": {
      "displayName": "Ilan Alex Golik",
      "userId": "15856695005902315184"
     },
     "user_tz": -180
    },
    "id": "Y6jODy3uyotR",
    "outputId": "da050418-bb1f-4a91-ca2c-7cf5c1bd4c20"
   },
   "outputs": [
    {
     "data": {
      "text/plain": [
       "((3461, 3), (480, 3), (1641, 3))"
      ]
     },
     "execution_count": 12,
     "metadata": {},
     "output_type": "execute_result"
    }
   ],
   "source": [
    "df_msrp_train = pd.read_csv(msrp_train, sep='\\t', header=0, error_bad_lines=False, warn_bad_lines=False, names=['label','q1_id','q2_id','q1','q2'],usecols=[0,3,4]).dropna()\n",
    "df_msrp_val   = pd.read_csv(msrp_val,   sep='\\t', header=0, error_bad_lines=False, warn_bad_lines=False, names=['label','q1_id','q2_id','q1','q2'],usecols=[0,3,4]).dropna()\n",
    "df_msrp_test  = pd.read_csv(msrp_test,  sep='\\t', header=0, error_bad_lines=False, warn_bad_lines=False, names=['label','q1_id','q2_id','q1','q2'],usecols=[0,3,4]).dropna()\n",
    "\n",
    "df_msrp_train.shape,df_msrp_val.shape,df_msrp_test.shape\n"
   ]
  },
  {
   "cell_type": "code",
   "execution_count": 13,
   "metadata": {
    "colab": {
     "base_uri": "https://localhost:8080/",
     "height": 204
    },
    "executionInfo": {
     "elapsed": 16,
     "status": "ok",
     "timestamp": 1660500568177,
     "user": {
      "displayName": "Ilan Alex Golik",
      "userId": "15856695005902315184"
     },
     "user_tz": -180
    },
    "id": "8ASh7owJqjht",
    "outputId": "d3dd354a-77f2-468d-c6d1-a197821ed026"
   },
   "outputs": [
    {
     "data": {
      "text/html": [
       "\n",
       "  <div id=\"df-0d0b5a22-faff-412e-8ccc-917a25823333\">\n",
       "    <div class=\"colab-df-container\">\n",
       "      <div>\n",
       "<style scoped>\n",
       "    .dataframe tbody tr th:only-of-type {\n",
       "        vertical-align: middle;\n",
       "    }\n",
       "\n",
       "    .dataframe tbody tr th {\n",
       "        vertical-align: top;\n",
       "    }\n",
       "\n",
       "    .dataframe thead th {\n",
       "        text-align: right;\n",
       "    }\n",
       "</style>\n",
       "<table border=\"1\" class=\"dataframe\">\n",
       "  <thead>\n",
       "    <tr style=\"text-align: right;\">\n",
       "      <th></th>\n",
       "      <th>label</th>\n",
       "      <th>q1</th>\n",
       "      <th>q2</th>\n",
       "    </tr>\n",
       "  </thead>\n",
       "  <tbody>\n",
       "    <tr>\n",
       "      <th>0</th>\n",
       "      <td>1</td>\n",
       "      <td>Amrozi accused his brother, whom he called \"th...</td>\n",
       "      <td>Referring to him as only \"the witness\", Amrozi...</td>\n",
       "    </tr>\n",
       "    <tr>\n",
       "      <th>1</th>\n",
       "      <td>0</td>\n",
       "      <td>Yucaipa owned Dominick's before selling the ch...</td>\n",
       "      <td>Yucaipa bought Dominick's in 1995 for $693 mil...</td>\n",
       "    </tr>\n",
       "    <tr>\n",
       "      <th>2</th>\n",
       "      <td>1</td>\n",
       "      <td>They had published an advertisement on the Int...</td>\n",
       "      <td>On June 10, the ship's owners had published an...</td>\n",
       "    </tr>\n",
       "    <tr>\n",
       "      <th>3</th>\n",
       "      <td>0</td>\n",
       "      <td>Around 0335 GMT, Tab shares were up 19 cents, ...</td>\n",
       "      <td>Tab shares jumped 20 cents, or 4.6%, to set a ...</td>\n",
       "    </tr>\n",
       "    <tr>\n",
       "      <th>4</th>\n",
       "      <td>1</td>\n",
       "      <td>The stock rose $2.11, or about 11 percent, to ...</td>\n",
       "      <td>PG&amp;E Corp. shares jumped $1.63 or 8 percent to...</td>\n",
       "    </tr>\n",
       "  </tbody>\n",
       "</table>\n",
       "</div>\n",
       "      <button class=\"colab-df-convert\" onclick=\"convertToInteractive('df-0d0b5a22-faff-412e-8ccc-917a25823333')\"\n",
       "              title=\"Convert this dataframe to an interactive table.\"\n",
       "              style=\"display:none;\">\n",
       "        \n",
       "  <svg xmlns=\"http://www.w3.org/2000/svg\" height=\"24px\"viewBox=\"0 0 24 24\"\n",
       "       width=\"24px\">\n",
       "    <path d=\"M0 0h24v24H0V0z\" fill=\"none\"/>\n",
       "    <path d=\"M18.56 5.44l.94 2.06.94-2.06 2.06-.94-2.06-.94-.94-2.06-.94 2.06-2.06.94zm-11 1L8.5 8.5l.94-2.06 2.06-.94-2.06-.94L8.5 2.5l-.94 2.06-2.06.94zm10 10l.94 2.06.94-2.06 2.06-.94-2.06-.94-.94-2.06-.94 2.06-2.06.94z\"/><path d=\"M17.41 7.96l-1.37-1.37c-.4-.4-.92-.59-1.43-.59-.52 0-1.04.2-1.43.59L10.3 9.45l-7.72 7.72c-.78.78-.78 2.05 0 2.83L4 21.41c.39.39.9.59 1.41.59.51 0 1.02-.2 1.41-.59l7.78-7.78 2.81-2.81c.8-.78.8-2.07 0-2.86zM5.41 20L4 18.59l7.72-7.72 1.47 1.35L5.41 20z\"/>\n",
       "  </svg>\n",
       "      </button>\n",
       "      \n",
       "  <style>\n",
       "    .colab-df-container {\n",
       "      display:flex;\n",
       "      flex-wrap:wrap;\n",
       "      gap: 12px;\n",
       "    }\n",
       "\n",
       "    .colab-df-convert {\n",
       "      background-color: #E8F0FE;\n",
       "      border: none;\n",
       "      border-radius: 50%;\n",
       "      cursor: pointer;\n",
       "      display: none;\n",
       "      fill: #1967D2;\n",
       "      height: 32px;\n",
       "      padding: 0 0 0 0;\n",
       "      width: 32px;\n",
       "    }\n",
       "\n",
       "    .colab-df-convert:hover {\n",
       "      background-color: #E2EBFA;\n",
       "      box-shadow: 0px 1px 2px rgba(60, 64, 67, 0.3), 0px 1px 3px 1px rgba(60, 64, 67, 0.15);\n",
       "      fill: #174EA6;\n",
       "    }\n",
       "\n",
       "    [theme=dark] .colab-df-convert {\n",
       "      background-color: #3B4455;\n",
       "      fill: #D2E3FC;\n",
       "    }\n",
       "\n",
       "    [theme=dark] .colab-df-convert:hover {\n",
       "      background-color: #434B5C;\n",
       "      box-shadow: 0px 1px 3px 1px rgba(0, 0, 0, 0.15);\n",
       "      filter: drop-shadow(0px 1px 2px rgba(0, 0, 0, 0.3));\n",
       "      fill: #FFFFFF;\n",
       "    }\n",
       "  </style>\n",
       "\n",
       "      <script>\n",
       "        const buttonEl =\n",
       "          document.querySelector('#df-0d0b5a22-faff-412e-8ccc-917a25823333 button.colab-df-convert');\n",
       "        buttonEl.style.display =\n",
       "          google.colab.kernel.accessAllowed ? 'block' : 'none';\n",
       "\n",
       "        async function convertToInteractive(key) {\n",
       "          const element = document.querySelector('#df-0d0b5a22-faff-412e-8ccc-917a25823333');\n",
       "          const dataTable =\n",
       "            await google.colab.kernel.invokeFunction('convertToInteractive',\n",
       "                                                     [key], {});\n",
       "          if (!dataTable) return;\n",
       "\n",
       "          const docLinkHtml = 'Like what you see? Visit the ' +\n",
       "            '<a target=\"_blank\" href=https://colab.research.google.com/notebooks/data_table.ipynb>data table notebook</a>'\n",
       "            + ' to learn more about interactive tables.';\n",
       "          element.innerHTML = '';\n",
       "          dataTable['output_type'] = 'display_data';\n",
       "          await google.colab.output.renderOutput(dataTable, element);\n",
       "          const docLink = document.createElement('div');\n",
       "          docLink.innerHTML = docLinkHtml;\n",
       "          element.appendChild(docLink);\n",
       "        }\n",
       "      </script>\n",
       "    </div>\n",
       "  </div>\n",
       "  "
      ],
      "text/plain": [
       "   label                                                 q1  \\\n",
       "0      1  Amrozi accused his brother, whom he called \"th...   \n",
       "1      0  Yucaipa owned Dominick's before selling the ch...   \n",
       "2      1  They had published an advertisement on the Int...   \n",
       "3      0  Around 0335 GMT, Tab shares were up 19 cents, ...   \n",
       "4      1  The stock rose $2.11, or about 11 percent, to ...   \n",
       "\n",
       "                                                  q2  \n",
       "0  Referring to him as only \"the witness\", Amrozi...  \n",
       "1  Yucaipa bought Dominick's in 1995 for $693 mil...  \n",
       "2  On June 10, the ship's owners had published an...  \n",
       "3  Tab shares jumped 20 cents, or 4.6%, to set a ...  \n",
       "4  PG&E Corp. shares jumped $1.63 or 8 percent to...  "
      ]
     },
     "execution_count": 13,
     "metadata": {},
     "output_type": "execute_result"
    }
   ],
   "source": [
    "df_msrp_train.head()"
   ]
  },
  {
   "cell_type": "code",
   "execution_count": 14,
   "metadata": {
    "colab": {
     "base_uri": "https://localhost:8080/",
     "height": 204
    },
    "executionInfo": {
     "elapsed": 11,
     "status": "ok",
     "timestamp": 1660500568178,
     "user": {
      "displayName": "Ilan Alex Golik",
      "userId": "15856695005902315184"
     },
     "user_tz": -180
    },
    "id": "zX0gpflrqX8q",
    "outputId": "2fa678e2-ae5b-4902-cacd-ef549d35599a"
   },
   "outputs": [
    {
     "data": {
      "text/html": [
       "\n",
       "  <div id=\"df-99e17b1b-b0fc-4f8e-b9cb-f12ac74ec98a\">\n",
       "    <div class=\"colab-df-container\">\n",
       "      <div>\n",
       "<style scoped>\n",
       "    .dataframe tbody tr th:only-of-type {\n",
       "        vertical-align: middle;\n",
       "    }\n",
       "\n",
       "    .dataframe tbody tr th {\n",
       "        vertical-align: top;\n",
       "    }\n",
       "\n",
       "    .dataframe thead th {\n",
       "        text-align: right;\n",
       "    }\n",
       "</style>\n",
       "<table border=\"1\" class=\"dataframe\">\n",
       "  <thead>\n",
       "    <tr style=\"text-align: right;\">\n",
       "      <th></th>\n",
       "      <th>label</th>\n",
       "      <th>q1</th>\n",
       "      <th>q2</th>\n",
       "    </tr>\n",
       "  </thead>\n",
       "  <tbody>\n",
       "    <tr>\n",
       "      <th>0</th>\n",
       "      <td>1</td>\n",
       "      <td>PCCW's chief operating officer, Mike Butcher, ...</td>\n",
       "      <td>Current Chief Operating Officer Mike Butcher a...</td>\n",
       "    </tr>\n",
       "    <tr>\n",
       "      <th>1</th>\n",
       "      <td>1</td>\n",
       "      <td>The world's two largest automakers said their ...</td>\n",
       "      <td>Domestic sales at both GM and No. 2 Ford Motor...</td>\n",
       "    </tr>\n",
       "    <tr>\n",
       "      <th>2</th>\n",
       "      <td>1</td>\n",
       "      <td>According to the federal Centers for Disease C...</td>\n",
       "      <td>The Centers for Disease Control and Prevention...</td>\n",
       "    </tr>\n",
       "    <tr>\n",
       "      <th>3</th>\n",
       "      <td>0</td>\n",
       "      <td>A tropical storm rapidly developed in the Gulf...</td>\n",
       "      <td>A tropical storm rapidly developed in the Gulf...</td>\n",
       "    </tr>\n",
       "    <tr>\n",
       "      <th>4</th>\n",
       "      <td>0</td>\n",
       "      <td>The company didn't detail the costs of the rep...</td>\n",
       "      <td>But company officials expect the costs of the ...</td>\n",
       "    </tr>\n",
       "  </tbody>\n",
       "</table>\n",
       "</div>\n",
       "      <button class=\"colab-df-convert\" onclick=\"convertToInteractive('df-99e17b1b-b0fc-4f8e-b9cb-f12ac74ec98a')\"\n",
       "              title=\"Convert this dataframe to an interactive table.\"\n",
       "              style=\"display:none;\">\n",
       "        \n",
       "  <svg xmlns=\"http://www.w3.org/2000/svg\" height=\"24px\"viewBox=\"0 0 24 24\"\n",
       "       width=\"24px\">\n",
       "    <path d=\"M0 0h24v24H0V0z\" fill=\"none\"/>\n",
       "    <path d=\"M18.56 5.44l.94 2.06.94-2.06 2.06-.94-2.06-.94-.94-2.06-.94 2.06-2.06.94zm-11 1L8.5 8.5l.94-2.06 2.06-.94-2.06-.94L8.5 2.5l-.94 2.06-2.06.94zm10 10l.94 2.06.94-2.06 2.06-.94-2.06-.94-.94-2.06-.94 2.06-2.06.94z\"/><path d=\"M17.41 7.96l-1.37-1.37c-.4-.4-.92-.59-1.43-.59-.52 0-1.04.2-1.43.59L10.3 9.45l-7.72 7.72c-.78.78-.78 2.05 0 2.83L4 21.41c.39.39.9.59 1.41.59.51 0 1.02-.2 1.41-.59l7.78-7.78 2.81-2.81c.8-.78.8-2.07 0-2.86zM5.41 20L4 18.59l7.72-7.72 1.47 1.35L5.41 20z\"/>\n",
       "  </svg>\n",
       "      </button>\n",
       "      \n",
       "  <style>\n",
       "    .colab-df-container {\n",
       "      display:flex;\n",
       "      flex-wrap:wrap;\n",
       "      gap: 12px;\n",
       "    }\n",
       "\n",
       "    .colab-df-convert {\n",
       "      background-color: #E8F0FE;\n",
       "      border: none;\n",
       "      border-radius: 50%;\n",
       "      cursor: pointer;\n",
       "      display: none;\n",
       "      fill: #1967D2;\n",
       "      height: 32px;\n",
       "      padding: 0 0 0 0;\n",
       "      width: 32px;\n",
       "    }\n",
       "\n",
       "    .colab-df-convert:hover {\n",
       "      background-color: #E2EBFA;\n",
       "      box-shadow: 0px 1px 2px rgba(60, 64, 67, 0.3), 0px 1px 3px 1px rgba(60, 64, 67, 0.15);\n",
       "      fill: #174EA6;\n",
       "    }\n",
       "\n",
       "    [theme=dark] .colab-df-convert {\n",
       "      background-color: #3B4455;\n",
       "      fill: #D2E3FC;\n",
       "    }\n",
       "\n",
       "    [theme=dark] .colab-df-convert:hover {\n",
       "      background-color: #434B5C;\n",
       "      box-shadow: 0px 1px 3px 1px rgba(0, 0, 0, 0.15);\n",
       "      filter: drop-shadow(0px 1px 2px rgba(0, 0, 0, 0.3));\n",
       "      fill: #FFFFFF;\n",
       "    }\n",
       "  </style>\n",
       "\n",
       "      <script>\n",
       "        const buttonEl =\n",
       "          document.querySelector('#df-99e17b1b-b0fc-4f8e-b9cb-f12ac74ec98a button.colab-df-convert');\n",
       "        buttonEl.style.display =\n",
       "          google.colab.kernel.accessAllowed ? 'block' : 'none';\n",
       "\n",
       "        async function convertToInteractive(key) {\n",
       "          const element = document.querySelector('#df-99e17b1b-b0fc-4f8e-b9cb-f12ac74ec98a');\n",
       "          const dataTable =\n",
       "            await google.colab.kernel.invokeFunction('convertToInteractive',\n",
       "                                                     [key], {});\n",
       "          if (!dataTable) return;\n",
       "\n",
       "          const docLinkHtml = 'Like what you see? Visit the ' +\n",
       "            '<a target=\"_blank\" href=https://colab.research.google.com/notebooks/data_table.ipynb>data table notebook</a>'\n",
       "            + ' to learn more about interactive tables.';\n",
       "          element.innerHTML = '';\n",
       "          dataTable['output_type'] = 'display_data';\n",
       "          await google.colab.output.renderOutput(dataTable, element);\n",
       "          const docLink = document.createElement('div');\n",
       "          docLink.innerHTML = docLinkHtml;\n",
       "          element.appendChild(docLink);\n",
       "        }\n",
       "      </script>\n",
       "    </div>\n",
       "  </div>\n",
       "  "
      ],
      "text/plain": [
       "   label                                                 q1  \\\n",
       "0      1  PCCW's chief operating officer, Mike Butcher, ...   \n",
       "1      1  The world's two largest automakers said their ...   \n",
       "2      1  According to the federal Centers for Disease C...   \n",
       "3      0  A tropical storm rapidly developed in the Gulf...   \n",
       "4      0  The company didn't detail the costs of the rep...   \n",
       "\n",
       "                                                  q2  \n",
       "0  Current Chief Operating Officer Mike Butcher a...  \n",
       "1  Domestic sales at both GM and No. 2 Ford Motor...  \n",
       "2  The Centers for Disease Control and Prevention...  \n",
       "3  A tropical storm rapidly developed in the Gulf...  \n",
       "4  But company officials expect the costs of the ...  "
      ]
     },
     "execution_count": 14,
     "metadata": {},
     "output_type": "execute_result"
    }
   ],
   "source": [
    "df_msrp_test.head()"
   ]
  },
  {
   "cell_type": "markdown",
   "metadata": {
    "id": "ahoyIV-v1gYQ"
   },
   "source": [
    "##### Create PairDataset"
   ]
  },
  {
   "cell_type": "code",
   "execution_count": 15,
   "metadata": {
    "executionInfo": {
     "elapsed": 10,
     "status": "ok",
     "timestamp": 1660500568179,
     "user": {
      "displayName": "Ilan Alex Golik",
      "userId": "15856695005902315184"
     },
     "user_tz": -180
    },
    "id": "GDIjGu491gr_"
   },
   "outputs": [],
   "source": [
    "dataset_msrp_train = PairDataset(df_msrp_train.q1.values, df_msrp_train.q2.values, df_msrp_train.label.values)\n",
    "dataset_msrp_val   = PairDataset(df_msrp_val.q1.values,   df_msrp_val.q2.values,   df_msrp_val.label.values)\n",
    "dataset_msrp_test  = PairDataset(df_msrp_test.q1.values,  df_msrp_test.q2.values,  df_msrp_test.label.values)"
   ]
  },
  {
   "cell_type": "markdown",
   "metadata": {
    "id": "0cHNj8A0yZDC"
   },
   "source": [
    "##### Distribution - Traget Labels  \n"
   ]
  },
  {
   "cell_type": "code",
   "execution_count": 16,
   "metadata": {
    "colab": {
     "base_uri": "https://localhost:8080/",
     "height": 386
    },
    "executionInfo": {
     "elapsed": 431,
     "status": "ok",
     "timestamp": 1660500568600,
     "user": {
      "displayName": "Ilan Alex Golik",
      "userId": "15856695005902315184"
     },
     "user_tz": -180
    },
    "id": "-hWelPDfyYP4",
    "outputId": "e2f2e5fc-54c4-4f98-e09d-a951a0b911ae"
   },
   "outputs": [
    {
     "data": {
      "image/png": "[encoded data removed]",
      "text/plain": [
       "<Figure size 1080x432 with 3 Axes>"
      ]
     },
     "metadata": {
      "needs_background": "light"
     },
     "output_type": "display_data"
    }
   ],
   "source": [
    "d = {'train':df_msrp_train,'validation':df_msrp_val,'test':df_msrp_test}\n",
    "\n",
    "plt.figure(figsize=(15,6))\n",
    "\n",
    "for i,(k,v) in enumerate(d.items()):\n",
    "  plt.subplot(1,3,i+1)\n",
    "  v.label.value_counts().plot.bar();\n",
    "  plt.title('Label Distribution - MSRP -' + k)"
   ]
  },
  {
   "cell_type": "markdown",
   "metadata": {
    "id": "cyWZsQEk-TXk"
   },
   "source": [
    "It is easy to see that there are twise as much \"true\" then \"false\" - as it was proposed in the article, will use the F1 parameter to evaluate our resulted model.\n",
    "<br><br>\n",
    "<br><br>"
   ]
  },
  {
   "cell_type": "markdown",
   "metadata": {
    "id": "UNnYRIx28UNz"
   },
   "source": [
    "## Models - Setup DL models"
   ]
  },
  {
   "cell_type": "markdown",
   "metadata": {
    "id": "civ_WtRz8aZr"
   },
   "source": [
    "#### Model - BERT"
   ]
  },
  {
   "cell_type": "markdown",
   "metadata": {
    "id": "rfsd8jDGBTo6"
   },
   "source": [
    "\n",
    "\n",
    "\n",
    "\n",
    "\n",
    "\n",
    "\n",
    "\n",
    "\n",
    "\n",
    "\n",
    "\n",
    "\n",
    "\n",
    "\n",
    "\n",
    "\n",
    "\n",
    "\n",
    "\n",
    "\n",
    "\n",
    "\n",
    "\n",
    "\n",
    "\n",
    "\n",
    "\n",
    "\n",
    "\n",
    "\n",
    "\n",
    "\n",
    "\n",
    "\n",
    "\n",
    "\n",
    "\n",
    "\n",
    "\n",
    "\n",
    "\n",
    "\n",
    "\n",
    "\n",
    "\n",
    "\n",
    "\n",
    "\n",
    "\n",
    "\n",
    "\n",
    "\n",
    "\n",
    "\n",
    "\n",
    "\n",
    "\n",
    "\n",
    "\n",
    "\n",
    "\n",
    "\n",
    "\n",
    "\n",
    "\n",
    "\n",
    "\n",
    "\n",
    "\n",
    "\n",
    "\n",
    "\n",
    "\n",
    "\n",
    "\n",
    "\n",
    "\n",
    "\n",
    "\n",
    "\n",
    "\n",
    "\n",
    "\n",
    "\n",
    "\n",
    "\n",
    "\n",
    "\n",
    "\n",
    "\n",
    "\n",
    "\n",
    "\n",
    "\n",
    "\n",
    "\n",
    "\n",
    "\n",
    "\n",
    "\n",
    "\n",
    "\n",
    "\n",
    "\n",
    "\n",
    "\n",
    "\n",
    "\n",
    "\n",
    "\n",
    "\n",
    "\n",
    "\n",
    "\n",
    "\n",
    "\n",
    "\n",
    "\n",
    "\n",
    "\n",
    "\n",
    "\n",
    "\n",
    "\n",
    "\n",
    "\n",
    "\n",
    "\n",
    "\n",
    "\n",
    "\n",
    "\n",
    "\n",
    "\n",
    "\n",
    "\n",
    "\n",
    "\n",
    "\n",
    "\n",
    "\n",
    "\n",
    "\n",
    "\n",
    "\n",
    "\n",
    "\n",
    "\n",
    "\n",
    "\n",
    "\n",
    "\n",
    "\n",
    "\n",
    "\n",
    "\n",
    "\n",
    "\n",
    "\n",
    "\n",
    "\n",
    "\n",
    "\n",
    "\n",
    "\n",
    "\n",
    "\n",
    "\n",
    "\n",
    "\n",
    "\n",
    "\n",
    "\n",
    "\n",
    "\n",
    "\n",
    "\n",
    "\n",
    "\n",
    "\n",
    "\n",
    "\n",
    "\n",
    "\n",
    "#### Setup Trainer"
   ]
  },
  {
   "cell_type": "code",
   "execution_count": 17,
   "metadata": {
    "executionInfo": {
     "elapsed": 12,
     "status": "ok",
     "timestamp": 1660500568601,
     "user": {
      "displayName": "Ilan Alex Golik",
      "userId": "15856695005902315184"
     },
     "user_tz": -180
    },
    "id": "yuc_UDe-ppLX"
   },
   "outputs": [],
   "source": [
    "T_SEED=SEED"
   ]
  },
  {
   "cell_type": "code",
   "execution_count": 18,
   "metadata": {
    "executionInfo": {
     "elapsed": 10,
     "status": "ok",
     "timestamp": 1660500568601,
     "user": {
      "displayName": "Ilan Alex Golik",
      "userId": "15856695005902315184"
     },
     "user_tz": -180
    },
    "id": "eM1mp40cprdP"
   },
   "outputs": [],
   "source": [
    "T_MAX_LEN = 10"
   ]
  },
  {
   "cell_type": "code",
   "execution_count": 19,
   "metadata": {
    "executionInfo": {
     "elapsed": 11,
     "status": "ok",
     "timestamp": 1660500568602,
     "user": {
      "displayName": "Ilan Alex Golik",
      "userId": "15856695005902315184"
     },
     "user_tz": -180
    },
    "id": "mcE6CE4B16Cd"
   },
   "outputs": [],
   "source": [
    "MAX_LEN_BERT = 50"
   ]
  },
  {
   "cell_type": "code",
   "execution_count": 20,
   "metadata": {
    "executionInfo": {
     "elapsed": 10,
     "status": "ok",
     "timestamp": 1660500568602,
     "user": {
      "displayName": "Ilan Alex Golik",
      "userId": "15856695005902315184"
     },
     "user_tz": -180
    },
    "id": "bWlsfIRPw42Z"
   },
   "outputs": [],
   "source": [
    "n_topics = [1,5,10,20,60,70,75,80,85,90,100]"
   ]
  },
  {
   "cell_type": "code",
   "execution_count": 21,
   "metadata": {
    "executionInfo": {
     "elapsed": 10,
     "status": "ok",
     "timestamp": 1660500568603,
     "user": {
      "displayName": "Ilan Alex Golik",
      "userId": "15856695005902315184"
     },
     "user_tz": -180
    },
    "id": "w_I3XZVPqQMQ"
   },
   "outputs": [],
   "source": [
    "# BERT_MODEL_NAME = \"google/bert_uncased_L-12_H-768_A-12\"\n",
    "BERT_MODEL_NAME = \"bert-base-uncased\""
   ]
  },
  {
   "cell_type": "code",
   "execution_count": 22,
   "metadata": {
    "colab": {
     "base_uri": "https://localhost:8080/",
     "height": 147,
     "referenced_widgets": [
      "b0ba4d8b3cb74aa7ac0e969fd96dc28b",
      "1634b83577314dc6ac6c524cba669f01",
      "963c6cbdc3ed4733afc313f34ac2560d",
      "798651ad359a499094c3b17848f291ae",
      "bd48dca500574bd5aab107bb7d5ae846",
      "cddca8cc5eab4fb189c97636da23af59",
      "e6a03635646f46c1ae6aae430057a7a1",
      "46faae23da2d4bdf8313c7fc1fee9ebd",
      "bba2d297d7e347c19b1aa73597d90173",
      "3d90d19184d04bc99a287d2e75f43440",
      "ed8a385113214f29b04f4ba1d6b566b6",
      "622b0acfe7c34902a938967b88e51043",
      "975e372a0a4646eb940e7c40ba5a6220",
      "e9f33432329142b2801bb44af315ec1c",
      "6794ddbe639d49deaae73fb7de53f5b9",
      "f0e7908e619d4fb5847db8ccb77b6609",
      "6697162c10c64dd6b72eccc7decd8a6a",
      "8b7322ba6d694a4b9bbf4acd5dbf6d96",
      "5293b6ed693b4e90824715af496a72b6",
      "7f292b46e80842ca8c62664e352266a8",
      "8d745ff1fcf24affab9bdcd64ef71adc",
      "9f54b3b81e43494a988989ed71e015a4",
      "ad0ff99c28624c94b9344b6687dac20c",
      "7cdbb26788924a7095af0e5be64270bd",
      "b3b23d293f08428785d4537f880915ef",
      "807686b6f4d74b7dafee2d0e9c0988fc",
      "7ebd4474ac33482dbe5b32f2464c4611",
      "386bacaadfde4fccacf66af655e67e93",
      "62b43d3de36a43a5b653345997b301e5",
      "5d20192dd812423c9d2b03a0edc12414",
      "45019820025f4b04a2213c4eefb7cf1d",
      "caa37f44e1944af8b7d4bc9cff19509c",
      "74787568328b433ab55055bc63d14cb1"
     ]
    },
    "executionInfo": {
     "elapsed": 2741,
     "status": "ok",
     "timestamp": 1660500571335,
     "user": {
      "displayName": "Ilan Alex Golik",
      "userId": "15856695005902315184"
     },
     "user_tz": -180
    },
    "id": "Ne4k42oAq5Ha",
    "outputId": "d988eb51-c8a5-4fd8-9c38-9fb05d59259d"
   },
   "outputs": [
    {
     "data": {
      "application/vnd.jupyter.widget-view+json": {
       "model_id": "b0ba4d8b3cb74aa7ac0e969fd96dc28b",
       "version_major": 2,
       "version_minor": 0
      },
      "text/plain": [
       "Downloading vocab.txt:   0%|          | 0.00/226k [00:00<?, ?B/s]"
      ]
     },
     "metadata": {},
     "output_type": "display_data"
    },
    {
     "data": {
      "application/vnd.jupyter.widget-view+json": {
       "model_id": "622b0acfe7c34902a938967b88e51043",
       "version_major": 2,
       "version_minor": 0
      },
      "text/plain": [
       "Downloading tokenizer_config.json:   0%|          | 0.00/28.0 [00:00<?, ?B/s]"
      ]
     },
     "metadata": {},
     "output_type": "display_data"
    },
    {
     "data": {
      "application/vnd.jupyter.widget-view+json": {
       "model_id": "ad0ff99c28624c94b9344b6687dac20c",
       "version_major": 2,
       "version_minor": 0
      },
      "text/plain": [
       "Downloading config.json:   0%|          | 0.00/570 [00:00<?, ?B/s]"
      ]
     },
     "metadata": {},
     "output_type": "display_data"
    },
    {
     "data": {
      "text/plain": [
       "PreTrainedTokenizer(name_or_path='bert-base-uncased', vocab_size=30522, model_max_len=512, is_fast=False, padding_side='right', truncation_side='right', special_tokens={'unk_token': '[UNK]', 'sep_token': '[SEP]', 'pad_token': '[PAD]', 'cls_token': '[CLS]', 'mask_token': '[MASK]'})"
      ]
     },
     "execution_count": 22,
     "metadata": {},
     "output_type": "execute_result"
    }
   ],
   "source": [
    "tokenizer = BertTokenizer.from_pretrained(BERT_MODEL_NAME)\n",
    "tokenizer"
   ]
  },
  {
   "cell_type": "code",
   "execution_count": 23,
   "metadata": {
    "executionInfo": {
     "elapsed": 7,
     "status": "ok",
     "timestamp": 1660500571336,
     "user": {
      "displayName": "Ilan Alex Golik",
      "userId": "15856695005902315184"
     },
     "user_tz": -180
    },
    "id": "obQ-U8WosF22"
   },
   "outputs": [],
   "source": [
    "def preprocessing(sentence):\n",
    "  sentence = str(sentence).lower()                                            # lower latters\n",
    "  words = word_tokenize(sentence)                                             # split into words\n",
    "  words = [word for word in words if word.isalpha()]                          # remove punctuations\n",
    "  words = [word for word in words if word not in stopwords.words('english')]  # remove stopwords\n",
    "  words = [word for (word, pos) in nltk.pos_tag(words) if pos[:2] == 'NN']    # keep nouns\n",
    "  sentence = ' '.join(words)                                                  # combine words to a sentence\n",
    "  return sentence\n",
    "def preprocessAll(sentences):\n",
    "  sentences = [preprocessing(sentence) for sentence in sentences]\n",
    "  return sentences\n",
    "\n",
    "def get_words_len_for_topics(topics):\n",
    "  return 50"
   ]
  },
  {
   "cell_type": "code",
   "execution_count": 24,
   "metadata": {
    "executionInfo": {
     "elapsed": 5,
     "status": "ok",
     "timestamp": 1660500571336,
     "user": {
      "displayName": "Ilan Alex Golik",
      "userId": "15856695005902315184"
     },
     "user_tz": -180
    },
    "id": "ajTf6bsU4WA6"
   },
   "outputs": [],
   "source": [
    "all_sentences = df_msrp_train.q1.values.tolist()\n",
    "all_sentences.extend(df_msrp_train.q2.values.tolist())\n",
    "all_sentences.extend(df_msrp_val.q1.values.tolist())\n",
    "all_sentences.extend(df_msrp_val.q2.values.tolist())"
   ]
  },
  {
   "cell_type": "code",
   "execution_count": 25,
   "metadata": {
    "executionInfo": {
     "elapsed": 1050,
     "status": "ok",
     "timestamp": 1660500572382,
     "user": {
      "displayName": "Ilan Alex Golik",
      "userId": "15856695005902315184"
     },
     "user_tz": -180
    },
    "id": "zXKUXJnMAG7Q"
   },
   "outputs": [],
   "source": [
    "nlp = spacy.load(\"en_core_web_sm\")\n",
    "\n",
    "# Load NLTK stopwords\n",
    "stop_words = stopwords.words('english')\n",
    "# Add some extra words in it if required\n",
    "stop_words.extend(['from', 'subject', 'use','pron'])"
   ]
  },
  {
   "cell_type": "code",
   "execution_count": 26,
   "metadata": {
    "executionInfo": {
     "elapsed": 6,
     "status": "ok",
     "timestamp": 1660500572382,
     "user": {
      "displayName": "Ilan Alex Golik",
      "userId": "15856695005902315184"
     },
     "user_tz": -180
    },
    "id": "hXcbXgDRAHWG"
   },
   "outputs": [],
   "source": [
    "def clean_procedure(input_data):\n",
    "  data = input_data\n",
    "\n",
    "  ### Cleaning data\n",
    "\n",
    "  # Remove Emails\n",
    "  data = [re.sub('S*@S*s?', '', sent) for sent in data]\n",
    "  # Remove new line characters and extra space\n",
    "  data = [re.sub('s+', ' ', sent) for sent in data]\n",
    "  # Remove single quotes\n",
    "  data = [re.sub(\"'\", \"\", sent) for sent in data]\n",
    "\n",
    "  ### Lemmatization\n",
    "  data_lemma = []\n",
    "  for i, txt in enumerate(data):\n",
    "      lis = []\n",
    "      doc = nlp(txt)\n",
    "      for token in doc:\n",
    "          lis.append(token.lemma_)\n",
    "      data_lemma.append(' '.join(lis))\n",
    "\n",
    "  ### Tokenization and gensim stopword removal\n",
    "\n",
    "  # You can look for all gensim stopwords by running -> 'gensim.parsing.preprocessing.STOPWORDS'\n",
    "\n",
    "  # Function to tokenize\n",
    "  # Also remove words whose length less than 3 (you can chang it)\n",
    "  def tokenization_with_gen_stop(text):\n",
    "      result=[]\n",
    "      for token in gensim.utils.simple_preprocess(text) :\n",
    "          if token not in gensim.parsing.preprocessing.STOPWORDS and len(token) > 3:\n",
    "              result.append(token)\n",
    "\n",
    "      return result\n",
    "\n",
    "  ## Apply tokenization function\n",
    "  data_words = []\n",
    "  for i, txt in enumerate(data_lemma):\n",
    "      data_words.append(tokenization_with_gen_stop(txt))\n",
    "\n",
    "  ### NLTK Stopword removal (extra stopwords)\n",
    "\n",
    "  _cleaned = []\n",
    "  for i, word in enumerate(data_words):\n",
    "      wrd = []\n",
    "      for w in word:\n",
    "          if w not in stop_words:\n",
    "              wrd.append(w)\n",
    "      _cleaned.append(wrd)\n",
    "  mapped = dict()\n",
    "  for i, words in enumerate(_cleaned):\n",
    "    mapped[input_data[i]] = words\n",
    "  return _cleaned, mapped"
   ]
  },
  {
   "cell_type": "code",
   "execution_count": 27,
   "metadata": {
    "colab": {
     "base_uri": "https://localhost:8080/"
    },
    "executionInfo": {
     "elapsed": 57645,
     "status": "ok",
     "timestamp": 1660500630022,
     "user": {
      "displayName": "Ilan Alex Golik",
      "userId": "15856695005902315184"
     },
     "user_tz": -180
    },
    "id": "K5GBE5EXAHwL",
    "outputId": "cb9c4b18-b363-4c2a-fc53-6b8ed4a2eeb8"
   },
   "outputs": [
    {
     "name": "stdout",
     "output_type": "stream",
     "text": [
      "cleaning data...\n",
      "{'accu': 0, 'amrozi': 1, 'brother': 2, 'deliberately': 3, 'evidence': 4, 'torte': 5, 'witne': 6, 'billion': 7, 'chain': 8, 'dominick': 9, 'elle': 10, 'safeway': 11, 'yucaipa': 12, 'adverti': 13, 'cargo': 14, 'ement': 15, 'internet': 16, 'june': 17, 'offer': 18, 'publi': 19, 'cent': 20, 'early': 21, 'hare': 22, 'high': 23, 'record': 24, 'exchange': 25, 'friday': 26, 'percent': 27, 'stock': 28, 'tock': 29, 'york': 30, 'drop': 31, 'period': 32, 'quarter': 33, 'revenue': 34, 'year': 35, 'gain': 36, 'weekly': 37, 'appeal': 38, 'court': 39, 'supreme': 40, 'tate': 41, 'compare': 42, 'million': 43, 'company': 44, 'ervice': 45, 'food': 46, 'growth': 47, 'long': 48, 'term': 49, 'trategy': 50, 'carry': 51, 'coach': 52, 'enger': 53, 'gyorgy': 54, 'head': 55, 'heizler': 56, 'local': 57, 'unit': 58, 'developer': 59, 'enior': 60, 'evangeli': 61, 'ident': 62, 'platform': 63, 'recently': 64, 'rudder': 65, 'vice': 66, 'allow': 67, 'chao': 68, 'cheme': 69, 'companie': 70, 'control': 71, 'damage': 72, 'dolphin': 73, 'engage': 74, 'export': 75, 'foreign': 76, 'hing': 77, 'logging': 78, 'monitoring': 79, 'operation': 80, 'proper': 81, 'forward': 82, 'hate': 83, 'iraqi': 84, 'look': 85, 'magnarelli': 86, 'racicot': 87, 'regime': 88, 'training': 89, 'child': 90, 'equitable': 91, 'fair': 92, 'guideline': 93, 'hope': 94, 'infertility': 95, 'lead': 96, 'national': 97, 'network': 98, 'sheena': 99, 'ufferer': 100, 'upport': 101, 'young': 102, 'replace': 103, 'think': 104, 'acce': 105, 'click': 106, 'drive': 107, 'erver': 108, 'finder': 109, 'folder': 110, 'hard': 111, 'location': 112, 'medium': 113, 'provide': 114, 'removable': 115, 'bahama': 116, 'caico': 117, 'dominican': 118, 'haiti': 119, 'land': 120, 'outhea': 121, 'portion': 122, 'republic': 123, 'tern': 124, 'today': 125, 'torm': 126, 'tropical': 127, 'turk': 128, 'warning': 129, 'watche': 130, 'bail': 131, 'federal': 132, 'fort': 133, 'hold': 134, 'lauderdale': 135, 'magi': 136, 'order': 137, 'trate': 138, 'idere': 139, 'overweight': 140, 'dollar': 141, 'flat': 142, 'franc': 143, 'argentina': 144, 'augu': 145, 'bare': 146, 'deal': 147, 'debt': 148, 'expire': 149, 'minimum': 150, 'month': 151, 'rollover': 152, 'truck': 153, 'approach': 154, 'inhibited': 155, 'ituation': 156, 'object': 157, 'people': 158, 'pontaneou': 159, 'tend': 160, 'timid': 161, 'uninhibited': 162, 'beautiful': 163, 'bring': 164, 'building': 165, 'central': 166, 'concour': 167, 'grand': 168, 'sunday': 169, 'want': 170, 'broad': 171, 'fall': 172, 'point': 173, 'poor': 174, 'standard': 175, 'crew': 176, 'current': 177, 'duque': 178, 'earth': 179, 'malenchenko': 180, 'monaut': 181, 'return': 182, 'tation': 183, 'tronaut': 184, 'yuri': 185, 'large': 186, 'partner': 187, 'singapore': 188, 'state': 189, 'total': 190, 'trade': 191, 'trading': 192, 'united': 193, 'candidate': 194, 'decide': 195, 'endor': 196, 'october': 197, 'wait': 198, 'civil': 199, 'criminal': 200, 'date': 201, 'trial': 202, 'inventorie': 203, 'price': 204, 'halt': 205, 'loral': 206, 'monday': 207, 'terday': 208, 'earn': 209, 'recur': 210, 'bond': 211, 'camp': 212, 'dinner': 213, 'headquarter': 214, 'military': 215, 'plan': 216, 'teel': 217, 'troop': 218, 'kick': 219, 'penney': 220, 'retailer': 221, 'thing': 222, 'walgreen': 223, 'death': 224, 'ecutor': 225, 'file': 226, 'inform': 227, 'intend': 228, 'motion': 229, 'penalty': 230, 'choice': 231, 'chool': 232, 'cleveland': 233, 'ecular': 234, 'parent': 235, 'program': 236, 'religiou': 237, 'rule': 238, 'titutional': 239, 'uphold': 240, 'voucher': 241, 'beat': 242, 'brain': 243, 'cancer': 244, 'lung': 245, 'pread': 246, 'ticular': 247, 'charge': 248, 'eparately': 249, 'face': 250, 'jury': 251, 'piracy': 252, 'sorkin': 253, 'tice': 254, 'truct': 255, 'albuquerque': 256, 'grave': 257, 'laredo': 258, 'ratcliffe': 259, 'report': 260, 'villafranca': 261, 'chip': 262, 'decline': 263, 'expect': 264, 'grow': 265, 'market': 266, 'department': 267, 'erve': 268, 'greece': 269, 'group': 270, 'john': 271, 'official': 272, 'paki': 273, 'tralia': 274, 'vietnam': 275, 'wolf': 276, 'annually': 277, 'average': 278, 'aving': 279, 'commi': 280, 'idential': 281, 'tomer': 282, 'work': 283, 'drink': 284, 'likely': 285, 'maker': 286, 'potlight': 287, 'economic': 288, 'employee': 289, 'ignificant': 290, 'overall': 291, 'package': 292, 'check': 293, 'dome': 294, 'employ': 295, 'legally': 296, 'mart': 297, 'worker': 298, 'album': 299, 'accretive': 300, 'downplay': 301, 'flow': 302, 'focu': 303, 'immediately': 304, 'maller': 305, 'purcha': 306, 'talk': 307, 'comca': 308, 'morning': 309, 'dioxin': 310, 'environment': 311, 'ince': 312, 'level': 313, 'integrate': 314, 'java': 315, 'purifyplu': 316, 'rational': 317, 'upported': 318, 'accommodate': 319, 'airlite': 320, 'appearance': 321, 'econd': 322, 'hift': 323, 'hington': 324, 'carlton': 325, 'murder': 326, 'teammate': 327, 'audience': 328, 'forum': 329, 'pace': 330, 'tion': 331, 'acute': 332, 'appear': 333, 'china': 334, 'evere': 335, 'global': 336, 'ickene': 337, 'november': 338, 'outhern': 339, 'piratory': 340, 'toll': 341, 'viru': 342, 'yndrome': 343, 'battle': 344, 'hunt': 345, 'mark': 346, 'saddam': 347, 'upporter': 348, 'weep': 349, 'examination': 350, 'follow': 351, 'woman': 352, 'chedule': 353, 'deliver': 354, 'embraer': 355, 'september': 356, 'believe': 357, 'come': 358, 'contrary': 359, 'fully': 360, 'management': 361, 'oracle': 362, 'peoplesoft': 363, 'product': 364, 'application': 365, 'firewall': 366, 'include': 367, 'intelligence': 368, 'smartdefen': 369, 'american': 370, 'arthur': 371, 'blackli': 372, 'elia': 373, 'kazan': 374, 'miller': 375, 'board': 376, 'downtime': 377, 'foot': 378, 'place': 379, 'production': 380, 'entenced': 381, 'july': 382, 'life': 383, 'parole': 384, 'troy': 385, 'admi': 386, 'michigan': 387, 'proce': 388, 'relea': 389, 'thur': 390, 'uncon': 391, 'undergraduate': 392, 'univer': 393, 'announce': 394, 'intel': 395, 'cionable': 396, 'condition': 397, 'facilitie': 398, 'fail': 399, 'ippi': 400, 'juvenile': 401, 'turbing': 402, 'armor': 403, 'columbia': 404, 'fated': 405, 'pathway': 406, 'penetrate': 407, 'reentry': 408, 'thermal': 409, 'wing': 410, 'demon': 411, 'drama': 412, 'eugene': 413, 'family': 414, 'journey': 415, 'night': 416, 'nomination': 417, 'office': 418, 'oneill': 419, 'potent': 420, 'revival': 421, 'tony': 422, 'trength': 423, 'income': 424, 'rate': 425, 'taxable': 426, 'colin': 427, 'ibility': 428, 'powell': 429, 'secretary': 430, 'wedne': 431, 'admini': 432, 'correct': 433, 'doctor': 434, 'flaw': 435, 'power': 436, 'tauzin': 437, 'thoma': 438, 'tration': 439, 'election': 440, 'ewhere': 441, 'experience': 442, 'regular': 443, 'january': 444, 'journal': 445, 'online': 446, 'society': 447, 'affect': 448, 'airway': 449, 'approval': 450, 'biotechnology': 451, 'drug': 452, 'receive': 453, 'thma': 454, 'treatment': 455, 'triction': 456, 'world': 457, 'account': 458, 'bank': 459, 'charitable': 460, 'complicate': 461, 'crackdown': 462, 'delegate': 463, 'foundation': 464, 'fund': 465, 'jihadi': 466, 'money': 467, 'organization': 468, 'relate': 469, 'terror': 470, 'tran': 471, 'tributing': 472, 'accounting': 473, 'agent': 474, 'arre': 475, 'erny': 476, 'firm': 477, 'inve': 478, 'tigation': 479, 'tructe': 480, 'alexander': 481, 'begin': 482, 'deputy': 483, 'kelly': 484, 'meet': 485, 'mini': 486, 'yukov': 487, 'elementary': 488, 'freeway': 489, 'hamilton': 490, 'hoot': 491, 'hooting': 492, 'late': 493, 'link': 494, 'obetz': 495, 'pree': 496, 'school': 497, 'cholera': 498, 'sanitation': 499, 'typhoid': 500, 'indu': 501, 'jone': 502, 'almo': 503, 'certainly': 504, 'flame': 505, 'longhorn': 506, 'peculation': 507, 'barometer': 508, 'expert': 509, 'figure': 510, 'health': 511, 'predict': 512, 'sale': 513, 'tead': 514, 'watch': 515, 'care': 516, 'gear': 517, 'oftware': 518, 'pitality': 519, 'pitch': 520, 'trie': 521, 'variety': 522, 'wirele': 523, 'elena': 524, 'nation': 525, 'olde': 526, 'slough': 527, 'compo': 528, 'index': 529, 'ixic': 530, 'laced': 531, 'technology': 532, 'currency': 533, 'japane': 534, 'algerian': 535, 'army': 536, 'ault': 537, 'fiercely': 538, 'hnikov': 539, 'kala': 540, 'kidnapper': 541, 'paper': 542, 'rifle': 543, 'watan': 544, 'chart': 545, 'financial': 546, 'profile': 547, 'tokyo': 548, 'bragging': 549, 'right': 550, 'hartford': 551, 'share': 552, 'palm': 553, 'palmone': 554, 'phone': 555, 'form': 556, 'involve': 557, 'probably': 558, 'protein': 559, 'admit': 560, 'electric': 561, 'ifying': 562, 'nuclear': 563, 'pection': 564, 'reactor': 565, 'tart': 566, 'college': 567, 'private': 568, 'tuition': 569, 'booby': 570, 'ground': 571, 'light': 572, 'police': 573, 'security': 574, 'talled': 575, 'trap': 576, 'darrell': 577, 'davi': 578, 'force': 579, 'recall': 580, 'republican': 581, 'attack': 582, 'backed': 583, 'coma': 584, 'conflict': 585, 'peace': 586, 'region': 587, 'road': 588, 'widen': 589, 'document': 590, 'excel': 591, 'launch': 592, 'micro': 593, 'powerpoint': 594, 'type': 595, 'ucce': 596, 'word': 597, 'brandei': 598, 'campu': 599, 'extremely': 600, 'heartrende': 601, 'time': 602, 'analyze': 603, 'dozen': 604, 'ecure': 605, 'patch': 606, 'live': 607, 'urgery': 608, 'clarify': 609, 'cooperation': 610, 'effort': 611, 'energy': 612, 'iran': 613, 'ition': 614, 'poke': 615, 'tatement': 616, 'tonight': 617, 'appoint': 618, 'committee': 619, 'independent': 620, 'inquiry': 621, 'judicial': 622, 'kazemi': 623, 'khatami': 624, 'mohammad': 625, 'reformi': 626, 'complete': 627, 'component': 628, 'continue': 629, 'entation': 630, 'format': 631, 'heet': 632, 'tradition': 633, 'uite': 634, 'utilize': 635, 'burke': 636, 'flood': 637, 'mount': 638, 'river': 639, 'skagit': 640, 'tage': 641, 'tream': 642, 'vernon': 643, 'blue': 644, 'core': 645, 'ecutive': 646, 'inch': 647, 'fine': 648, 'ician': 649, 'ubject': 650, 'violate': 651, 'future': 652, 'actually': 653, 'anhalt': 654, 'bottle': 655, 'contain': 656, 'erving': 657, 'example': 658, 'ounce': 659, 'treat': 660, 'typically': 661, 'mature': 662, 'note': 663, 'yield': 664, 'abortion': 665, 'apply': 666, 'kline': 667, 'opinion': 668, 'pecifically': 669, 'pregnant': 670, 'prenatal': 671, 'provider': 672, 'agency': 673, 'allegation': 674, 'atomic': 675, 'britain': 676, 'information': 677, 'international': 678, 'huttle': 679, 'later': 680, 'sixteen': 681, 'uperheated': 682, 'urvival': 683, 'church': 684, 'emerge': 685, 'free': 686, 'freedom': 687, 'hama': 688, 'killer': 689, 'love': 690, 'reporter': 691, 'tell': 692, 'coverage': 693, 'difficult': 694, 'espn': 695, 'final': 696, 'inten': 697, 'round': 698, 'ludicrou': 699, 'briefing': 700, 'deci': 701, 'ecret': 702, 'guidance': 703, 'prompt': 704, 'competitor': 705, 'ktop': 706, 'linux': 707, 'mall': 708, 'memo': 709, 'mention': 710, 'pecific': 711, 'protect': 712, 'till': 713, 'window': 714, 'authoritie': 715, 'california': 716, 'devrie': 717, 'home': 718, 'judge': 719, 'mental': 720, 'need': 721, 'omewhere': 722, 'unable': 723, 'upervi': 724, 'oner': 725, 'balance': 726, 'budget': 727, 'ight': 728, 'racial': 729, 'trict': 730, 'whipple': 731, 'arnold': 732, 'heroe': 733, 'pecial': 734, 'schwarzenegger': 735, 'ulting': 736, 'villain': 737, 'avoid': 738, 'convenience': 739, 'tear': 740, 'travel': 741, 'warn': 742, 'internal': 743, 'onnel': 744, 'sean': 745, 'sundwell': 746, 'anthrax': 747, 'letter': 748, 'waagner': 749, 'gephardt': 750, 'repeal': 751, 'able': 752, 'conceive': 753, 'ectopic': 754, 'fear': 755, 'pregnancie': 756, 'uffere': 757, 'uteru': 758, 'approve': 759, 'brea': 760, 'ilicone': 761, 'implant': 762, 'convict': 763, 'paracha': 764, 'apple': 765, 'half': 766, 'intere': 767, 'halla': 768, 'prepared': 769, 'county': 770, 'illegal': 771, 'immigrant': 772, 'muggler': 773, 'pickup': 774, 'pinal': 775, 'roger': 776, 'sheriff': 777, 'smuggler': 778, 'vanderpool': 779, 'accord': 780, 'charle': 781, 'forgive': 782, 'lawyer': 783, 'loan': 784, 'repay': 785, 'stillman': 786, 'swartz': 787, 'tyco': 788, 'midafternoon': 789, 'apparently': 790, 'bolton': 791, 'cale': 792, 'fence': 793, 'immobilize': 794, 'mattre': 795, 'razor': 796, 'selen': 797, 'wire': 798, 'loonie': 799, 'cellphone': 800, 'haque': 801, 'miley': 802, 'organize': 803, 'prom': 804, 'turquoi': 805, 'actor': 806, 'producer': 807, 'public': 808, 'umption': 809, 'equivalent': 810, 'ignificantly': 811, 'pirin': 812, 'ticlopidine': 813, 'upply': 814, 'audit': 815, 'cancellation': 816, 'environmental': 817, 'quality': 818, 'require': 819, 'timate': 820, 'brazilian': 821, 'deep': 822, 'mann': 823, 'movement': 824, 'pioneer': 825, 'center': 826, 'kill': 827, 'prevention': 828, 'roughly': 829, 'armed': 830, 'entative': 831, 'familie': 832, 'mail': 833, 'member': 834, 'repre': 835, 'target': 836, 'direct': 837, 'film': 838, 'prai': 839, 'wender': 840, 'widely': 841, 'ballerina': 842, 'novikova': 843, 'tandard': 844, 'volochkova': 845, 'weight': 846, 'encourage': 847, 'fight': 848, 'iraq': 849, 'occupation': 850, 'videotape': 851, 'earch': 852, 'identify': 853, 'port': 854, 'innocent': 855, 'challenge': 856, 'jail': 857, 'congre': 858, 'fletcher': 859, 'lexington': 860, 'overwhelming': 861, 'precinct': 862, 'reporting': 863, 'vote': 864, 'afternoon': 865, 'comfortable': 866, 'jack': 867, 'progre': 868, 'table': 869, 'teady': 870, 'aircraft': 871, 'elve': 872, 'khodorkov': 873, 'officer': 874, 'shadrin': 875, 'soviet': 876, 'babie': 877, 'bear': 878, 'claim': 879, 'hour': 880, 'arrive': 881, 'dominique': 882, 'french': 883, 'sharm': 884, 'sheikh': 885, 'villepin': 886, 'human': 887, 'true': 888, 'enforcement': 889, 'event': 890, 'heatherington': 891, 'neere': 892, 'break': 893, 'flee': 894, 'kirt': 895, 'mecca': 896, 'okaz': 897, 'pect': 898, 'raid': 899, 'saturday': 900, 'saudi': 901, 'baton': 902, 'chief': 903, 'defender': 904, 'ente': 905, 'michael': 906, 'mitchell': 907, 'rouge': 908, 'booming': 909, 'canada': 910, 'delivery': 911, 'demand': 912, 'flexible': 913, 'prefer': 914, 'tired': 915, 'bolt': 916, 'catcher': 917, 'chairman': 918, 'gehman': 919, 'retire': 920, 'robu': 921, 'uppo': 922, 'beverage': 923, 'bottler': 924, 'equal': 925, 'hould': 926, 'improve': 927, 'morgan': 928, 'pricing': 929, 'rating': 930, 'stanley': 931, 'apparent': 932, 'djihad': 933, 'interior': 934, 'reference': 935, 'sahel': 936, 'salafi': 937, 'tapha': 938, 'pound': 939, 'reach': 940, 'binder': 941, 'ring': 942, 'tuck': 943, 'cribe': 944, 'democrat': 945, 'viewer': 946, 'courier': 947, 'overnight': 948, 'rely': 949, 'carrizale': 950, 'citizen': 951, 'claudia': 952, 'harlingen': 953, 'mexican': 954, 'villa': 955, 'condemn': 956, 'council': 957, 'ermon': 958, 'governing': 959, 'muqtada': 960, 'sadr': 961, 'band': 962, 'boncyk': 963, 'neighbour': 964, 'ride': 965, 'wayne': 966, 'wife': 967, 'america': 968, 'bitter': 969, 'border': 970, 'deteriorate': 971, 'hort': 972, 'kuchma': 973, 'latin': 974, 'leonid': 975, 'ukraine': 976, 'ukrainian': 977, 'wrangle': 978, 'movie': 979, 'weekend': 980, 'cell': 981, 'fuel': 982, 'oare': 983, 'platinum': 984, 'propo': 985, 'vehicle': 986, 'blank': 987, 'gamecock': 988, 'stanford': 989, 'guard': 990, 'happen': 991, 'kaye': 992, 'know': 993, 'corixa': 994, 'allocate': 995, 'cfsb': 996, 'initial': 997, 'offering': 998, 'tigator': 999, 'elect': 1000, 'ibly': 1001, 'qanbar': 1002, 'ettle': 1003, 'gallon': 1004, 'heating': 1005, 'antiviru': 1006, 'double': 1007, 'olution': 1008, 'worldwide': 1009, 'securitie': 1010, 'conagra': 1011, 'ability': 1012, 'datum': 1013, 'delete': 1014, 'device': 1015, 'feature': 1016, 'handheld': 1017, 'lock': 1018, 'away': 1019, 'byrne': 1020, 'tarte': 1021, 'tuff': 1022, 'afford': 1023, 'chatham': 1024, 'director': 1025, 'funding': 1026, 'georgia': 1027, 'melinda': 1028, 'rowe': 1029, 'common': 1030, 'currently': 1031, 'hand': 1032, 'hareholder': 1033, 'hang': 1034, 'previou': 1035, 'tudent': 1036, 'ymptom': 1037, 'alto': 1038, 'everal': 1039, 'palo': 1040, 'rendezvou': 1041, 'tibco': 1042, 'benning': 1043, 'brigade': 1044, 'columbu': 1045, 'combat': 1046, 'divi': 1047, 'flight': 1048, 'team': 1049, 'thou': 1050, 'week': 1051, 'enberg': 1052, 'euro': 1053, 'interview': 1054, 'televi': 1055, 'zone': 1056, 'available': 1057, 'condom': 1058, 'teen': 1059, 'teenager': 1060, 'tudy': 1061, 'complicated': 1062, 'executive': 1063, 'peech': 1064, 'tall': 1065, 'turn': 1066, 'alabama': 1067, 'atlanta': 1068, 'bombing': 1069, 'olympic': 1070, 'correctional': 1071, 'flateau': 1072, 'jame': 1073, 'service': 1074, 'tolen': 1075, 'argue': 1076, 'article': 1077, 'hipment': 1078, 'lone': 1079, 'major': 1080, 'vendor': 1081, 'advocate': 1082, 'indecency': 1083, 'penaltie': 1084, 'radio': 1085, 'trong': 1086, 'city': 1087, 'outperform': 1088, 'dead': 1089, 'injure': 1090, 'downturn': 1091, 'march': 1092, 'adju': 1093, 'bigge': 1094, 'decade': 1095, 'inflation': 1096, 'lieberman': 1097, 'analy': 1098, 'circulation': 1099, 'heart': 1100, 'ociation': 1101, 'tati': 1102, 'tical': 1103, 'cite': 1104, 'george': 1105, 'main': 1106, 'threat': 1107, 'tification': 1108, 'weapon': 1109, 'epidemic': 1110, 'guangdong': 1111, 'mainland': 1112, 'province': 1113, 'refu': 1114, 'truthfully': 1115, 'andre': 1116, 'gamble': 1117, 'rivera': 1118, 'farben': 1119, 'propertie': 1120, 'value': 1121, 'operate': 1122, 'driver': 1123, 'help': 1124, 'remove': 1125, 'wood': 1126, 'mallpox': 1127, 'preparedne': 1128, 'smallpox': 1129, 'strom': 1130, 'tool': 1131, 'vaccination': 1132, 'abba': 1133, 'agreement': 1134, 'opportunity': 1135, 'agree': 1136, 'faith': 1137, 'good': 1138, 'hopeful': 1139, 'remain': 1140, 'attempt': 1141, 'battlewagon': 1142, 'compound': 1143, 'develop': 1144, 'hema': 1145, 'oldi': 1146, 'tandoff': 1147, 'action': 1148, 'threaten': 1149, 'gillette': 1150, 'option': 1151, 'reque': 1152, 'gather': 1153, 'hong': 1154, 'ignation': 1155, 'kong': 1156, 'lature': 1157, 'leader': 1158, 'legi': 1159, 'trator': 1160, 'juror': 1161, 'lengthy': 1162, 'potential': 1163, 'tionnaire': 1164, 'open': 1165, 'bombardier': 1166, 'acqui': 1167, 'identity': 1168, 'initially': 1169, 'reveal': 1170, 'boycott': 1171, 'chechen': 1172, 'governmental': 1173, 'tribute': 1174, 'crib': 1175, 'medicaid': 1176, 'patient': 1177, 'abotage': 1178, 'blame': 1179, 'frequent': 1180, 'infra': 1181, 'loyali': 1182, 'tructure': 1183, 'black': 1184, 'huge': 1185, 'sulzberger': 1186, 'brandy': 1187, 'quit': 1188, 'robert': 1189, 'singer': 1190, 'smith': 1191, 'murray': 1192, 'campaign': 1193, 'political': 1194, 'ronayne': 1195, 'airline': 1196, 'april': 1197, 'bart': 1198, 'inconceivable': 1199, 'mayor': 1200, 'mechanic': 1201, 'peter': 1202, 'maryland': 1203, 'native': 1204, 'frog': 1205, 'idae': 1206, 'indian': 1207, 'living': 1208, 'ocean': 1209, 'ooglo': 1210, 'relative': 1211, 'seychelle': 1212, 'eriou': 1213, 'medical': 1214, 'northwe': 1215, 'springdale': 1216, 'activity': 1217, 'dancing': 1218, 'decrea': 1219, 'exception': 1220, 'ical': 1221, 'lower': 1222, 'century': 1223, 'father': 1224, 'library': 1225, 'ought': 1226, 'taye': 1227, 'tore': 1228, 'fifth': 1229, 'victim': 1230, 'white': 1231, 'william': 1232, 'fulton': 1233, 'hearing': 1234, 'matter': 1235, 'matthew': 1236, 'superior': 1237, 'whitley': 1238, 'eighth': 1239, 'football': 1240, 'grade': 1241, 'green': 1242, 'lombardi': 1243, 'middle': 1244, 'youth': 1245, 'atlantic': 1246, 'carrier': 1247, 'connection': 1248, 'delta': 1249, 'amazing': 1250, 'graduate': 1251, 'hernandez': 1252, 'recent': 1253, 'reward': 1254, 'entrepreneur': 1255, 'flag': 1256, 'flamboyant': 1257, 'hockey': 1258, 'london': 1259, 'meeting': 1260, 'touri': 1261, 'tralian': 1262, 'chicago': 1263, 'dunedin': 1264, 'florida': 1265, 'harvey': 1266, 'ixth': 1267, 'outfielder': 1268, 'pick': 1269, 'ryan': 1270, 'adan': 1271, 'avalo': 1272, 'body': 1273, 'deputie': 1274, 'joaquin': 1275, 'join': 1276, 'oconnor': 1277, 'rehnqui': 1278, 'scalia': 1279, 'afghani': 1280, 'bulk': 1281, 'archive': 1282, 'capabilitie': 1283, 'content': 1284, 'corporate': 1285, 'create': 1286, 'extranet': 1287, 'intranet': 1288, 'manage': 1289, 'berkeley': 1290, 'elberg': 1291, 'line': 1292, 'profe': 1293, 'boiler': 1294, 'natural': 1295, 'plant': 1296, 'yearly': 1297, 'imultaneou': 1298, 'incident': 1299, 'ingle': 1300, 'perform': 1301, 'tranding': 1302, 'whale': 1303, 'drugmaker': 1304, 'europe': 1305, 'trazeneca': 1306, 'continuation': 1307, 'expan': 1308, 'lottery': 1309, 'oppo': 1310, 'perry': 1311, 'reluctant': 1312, 'rick': 1313, 'veto': 1314, 'abraham': 1315, 'blackout': 1316, 'largely': 1317, 'preventable': 1318, 'spencer': 1319, 'iderably': 1320, 'japan': 1321, 'maemi': 1322, 'meteorology': 1323, 'typhoon': 1324, 'weaken': 1325, 'aker': 1326, 'corp': 1327, 'gateway': 1328, 'hewlett': 1329, 'machine': 1330, 'nokia': 1331, 'packard': 1332, 'sony': 1333, 'acre': 1334, 'burn': 1335, 'fore': 1336, 'incendiary': 1337, 'near': 1338, 'outhwe': 1339, 'park': 1340, 'path': 1341, 'wildfire': 1342, 'chant': 1343, 'leiu': 1344, 'prote': 1345, 'read': 1346, 'recovery': 1347, 'sprayregen': 1348, 'area': 1349, 'oklahoma': 1350, 'emiconductor': 1351, 'foreca': 1352, 'realitie': 1353, 'reflect': 1354, 'scali': 1355, 'airlift': 1356, 'eighty': 1357, 'wound': 1358, 'commit': 1359, 'confe': 1360, 'crime': 1361, 'richard': 1362, 'citigroup': 1363, 'goldman': 1364, 'sach': 1365, 'spitzer': 1366, 'adequately': 1367, 'effect': 1368, 'prevent': 1369, 'manageable': 1370, 'mildly': 1371, 'worrying': 1372, 'billionaire': 1373, 'bout': 1374, 'brief': 1375, 'founder': 1376, 'joan': 1377, 'kroc': 1378, 'mcdonald': 1379, 'widow': 1380, 'buyer': 1381, 'expand': 1382, 'payment': 1383, 'bathtub': 1384, 'colorado': 1385, 'drown': 1386, 'lamar': 1387, 'litte': 1388, 'mother': 1389, 'spring': 1390, 'regret': 1391, 'urrounde': 1392, 'cooley': 1393, 'imilarly': 1394, 'malvo': 1395, 'muhammad': 1396, 'pretrial': 1397, 'ecurity': 1398, 'expenditure': 1399, 'hock': 1400, 'increa': 1401, 'revelation': 1402, 'truggle': 1403, 'acknowledge': 1404, 'concentrate': 1405, 'mile': 1406, 'northea': 1407, 'penn': 1408, 'trooper': 1409, 'ylvania': 1410, 'calculation': 1411, 'exceed': 1412, 'influenza': 1413, 'number': 1414, 'pneumonia': 1415, 'benign': 1416, 'birthmark': 1417, 'earcher': 1418, 'infant': 1419, 'karolin': 1420, 'radiation': 1421, 'reanalyzed': 1422, 'sweden': 1423, 'titute': 1424, 'deny': 1425, 'sriyanto': 1426, 'wrong': 1427, 'conduct': 1428, 'execution': 1429, 'igne': 1430, 'policy': 1431, 'reduce': 1432, 'taff': 1433, 'triple': 1434, 'appointment': 1435, 'daughter': 1436, 'girl': 1437, 'little': 1438, 'teller': 1439, 'declare': 1440, 'tile': 1441, 'manufacturer': 1442, 'olve': 1443, 'oxford': 1444, 'semiconductor': 1445, 'calling': 1446, 'hollywoodi': 1447, 'lately': 1448, 'telephone': 1449, 'callebaut': 1450, 'umer': 1451, 'eric': 1452, 'peachtree': 1453, 'pray': 1454, 'rudolph': 1455, 'taurant': 1456, 'corporation': 1457, 'excellent': 1458, 'maintain': 1459, 'minority': 1460, 'tantial': 1461, 'vivendi': 1462, 'accept': 1463, 'elbaradei': 1464, 'iaea': 1465, 'invitation': 1466, 'vienna': 1467, 'clinton': 1468, 'difference': 1469, 'feeling': 1470, 'poll': 1471, 'strikingly': 1472, 'cellaneou': 1473, 'cable': 1474, 'courthou': 1475, 'photographer': 1476, 'wampe': 1477, 'korea': 1478, 'locate': 1479, 'lation': 1480, 'moke': 1481, 'auti': 1482, 'healing': 1483, 'milwaukee': 1484, 'interviewer': 1485, 'niel': 1486, 'outlive': 1487, 'formally': 1488, 'sacramento': 1489, 'taxpayer': 1490, 'exerci': 1491, 'furthermore': 1492, 'pool': 1493, 'prevalence': 1494, 'tightne': 1495, 'african': 1496, 'briti': 1497, 'pected': 1498, 'ritual': 1499, 'thame': 1500, 'broadca': 1501, 'ceremony': 1502, 'hall': 1503, 'winner': 1504, 'block': 1505, 'commandment': 1506, 'monument': 1507, 'removal': 1508, 'acro': 1509, 'itive': 1510, 'occur': 1511, 'graham': 1512, 'imminent': 1513, 'real': 1514, 'terrori': 1515, 'mean': 1516, 'yell': 1517, 'authority': 1518, 'baldeo': 1519, 'depot': 1520, 'logo': 1521, 'mari': 1522, 'uniform': 1523, 'wear': 1524, 'jump': 1525, 'leapt': 1526, 'allergie': 1527, 'breathing': 1528, 'dramatic': 1529, 'reaction': 1530, 'tricted': 1531, 'uffer': 1532, 'welling': 1533, 'dividend': 1534, 'calper': 1535, 'harrigan': 1536, 'pull': 1537, 'trough': 1538, 'campbell': 1539, 'creek': 1540, 'cription': 1541, 'morri': 1542, 'autop': 1543, 'dehydration': 1544, 'hyperthermia': 1545, 'uffocation': 1546, 'benin': 1547, 'guinea': 1548, 'lebane': 1549, 'leone': 1550, 'sierra': 1551, 'hardware': 1552, 'librarie': 1553, 'pamphlet': 1554, 'captain': 1555, 'notify': 1556, 'portation': 1557, 'recommend': 1558, 'diver': 1559, 'earche': 1560, 'nearby': 1561, 'sound': 1562, 'affidavit': 1563, 'marriage': 1564, 'prior': 1565, 'doha': 1566, 'extradite': 1567, 'nearly': 1568, 'qatar': 1569, 'yandarbiyev': 1570, 'anticipate': 1571, 'december': 1572, 'archaeological': 1573, 'clearly': 1574, 'cream': 1575, 'normally': 1576, 'roman': 1577, 'urvive': 1578, 'ette': 1579, 'rent': 1580, 'infect': 1581, 'sars': 1582, 'affirmed': 1583, 'chance': 1584, 'cide': 1585, 'crown': 1586, 'funny': 1587, 'olid': 1588, 'ummer': 1589, 'attachment': 1590, 'email': 1591, 'familiar': 1592, 'heading': 1593, 'like': 1594, 'pecte': 1595, 'thank': 1596, 'flie': 1597, 'indone': 1598, 'philippine': 1599, 'thailand': 1600, 'lightly': 1601, 'grab': 1602, 'hortly': 1603, 'injunction': 1604, 'viacom': 1605, 'congregation': 1606, 'grieve': 1607, 'helicopter': 1608, 'kennedy': 1609, 'kyran': 1610, 'warrant': 1611, 'glover': 1612, 'ligature': 1613, 'lipknot': 1614, 'peculiar': 1615, 'trangle': 1616, 'weigh': 1617, 'broken': 1618, 'chle': 1619, 'senate': 1620, 'contribute': 1621, 'editor': 1622, 'friedman': 1623, 'media': 1624, 'tory': 1625, 'birdie': 1626, 'difficulty': 1627, 'putt': 1628, 'angele': 1629, 'alcohol': 1630, 'indecent': 1631, 'martial': 1632, 'minor': 1633, 'odomy': 1634, 'proceed': 1635, 'rape': 1636, 'weida': 1637, 'robot': 1638, 'ubmitted': 1639, 'dori': 1640, 'grocery': 1641, 'knit': 1642, 'town': 1643, 'becau': 1644, 'berlu': 1645, 'coni': 1646, 'craxi': 1647, 'intervene': 1648, 'aberdeen': 1649, 'alta': 1650, 'announcement': 1651, 'awmill': 1652, 'cache': 1653, 'carrot': 1654, 'chapleau': 1655, 'grande': 1656, 'chuck': 1657, 'hamidi': 1658, 'mulloy': 1659, 'pamme': 1660, 'activi': 1661, 'beijing': 1662, 'democracy': 1663, 'occupy': 1664, 'outrage': 1665, 'square': 1666, 'tiananmen': 1667, 'addition': 1668, 'enterpri': 1669, 'highlight': 1670, 'mainframe': 1671, 'linda': 1672, 'lingle': 1673, 'navy': 1674, 'edition': 1675, 'annan': 1676, 'cheri': 1677, 'excu': 1678, 'uppre': 1679, 'hadowe': 1680, 'higher': 1681, 'joint': 1682, 'monte': 1683, 'santangelo': 1684, 'eizure': 1685, 'bloomberg': 1686, 'country': 1687, 'freed': 1688, 'lave': 1689, 'moment': 1690, 'reckon': 1691, 'community': 1692, 'commercial': 1693, 'kernel': 1694, 'hulk': 1695, 'shag': 1696, 'urpa': 1697, 'capital': 1698, 'pinpoint': 1699, 'rain': 1700, 'attacker': 1701, 'generator': 1702, 'hide': 1703, 'launcher': 1704, 'portable': 1705, 'rocket': 1706, 'yard': 1707, 'aying': 1708, 'confederate': 1709, 'debate': 1710, 'raci': 1711, 'ymbol': 1712, 'brown': 1713, 'cannibali': 1714, 'deviant': 1715, 'motivation': 1716, 'mutilate': 1717, 'primary': 1718, 'tendencie': 1719, 'cher': 1720, 'ecretary': 1721, 'flei': 1722, 'landing': 1723, 'pilot': 1724, 'achievement': 1725, 'government': 1726, 'mahmoud': 1727, 'pale': 1728, 'parliament': 1729, 'prime': 1730, 'tinian': 1731, 'aqueduct': 1732, 'northern': 1733, 'civilian': 1734, 'marginally': 1735, 'payroll': 1736, 'unemployment': 1737, 'attorney': 1738, 'conviction': 1739, 'throw': 1740, 'howe': 1741, 'mortgage': 1742, 'purr': 1743, 'ting': 1744, 'licen': 1745, 'party': 1746, 'rental': 1747, 'wonder': 1748, 'worth': 1749, 'comparable': 1750, 'depre': 1751, 'diffu': 1752, 'effectivene': 1753, 'emble': 1754, 'everity': 1755, 'medication': 1756, 'alway': 1757, 'hone': 1758, 'limbaugh': 1759, 'tener': 1760, 'andy': 1761, 'bryant': 1762, 'highe': 1763, 'agencie': 1764, 'clark': 1765, 'communication': 1766, 'kimerer': 1767, 'seattle': 1768, 'variou': 1769, 'arabia': 1770, 'bribery': 1771, 'ible': 1772, 'lucent': 1773, 'technologie': 1774, 'tigate': 1775, 'violation': 1776, 'gary': 1777, 'implify': 1778, 'multifood': 1779, 'tley': 1780, 'atadero': 1781, 'hiking': 1782, 'jaryd': 1783, 'trip': 1784, 'vani': 1785, 'breach': 1786, 'determine': 1787, 'hacker': 1788, 'aunt': 1789, 'cuba': 1790, 'ecute': 1791, 'entence': 1792, 'nephew': 1793, 'parrado': 1794, 'repatriate': 1795, 'ation': 1796, 'compen': 1797, 'grant': 1798, 'aging': 1799, 'collaboration': 1800, 'collaborative': 1801, 'learning': 1802, 'workplace': 1803, 'alter': 1804, 'brow': 1805, 'explorer': 1806, 'patent': 1807, 'prepare': 1808, 'verdict': 1809, 'rigorou': 1810, 'routine': 1811, 'detect': 1812, 'operator': 1813, 'picket': 1814, 'train': 1815, 'tech': 1816, 'contract': 1817, 'counter': 1818, 'fraud': 1819, 'infineon': 1820, 'infringement': 1821, 'rambu': 1822, 'earner': 1823, 'tment': 1824, 'centre': 1825, 'ione': 1826, 'policie': 1827, 'prince': 1828, 'roma': 1829, 'academy': 1830, 'annual': 1831, 'award': 1832, 'companion': 1833, 'fran': 1834, 'lord': 1835, 'agenda': 1836, 'hynix': 1837, 'outrageou': 1838, 'ruling': 1839, 'connect': 1840, 'ugge': 1841, 'imclone': 1842, 'loppily': 1843, 'original': 1844, 'reject': 1845, 'aden': 1846, 'combined': 1847, 'gulf': 1848, 'sattler': 1849, 'achu': 1850, 'general': 1851, 'reilly': 1852, 'reimbur': 1853, 'autoadvice': 1854, 'capps': 1855, 'creditworthine': 1856, 'indicate': 1857, 'comment': 1858, 'immediate': 1859, 'moore': 1860, 'archdioce': 1861, 'confident': 1862, 'lincoln': 1863, 'authorization': 1864, 'france': 1865, 'infuriate': 1866, 'tain': 1867, 'athlete': 1868, 'barber': 1869, 'dream': 1870, 'jeremy': 1871, 'adopt': 1872, 'margaret': 1873, 'martha': 1874, 'ratliff': 1875, 'rebuild': 1876, 'volume': 1877, 'plain': 1878, 'detain': 1879, 'ibir': 1880, 'novo': 1881, 'plane': 1882, 'refuelling': 1883, 'siberian': 1884, 'special': 1885, 'palace': 1886, 'stewart': 1887, 'urpri': 1888, 'advi': 1889, 'homeland': 1890, 'altria': 1891, 'percentage': 1892, 'leak': 1893, 'development': 1894, 'frye': 1895, 'puretune': 1896, 'introduction': 1897, 'korean': 1898, 'warranty': 1899, 'anglican': 1900, 'branch': 1901, 'communion': 1902, 'ecusa': 1903, 'advent': 1904, 'coming': 1905, 'hatred': 1906, 'incite': 1907, 'intention': 1908, 'offend': 1909, 'violence': 1910, 'cooperate': 1911, 'imron': 1912, 'remor': 1913, 'tionable': 1914, 'tributor': 1915, 'virtually': 1916, 'active': 1917, 'duty': 1918, 'feld': 1919, 'feud': 1920, 'chemical': 1921, 'barnett': 1922, 'bloody': 1923, 'cratch': 1924, 'neck': 1925, 'photo': 1926, 'baby': 1927, 'blanket': 1928, 'premature': 1929, 'tillborn': 1930, 'galve': 1931, 'kurt': 1932, 'recording': 1933, 'trunk': 1934, 'numerou': 1935, 'range': 1936, 'wide': 1937, 'envoy': 1938, 'hefty': 1939, 'unle': 1940, 'eful': 1941, 'prove': 1942, 'delegation': 1943, 'ional': 1944, 'foul': 1945, 'worm': 1946, 'agriculture': 1947, 'technical': 1948, 'veneman': 1949, 'cover': 1950, 'lice': 1951, 'narrow': 1952, 'urvey': 1953, 'change': 1954, 'blair': 1955, 'manipulate': 1956, 'truction': 1957, 'capitol': 1958, 'combatant': 1959, 'defend': 1960, 'enemy': 1961, 'miami': 1962, 'neal': 1963, 'panel': 1964, 'sonnett': 1965, 'likewi': 1966, 'execute': 1967, 'intentionally': 1968, 'quarantine': 1969, 'akbar': 1970, 'allahu': 1971, 'courtroom': 1972, 'defy': 1973, 'greate': 1974, 'tightly': 1975, 'walk': 1976, 'charney': 1977, 'patche': 1978, 'promi': 1979, 'reiterate': 1980, 'scott': 1981, 'bunia': 1982, 'fighting': 1983, 'neighbor': 1984, 'uganda': 1985, 'withdrawal': 1986, 'agricultural': 1987, 'liberation': 1988, 'teacher': 1989, 'yang': 1990, 'handle': 1991, 'traight': 1992, 'trouble': 1993, 'victor': 1994, 'yankee': 1995, 'zambrano': 1996, 'governance': 1997, 'governor': 1998, 'tyle': 1999, 'howed': 2000, 'offender': 2001, 'yeager': 2002, 'aggre': 2003, 'barbakow': 2004, 'crutiny': 2005, 'icke': 2006, 'jeffrey': 2007, 'medicare': 2008, 'tenet': 2009, 'trigger': 2010, 'samp': 2011, 'contender': 2012, 'ource': 2013, 'rival': 2014, 'ubmitte': 2015, 'freeman': 2016, 'urface': 2017, 'brian': 2018, 'plentiful': 2019, 'unnece': 2020, 'aggravate': 2021, 'avenue': 2022, 'hara': 2023, 'height': 2024, 'ment': 2025, 'prie': 2026, 'competition': 2027, 'enjoy': 2028, 'hubach': 2029, 'qualcomm': 2030, 'democratic': 2031, 'interim': 2032, 'titution': 2033, 'write': 2034, 'homicide': 2035, 'phil': 2036, 'quickly': 2037, 'yochum': 2038, 'permit': 2039, 'sendmail': 2040, 'eparate': 2041, 'error': 2042, 'margin': 2043, 'cooperatively': 2044, 'ionally': 2045, 'union': 2046, 'dance': 2047, 'fellow': 2048, 'wheaton': 2049, 'bodie': 2050, 'climb': 2051, 'darchiac': 2052, 'invercargill': 2053, 'jonathan': 2054, 'recover': 2055, 'warren': 2056, 'gregg': 2057, 'kathy': 2058, 'marketing': 2059, 'student': 2060, 'alary': 2061, 'beckham': 2062, 'bonu': 2063, 'game': 2064, 'traffic': 2065, 'abroad': 2066, 'africa': 2067, 'image': 2068, 'nigeria': 2069, 'oftene': 2070, 'senegal': 2071, 'south': 2072, 'tour': 2073, 'wana': 2074, 'warrior': 2075, 'dearth': 2076, 'hire': 2077, 'merchandi': 2078, 'oned': 2079, 'perhap': 2080, 'recruiter': 2081, 'trickie': 2082, 'iana': 2083, 'loui': 2084, 'orlean': 2085, 'victory': 2086, 'nile': 2087, 'baath': 2088, 'continued': 2089, 'element': 2090, 'eradicate': 2091, 'paramilitary': 2092, 'ubver': 2093, 'demographic': 2094, 'popular': 2095, 'beer': 2096, 'advance': 2097, 'ftse': 2098, 'germany': 2099, 'decliner': 2100, 'outnumber': 2101, 'capture': 2102, 'countrie': 2103, 'qaida': 2104, 'beginning': 2105, 'conference': 2106, 'threatening': 2107, 'treatable': 2108, 'conway': 2109, 'craig': 2110, 'tockholder': 2111, 'undervalue': 2112, 'urrendere': 2113, 'bite': 2114, 'cratche': 2115, 'dorche': 2116, 'rober': 2117, 'shamika': 2118, 'woumnm': 2119, 'card': 2120, 'cene': 2121, 'fragile': 2122, 'leave': 2123, 'niper': 2124, 'prolong': 2125, 'tarot': 2126, 'great': 2127, 'hike': 2128, 'defeat': 2129, 'longe': 2130, 'solomon': 2131, 'addre': 2132, 'complexitie': 2133, 'imply': 2134, 'draw': 2135, 'belding': 2136, 'dialy': 2137, 'kidney': 2138, 'remember': 2139, 'scribner': 2140, 'chirac': 2141, 'jacque': 2142, 'privately': 2143, 'akhmad': 2144, 'chechnya': 2145, 'kadyrov': 2146, 'temporarily': 2147, 'trail': 2148, 'candal': 2149, 'dallager': 2150, 'pentagon': 2151, 'ncsd': 2152, 'protection': 2153, 'tant': 2154, 'ahead': 2155, 'rebel': 2156, 'entry': 2157, 'troye': 2158, 'feral': 2159, 'hickel': 2160, 'impo': 2161, 'moratorium': 2162, 'ulted': 2163, 'walter': 2164, 'betrayal': 2165, 'conclude': 2166, 'morally': 2167, 'algebra': 2168, 'ection': 2169, 'exam': 2170, 'geometry': 2171, 'knowledge': 2172, 'probability': 2173, 'feel': 2174, 'ingly': 2175, 'profit': 2176, 'unny': 2177, 'aboli': 2178, 'hment': 2179, 'puni': 2180, 'abrupt': 2181, 'aide': 2182, 'departure': 2183, 'liberia': 2184, 'mediator': 2185, 'taylor': 2186, 'view': 2187, 'dell': 2188, 'countie': 2189, 'ignature': 2190, 'ford': 2191, 'gettelfinger': 2192, 'hammer': 2193, 'negotiation': 2194, 'chick': 2195, 'criticize': 2196, 'dixie': 2197, 'jockey': 2198, 'kkcs': 2199, 'pende': 2200, 'play': 2201, 'attention': 2202, 'european': 2203, 'legal': 2204, 'google': 2205, 'knight': 2206, 'overture': 2207, 'ridder': 2208, 'trategic': 2209, 'boston': 2210, 'catholic': 2211, 'clergy': 2212, 'obtain': 2213, 'ociate': 2214, 'banking': 2215, 'depo': 2216, 'lewi': 2217, 'cramble': 2218, 'equipment': 2219, 'qcom': 2220, 'swedi': 2221, 'telecom': 2222, 'baghdad': 2223, 'david': 2224, 'unearth': 2225, 'upplie': 2226, 'imilar': 2227, 'twice': 2228, 'befriend': 2229, 'brabazon': 2230, 'taunter': 2231, 'avant': 2232, 'oxygen': 2233, 'tank': 2234, 'tube': 2235, 'cocaine': 2236, 'mcknight': 2237, 'proof': 2238, 'adult': 2239, 'quadruple': 2240, 'cardinal': 2241, 'flareup': 2242, 'keating': 2243, 'mahony': 2244, 'participate': 2245, 'procedure': 2246, 'temme': 2247, 'verbal': 2248, 'airplane': 2249, 'animal': 2250, 'hunter': 2251, 'ored': 2252, 'ucceede': 2253, 'wolve': 2254, 'cftc': 2255, 'publication': 2256, 'canadian': 2257, 'eventually': 2258, 'mith': 2259, 'pital': 2260, 'regulate': 2261, 'breaker': 2262, 'humbert': 2263, 'pardon': 2264, 'touch': 2265, 'combine': 2266, 'allege': 2267, 'kidnap': 2268, 'holding': 2269, 'internationalco': 2270, 'pipeline': 2271, 'entia': 2272, 'ventura': 2273, 'climate': 2274, 'draft': 2275, 'equence': 2276, 'forthright': 2277, 'ervi': 2278, 'recon': 2279, 'deut': 2280, 'galleria': 2281, 'knox': 2282, 'melbourne': 2283, 'morley': 2284, 'tfield': 2285, 'parade': 2286, 'soprano': 2287, 'explo': 2288, 'theft': 2289, 'activitie': 2290, 'berger': 2291, 'sandy': 2292, 'ence': 2293, 'muen': 2294, 'schweer': 2295, 'wolfgang': 2296, 'efficient': 2297, 'bragdon': 2298, 'extent': 2299, 'injurie': 2300, 'sacred': 2301, 'build': 2302, 'conge': 2303, 'facilitate': 2304, 'goal': 2305, 'mobility': 2306, 'tollway': 2307, 'upgrade': 2308, 'incorrect': 2309, 'muri': 2310, 'timothy': 2311, 'damon': 2312, 'ervancy': 2313, 'samuel': 2314, 'hion': 2315, 'igner': 2316, 'mary': 2317, 'paul': 2318, 'stella': 2319, 'credit': 2320, 'fare': 2321, 'hampton': 2322, 'code': 2323, 'generic': 2324, 'property': 2325, 'unix': 2326, 'accumulate': 2327, 'charity': 2328, 'jeffery': 2329, 'affiliation': 2330, 'belong': 2331, 'labour': 2332, 'rein': 2333, 'headline': 2334, 'omnibu': 2335, 'dougla': 2336, 'eburg': 2337, 'oregon': 2338, 'portland': 2339, 'alfred': 2340, 'bomb': 2341, 'mcveigh': 2342, 'murrah': 2343, 'nichol': 2344, 'pirator': 2345, 'ceptici': 2346, 'matrix': 2347, 'mike': 2348, 'picture': 2349, 'revolution': 2350, 'selwyn': 2351, 'unlike': 2352, 'defen': 2353, 'exploit': 2354, 'hcroft': 2355, 'undermine': 2356, 'weakne': 2357, 'chanda': 2358, 'hardenne': 2359, 'henin': 2360, 'match': 2361, 'maure': 2362, 'rubin': 2363, 'tine': 2364, 'connecticut': 2365, 'hill': 2366, 'urge': 2367, 'sept': 2368, 'braun': 2369, 'reuter': 2370, 'sharpton': 2371, 'allergy': 2372, 'alli': 2373, 'experimental': 2374, 'learn': 2375, 'panic': 2376, 'peanut': 2377, 'react': 2378, 'darren': 2379, 'dopp': 2380, 'bookmark': 2381, 'button': 2382, 'different': 2383, 'eighteen': 2384, 'forth': 2385, 'mind': 2386, 'ometime': 2387, 'pice': 2388, 'schiavo': 2389, 'tampa': 2390, 'terri': 2391, 'tande': 2392, 'liberian': 2393, 'marine': 2394, 'allegedly': 2395, 'peak': 2396, 'tinet': 2397, 'xoma': 2398, 'delaware': 2399, 'edward': 2400, 'litigation': 2401, 'ponde': 2402, 'waiver': 2403, 'cheat': 2404, 'davydenko': 2405, 'etiquette': 2406, 'graf': 2407, 'ignorant': 2408, 'naively': 2409, 'penality': 2410, 'tenni': 2411, 'umpire': 2412, 'receipt': 2413, 'technique': 2414, 'ailment': 2415, 'approache': 2416, 'arthriti': 2417, 'painkiller': 2418, 'pecialty': 2419, 'atkin': 2420, 'conventional': 2421, 'dieter': 2422, 'ignate': 2423, 'theater': 2424, 'nasa': 2425, 'dean': 2426, 'omeone': 2427, 'opponent': 2428, 'attend': 2429, 'contend': 2430, 'kozlow': 2431, 'convey': 2432, 'problem': 2433, 'putin': 2434, 'vladimir': 2435, 'acevedo': 2436, 'bulge': 2437, 'choate': 2438, 'juan': 2439, 'mariner': 2440, 'randy': 2441, 'torch': 2442, 'acquire': 2443, 'gecad': 2444, 'intellectual': 2445, 'redmond': 2446, 'condit': 2447, 'deliverie': 2448, 'etback': 2449, 'jetliner': 2450, 'lump': 2451, 'tere': 2452, 'horrific': 2453, 'nature': 2454, 'tribal': 2455, 'ireland': 2456, 'muireagáin': 2457, 'solidarity': 2458, 'welcome': 2459, 'confirm': 2460, 'cope': 2461, 'geffen': 2462, 'inter': 2463, 'bronze': 2464, 'lynch': 2465, 'medal': 2466, 'purple': 2467, 'reed': 2468, 'star': 2469, 'peacekeeping': 2470, 'kind': 2471, 'libe': 2472, 'refine': 2473, 'officially': 2474, 'extend': 2475, 'guarantee': 2476, 'urgent': 2477, 'exual': 2478, 'relation': 2479, 'chine': 2480, 'emomali': 2481, 'harraf': 2482, 'ideline': 2483, 'jiabao': 2484, 'pervez': 2485, 'premier': 2486, 'rakhmonov': 2487, 'sharipovich': 2488, 'tajiki': 2489, 'tani': 2490, 'aliva': 2491, 'corti': 2492, 'teeply': 2493, 'evacuate': 2494, 'extremadura': 2495, 'portugal': 2496, 'spain': 2497, 'abbott': 2498, 'diman': 2499, 'howard': 2500, 'idea': 2501, 'kicker': 2502, 'orbit': 2503, 'planet': 2504, 'generation': 2505, 'marchant': 2506, 'midland': 2507, 'turkey': 2508, 'utility': 2509, 'afer': 2510, 'biotech': 2511, 'fraley': 2512, 'birth': 2513, 'henne': 2514, 'jill': 2515, 'jordan': 2516, 'conroy': 2517, 'extra': 2518, 'manager': 2519, 'temporary': 2520, 'yale': 2521, 'alleyway': 2522, 'collective': 2523, 'dump': 2524, 'hear': 2525, 'loaded': 2526, 'solid': 2527, 'educational': 2528, 'lemel': 2529, 'limited': 2530, 'syndia': 2531, 'interactive': 2532, 'merit': 2533, 'vigorou': 2534, 'track': 2535, 'advantage': 2536, 'decided': 2537, 'individual': 2538, 'millionaire': 2539, 'ueberroth': 2540, 'dixon': 2541, 'honda': 2542, 'indy': 2543, 'pike': 2544, 'raceway': 2545, 'yandarbiev': 2546, 'zelimkhan': 2547, 'ervance': 2548, 'second': 2549, 'aaron': 2550, 'girlfriend': 2551, 'harri': 2552, 'injury': 2553, 'itor': 2554, 'accelerate': 2555, 'southwe': 2556, 'bowel': 2557, 'finding': 2558, 'hermon': 2559, 'irritable': 2560, 'syndrome': 2561, 'uffering': 2562, 'unexpected': 2563, 'airport': 2564, 'preliminary': 2565, 'taiwan': 2566, 'tack': 2567, 'gorbanov': 2568, 'mediterranean': 2569, 'owner': 2570, 'veer': 2571, 'volodymyr': 2572, 'category': 2573, 'hurricane': 2574, 'landfall': 2575, 'meteorologi': 2576, 'lady': 2577, 'sherry': 2578, 'studabaker': 2579, 'toby': 2580, 'detroit': 2581, 'formation': 2582, 'sweeney': 2583, 'norway': 2584, 'emeryville': 2585, 'jeeve': 2586, 'kani': 2587, 'sunnyvale': 2588, 'biop': 2589, 'anybody': 2590, 'completely': 2591, 'heavy': 2592, 'equity': 2593, 'micron': 2594, 'protocol': 2595, 'boxley': 2596, 'certain': 2597, 'coun': 2598, 'interpo': 2599, 'paragraph': 2600, 'peaker': 2601, 'anadarko': 2602, 'manufacturing': 2603, 'supply': 2604, 'creen': 2605, 'onal': 2606, 'radar': 2607, 'upportive': 2608, 'annulment': 2609, 'couple': 2610, 'harper': 2611, 'joanie': 2612, 'lynd': 2613, 'marque': 2614, 'tody': 2615, 'aturate': 2616, 'expectation': 2617, 'lide': 2618, 'oftening': 2619, 'opec': 2620, 'anction': 2621, 'economy': 2622, 'kuwait': 2623, 'ravage': 2624, 'nationwide': 2625, 'ettlement': 2626, 'solutia': 2627, 'tallment': 2628, 'cigarette': 2629, 'collect': 2630, 'tobacco': 2631, 'tribe': 2632, 'bloomfield': 2633, 'hoffa': 2634, 'north': 2635, 'oakland': 2636, 'parking': 2637, 'cultural': 2638, 'impri': 2639, 'madame': 2640, 'onment': 2641, 'oppre': 2642, 'role': 2643, 'powerful': 2644, 'count': 2645, 'robin': 2646, 'unborn': 2647, 'cablevi': 2648, 'obligate': 2649, 'warner': 2650, 'saxony': 2651, 'schle': 2652, 'tein': 2653, 'beef': 2654, 'gunman': 2655, 'torme': 2656, 'uburban': 2657, 'ider': 2658, 'timely': 2659, 'appleton': 2660, 'oning': 2661, 'decla': 2662, 'ifie': 2663, 'judgment': 2664, 'uncen': 2665, 'fever': 2666, 'jungle': 2667, 'malcolm': 2668, 'summer': 2669, 'arraign': 2670, 'weake': 2671, 'carl': 2672, 'recu': 2673, 'bayoumi': 2674, 'connolly': 2675, 'dubai': 2676, 'malay': 2677, 'acrifice': 2678, 'millville': 2679, 'quinn': 2680, 'forbe': 2681, 'magazine': 2682, 'rank': 2683, 'wealthie': 2684, 'eeme': 2685, 'loot': 2686, 'robberie': 2687, 'embly': 2688, 'engine': 2689, 'ourced': 2690, 'pratt': 2691, 'whitney': 2692, 'mccabe': 2693, 'cunha': 2694, 'expo': 2695, 'ioner': 2696, 'ontario': 2697, 'cohen': 2698, 'diet': 2699, 'emotion': 2700, 'hormone': 2701, 'leep': 2702, 'finance': 2703, 'principal': 2704, 'saunder': 2705, 'initiative': 2706, 'women': 2707, 'exclu': 2708, 'ively': 2709, 'olely': 2710, 'principle': 2711, 'eize': 2712, 'hail': 2713, 'mahmud': 2714, 'tikrit': 2715, 'hape': 2716, 'pretty': 2717, 'tehran': 2718, 'february': 2719, 'olivet': 2720, 'texa': 2721, 'voice': 2722, 'blanca': 2723, 'indictment': 2724, 'lawrence': 2725, 'strunk': 2726, 'glitche': 2727, 'street': 2728, 'umed': 2729, 'wall': 2730, 'abuja': 2731, 'gathering': 2732, 'hardline': 2733, 'mugabe': 2734, 'tance': 2735, 'brolin': 2736, 'emmy': 2737, 'globe': 2738, 'golden': 2739, 'judy': 2740, 'nancy': 2741, 'reagan': 2742, 'ronald': 2743, 'complaint': 2744, 'dinh': 2745, 'phoenixville': 2746, 'hitchcock': 2747, 'levin': 2748, 'explode': 2749, 'porter': 2750, 'centime': 2751, 'greenback': 2752, 'diego': 2753, 'michelle': 2754, 'morgante': 2755, 'ritter': 2756, 'vega': 2757, 'writer': 2758, 'ervation': 2759, 'hawaii': 2760, 'hout': 2761, 'functional': 2762, 'player': 2763, 'related': 2764, 'motorola': 2765, 'jharkhand': 2766, 'labourer': 2767, 'nepal': 2768, 'rohtang': 2769, 'tunnel': 2770, 'axcan': 2771, 'toronto': 2772, 'biography': 2773, 'captor': 2774, 'spike': 2775, 'dirt': 2776, 'grief': 2777, 'meare': 2778, 'olate': 2779, 'tricken': 2780, 'utter': 2781, 'lator': 2782, 'renew': 2783, 'afghan': 2784, 'guerrilla': 2785, 'chad': 2786, 'communicate': 2787, 'efficiently': 2788, 'emergency': 2789, 'kolton': 2790, 'method': 2791, 'crean': 2792, 'incompetence': 2793, 'simon': 2794, 'fact': 2795, 'promptly': 2796, 'unidentified': 2797, 'milton': 2798, 'reduction': 2799, 'cognitive': 2800, 'combination': 2801, 'dementia': 2802, 'impairment': 2803, 'mild': 2804, 'probable': 2805, 'therapy': 2806, 'whims': 2807, 'alzheimer': 2808, 'rarely': 2809, 'apache': 2810, 'tomcat': 2811, 'update': 2812, 'apec': 2813, 'aware': 2814, 'eparable': 2815, 'painfully': 2816, 'perity': 2817, 'shinawatra': 2818, 'thai': 2819, 'thak': 2820, 'clayton': 2821, 'bathroom': 2822, 'carpeting': 2823, 'cleanup': 2824, 'electrical': 2825, 'wiring': 2826, 'aest': 2827, 'conte': 2828, 'eleonora': 2829, 'organi': 2830, 'vigilante': 2831, 'ward': 2832, 'qaeda': 2833, 'benevolent': 2834, 'brent': 2835, 'gate': 2836, 'newbury': 2837, 'patrolmen': 2838, 'rockland': 2839, 'stand': 2840, 'bremer': 2841, 'clean': 2842, 'neighborhood': 2843, 'project': 2844, 'horton': 2845, 'sterling': 2846, 'choolmate': 2847, 'cruz': 2848, 'peacefully': 2849, 'peck': 2850, 'veronique': 2851, 'holden': 2852, 'northmoor': 2853, 'platte': 2854, 'pornography': 2855, 'symantec': 2856, 'vincent': 2857, 'weafer': 2858, 'dupont': 2859, 'mandatory': 2860, 'juniper': 2861, 'networking': 2862, 'lack': 2863, 'regi': 2864, 'ardmore': 2865, 'chri': 2866, 'cobar': 2867, 'corpu': 2868, 'okla': 2869, 'earning': 2870, 'quarterly': 2871, 'ready': 2872, 'biological': 2873, 'laughable': 2874, 'behalf': 2875, 'cape': 2876, 'idiary': 2877, 'equel': 2878, 'furiou': 2879, 'opening': 2880, 'pole': 2881, 'race': 2882, 'treet': 2883, 'evaluate': 2884, 'larned': 2885, 'apartment': 2886, 'bind': 2887, 'kilpatrick': 2888, 'nikia': 2889, 'shanell': 2890, 'counterpart': 2891, 'manufacture': 2892, 'pharmacie': 2893, 'enfranchi': 2894, 'minoritie': 2895, 'redraw': 2896, 'rural': 2897, 'titutionally': 2898, 'minute': 2899, 'tifie': 2900, 'danbury': 2901, 'bidder': 2902, 'fireproofing': 2903, 'inche': 2904, 'thickne': 2905, 'healthpark': 2906, 'memorial': 2907, 'diluted': 2908, 'eale': 2909, 'intelligencer': 2910, 'indict': 2911, 'unrelated': 2912, 'wittig': 2913, 'additional': 2914, 'communitie': 2915, 'jacob': 2916, 'olidation': 2917, 'pecially': 2918, 'blowtorch': 2919, 'legato': 2920, 'compromi': 2921, 'await': 2922, 'commander': 2923, 'donald': 2924, 'recommendation': 2925, 'curable': 2926, 'goodrem': 2927, 'hodgkin': 2928, 'lymphoma': 2929, 'celibacy': 2930, 'pledge': 2931, 'tione': 2932, 'aung': 2933, 'myanmar': 2934, 'undergo': 2935, 'debut': 2936, 'hayden': 2937, 'shattered': 2938, 'stephen': 2939, 'employment': 2940, 'gradually': 2941, 'teadily': 2942, 'alpharetta': 2943, 'dine': 2944, 'eafood': 2945, 'inger': 2946, 'chole': 2947, 'molecule': 2948, 'ozone': 2949, 'produce': 2950, 'terol': 2951, 'ghulam': 2952, 'helmand': 2953, 'hkargah': 2954, 'mahaiuddin': 2955, 'provincial': 2956, 'arrange': 2957, 'borrowing': 2958, 'mathy': 2959, 'stratec': 2960, 'synthe': 2961, 'categorie': 2962, 'conundrum': 2963, 'ethnic': 2964, 'fluid': 2965, 'ifye': 2966, 'multi': 2967, 'ociety': 2968, 'buying': 2969, 'dramatically': 2970, 'kmart': 2971, 'overhaul': 2972, 'concern': 2973, 'hubbard': 2974, 'moking': 2975, 'eboat': 2976, 'float': 2977, 'portage': 2978, 'congo': 2979, 'invade': 2980, 'rwanda': 2981, 'topple': 2982, 'boykin': 2983, 'remark': 2984, 'jane': 2985, 'ubpoena': 2986, 'verizon': 2987, 'withhold': 2988, 'exile': 2989, 'ination': 2990, 'plot': 2991, 'arab': 2992, 'compri': 2993, 'kurd': 2994, 'shiite': 2995, 'sunni': 2996, 'tian': 2997, 'turkmen': 2998, 'yrian': 2999, 'coleman': 3000, 'fundamental': 3001, 'calator': 3002, 'coatbridge': 3003, 'collap': 3004, 'eyewitne': 3005, 'lanark': 3006, 'originally': 3007, 'sally': 3008, 'ucke': 3009, 'eclip': 3010, 'objectweb': 3011, 'ortium': 3012, 'software': 3013, 'king': 3014, 'programme': 3015, 'preade': 3016, 'variant': 3017, 'cript': 3018, 'elizabeth': 3019, 'lynn': 3020, 'patter': 3021, 'saladin': 3022, 'afeguard': 3023, 'comply': 3024, 'obligation': 3025, 'reprimand': 3026, 'tricter': 3027, 'unconditionally': 3028, 'watchdog': 3029, 'bike': 3030, 'dongle': 3031, 'electronic': 3032, 'tabli': 3033, 'byte': 3034, 'celeron': 3035, 'configuration': 3036, 'memory': 3037, 'maybe': 3038, 'opportunitie': 3039, 'optimi': 3040, 'tically': 3041, 'compete': 3042, 'tidmar': 3043, 'flake': 3044, 'foam': 3045, 'pockmark': 3046, 'turcotte': 3047, 'eddington': 3048, 'limelight': 3049, 'vaccine': 3050, 'critici': 3051, 'icann': 3052, 'pend': 3053, 'verisign': 3054, 'voluntarily': 3055, 'anchor': 3056, 'chair': 3057, 'dateline': 3058, 'daytime': 3059, 'depart': 3060, 'pauley': 3061, 'yndicate': 3062, 'conciliation': 3063, 'erie': 3064, 'colo': 3065, 'healthy': 3066, 'mcinni': 3067, 'toration': 3068, 'alex': 3069, 'fergu': 3070, 'publicly': 3071, 'garner': 3072, 'politic': 3073, 'cybercrime': 3074, 'edge': 3075, 'hwater': 3076, 'lunch': 3077, 'noon': 3078, 'spit': 3079, 'water': 3080, 'punitive': 3081, 'brand': 3082, 'lapidu': 3083, 'motor': 3084, 'layoff': 3085, 'clutche': 3086, 'happy': 3087, 'interpreter': 3088, 'spani': 3089, 'tyrant': 3090, 'michel': 3091, 'provoke': 3092, 'exclude': 3093, 'item': 3094, 'atop': 3095, 'beneath': 3096, 'fanta': 3097, 'frozen': 3098, 'manhattan': 3099, 'model': 3100, 'nowdrift': 3101, 'nude': 3102, 'parlor': 3103, 'broker': 3104, 'lakhani': 3105, 'material': 3106, 'improvement': 3107, 'failure': 3108, 'liver': 3109, 'woodley': 3110, 'detention': 3111, 'ruffner': 3112, 'drum': 3113, 'delay': 3114, 'regulatory': 3115, 'uncertainty': 3116, 'amoudi': 3117, 'dulle': 3118, 'donation': 3119, 'procurement': 3120, 'reinve': 3121, 'proge': 3122, 'trogen': 3123, 'crowded': 3124, 'deva': 3125, 'farmer': 3126, 'monica': 3127, 'santa': 3128, 'uicide': 3129, 'amendment': 3130, 'anctione': 3131, 'exemption': 3132, 'angry': 3133, 'kabir': 3134, 'majar': 3135, 'policeman': 3136, 'quote': 3137, 'albeit': 3138, 'baer': 3139, 'barely': 3140, 'hown': 3141, 'laden': 3142, 'behavior': 3143, 'grace': 3144, 'inappropriate': 3145, 'totally': 3146, 'arkan': 3147, 'minne': 3148, 'virginia': 3149, 'eparati': 3150, 'generally': 3151, 'independence': 3152, 'brend': 3153, 'freddie': 3154, 'practice': 3155, 'retail': 3156, 'frank': 3157, 'guilty': 3158, 'guru': 3159, 'plead': 3160, 'quattrone': 3161, 'reportedly': 3162, 'tampering': 3163, 'citie': 3164, 'outh': 3165, 'download': 3166, 'illegally': 3167, 'upload': 3168, 'hover': 3169, 'khalidiya': 3170, 'extradition': 3171, 'parri': 3172, 'rork': 3173, 'walker': 3174, 'fighter': 3175, 'lami': 3176, 'piritual': 3177, 'refer': 3178, 'buffer': 3179, 'overrun': 3180, 'properly': 3181, 'vulnerability': 3182, 'appropriate': 3183, 'faletti': 3184, 'mingling': 3185, 'perception': 3186, 'wrongdoing': 3187, 'armored': 3188, 'cavalry': 3189, 'falluja': 3190, 'grenade': 3191, 'regiment': 3192, 'complicity': 3193, 'kingdom': 3194, 'morbidly': 3195, 'saud': 3196, 'tragic': 3197, 'wrongfully': 3198, 'reliability': 3199, 'voluntary': 3200, 'aids': 3201, 'anti': 3202, 'credential': 3203, 'poli': 3204, 'mony': 3205, 'lender': 3206, 'lendingtree': 3207, 'fourth': 3208, 'grader': 3209, 'peer': 3210, 'writing': 3211, 'afety': 3212, 'certifiable': 3213, 'strayhorn': 3214, 'helter': 3215, 'homele': 3216, 'detection': 3217, 'outlook': 3218, 'command': 3219, 'patrolling': 3220, 'trainer': 3221, 'archaic': 3222, 'characteri': 3223, 'hamlet': 3224, 'recognizable': 3225, 'yorick': 3226, 'kate': 3227, 'threapleton': 3228, 'expre': 3229, 'expen': 3230, 'dick': 3231, 'langone': 3232, 'entrie': 3233, 'clare': 3234, 'bell': 3235, 'client': 3236, 'rich': 3237, 'poore': 3238, 'untold': 3239, 'rare': 3240, 'hman': 3241, 'outlaw': 3242, 'partial': 3243, 'titutionality': 3244, 'anomeriti': 3245, 'quantity': 3246, 'bergonzi': 3247, 'intimately': 3248, 'pump': 3249, 'rite': 3250, 'char': 3251, 'lemmon': 3252, 'precedent': 3253, 'abdoman': 3254, 'eagle': 3255, 'male': 3256, 'puncture': 3257, 'zookeeper': 3258, 'afterward': 3259, 'limit': 3260, 'malpractice': 3261, 'urance': 3262, 'amid': 3263, 'containment': 3264, 'landwide': 3265, 'temperature': 3266, 'thermometer': 3267, 'lawtey': 3268, 'briefly': 3269, 'helped': 3270, 'jitter': 3271, 'overcome': 3272, 'important': 3273, 'negotiator': 3274, 'downe': 3275, 'ketch': 3276, 'tent': 3277, 'patron': 3278, 'contraction': 3279, 'ector': 3280, 'daily': 3281, 'placebo': 3282, 'danger': 3283, 'overe': 3284, 'remote': 3285, 'enter': 3286, 'lake': 3287, 'bourne': 3288, 'ciou': 3289, 'joke': 3290, 'ozzy': 3291, 'quad': 3292, 'rock': 3293, 'book': 3294, 'eller': 3295, 'enator': 3296, 'celf': 3297, 'participant': 3298, 'tender': 3299, 'igned': 3300, 'dittemore': 3301, 'geographic': 3302, 'hadow': 3303, 'ration': 3304, 'manila': 3305, 'terminde': 3306, 'nikkei': 3307, 'pack': 3308, 'unpatched': 3309, 'bridge': 3310, 'earmark': 3311, 'extract': 3312, 'imbroglio': 3313, 'lewin': 3314, 'viciou': 3315, 'kugler': 3316, 'sara': 3317, 'breakeven': 3318, 'radiological': 3319, 'benefit': 3320, 'maine': 3321, 'pharmacy': 3322, 'derek': 3323, 'impact': 3324, 'noranda': 3325, 'pannell': 3326, 'marry': 3327, 'catch': 3328, 'england': 3329, 'gaze': 3330, 'glimp': 3331, 'lunar': 3332, 'powder': 3333, 'tomato': 3334, 'server': 3335, 'torage': 3336, 'tune': 3337, 'unveil': 3338, 'degree': 3339, 'eunick': 3340, 'lionel': 3341, 'tiffany': 3342, 'tatewide': 3343, 'title': 3344, 'roll': 3345, 'ubway': 3346, 'mallard': 3347, 'tamper': 3348, 'alienate': 3349, 'cathedral': 3350, 'copal': 3351, 'karanja': 3352, 'kenya': 3353, 'nairobi': 3354, 'provo': 3355, 'saint': 3356, 'backer': 3357, 'balanced': 3358, 'liar': 3359, 'robbery': 3360, 'critical': 3361, 'staten': 3362, 'deregulation': 3363, 'undertake': 3364, 'archbi': 3365, 'orientation': 3366, 'soweto': 3367, 'tutu': 3368, 'urban': 3369, 'bios': 3370, 'function': 3371, 'input': 3372, 'microcontroller': 3373, 'output': 3374, 'overclocke': 3375, 'criber': 3376, 'entertainment': 3377, 'onalize': 3378, 'portfolio': 3379, 'tone': 3380, 'video': 3381, 'bitdefender': 3382, 'expectancy': 3383, 'labor': 3384, 'outage': 3385, 'potty': 3386, 'tighten': 3387, 'conclu': 3388, 'involvement': 3389, 'picion': 3390, 'preparation': 3391, 'section': 3392, 'flooding': 3393, 'legitimate': 3394, 'msbla': 3395, 'start': 3396, 'coalition': 3397, 'liberty': 3398, 'mahoney': 3399, 'patrick': 3400, 'aidon': 3401, 'daythe': 3402, 'irretrievably': 3403, 'proceeding': 3404, 'taint': 3405, 'courant': 3406, 'eagan': 3407, 'matt': 3408, 'staff': 3409, 'revi': 3410, 'tand': 3411, 'fraudulent': 3412, 'repeat': 3413, 'thornton': 3414, 'logie': 3415, 'peciali': 3416, 'talent': 3417, 'unwell': 3418, 'fingerprint': 3419, 'tified': 3420, 'trace': 3421, 'tudie': 3422, 'cambone': 3423, 'checkpoint': 3424, 'kurdi': 3425, 'tractor': 3426, 'trailer': 3427, 'munich': 3428, 'profitability': 3429, 'umts': 3430, 'circum': 3431, 'vulnerable': 3432, 'builder': 3433, 'compiler': 3434, 'integrator': 3435, 'heroff': 3436, 'nobel': 3437, 'prize': 3438, 'boom': 3439, 'concorde': 3440, 'onic': 3441, 'hiper': 3442, 'hrapnel': 3443, 'zulifquar': 3444, 'clear': 3445, 'fleet': 3446, 'mcconnell': 3447, 'apologie': 3448, 'barbara': 3449, 'indice': 3450, 'lowe': 3451, 'evening': 3452, 'congole': 3453, 'grip': 3454, 'olidate': 3455, 'troubled': 3456, 'wage': 3457, 'blaine': 3458, 'muggle': 3459, 'adora': 3460, 'naacp': 3461, 'nweze': 3462, 'sheehan': 3463, 'bondholder': 3464, 'equently': 3465, 'evan': 3466, 'pond': 3467, 'coache': 3468, 'philadelphia': 3469, 'indication': 3470, 'leaker': 3471, 'dyne': 3472, 'plough': 3473, 'schering': 3474, 'wallace': 3475, 'cabin': 3476, 'caretaker': 3477, 'sophia': 3478, 'bucklew': 3479, 'erne': 3480, 'funeral': 3481, 'precondition': 3482, 'weak': 3483, 'capt': 3484, 'doug': 3485, 'pitalize': 3486, 'deadly': 3487, 'gaza': 3488, 'inva': 3489, 'militant': 3490, 'pecter': 3491, 'rael': 3492, 'raeli': 3493, 'strip': 3494, 'barrel': 3495, 'ceiling': 3496, 'defied': 3497, 'exporting': 3498, 'petroleum': 3499, 'pending': 3500, 'caribbean': 3501, 'odette': 3502, 'itune': 3503, 'store': 3504, 'commerce': 3505, 'informed': 3506, 'moker': 3507, 'ubcommittee': 3508, 'verheij': 3509, 'tronge': 3510, 'finally': 3511, 'relent': 3512, 'timetable': 3513, 'ilicon': 3514, 'glow': 3515, 'telltale': 3516, 'harm': 3517, 'ticide': 3518, 'gard': 3519, 'thom': 3520, 'harply': 3521, 'rally': 3522, 'rebound': 3523, 'juhan': 3524, 'tonia': 3525, 'fujit': 3526, 'playli': 3527, 'song': 3528, 'penny': 3529, 'deficit': 3530, 'drill': 3531, 'chat': 3532, 'nece': 3533, 'dial': 3534, 'yangon': 3535, 'gray': 3536, 'marijuana': 3537, 'prairie': 3538, 'alpha': 3539, 'merchant': 3540, 'pacific': 3541, 'shipping': 3542, 'colli': 3543, 'allan': 3544, 'harold': 3545, 'keke': 3546, 'kemakeza': 3547, 'ambulance': 3548, 'charing': 3549, 'churn': 3550, 'claudette': 3551, 'critic': 3552, 'critically': 3553, 'defence': 3554, 'feith': 3555, 'luggi': 3556, 'page': 3557, 'plod': 3558, 'rupt': 3559, 'stati': 3560, 'storm': 3561, 'trademark': 3562, 'ufficient': 3563, 'newi': 3564, 'sanmina': 3565, 'wholly': 3566, 'mcauliffe': 3567, 'terry': 3568, 'chooler': 3569, 'toddler': 3570, 'wilmington': 3571, 'binding': 3572, 'pecifye': 3573, 'prioritie': 3574, 'delighted': 3575, 'hadley': 3576, 'olutely': 3577, 'ulte': 3578, 'divide': 3579, 'equip': 3580, 'filter': 3581, 'nasd': 3582, 'regulation': 3583, 'adolph': 3584, 'coffee': 3585, 'lutheran': 3586, 'pitalized': 3587, 'bomber': 3588, 'taliban': 3589, 'barbed': 3590, 'barricade': 3591, 'crowd': 3592, 'daylight': 3593, 'overwhelm': 3594, 'peacekeeper': 3595, 'ationali': 3596, 'comptroller': 3597, 'noteworthy': 3598, 'skyler': 3599, 'hannum': 3600, 'goold': 3601, 'monitor': 3602, 'population': 3603, 'barry': 3604, 'brach': 3605, 'chocolate': 3606, 'german': 3607, 'stollwerck': 3608, 'import': 3609, 'kirte': 3610, 'predictable': 3611, 'courtier': 3612, 'royal': 3613, 'depp': 3614, 'hbuckler': 3615, 'johnny': 3616, 'congratulate': 3617, 'publicize': 3618, 'odonnell': 3619, 'tifying': 3620, 'affordable': 3621, 'trea': 3622, 'trove': 3623, 'maximum': 3624, 'taine': 3625, 'ville': 3626, 'wind': 3627, 'celebrate': 3628, 'champion': 3629, 'furyk': 3630, 'golf': 3631, 'borough': 3632, 'thomp': 3633, 'warfare': 3634, 'batting': 3635, 'field': 3636, 'organizer': 3637, 'coloured': 3638, 'dynamic': 3639, 'label': 3640, 'rede': 3641, 'tomize': 3642, 'amazon': 3643, 'gagne': 3644, 'ninth': 3645, 'perfect': 3646, 'nyse': 3647, 'argu': 3648, 'entitle': 3649, 'gilbert': 3650, 'irre': 3651, 'pective': 3652, 'uperannuation': 3653, 'burgh': 3654, 'pitt': 3655, 'rutger': 3656, 'exactly': 3657, 'conditioner': 3658, 'fahrenheit': 3659, 'fridge': 3660, 'tuttere': 3661, 'direction': 3662, 'ically': 3663, 'judiciary': 3664, 'mortazavi': 3665, 'attach': 3666, 'beagle': 3667, 'ejection': 3668, 'mechani': 3669, 'spin': 3670, 'suem': 3671, 'falter': 3672, 'hole': 3673, 'nicklau': 3674, 'snow': 3675, 'burg': 3676, 'tenergy': 3677, 'bennett': 3678, 'magnate': 3679, 'sinner': 3680, 'virtue': 3681, 'harry': 3682, 'phoenix': 3683, 'potter': 3684, 'ador': 3685, 'amba': 3686, 'unwilling': 3687, 'advanced': 3688, 'ordinary': 3689, 'affair': 3690, 'winkenwerder': 3691, 'cuer': 3692, 'forlorn': 3693, 'hopele': 3694, 'majority': 3695, 'provi': 3696, 'tenne': 3697, 'fate': 3698, 'baldacci': 3699, 'proud': 3700, 'referendum': 3701, 'blond': 3702, 'identical': 3703, 'outfit': 3704, 'balloting': 3705, 'unnerved': 3706, 'voting': 3707, 'rapidly': 3708, 'reform': 3709, 'lichter': 3710, 'weather': 3711, 'ignore': 3712, 'rever': 3713, 'skilling': 3714, 'ciba': 3715, 'importation': 3716, 'narcotic': 3717, 'catter': 3718, 'tentacle': 3719, 'erode': 3720, 'portrait': 3721, 'teach': 3722, 'teaching': 3723, 'veteran': 3724, 'workload': 3725, 'carnival': 3726, 'midday': 3727, 'beach': 3728, 'latino': 3729, 'staple': 3730, 'beas': 3731, 'contracting': 3732, 'science': 3733, 'gauge': 3734, 'ferred': 3735, 'geoghan': 3736, 'protective': 3737, 'rewrite': 3738, 'winfs': 3739, 'newark': 3740, 'runway': 3741, 'pite': 3742, 'bolland': 3743, 'toni': 3744, 'korkuc': 3745, 'symbol': 3746, 'dairy': 3747, 'italian': 3748, 'parmalat': 3749, 'filibu': 3750, 'character': 3751, 'forbid': 3752, 'innuendo': 3753, 'acceptance': 3754, 'chiron': 3755, 'powderject': 3756, 'palmsource': 3757, 'coroner': 3758, 'giadone': 3759, 'prower': 3760, 'amher': 3761, 'slepian': 3762, 'allude': 3763, 'dewhur': 3764, 'interparty': 3765, 'bureau': 3766, 'iannarelli': 3767, 'najaf': 3768, 'capitalize': 3769, 'giambi': 3770, 'cabrera': 3771, 'holland': 3772, 'left': 3773, 'productive': 3774, 'todd': 3775, 'clinic': 3776, 'forre': 3777, 'mccarthy': 3778, 'blood': 3779, 'eman': 3780, 'pantie': 3781, 'ultimately': 3782, 'boat': 3783, 'crounge': 3784, 'retrieve': 3785, 'trande': 3786, 'pear': 3787, 'eeke': 3788, 'bedroom': 3789, 'brianna': 3790, 'cartoon': 3791, 'towel': 3792, 'soledad': 3793, 'approximately': 3794, 'mcgrath': 3795, 'quare': 3796, 'village': 3797, 'cronan': 3798, 'diana': 3799, 'accident': 3800, 'culture': 3801, 'organizational': 3802, 'acquit': 3803, 'elderly': 3804, 'libertie': 3805, 'promotion': 3806, 'religion': 3807, 'bane': 3808, 'prelate': 3809, 'nasdaq': 3810, 'lawmaker': 3811, 'otherwi': 3812, 'oldier': 3813, 'turbance': 3814, 'unknown': 3815, 'claimer': 3816, 'gille': 3817, 'moonve': 3818, 'review': 3819, 'torical': 3820, 'coca': 3821, 'cola': 3822, 'enormou': 3823, 'heyer': 3824, 'lexmark': 3825, 'printer': 3826, 'purte': 3827, 'recoup': 3828, 'maye': 3829, 'underwear': 3830, 'fulle': 3831, 'ified': 3832, 'alliance': 3833, 'chamber': 3834, 'applau': 3835, 'meaning': 3836, 'briton': 3837, 'telemarketing': 3838, 'mediate': 3839, 'chandler': 3840, 'uncover': 3841, 'moonlight': 3842, 'ongwriter': 3843, 'alon': 3844, 'levine': 3845, 'verita': 3846, 'hurt': 3847, 'visit': 3848, 'tough': 3849, 'capacity': 3850, 'objective': 3851, 'ridge': 3852, 'enet': 3853, 'ubpoenae': 3854, 'uploading': 3855, 'ynew': 3856, 'federation': 3857, 'martyr': 3858, 'saporta': 3859, 'vicki': 3860, 'embryo': 3861, 'birthday': 3862, 'comedian': 3863, 'favourite': 3864, 'liner': 3865, 'folger': 3866, 'hampoo': 3867, 'kodak': 3868, 'palumbo': 3869, 'pantene': 3870, 'procter': 3871, 'petition': 3872, 'salazar': 3873, 'hook': 3874, 'houlder': 3875, 'laczyn': 3876, 'adam': 3877, 'balloon': 3878, 'bang': 3879, 'hempleman': 3880, 'huddere': 3881, 'nicky': 3882, 'airing': 3883, 'replacement': 3884, 'vital': 3885, 'franci': 3886, 'likelihood': 3887, 'prohibit': 3888, 'tently': 3889, 'cuban': 3890, 'brunei': 3891, 'cambodia': 3892, 'curb': 3893, 'warine': 3894, 'somalia': 3895, 'warlord': 3896, 'forcible': 3897, 'ophomore': 3898, 'woori': 3899, 'mcclintock': 3900, 'tamante': 3901, 'jurie': 3902, 'unharmed': 3903, 'liquidate': 3904, 'linger': 3905, 'itie': 3906, 'unlight': 3907, 'talle': 3908, 'automatically': 3909, 'kilowatt': 3910, 'onagawa': 3911, 'quake': 3912, 'regional': 3913, 'sendai': 3914, 'tohoku': 3915, 'blagojevich': 3916, 'gambling': 3917, 'prop': 3918, 'plea': 3919, 'holiday': 3920, 'elpida': 3921, 'sakamoto': 3922, 'yukio': 3923, 'complain': 3924, 'forgetful': 3925, 'hormonal': 3926, 'menopau': 3927, 'crippling': 3928, 'glut': 3929, 'inboxe': 3930, 'sobig': 3931, 'cricket': 3932, 'dotted': 3933, 'experiment': 3934, 'introduce': 3935, 'unbroken': 3936, 'bafin': 3937, 'advice': 3938, 'andrew': 3939, 'cuomo': 3940, 'divorce': 3941, 'kerry': 3942, 'tribunal': 3943, 'cheap': 3944, 'euthana': 3945, 'alexandria': 3946, 'florence': 3947, 'fritz': 3948, 'maranda': 3949, 'hepatiti': 3950, 'knoxville': 3951, 'halfway': 3952, 'outline': 3953, 'tariff': 3954, 'negative': 3955, 'paceflight': 3956, 'dram': 3957, 'microproce': 3958, 'grouping': 3959, 'fiction': 3960, 'known': 3961, 'ship': 3962, 'onate': 3963, 'overwhelmingly': 3964, 'cour': 3965, 'inject': 3966, 'therapie': 3967, 'exten': 3968, 'infopath': 3969, 'language': 3970, 'markup': 3971, 'onenote': 3972, 'landale': 3973, 'ratio': 3974, 'bangkok': 3975, 'emba': 3976, 'economie': 3977, 'gold': 3978, 'spot': 3979, 'examine': 3980, 'herald': 3981, 'hollingworth': 3982, 'drax': 3983, 'hedging': 3984, 'holder': 3985, 'deni': 3986, 'mccali': 3987, 'neighbourhood': 3988, 'shawanda': 3989, 'diplomatic': 3990, 'drought': 3991, 'predatory': 3992, 'scienti': 3993, 'granato': 3994, 'calvin': 3995, 'hollin': 3996, 'repeatedly': 3997, 'royce': 3998, 'outright': 3999, 'voter': 4000, 'wine': 4001, 'attract': 4002, 'hopefully': 4003, 'hopper': 4004, 'lure': 4005, 'crucial': 4006, 'danon': 4007, 'factor': 4008, 'pierre': 4009, 'haul': 4010, 'financing': 4011, 'venture': 4012, 'vivace': 4013, 'beethoven': 4014, 'flint': 4015, 'jingle': 4016, 'glare': 4017, 'mccartney': 4018, 'jdec': 4019, 'courage': 4020, 'dedication': 4021, 'define': 4022, 'cancel': 4023, 'gerry': 4024, 'invite': 4025, 'kiely': 4026, 'deadline': 4027, 'flier': 4028, 'liter': 4029, 'pizza': 4030, 'enhance': 4031, 'suse': 4032, 'compatibility': 4033, 'solari': 4034, 'adel': 4035, 'alhadlaq': 4036, 'bone': 4037, 'colleague': 4038, 'condyle': 4039, 'marrow': 4040, 'wagon': 4041, 'competitive': 4042, 'computing': 4043, 'secure': 4044, 'biblical': 4045, 'calendar': 4046, 'epic': 4047, 'tirre': 4048, 'interrogation': 4049, 'involuntary': 4050, 'martinez': 4051, 'steven': 4052, 'torturou': 4053, 'illinoi': 4054, 'mailing': 4055, 'olicite': 4056, 'recipient': 4057, 'door': 4058, 'tick': 4059, 'concord': 4060, 'firework': 4061, 'gehring': 4062, 'manuel': 4063, 'chorale': 4064, 'philharmonic': 4065, 'sydney': 4066, 'fini': 4067, 'urveye': 4068, 'mcgreevey': 4069, 'autobiography': 4070, 'accompany': 4071, 'eeable': 4072, 'irably': 4073, 'predominant': 4074, 'unanimou': 4075, 'unde': 4076, 'newton': 4077, 'dner': 4078, 'kleinwort': 4079, 'lindberg': 4080, 'symbian': 4081, 'circle': 4082, 'hotel': 4083, 'wolfowitz': 4084, 'friend': 4085, 'kuby': 4086, 'aritonang': 4087, 'brig': 4088, 'jakarta': 4089, 'magelang': 4090, 'djibouti': 4091, 'horn': 4092, 'columbine': 4093, 'daniel': 4094, 'rohrbough': 4095, 'unin': 4096, 'ured': 4097, 'craddick': 4098, 'richter': 4099, 'speaker': 4100, 'carlow': 4101, 'forge': 4102, 'paperwork': 4103, 'peddle': 4104, 'truth': 4105, 'schooff': 4106, 'grok': 4107, 'tribution': 4108, 'commitment': 4109, 'league': 4110, 'trian': 4111, 'cientific': 4112, 'crop': 4113, 'unfounded': 4114, 'ecuritie': 4115, 'entiment': 4116, 'regulator': 4117, 'ubdue': 4118, 'syracu': 4119, 'yeah': 4120, 'apprehend': 4121, 'interrogate': 4122, 'syrian': 4123, 'blunkett': 4124, 'correctly': 4125, 'anarchi': 4126, 'ansa': 4127, 'conventioneer': 4128, 'supporter': 4129, 'tatione': 4130, 'drag': 4131, 'directionle': 4132, 'indicator': 4133, 'accountant': 4134, 'idiarie': 4135, 'merger': 4136, 'hore': 4137, 'metal': 4138, 'preview': 4139, 'reloaded': 4140, 'creator': 4141, 'preci': 4142, 'tinction': 4143, 'rebalance': 4144, 'hetero': 4145, 'ohio': 4146, 'unmarried': 4147, 'sprint': 4148, 'covenant': 4149, 'downgrade': 4150, 'headroom': 4151, 'southcorp': 4152, 'tight': 4153, 'turnpike': 4154, 'permanently': 4155, 'buck': 4156, 'cradle': 4157, 'cumber': 4158, 'meal': 4159, 'debra': 4160, 'ential': 4161, 'covery': 4162, 'crohn': 4163, 'inflammation': 4164, 'inte': 4165, 'tinal': 4166, 'confidence': 4167, 'iblebehaviour': 4168, 'reprehen': 4169, 'pataki': 4170, 'marketplace': 4171, 'arou': 4172, 'exually': 4173, 'broomhead': 4174, 'squadron': 4175, 'burrell': 4176, 'coen': 4177, 'downward': 4178, 'greenwich': 4179, 'milk': 4180, 'pretend': 4181, 'looting': 4182, 'calgary': 4183, 'dale': 4184, 'hell': 4185, 'copie': 4186, 'crate': 4187, 'hardback': 4188, 'farm': 4189, 'belmont': 4190, 'ounde': 4191, 'genentech': 4192, 'medicine': 4193, 'upplied': 4194, 'bapti': 4195, 'bogg': 4196, 'column': 4197, 'convention': 4198, 'southern': 4199, 'binary': 4200, 'genetically': 4201, 'modify': 4202, 'peaceful': 4203, 'proclaim': 4204, 'janzen': 4205, 'leaderboard': 4206, 'hanford': 4207, 'underground': 4208, 'uranic': 4209, 'compton': 4210, 'imagine': 4211, 'lumber': 4212, 'officemax': 4213, 'plit': 4214, 'tilt': 4215, 'diamond': 4216, 'jeweler': 4217, 'yehuda': 4218, 'bali': 4219, 'bombmaker': 4220, 'dulmatin': 4221, 'samudra': 4222, 'tuning': 4223, 'abdu': 4224, 'eventh': 4225, 'habi': 4226, 'saoub': 4227, 'pari': 4228, 'annika': 4229, 'lpga': 4230, 'soren': 4231, 'concept': 4232, 'devote': 4233, 'unreali': 4234, 'joann': 4235, 'marqui': 4236, 'salem': 4237, 'tacky': 4238, 'unpatriotic': 4239, 'contribution': 4240, 'hovan': 4241, 'reputation': 4242, 'collaborate': 4243, 'reache': 4244, 'ampler': 4245, 'ouri': 4246, 'ortiz': 4247, 'convertible': 4248, 'corel': 4249, 'uperpower': 4250, 'prewar': 4251, 'tallation': 4252, 'continuou': 4253, 'smithfield': 4254, 'antiviral': 4255, 'claritin': 4256, 'interferon': 4257, 'intron': 4258, 'pill': 4259, 'ribavirin': 4260, 'interfere': 4261, 'tsmc': 4262, 'diabete': 4263, 'immune': 4264, 'xerox': 4265, 'nord': 4266, 'trom': 4267, 'bureaucratic': 4268, 'ignal': 4269, 'trative': 4270, 'mccall': 4271, 'ample': 4272, 'laboratory': 4273, 'ander': 4274, 'schindler': 4275, 'buhrmann': 4276, 'dutch': 4277, 'electricity': 4278, 'evaluated': 4279, 'gelina': 4280, 'clone': 4281, 'idaho': 4282, 'terile': 4283, 'abate': 4284, 'exacerbate': 4285, 'clarke': 4286, 'vaughn': 4287, 'depend': 4288, 'incentive': 4289, 'participation': 4290, 'curt': 4291, 'eager': 4292, 'patience': 4293, 'huang': 4294, 'taher': 4295, 'yemeni': 4296, 'lion': 4297, 'jennifer': 4298, 'lopez': 4299, 'medina': 4300, 'offen': 4301, 'untrue': 4302, 'data': 4303, 'immigration': 4304, 'highly': 4305, 'profitable': 4306, 'publicity': 4307, 'ferre': 4308, 'turner': 4309, 'mexico': 4310, 'panama': 4311, 'puebla': 4312, 'trinidad': 4313, 'propul': 4314, 'diane': 4315, 'lade': 4316, 'sentinel': 4317, 'tribune': 4318, 'latitude': 4319, 'longitude': 4320, 'safety': 4321, 'timony': 4322, 'janet': 4323, 'kitchen': 4324, 'thud': 4325, 'dirk': 4326, 'badge': 4327, 'deploy': 4328, 'athletic': 4329, 'bruce': 4330, 'iowa': 4331, 'velde': 4332, 'aboard': 4333, 'hrouded': 4334, 'mountain': 4335, 'rankle': 4336, 'bonde': 4337, 'ellie': 4338, 'morrill': 4339, 'obbe': 4340, 'fomc': 4341, 'implement': 4342, 'backfire': 4343, 'coolly': 4344, 'ignment': 4345, 'jeter': 4346, 'rehab': 4347, 'tomorrow': 4348, 'wollen': 4349, 'worried': 4350, 'span': 4351, 'kohl': 4352, 'mode': 4353, 'gainer': 4354, 'rmbs': 4355, 'convene': 4356, 'pine': 4357, 'relevant': 4358, 'enberger': 4359, 'pain': 4360, 'pecie': 4361, 'rejection': 4362, 'tendency': 4363, 'couraging': 4364, 'aler': 4365, 'fitzgerald': 4366, 'definitely': 4367, 'marilyn': 4368, 'monroe': 4369, 'pecialize': 4370, 'stenni': 4371, 'faction': 4372, 'cleat': 4373, 'incur': 4374, 'gamarekian': 4375, 'jolla': 4376, 'torrey': 4377, 'monthly': 4378, 'decompo': 4379, 'guarino': 4380, 'ethic': 4381, 'formidable': 4382, 'medicate': 4383, 'scholar': 4384, 'tacle': 4385, 'abdullah': 4386, 'comoro': 4387, 'fazul': 4388, 'lander': 4389, 'mohammed': 4390, 'controver': 4391, 'wave': 4392, 'bluetooth': 4393, 'terdam': 4394, 'pondent': 4395, 'buckingham': 4396, 'ventilator': 4397, 'operative': 4398, 'ideration': 4399, 'outbreak': 4400, 'certify': 4401, 'kelley': 4402, 'nationally': 4403, 'partly': 4404, 'infringe': 4405, 'mckechnie': 4406, 'ceptibility': 4407, 'chromo': 4408, 'gender': 4409, 'gene': 4410, 'influence': 4411, 'tumble': 4412, 'deductible': 4413, 'generate': 4414, 'keyword': 4415, 'placement': 4416, 'abthrax': 4417, 'griffin': 4418, 'vindicate': 4419, 'auckland': 4420, 'councilman': 4421, 'queen': 4422, 'cienti': 4423, 'brazen': 4424, 'intimidation': 4425, 'camden': 4426, 'axelrod': 4427, 'nina': 4428, 'dani': 4429, 'effective': 4430, 'enact': 4431, 'montgomery': 4432, 'banner': 4433, 'eeing': 4434, 'happine': 4435, 'idol': 4436, 'wept': 4437, 'siebel': 4438, 'miner': 4439, 'overcrowding': 4440, 'tragedie': 4441, 'franklin': 4442, 'bowl': 4443, 'super': 4444, 'attitude': 4445, 'heath': 4446, 'frequency': 4447, 'mbit': 4448, 'pecifie': 4449, 'unlicen': 4450, 'wpan': 4451, 'nterpri': 4452, 'reply': 4453, 'prepo': 4454, 'riling': 4455, 'shelley': 4456, 'terou': 4457, 'tina': 4458, 'cibc': 4459, 'extraordinarily': 4460, 'geller': 4461, 'agnew': 4462, 'bait': 4463, 'pinella': 4464, 'rabie': 4465, 'zero': 4466, 'badgley': 4467, 'ocial': 4468, 'rehabilitation': 4469, 'stone': 4470, 'glaxosmithkline': 4471, 'clearance': 4472, 'ejaculate': 4473, 'twentie': 4474, 'bother': 4475, 'habit': 4476, 'rethink': 4477, 'trike': 4478, 'exponentially': 4479, 'plaintiff': 4480, 'benchmark': 4481, 'bund': 4482, 'upercomputer': 4483, 'acclimate': 4484, 'aquarium': 4485, 'academia': 4486, 'ultation': 4487, 'bankruptcy': 4488, 'creditor': 4489, 'frenzy': 4490, 'room': 4491, 'tanding': 4492, 'vacation': 4493, 'arraignment': 4494, 'chapman': 4495, 'ecution': 4496, 'falconer': 4497, 'accidental': 4498, 'ballot': 4499, 'californian': 4500, 'cenario': 4501, 'deletion': 4502, 'ification': 4503, 'maliciou': 4504, 'oman': 4505, 'upcoming': 4506, 'blondel': 4507, 'marc': 4508, 'ouvriere': 4509, 'arti': 4510, 'caution': 4511, 'fake': 4512, 'flying': 4513, 'paint': 4514, 'ehold': 4515, 'median': 4516, 'utah': 4517, 'cheung': 4518, 'culturecom': 4519, 'bury': 4520, 'sain': 4521, 'boutique': 4522, 'outlet': 4523, 'diction': 4524, 'juri': 4525, 'carty': 4526, 'conce': 4527, 'everance': 4528, 'generou': 4529, 'carolina': 4530, 'inated': 4531, 'matamoro': 4532, 'trader': 4533, 'bean': 4534, 'erole': 4535, 'meat': 4536, 'renee': 4537, 'rice': 4538, 'dennehy': 4539, 'geologi': 4540, 'robotic': 4541, 'rover': 4542, 'atellite': 4543, 'background': 4544, 'ghafar': 4545, 'shellfire': 4546, 'eckert': 4547, 'accountability': 4548, 'credibility': 4549, 'illu': 4550, 'clarence': 4551, 'ratepayer': 4552, 'handling': 4553, 'iranian': 4554, 'refugee': 4555, 'ylum': 4556, 'anthony': 4557, 'antonin': 4558, 'cadet': 4559, 'seven': 4560, 'fetch': 4561, 'gallop': 4562, 'cedar': 4563, 'henri': 4564, 'termination': 4565, 'wrongful': 4566, 'balkan': 4567, 'danube': 4568, 'tretch': 4569, 'wreck': 4570, 'abduct': 4571, 'violently': 4572, 'crawford': 4573, 'ranch': 4574, 'silvio': 4575, 'denni': 4576, 'kucinich': 4577, 'jeopardy': 4578, 'hedge': 4579, 'microphone': 4580, 'kyong': 4581, 'teenage': 4582, 'bribe': 4583, 'agitated': 4584, 'anniver': 4585, 'celebration': 4586, 'chaney': 4587, 'eemed': 4588, 'hipper': 4589, 'monumental': 4590, 'shelia': 4591, 'internetnew': 4592, 'trink': 4593, 'rowland': 4594, 'teere': 4595, 'barclay': 4596, 'tagg': 4597, 'curve': 4598, 'brace': 4599, 'jake': 4600, 'architect': 4601, 'controlcenter': 4602, 'pector': 4603, 'tricte': 4604, 'bigg': 4605, 'troying': 4606, 'thought': 4607, 'egyptian': 4608, 'sudane': 4609, 'meyer': 4610, 'uneven': 4611, 'athen': 4612, 'attache': 4613, 'kevin': 4614, 'orange': 4615, 'actre': 4616, 'jaret': 4617, 'tracy': 4618, 'winokur': 4619, 'idency': 4620, 'rotate': 4621, 'weekday': 4622, 'primarily': 4623, 'gartner': 4624, 'cork': 4625, 'eball': 4626, 'sammy': 4627, 'hazzard': 4628, 'nominee': 4629, 'novel': 4630, 'shirley': 4631, 'encounter': 4632, 'hometown': 4633, 'abandon': 4634, 'chevrolet': 4635, 'tahoe': 4636, 'operating': 4637, 'willum': 4638, 'picable': 4639, 'detonate': 4640, 'evidently': 4641, 'reading': 4642, 'yorker': 4643, 'cooperative': 4644, 'heriff': 4645, 'senior': 4646, 'factory': 4647, 'adrian': 4648, 'lamo': 4649, 'urrender': 4650, 'ailant': 4651, 'intru': 4652, 'tandably': 4653, 'unwanted': 4654, 'donate': 4655, 'yarralumla': 4656, 'engineering': 4657, 'naval': 4658, 'jewelry': 4659, 'evenly': 4660, 'dioce': 4661, 'undi': 4662, 'ordinated': 4663, 'hick': 4664, 'kenny': 4665, 'ratner': 4666, 'dining': 4667, 'lazaru': 4668, 'steve': 4669, 'darko': 4670, 'donnie': 4671, 'oleander': 4672, 'wyle': 4673, 'gurney': 4674, 'cutter': 4675, 'tatu': 4676, 'calif': 4677, 'clara': 4678, 'roxio': 4679, 'boeing': 4680, 'lockheed': 4681, 'alternate': 4682, 'cord': 4683, 'engineer': 4684, 'evident': 4685, 'poken': 4686, 'ecretly': 4687, 'unregi': 4688, 'load': 4689, 'refiner': 4690, 'sandra': 4691, 'tanker': 4692, 'tapia': 4693, 'contractor': 4694, 'enbery': 4695, 'fairview': 4696, 'omethe': 4697, 'kettering': 4698, 'larry': 4699, 'norton': 4700, 'sloan': 4701, 'bubble': 4702, 'influential': 4703, 'mcclean': 4704, 'retain': 4705, 'bergdorf': 4706, 'goodman': 4707, 'marcu': 4708, 'neiman': 4709, 'purveyor': 4710, 'imir': 4711, 'kremlin': 4712, 'parliamentary': 4713, 'vlad': 4714, 'malawi': 4715, 'tanzania': 4716, 'twin': 4717, 'refund': 4718, 'monthlong': 4719, 'puff': 4720, 'calvert': 4721, 'ualtie': 4722, 'blow': 4723, 'colombia': 4724, 'drift': 4725, 'metre': 4726, 'parachute': 4727, 'inadequate': 4728, 'merrill': 4729, 'partnoy': 4730, 'abdominal': 4731, 'coli': 4732, 'cramping': 4733, 'diarrhea': 4734, 'vomiting': 4735, 'alive': 4736, 'artificially': 4737, 'dreyer': 4738, 'giant': 4739, 'weet': 4740, 'motive': 4741, 'haye': 4742, 'interaction': 4743, 'connectix': 4744, 'corner': 4745, 'virtual': 4746, 'campaigner': 4747, 'pollution': 4748, 'bankhead': 4749, 'methodical': 4750, 'nascar': 4751, 'empire': 4752, 'inland': 4753, 'racing': 4754, 'childhood': 4755, 'ciner': 4756, 'dorothy': 4757, 'female': 4758, 'heir': 4759, 'clemency': 4760, 'accidentally': 4761, 'hectare': 4762, 'humidity': 4763, 'minimal': 4764, 'rage': 4765, 'amputation': 4766, 'blindne': 4767, 'chronic': 4768, 'nato': 4769, 'tabilization': 4770, 'indexe': 4771, 'atrociou': 4772, 'characterize': 4773, 'broadband': 4774, 'modem': 4775, 'cauchon': 4776, 'chrétien': 4777, 'decriminalize': 4778, 'jean': 4779, 'liberal': 4780, 'martin': 4781, 'alcoholic': 4782, 'tachy': 4783, 'dragan': 4784, 'hajdukovic': 4785, 'miodrag': 4786, 'montenegro': 4787, 'zivkovic': 4788, 'billup': 4789, 'capable': 4790, 'chauncey': 4791, 'magic': 4792, 'moffitt': 4793, 'replicate': 4794, 'nightclub': 4795, 'ciobanu': 4796, 'romania': 4797, 'softwin': 4798, 'jenifer': 4799, 'shaklee': 4800, 'licence': 4801, 'aulted': 4802, 'embelli': 4803, 'tify': 4804, 'antille': 4805, 'fabian': 4806, 'moot': 4807, 'retirement': 4808, 'myer': 4809, 'heaton': 4810, 'offence': 4811, 'arizona': 4812, 'nevada': 4813, 'backing': 4814, 'criminatory': 4815, 'internationally': 4816, 'onable': 4817, 'ratify': 4818, 'recognize': 4819, 'ahmad': 4820, 'dama': 4821, 'illogical': 4822, 'hoffenblum': 4823, 'ultant': 4824, 'wild': 4825, 'charleroi': 4826, 'implication': 4827, 'backla': 4828, 'extended': 4829, 'parker': 4830, 'dalla': 4831, 'ambitiou': 4832, 'firefight': 4833, 'regain': 4834, 'galvin': 4835, 'topher': 4836, 'craft': 4837, 'handful': 4838, 'dublin': 4839, 'howell': 4840, 'tournament': 4841, 'avalon': 4842, 'interface': 4843, 'canon': 4844, 'careful': 4845, 'channel': 4846, 'permanent': 4847, 'mccorvey': 4848, 'sarah': 4849, 'weddington': 4850, 'tape': 4851, 'edict': 4852, 'foreigner': 4853, 'usai': 4854, 'allen': 4855, 'gown': 4856, 'vocally': 4857, 'buyout': 4858, 'notice': 4859, 'remake': 4860, 'mooth': 4861, 'ervative': 4862, 'aguirre': 4863, 'eparation': 4864, 'goodrich': 4865, 'ibrahim': 4866, 'staffenberg': 4867, 'minu': 4868, 'municipal': 4869, 'mcnabb': 4870, 'performance': 4871, 'tarve': 4872, 'entitie': 4873, 'ancient': 4874, 'gonzle': 4875, 'guatemala': 4876, 'heritage': 4877, 'herrera': 4878, 'maya': 4879, 'laughter': 4880, 'admiral': 4881, 'gordon': 4882, 'reflection': 4883, 'quetta': 4884, 'incrimination': 4885, 'riva': 4886, 'circuit': 4887, 'cardena': 4888, 'plunder': 4889, 'trada': 4890, 'ferry': 4891, 'tumor': 4892, 'mmode': 4893, 'cyber': 4894, 'vitally': 4895, 'hebei': 4896, 'billboard': 4897, 'authorize': 4898, 'ferring': 4899, 'humanitarian': 4900, 'downer': 4901, 'melville': 4902, 'complex': 4903, 'hopping': 4904, 'mutinou': 4905, 'retreat': 4906, 'alberto': 4907, 'alleged': 4908, 'carón': 4909, 'hijacker': 4910, 'lama': 4911, 'martínez': 4912, 'suarez': 4913, 'preference': 4914, 'compuserve': 4915, 'rebate': 4916, 'govern': 4917, 'severe': 4918, 'girolami': 4919, 'stani': 4920, 'lend': 4921, 'wrap': 4922, 'hiba': 4923, 'pixel': 4924, 'satellite': 4925, 'errand': 4926, 'nickle': 4927, 'hbein': 4928, 'opforce': 4929, 'regardle': 4930, 'grandmother': 4931, 'objection': 4932, 'fifty': 4933, 'drake': 4934, 'pectfully': 4935, 'prevail': 4936, 'stacy': 4937, 'mirror': 4938, 'rearview': 4939, 'boyfriend': 4940, 'contrera': 4941, 'itte': 4942, 'ruben': 4943, 'libya': 4944, 'centimetre': 4945, 'cubic': 4946, 'gigabyte': 4947, 'legalize': 4948, 'attendant': 4949, 'charlton': 4950, 'greg': 4951, 'injured': 4952, 'keith': 4953, 'tackle': 4954, 'obrien': 4955, 'poland': 4956, 'accede': 4957, 'explore': 4958, 'automate': 4959, 'cribing': 4960, 'databa': 4961, 'indexing': 4962, 'ratchet': 4963, 'diplomat': 4964, 'malya': 4965, 'anity': 4966, 'indoctrination': 4967, 'czartory': 4968, 'uffered': 4969, 'seiu': 4970, 'stern': 4971, 'bakar': 4972, 'cleric': 4973, 'jemaah': 4974, 'lamiyah': 4975, 'ailly': 4976, 'chel': 4977, 'marcel': 4978, 'undere': 4979, 'woefully': 4980, 'india': 4981, 'canyon': 4982, 'barrier': 4983, 'biology': 4984, 'evolutionary': 4985, 'rodent': 4986, 'sugden': 4987, 'rockingham': 4988, 'speedway': 4989, 'edit': 4990, 'heavily': 4991, 'allard': 4992, 'brownback': 4993, 'jeff': 4994, 'wording': 4995, 'chancellor': 4996, 'guardian': 4997, 'overeign': 4998, 'seal': 4999, 'tamp': 5000, 'calp': 5001, 'ouvenir': 5002, 'torture': 5003, 'cindy': 5004, 'publici': 5005, 'upplement': 5006, 'tabili': 5007, 'text': 5008, 'cheney': 5009, 'klein': 5010, 'reliable': 5011, 'enlighten': 5012, 'adole': 5013, 'anorexia': 5014, 'obviou': 5015, 'drench': 5016, 'oake': 5017, 'slow': 5018, 'broaden': 5019, 'semitic': 5020, 'multiple': 5021, 'dolore': 5022, 'mahoy': 5023, 'efire': 5024, 'jihad': 5025, 'lamic': 5026, 'sturdivant': 5027, 'canal': 5028, 'kull': 5029, 'uctione': 5030, 'mackey': 5031, 'perm': 5032, 'triumphantly': 5033, 'yellow': 5034, 'career': 5035, 'shin': 5036, 'cantaloupe': 5037, 'nebra': 5038, 'tornadoe': 5039, 'dangerou': 5040, 'alphabet': 5041, 'occa': 5042, 'upporte': 5043, 'alcoa': 5044, 'aluminum': 5045, 'mckinlay': 5046, 'norman': 5047, 'enthal': 5048, 'garrett': 5049, 'monkey': 5050, 'wrench': 5051, 'tonapi': 5052, 'hewitt': 5053, 'klebold': 5054, 'reaffirm': 5055, 'belgian': 5056, 'fali': 5057, 'thierry': 5058, 'rheumatoid': 5059, 'baline': 5060, 'eeking': 5061, 'adver': 5062, 'philip': 5063, 'tighter': 5064, 'taxe': 5065, 'concealment': 5066, 'prediction': 5067, 'sovereign': 5068, 'creation': 5069, 'railroad': 5070, 'weakened': 5071, 'weltering': 5072, 'aged': 5073, 'hrinke': 5074, 'iger': 5075, 'olitary': 5076, 'traveller': 5077, 'wilfred': 5078, 'arifin': 5079, 'minded': 5080, 'repair': 5081, 'chemotherapy': 5082, 'daren': 5083, 'tunt': 5084, 'drummond': 5085, 'iaaf': 5086, 'maria': 5087, 'odriozola': 5088, 'accurate': 5089, 'automobile': 5090, 'brook': 5091, 'sanford': 5092, 'weill': 5093, 'gilead': 5094, 'algier': 5095, 'douali': 5096, 'mohcine': 5097, 'bader': 5098, 'hield': 5099, 'ruth': 5100, 'timewi': 5101, 'delaying': 5102, 'macfarlane': 5103, 'macroeconomic': 5104, 'defendant': 5105, 'judder': 5106, 'baker': 5107, 'lugger': 5108, 'truggling': 5109, 'sitefinder': 5110, 'teppe': 5111, 'contention': 5112, 'franklyn': 5113, 'intercept': 5114, 'stever': 5115, 'downtown': 5116, 'compile': 5117, 'bronfman': 5118, 'edgar': 5119, 'marvin': 5120, 'seagram': 5121, 'tycoon': 5122, 'determination': 5123, 'annuity': 5124, 'variable': 5125, 'currencie': 5126, 'merely': 5127, 'reflective': 5128, 'risc': 5129, 'xeon': 5130, 'coke': 5131, 'sonya': 5132, 'soutu': 5133, 'neutral': 5134, 'valuation': 5135, 'warburg': 5136, 'chlorine': 5137, 'decontamination': 5138, 'dioxide': 5139, 'fumigate': 5140, 'meantime': 5141, 'canner': 5142, 'copi': 5143, 'verify': 5144, 'denominate': 5145, 'lacy': 5146, 'dayton': 5147, 'ncaa': 5148, 'blumenthal': 5149, 'rece': 5150, 'rider': 5151, 'schneiderman': 5152, 'fend': 5153, 'indianapoil': 5154, 'takeover': 5155, 'taubman': 5156, 'renewal': 5157, 'eload': 5158, 'allied': 5159, 'cordiant': 5160, 'domecq': 5161, 'empha': 5162, 'filing': 5163, 'recognition': 5164, 'alert': 5165, 'stage': 5166, 'aviation': 5167, 'angui': 5168, 'detectable': 5169, 'forlong': 5170, 'politicize': 5171, 'hatch': 5172, 'leahy': 5173, 'vermont': 5174, 'iderable': 5175, 'sohn': 5176, 'pute': 5177, 'cavalier': 5178, 'exce': 5179, 'inhabitant': 5180, 'penetration': 5181, 'embarra': 5182, 'cellular': 5183, 'digital': 5184, 'gerago': 5185, 'quick': 5186, 'wipe': 5187, 'refinerie': 5188, 'cereal': 5189, 'probe': 5190, 'killing': 5191, 'nail': 5192, 'color': 5193, 'exchangeable': 5194, 'ound': 5195, 'polyphonic': 5196, 'style': 5197, 'dealer': 5198, 'harden': 5199, 'poradically': 5200, 'druce': 5201, 'smiledge': 5202, 'behaviour': 5203, 'inful': 5204, 'pire': 5205, 'smile': 5206, 'terner': 5207, 'abplanalp': 5208, 'produced': 5209, 'valve': 5210, 'legitimacy': 5211, 'cartridge': 5212, 'toner': 5213, 'floor': 5214, 'ledge': 5215, 'ambu': 5216, 'kilometre': 5217, 'denounce': 5218, 'moqtada': 5219, 'murphy': 5220, 'urgerie': 5221, 'violent': 5222, 'fetu': 5223, 'wade': 5224, 'womb': 5225, 'accountable': 5226, 'pare': 5227, 'ovation': 5228, 'tarrytown': 5229, 'wonderful': 5230, 'doubt': 5231, 'egyptologi': 5232, 'expedition': 5233, 'mummy': 5234, 'nefertiti': 5235, 'framingham': 5236, 'saugu': 5237, 'watertown': 5238, 'turnout': 5239, 'brutally': 5240, 'breakthrough': 5241, 'carcieri': 5242, 'taxation': 5243, 'prempro': 5244, 'wyeth': 5245, 'waco': 5246, 'exempt': 5247, 'immunity': 5248, 'deborah': 5249, 'fallow': 5250, 'ruin': 5251, 'hero': 5252, 'firmly': 5253, 'olute': 5254, 'oshea': 5255, 'stopper': 5256, 'tower': 5257, 'ultimate': 5258, 'tolerate': 5259, 'wedding': 5260, 'nonmanufacture': 5261, 'unexpectedly': 5262, 'midnight': 5263, 'rugge': 5264, 'keptic': 5265, 'evacuation': 5266, 'monrovia': 5267, 'comedy': 5268, 'coupling': 5269, 'valuable': 5270, 'enjoyment': 5271, 'bidding': 5272, 'source': 5273, 'jorge': 5274, 'manzon': 5275, 'tood': 5276, 'anxiou': 5277, 'clothing': 5278, 'duane': 5279, 'fawn': 5280, 'kraemer': 5281, 'heve': 5282, 'anton': 5283, 'directly': 5284, 'believer': 5285, 'gentle': 5286, 'jimmy': 5287, 'marathon': 5288, 'print': 5289, 'staton': 5290, 'holling': 5291, 'tene': 5292, 'tening': 5293, 'heatley': 5294, 'billing': 5295, 'engorge': 5296, 'pigot': 5297, 'taub': 5298, 'anonymity': 5299, 'facet': 5300, 'novelty': 5301, 'temperament': 5302, 'felony': 5303, 'hurlbert': 5304, 'koizumi': 5305, 'konoike': 5306, 'rebuke': 5307, 'cantwell': 5308, 'shankman': 5309, 'sinai': 5310, 'lgto': 5311, 'treak': 5312, 'cellegy': 5313, 'cauca': 5314, 'ethnicity': 5315, 'rebuilding': 5316, 'colling': 5317, 'lovett': 5318, 'math': 5319, 'proficient': 5320, 'informal': 5321, 'initiate': 5322, 'ebert': 5323, 'projection': 5324, 'tature': 5325, 'jackie': 5326, 'interwoven': 5327, 'merged': 5328, 'panther': 5329, 'pptp': 5330, 'tunneling': 5331, 'bendigo': 5332, 'lobbying': 5333, 'omaha': 5334, 'brazil': 5335, 'antitru': 5336, 'enforcer': 5337, 'arrival': 5338, 'ketball': 5339, 'occer': 5340, 'perkin': 5341, 'uconn': 5342, 'convincingly': 5343, 'seba': 5344, 'potentially': 5345, 'cartier': 5346, 'novell': 5347, 'alhazmi': 5348, 'almihdhar': 5349, 'britt': 5350, 'hake': 5351, 'savage': 5352, 'ordnance': 5353, 'piece': 5354, 'unexploded': 5355, 'gibraltar': 5356, 'strait': 5357, 'jordanian': 5358, 'throne': 5359, 'remand': 5360, 'imam': 5361, 'leung': 5362, 'wheeler': 5363, 'tructuring': 5364, 'mizuho': 5365, 'groomer': 5366, 'paedophile': 5367, 'prolific': 5368, 'shalom': 5369, 'sylvan': 5370, 'hamed': 5371, 'beefy': 5372, 'inning': 5373, 'phillie': 5374, 'singaporean': 5375, 'coal': 5376, 'peabody': 5377, 'convince': 5378, 'conver': 5379, 'legend': 5380, 'edwin': 5381, 'flynn': 5382, 'minneapoli': 5383, 'demolition': 5384, 'ghozi': 5385, 'appreciate': 5386, 'rumour': 5387, 'wirle': 5388, 'ernie': 5389, 'asean': 5390, 'concert': 5391, 'elite': 5392, 'vatican': 5393, 'imper': 5394, 'onation': 5395, 'pathfinder': 5396, 'smyrna': 5397, 'beauty': 5398, 'biodiver': 5399, 'kahuku': 5400, 'qualitie': 5401, 'tremendou': 5402, 'piciou': 5403, 'tonne': 5404, 'grim': 5405, 'keanu': 5406, 'reeve': 5407, 'auction': 5408, 'hollywood': 5409, 'mogul': 5410, 'innocence': 5411, 'chko': 5412, 'excited': 5413, 'klit': 5414, 'lennox': 5415, 'educate': 5416, 'farida': 5417, 'mopolitan': 5418, 'mukhla': 5419, 'operational': 5420, 'deterioration': 5421, 'geer': 5422, 'vulnerabilitie': 5423, 'lucrative': 5424, 'honor': 5425, 'werdegar': 5426, 'idie': 5427, 'olvent': 5428, 'tmag': 5429, 'inputte': 5430, 'leon': 5431, 'tompkin': 5432, 'exhibit': 5433, 'nonethele': 5434, 'tainable': 5435, 'intrude': 5436, 'macinto': 5437, 'safari': 5438, 'ative': 5439, 'author': 5440, 'exhau': 5441, 'ominou': 5442, 'pheric': 5443, 'trato': 5444, 'communicator': 5445, 'imap': 5446, 'exporter': 5447, 'cloud': 5448, 'hagel': 5449, 'intoxication': 5450, 'external': 5451, 'barbado': 5452, 'route': 5453, 'virgin': 5454, 'calorie': 5455, 'economi': 5456, 'bafana': 5457, 'metropolitan': 5458, 'farmland': 5459, 'midwe': 5460, 'ucceed': 5461, 'dutie': 5462, 'felon': 5463, 'firing': 5464, 'handgun': 5465, 'kenneth': 5466, 'mcgriff': 5467, 'italy': 5468, 'khamenei': 5469, 'upreme': 5470, 'conflicting': 5471, 'aceh': 5472, 'dharma': 5473, 'permi': 5474, 'surya': 5475, 'planetary': 5476, 'armoured': 5477, 'aronda': 5478, 'brigadier': 5479, 'nyakairima': 5480, 'promote': 5481, 'experienced': 5482, 'worldcom': 5483, 'bailout': 5484, 'terminal': 5485, 'durou': 5486, 'netcraft': 5487, 'tname': 5488, 'glouce': 5489, 'retaliate': 5490, 'traveler': 5491, 'improper': 5492, 'coyne': 5493, 'oltrogge': 5494, 'cedarbaum': 5495, 'miriam': 5496, 'cioaba': 5497, 'florin': 5498, 'cate': 5499, 'confi': 5500, 'intervention': 5501, 'trengthen': 5502, 'claire': 5503, 'scripp': 5504, 'spelling': 5505, 'afterglow': 5506, 'refunding': 5507, 'magner': 5508, 'marjorie': 5509, 'tival': 5510, 'aileen': 5511, 'boyle': 5512, 'schu': 5513, 'schrder': 5514, 'tructural': 5515, 'carter': 5516, 'junichiro': 5517, 'fiorina': 5518, 'integration': 5519, 'infection': 5520, 'internally': 5521, 'peed': 5522, 'slammer': 5523, 'unprotected': 5524, 'banja': 5525, 'luka': 5526, 'anatolian': 5527, 'carney': 5528, 'angeles': 5529, 'uninvite': 5530, 'vitality': 5531, 'walt': 5532, 'territory': 5533, 'keker': 5534, 'talemate': 5535, 'arming': 5536, 'intefadeh': 5537, 'renounce': 5538, 'ummit': 5539, 'luhrmann': 5540, 'opera': 5541, 'opulent': 5542, 'puccini': 5543, 'rollin': 5544, 'actual': 5545, 'harmful': 5546, 'creene': 5547, 'caldera': 5548, 'momentum': 5549, 'compartment': 5550, 'rodriguez': 5551, 'reali': 5552, 'afely': 5553, 'viable': 5554, 'fugitive': 5555, 'metic': 5556, 'puerto': 5557, 'rapi': 5558, 'vallarta': 5559, 'dialog': 5560, 'ella': 5561, 'serie': 5562, 'faculty': 5563, 'slaughter': 5564, 'arafat': 5565, 'unchanged': 5566, 'jerry': 5567, 'mitigate': 5568, 'hander': 5569, 'junior': 5570, 'markaki': 5571, 'nick': 5572, 'oriole': 5573, 'depict': 5574, 'irregular': 5575, 'mack': 5576, 'cholar': 5577, 'kenrick': 5578, 'luban': 5579, 'enable': 5580, 'taunchly': 5581, 'chapter': 5582, 'reorganization': 5583, 'deliberation': 5584, 'inception': 5585, 'noah': 5586, 'fatal': 5587, 'felonie': 5588, 'racketeering': 5589, 'hipwreck': 5590, 'searche': 5591, 'unaccounted': 5592, 'urvivor': 5593, 'halloween': 5594, 'ubmit': 5595, 'convoy': 5596, 'fallujah': 5597, 'arterie': 5598, 'buildup': 5599, 'lipitor': 5600, 'plaque': 5601, 'shelby': 5602, 'notification': 5603, 'calation': 5604, 'headache': 5605, 'hogwart': 5606, 'rowling': 5607, 'invi': 5608, 'pornographic': 5609, 'urped': 5610, 'rail': 5611, 'tranz': 5612, 'kuwaiti': 5613, 'mailblock': 5614, 'webtv': 5615, 'alloy': 5616, 'aluminium': 5617, 'plate': 5618, 'purpo': 5619, 'tooling': 5620, 'chemin': 5621, 'nationale': 5622, 'societe': 5623, 'ragu': 5624, 'vial': 5625, 'garb': 5626, 'kbound': 5627, 'pearl': 5628, 'andrea': 5629, 'literally': 5630, 'neglect': 5631, 'cabinet': 5632, 'innovation': 5633, 'thinking': 5634, 'medan': 5635, 'sumatran': 5636, 'patrol': 5637, 'prayer': 5638, 'earchable': 5639, 'mutual': 5640, 'coulibaly': 5641, 'mane': 5642, 'aubrey': 5643, 'bench': 5644, 'eject': 5645, 'fielder': 5646, 'huff': 5647, 'mclaren': 5648, 'piniella': 5649, 'defiance': 5650, 'anthem': 5651, 'groundbreake': 5652, 'grunge': 5653, 'apologize': 5654, 'integrity': 5655, 'journali': 5656, 'earplug': 5657, 'mechanical': 5658, 'antidi': 5659, 'bian': 5660, 'crimination': 5661, 'employer': 5662, 'dvorak': 5663, 'jdvorakkctar': 5664, 'playboy': 5665, 'inmate': 5666, 'eille': 5667, 'everely': 5668, 'lille': 5669, 'lyon': 5670, 'metro': 5671, 'rupted': 5672, 'schmitz': 5673, 'warfighter': 5674, 'achieve': 5675, 'erted': 5676, 'narrowly': 5677, 'tailor': 5678, 'myth': 5679, 'thirty': 5680, 'urveyed': 5681, 'buoy': 5682, 'serena': 5683, 'venu': 5684, 'vera': 5685, 'zvonareva': 5686, 'hopkin': 5687, 'reliably': 5688, 'reminder': 5689, 'steinberg': 5690, 'scardino': 5691, 'randall': 5692, 'concurrence': 5693, 'lative': 5694, 'dedicate': 5695, 'enhancement': 5696, 'improved': 5697, 'reopen': 5698, 'chungchong': 5699, 'derail': 5700, 'seoul': 5701, 'trillian': 5702, 'indiana': 5703, 'lupa': 5704, 'fowler': 5705, 'tillie': 5706, 'kraft': 5707, 'leavitt': 5708, 'qualified': 5709, 'senator': 5710, 'unfortunate': 5711, 'moderate': 5712, 'greatly': 5713, 'peciality': 5714, 'spirit': 5715, 'vary': 5716, 'hortage': 5717, 'foale': 5718, 'space': 5719, 'station': 5720, 'mothana': 5721, 'experti': 5722, 'leverage': 5723, 'trengthene': 5724, 'tructively': 5725, 'unparalleled': 5726, 'ximian': 5727, 'ball': 5728, 'contact': 5729, 'replay': 5730, 'sangakkara': 5731, 'birmingham': 5732, 'bullet': 5733, 'perforate': 5734, 'homebuild': 5735, 'ryland': 5736, 'mouleff': 5737, 'noureddinne': 5738, 'origin': 5739, 'tbourne': 5740, 'fatalitie': 5741, 'nhtsa': 5742, 'atire': 5743, 'broadway': 5744, 'spoil': 5745, 'succe': 5746, 'erviceman': 5747, 'genuine': 5748, 'unaware': 5749, 'allie': 5750, 'coloni': 5751, 'evil': 5752, 'exploration': 5753, 'wealth': 5754, 'unclear': 5755, 'proponent': 5756, 'honour': 5757, 'hurlock': 5758, 'dray': 5759, 'joel': 5760, 'detector': 5761, 'ganczar': 5762, 'attribute': 5763, 'ottawa': 5764, 'pede': 5765, 'infected': 5766, 'bramble': 5767, 'paralyze': 5768, 'mercy': 5769, 'garber': 5770, 'fortune': 5771, 'workforce': 5772, 'zabel': 5773, 'commuter': 5774, 'newly': 5775, 'omething': 5776, 'omebody': 5777, 'waver': 5778, 'enriched': 5779, 'facility': 5780, 'uranium': 5781, 'rack': 5782, 'traditional': 5783, 'cdma': 5784, 'voinovich': 5785, 'wavering': 5786, 'bigotry': 5787, 'intolerance': 5788, 'politician': 5789, 'sheldon': 5790, 'silver': 5791, 'peeler': 5792, 'arequipa': 5793, 'decree': 5794, 'privatization': 5795, 'marta': 5796, 'pablo': 5797, 'tigating': 5798, 'photograph': 5799, 'ulate': 5800, 'trilogy': 5801, 'blacken': 5802, 'catalina': 5803, 'willow': 5804, 'anger': 5805, 'hioner': 5806, 'enron': 5807, 'jemah': 5808, 'significantly': 5809, 'aulte': 5810, 'kaguru': 5811, 'tichaona': 5812, 'boucher': 5813, 'cutoff': 5814, 'aero': 5815, 'capability': 5816, 'tellier': 5817, 'jupiter': 5818, 'moon': 5819, 'tronomer': 5820, 'akron': 5821, 'controlled': 5822, 'anonymou': 5823, 'mandate': 5824, 'manpower': 5825, 'monuc': 5826, 'mainly': 5827, 'navia': 5828, 'upermarket': 5829, 'retiree': 5830, 'unanticipated': 5831, 'textile': 5832, 'ambition': 5833, 'fray': 5834, 'ahmed': 5835, 'mehalba': 5836, 'heinou': 5837, 'notwith': 5838, 'unabated': 5839, 'kingwhether': 5840, 'difficultie': 5841, 'pariba': 5842, 'wattret': 5843, 'ymptomatic': 5844, 'eemingly': 5845, 'tockpile': 5846, 'portal': 5847, 'enrol': 5848, 'framework': 5849, 'token': 5850, 'uing': 5851, 'abilitie': 5852, 'argument': 5853, 'rehabilitated': 5854, 'rehire': 5855, 'kara': 5856, 'checking': 5857, 'undelivered': 5858, 'avery': 5859, 'blind': 5860, 'brooklyn': 5861, 'byrd': 5862, 'parkway': 5863, 'peaking': 5864, 'pectator': 5865, 'worry': 5866, 'muddle': 5867, 'barbra': 5868, 'strei': 5869, 'programmer': 5870, 'info': 5871, 'programming': 5872, 'eritrea': 5873, 'ethiopia': 5874, 'hackle': 5875, 'worrie': 5876, 'khadzhiyev': 5877, 'ghanaian': 5878, 'interpol': 5879, 'luzerne': 5880, 'berry': 5881, 'goodyear': 5882, 'tpone': 5883, 'dependent': 5884, 'ummary': 5885, 'bounty': 5886, 'kidnapping': 5887, 'quiet': 5888, 'vegetative': 5889, 'cretionary': 5890, 'breast': 5891, 'diagno': 5892, 'bologna': 5893, 'coverie': 5894, 'prodi': 5895, 'romano': 5896, 'anne': 5897, 'mcclellan': 5898, 'buddhi': 5899, 'imaging': 5900, 'homecoming': 5901, 'indefinitely': 5902, 'cincinnati': 5903, 'tragedy': 5904, 'entire': 5905, 'upercede': 5906, 'automaker': 5907, 'crazy': 5908, 'telemarketer': 5909, 'breyer': 5910, 'souter': 5911, 'cade': 5912, 'magnitude': 5913, 'electromagnetic': 5914, 'stony': 5915, 'aether': 5916, 'clarent': 5917, 'copper': 5918, 'cheer': 5919, 'tumultuou': 5920, 'chry': 5921, 'daimlerchry': 5922, 'tentative': 5923, 'teon': 5924, 'upplier': 5925, 'commute': 5926, 'kentucky': 5927, 'argo': 5928, 'littlewood': 5929, 'horror': 5930, 'jewi': 5931, 'cockpit': 5932, 'hville': 5933, 'clergyman': 5934, 'cullen': 5935, 'somer': 5936, 'duke': 5937, 'accutane': 5938, 'acne': 5939, 'lift': 5940, 'refinance': 5941, 'appointee': 5942, 'kathleen': 5943, 'hoffine': 5944, 'swat': 5945, 'arroyo': 5946, 'hirt': 5947, 'committed': 5948, 'relief': 5949, 'worthy': 5950, 'atal': 5951, 'bihari': 5952, 'chill': 5953, 'normali': 5954, 'vajpayee': 5955, 'moothly': 5956, 'biztalk': 5957, 'studio': 5958, 'carroll': 5959, 'mcmellon': 5960, 'acrylamide': 5961, 'reichert': 5962, 'robe': 5963, 'definition': 5964, 'howing': 5965, 'gerberding': 5966, 'julie': 5967, 'leland': 5968, 'datadirect': 5969, 'erika': 5970, 'bundle': 5971, 'documentation': 5972, 'lawful': 5973, 'memorandum': 5974, 'recruit': 5975, 'ciplinary': 5976, 'airbu': 5977, 'alan': 5978, 'aronov': 5979, 'borakove': 5980, 'dental': 5981, 'ellen': 5982, 'examiner': 5983, 'tooth': 5984, 'brokenhearte': 5985, 'vocali': 5986, 'fina': 5987, 'teride': 5988, 'embedded': 5989, 'flavor': 5990, 'firearm': 5991, 'warehou': 5992, 'outpace': 5993, 'putnam': 5994, 'formali': 5995, 'carefully': 5996, 'pilothou': 5997, 'leomin': 5998, 'pronounce': 5999, 'adoption': 6000, 'calate': 6001, 'marketer': 6002, 'stuart': 6003, 'gautam': 6004, 'kumar': 6005, 'manali': 6006, 'eliot': 6007, 'fidelity': 6008, 'regard': 6009, 'popovich': 6010, 'spur': 6011, 'miniature': 6012, 'notebook': 6013, 'wivel': 6014, 'incredibly': 6015, 'reconciliation': 6016, 'explain': 6017, 'inventory': 6018, 'tucci': 6019, 'anaheim': 6020, 'babcock': 6021, 'dynegy': 6022, 'uitor': 6023, 'borgata': 6024, 'bioreliance': 6025, 'alexi': 6026, 'gang': 6027, 'nonviolence': 6028, 'indi': 6029, 'interdependent': 6030, 'mutually': 6031, 'ociable': 6032, 'reinforce': 6033, 'qanta': 6034, 'mcarthur': 6035, 'hannibal': 6036, 'radical': 6037, 'kerkorian': 6038, 'illne': 6039, 'compaq': 6040, 'ealed': 6041, 'antowain': 6042, 'venue': 6043, 'cheng': 6044, 'dowdell': 6045, 'nonlife': 6046, 'schumer': 6047, 'perjury': 6048, 'stackhou': 6049, 'emifinal': 6050, 'greene': 6051, 'maurice': 6052, 'meter': 6053, 'piring': 6054, 'eaug': 6055, 'ifte': 6056, 'multibillion': 6057, 'enthu': 6058, 'arlington': 6059, 'revive': 6060, 'scrugg': 6061, 'ychological': 6062, 'taggering': 6063, 'timing': 6064, 'iron': 6065, 'organ': 6066, 'beatle': 6067, 'deeply': 6068, 'outreache': 6069, 'popularity': 6070, 'berg': 6071, 'remembrance': 6072, 'alkebulan': 6073, 'deirdre': 6074, 'headdre': 6075, 'malikah': 6076, 'small': 6077, 'apparel': 6078, 'levi': 6079, 'marineau': 6080, 'strau': 6081, 'dominate': 6082, 'migrant': 6083, 'dunlap': 6084, 'inge': 6085, 'delloro': 6086, 'optional': 6087, 'robbin': 6088, 'coordinator': 6089, 'fourteen': 6090, 'conny': 6091, 'mccormack': 6092, 'trar': 6093, 'berlin': 6094, 'schroder': 6095, 'nike': 6096, 'tatute': 6097, 'bacteria': 6098, 'huntington': 6099, 'crimp': 6100, 'okeefe': 6101, 'roundtable': 6102, 'notifie': 6103, 'acknowledgment': 6104, 'manhunt': 6105, 'tire': 6106, 'arctic': 6107, 'ervatorie': 6108, 'hubble': 6109, 'sirtf': 6110, 'foremo': 6111, 'mudd': 6112, 'northfield': 6113, 'jaywalk': 6114, 'albert': 6115, 'kroger': 6116, 'ralph': 6117, 'qara': 6118, 'decorate': 6119, 'delainey': 6120, 'oilfield': 6121, 'bird': 6122, 'daycare': 6123, 'demeanor': 6124, 'ephine': 6125, 'dica': 6126, 'philpot': 6127, 'celia': 6128, 'nippet': 6129, 'brad': 6130, 'deceptive': 6131, 'pammer': 6132, 'tringent': 6133, 'ecuador': 6134, 'hemi': 6135, 'phere': 6136, 'tability': 6137, 'writedown': 6138, 'abduction': 6139, 'abruptly': 6140, 'bochk': 6141, 'jinbao': 6142, 'deli': 6143, 'whitaker': 6144, 'glove': 6145, 'unifi': 6146, 'cave': 6147, 'favourable': 6148, 'negotiate': 6149, 'inclu': 6150, 'burger': 6151, 'courageou': 6152, 'elfle': 6153, 'pirational': 6154, 'hona': 6155, 'rebellion': 6156, 'organizing': 6157, 'zimbabwe': 6158, 'cardozo': 6159, 'scotland': 6160, 'launce': 6161, 'kilgore': 6162, 'adobe': 6163, 'commonstore': 6164, 'reader': 6165, 'melanoma': 6166, 'natche': 6167, 'spider': 6168, 'cheetah': 6169, 'club': 6170, 'galardi': 6171, 'jaguar': 6172, 'houte': 6173, 'solution': 6174, 'diplomacy': 6175, 'butterflie': 6176, 'umably': 6177, 'foodchain': 6178, 'involved': 6179, 'workaholic': 6180, 'crack': 6181, 'goldin': 6182, 'choff': 6183, 'eads': 6184, 'manfred': 6185, 'quantitie': 6186, 'taad': 6187, 'annal': 6188, 'cience': 6189, 'dcunha': 6190, 'tandpoint': 6191, 'cold': 6192, 'treng': 6193, 'lifelong': 6194, 'ariel': 6195, 'enquirer': 6196, 'guitar': 6197, 'inamed': 6198, 'completion': 6199, 'urplu': 6200, 'hart': 6201, 'inconvenience': 6202, 'eghian': 6203, 'falcon': 6204, 'mater': 6205, 'maud': 6206, 'marvell': 6207, 'bogu': 6208, 'identitie': 6209, 'steal': 6210, 'meticulou': 6211, 'favor': 6212, 'hamp': 6213, 'reverend': 6214, 'anticipation': 6215, 'children': 6216, 'brokerage': 6217, 'defer': 6218, 'copyright': 6219, 'parma': 6220, 'tanzi': 6221, 'grammy': 6222, 'nominate': 6223, 'battalion': 6224, 'irrigation': 6225, 'playground': 6226, 'rubble': 6227, 'automatic': 6228, 'gunfire': 6229, 'iyah': 6230, 'qade': 6231, 'rattle': 6232, 'awadallah': 6233, 'camera': 6234, 'olete': 6235, 'siriu': 6236, 'tudio': 6237, 'denomination': 6238, 'brighten': 6239, 'neighboring': 6240, 'genero': 6241, 'matriarch': 6242, 'ohare': 6243, 'appetite': 6244, 'imperial': 6245, 'lean': 6246, 'voyager': 6247, 'advani': 6248, 'delhi': 6249, 'incerity': 6250, 'itinerant': 6251, 'ymca': 6252, 'inque': 6253, 'kofi': 6254, 'multinational': 6255, 'agelab': 6256, 'thode': 6257, 'lindon': 6258, 'feeding': 6259, 'malanow': 6260, 'thaddeu': 6261, 'afloat': 6262, 'mediation': 6263, 'amend': 6264, 'eerily': 6265, 'harde': 6266, 'taipei': 6267, 'ubiquitou': 6268, 'netherland': 6269, 'grella': 6270, 'chok': 6271, 'tong': 6272, 'mauritania': 6273, 'beachfront': 6274, 'trendy': 6275, 'cool': 6276, 'precipitation': 6277, 'whip': 6278, 'acceleration': 6279, 'officefront': 6280, 'premium': 6281, 'chien': 6282, 'ming': 6283, 'taiwane': 6284, 'teelmaker': 6285, 'qualify': 6286, 'capacitance': 6287, 'cleaning': 6288, 'fool': 6289, 'eichhorn': 6290, 'hine': 6291, 'graphic': 6292, 'sutherland': 6293, 'motel': 6294, 'prematurely': 6295, 'urrounding': 6296, 'beyblade': 6297, 'bratz': 6298, 'doll': 6299, 'leapfrog': 6300, 'leappad': 6301, 'tarter': 6302, 'teale': 6303, 'hippe': 6304, 'alem': 6305, 'freeze': 6306, 'jeru': 6307, 'torie': 6308, 'efficiency': 6309, 'skie': 6310, 'adherent': 6311, 'isaf': 6312, 'boyd': 6313, 'gerald': 6314, 'grievance': 6315, 'raine': 6316, 'remedie': 6317, 'fujimori': 6318, 'trafficking': 6319, 'vladimiro': 6320, 'stegman': 6321, 'soro': 6322, 'monetary': 6323, 'boulevard': 6324, 'hidi': 6325, 'bolivia': 6326, 'tarved': 6327, 'treame': 6328, 'upri': 6329, 'renege': 6330, 'straw': 6331, 'remainder': 6332, 'roadway': 6333, 'fourtou': 6334, 'payoff': 6335, 'rene': 6336, 'coat': 6337, 'recline': 6338, 'woolly': 6339, 'riley': 6340, 'wheeled': 6341, 'pollack': 6342, 'wield': 6343, 'colby': 6344, 'doyle': 6345, 'hackett': 6346, 'ignol': 6347, 'dictator': 6348, 'poorly': 6349, 'meli': 6350, 'outcome': 6351, 'grid': 6352, 'outdated': 6353, 'wake': 6354, 'grandfather': 6355, 'walton': 6356, 'olicited': 6357, 'peculate': 6358, 'charlie': 6359, 'cowboy': 6360, 'tner': 6361, 'waite': 6362, 'turki': 6363, 'lbermandetnew': 6364, 'jimenez': 6365, 'marco': 6366, 'barton': 6367, 'firefighter': 6368, 'frankfort': 6369, 'lightning': 6370, 'brawl': 6371, 'coordinate': 6372, 'pooh': 6373, 'poohe': 6374, 'kapanda': 6375, 'scotty': 6376, 'smither': 6377, 'katyjohn': 6378, 'tuckermax': 6379, 'ilver': 6380, 'preciou': 6381, 'helf': 6382, 'prominent': 6383, 'charlotte': 6384, 'choo': 6385, 'pillaging': 6386, 'dull': 6387, 'futile': 6388, 'knife': 6389, 'multitool': 6390, 'rpcsdbot': 6391, 'enbrandt': 6392, 'shaichat': 6393, 'prominence': 6394, 'undue': 6395, 'relocation': 6396, 'colleen': 6397, 'mccain': 6398, 'unproven': 6399, 'predi': 6400, 'embark': 6401, 'eating': 6402, 'famou': 6403, 'nathan': 6404, 'refrigerator': 6405, 'thriving': 6406, 'uptick': 6407, 'condoleezza': 6408, 'entirety': 6409, 'mandalay': 6410, 'laying': 6411, 'jerzy': 6412, 'szmajdzin': 6413, 'tellab': 6414, 'stick': 6415, 'dylan': 6416, 'hotgun': 6417, 'jeffer': 6418, 'performer': 6419, 'arad': 6420, 'sharon': 6421, 'willing': 6422, 'monkeypox': 6423, 'profound': 6424, 'whirl': 6425, 'wary': 6426, 'diclerico': 6427, 'schola': 6428, 'belcher': 6429, 'woode': 6430, 'catapult': 6431, 'traw': 6432, 'helve': 6433, 'robb': 6434, 'wendell': 6435, 'remind': 6436, 'lytle': 6437, 'incon': 6438, 'tencie': 6439, 'finalize': 6440, 'lyman': 6441, 'varian': 6442, 'nist': 6443, 'smackdown': 6444, 'villalona': 6445, 'katherine': 6446, 'mobile': 6447, 'pana': 6448, 'sharp': 6449, 'converge': 6450, 'ettler': 6451, 'outpo': 6452, 'shenzhou': 6453, 'apart': 6454, 'breed': 6455, 'bronte': 6456, 'eyre': 6457, 'henchard': 6458, 'hoeveler': 6459, 'sugar': 6460, 'uperior': 6461, 'supercenter': 6462, 'cinta': 6463, 'unionize': 6464, 'connelly': 6465, 'nicolo': 6466, 'freely': 6467, 'blix': 6468, 'calculate': 6469, 'heep': 6470, 'jeddah': 6471, 'ucceeded': 6472, 'amour': 6473, 'mancha': 6474, 'movin': 6475, 'selya': 6476, 'canton': 6477, 'kraynak': 6478, 'colorful': 6479, 'dain': 6480, 'diary': 6481, 'truman': 6482, 'pedro': 6483, 'soyuz': 6484, 'gluco': 6485, 'pecialized': 6486, 'ewing': 6487, 'hargadon': 6488, 'cringe': 6489, 'forefather': 6490, 'frontier': 6491, 'ineptitude': 6492, 'bofa': 6493, 'arily': 6494, 'outback': 6495, 'steakhou': 6496, 'choolchildren': 6497, 'eelam': 6498, 'ltte': 6499, 'partie': 6500, 'tamil': 6501, 'tiger': 6502, 'himme': 6503, 'roof': 6504, 'rope': 6505, 'baucu': 6506, 'parity': 6507, 'adamia': 6508, 'annex': 6509, 'revaz': 6510, 'proportion': 6511, 'antibiotic': 6512, 'overu': 6513, 'dictionary': 6514, 'engli': 6515, 'isph': 6516, 'pharmaceutical': 6517, 'fiance': 6518, 'megawati': 6519, 'alvarez': 6520, 'quiej': 6521, 'carne': 6522, 'maddox': 6523, 'withdraw': 6524, 'beacon': 6525, 'convul': 6526, 'ycho': 6527, 'exit': 6528, 'hurdle': 6529, 'brigitte': 6530, 'maternal': 6531, 'remarry': 6532, 'speak': 6533, 'decea': 6534, 'porchia': 6535, 'affected': 6536, 'blaze': 6537, 'creening': 6538, 'mammogram': 6539, 'tamoxifen': 6540, 'ongoing': 6541, 'launder': 6542, 'tuxedo': 6543, 'fluore': 6544, 'wildlife': 6545, 'zebra': 6546, 'colombian': 6547, 'curry': 6548, 'perate': 6549, 'trongly': 6550, 'stephanie': 6551, 'strong': 6552, 'thorough': 6553, 'truog': 6554, 'intermediate': 6555, 'genetic': 6556, 'tereotype': 6557, 'huweirini': 6558, 'similar': 6559, 'editorial': 6560, 'gruner': 6561, 'jahr': 6562, 'luehr': 6563, 'orie': 6564, 'aquila': 6565, 'avon': 6566, 'default': 6567, 'janice': 6568, 'foil': 6569, 'onville': 6570, 'advancer': 6571, 'attractive': 6572, 'cherry': 6573, 'ance': 6574, 'intent': 6575, 'punchline': 6576, 'traction': 6577, 'warm': 6578, 'inpatient': 6579, 'outpatient': 6580, 'tacoma': 6581, 'branche': 6582, 'pectively': 6583, 'khalid': 6584, 'shaikh': 6585, 'termind': 6586, 'impre': 6587, 'infectiou': 6588, 'roth': 6589, 'contradict': 6590, 'stephan': 6591, 'codify': 6592, 'ervience': 6593, 'reciprocal': 6594, 'undoubted': 6595, 'stubb': 6596, 'hijack': 6597, 'hijacking': 6598, 'helen': 6599, 'sharkey': 6600, 'charter': 6601, 'unnamed': 6602, 'auto': 6603, 'technological': 6604, 'firebreak': 6605, 'flank': 6606, 'carlo': 6607, 'ferrero': 6608, 'spaniard': 6609, 'clothe': 6610, 'farming': 6611, 'tarving': 6612, 'knock': 6613, 'winter': 6614, 'additionally': 6615, 'beneficiarie': 6616, 'pickering': 6617, 'refrigerate': 6618, 'compari': 6619, 'abide': 6620, 'calm': 6621, 'keynote': 6622, 'cattle': 6623, 'auditor': 6624, 'heartbeat': 6625, 'metaboli': 6626, 'peede': 6627, 'thyroid': 6628, 'timulate': 6629, 'hrink': 6630, 'doran': 6631, 'aoui': 6632, 'logical': 6633, 'overboard': 6634, 'sarwan': 6635, 'shore': 6636, 'communi': 6637, 'mohamed': 6638, 'refurbi': 6639, 'lain': 6640, 'sentence': 6641, 'wein': 6642, 'appellate': 6643, 'differ': 6644, 'clinical': 6645, 'evaluation': 6646, 'boot': 6647, 'loader': 6648, 'nand': 6649, 'bankrupt': 6650, 'pork': 6651, 'informant': 6652, 'landlady': 6653, 'laundering': 6654, 'oline': 6655, 'moody': 6656, 'dock': 6657, 'terrible': 6658, 'udden': 6659, 'cluley': 6660, 'sopho': 6661, 'frequently': 6662, 'mzoudi': 6663, 'hardin': 6664, 'cattere': 6665, 'debri': 6666, 'interception': 6667, 'touchdown': 6668, 'hmir': 6669, 'forthcoming': 6670, 'huffle': 6671, 'terial': 6672, 'uaded': 6673, 'lucky': 6674, 'heavyweight': 6675, 'payout': 6676, 'tutoring': 6677, 'cycle': 6678, 'orientate': 6679, 'partially': 6680, 'francoi': 6681, 'perroud': 6682, 'ankle': 6683, 'jailbreak': 6684, 'pelvi': 6685, 'warden': 6686, 'itch': 6687, 'playright': 6688, 'interagency': 6689, 'tracey': 6690, 'goud': 6691, 'naim': 6692, 'lament': 6693, 'liftoff': 6694, 'photography': 6695, 'kathryn': 6696, 'larceny': 6697, 'newe': 6698, 'tele': 6699, 'gowen': 6700, 'peedy': 6701, 'sole': 6702, 'heed': 6703, 'entity': 6704, 'mankiw': 6705, 'navigation': 6706, 'jamaica': 6707, 'zuccarini': 6708, 'normal': 6709, 'invividual': 6710, 'simply': 6711, 'tunick': 6712, 'onboard': 6713, 'primarie': 6714, 'shanley': 6715, 'uring': 6716, 'gromer': 6717, 'pete': 6718, 'slover': 6719, 'ualba': 6720, 'elli': 6721, 'parable': 6722, 'ubheading': 6723, 'armour': 6724, 'treaty': 6725, 'accountancy': 6726, 'reignite': 6727, 'healthcare': 6728, 'fierce': 6729, 'sumitomo': 6730, 'gammerman': 6731, 'academic': 6732, 'barn': 6733, 'jouejati': 6734, 'photojournali': 6735, 'analogou': 6736, 'ertion': 6737, 'watchful': 6738, 'atstake': 6739, 'sundwall': 6740, 'heather': 6741, 'natsemi': 6742, 'fatima': 6743, 'niro': 6744, 'coin': 6745, 'complication': 6746, 'hughe': 6747, 'lating': 6748, 'moroccan': 6749, 'flexed': 6750, 'manual': 6751, 'infantry': 6752, 'ager': 6753, 'exec': 6754, 'ehead': 6755, 'jubilee': 6756, 'copp': 6757, 'guandong': 6758, 'jazmine': 6759, 'niece': 6760, 'santiago': 6761, 'totalling': 6762, 'introductory': 6763, 'alhart': 6764, 'nvidia': 6765, 'barrera': 6766, 'splitrnb': 6767, 'concede': 6768, 'inevitable': 6769, 'archipelago': 6770, 'madaga': 6771, 'riverbank': 6772, 'teache': 6773, 'tentatively': 6774, 'drumbeat': 6775, 'frightened': 6776, 'relatively': 6777, 'philanthropy': 6778, 'harmle': 6779, 'heal': 6780, 'torefront': 6781, 'uffocate': 6782, 'indoor': 6783, 'headle': 6784, 'limble': 6785, 'nigerian': 6786, 'ceremonie': 6787, 'gulp': 6788, 'hypothermia': 6789, 'uccumbe': 6790, 'morgenthau': 6791, 'exceptional': 6792, 'coaxial': 6793, 'kilogram': 6794, 'dakota': 6795, 'marketwatch': 6796, 'ucla': 6797, 'highway': 6798, 'damaging': 6799, 'sapp': 6800, 'dignitarie': 6801, 'extremi': 6802, 'territorie': 6803, 'diving': 6804, 'mixed': 6805, 'olidarity': 6806, 'longtime': 6807, 'tactic': 6808, 'deficient': 6809, 'erbitux': 6810, 'pinching': 6811, 'hind': 6812, 'shockey': 6813, 'refueling': 6814, 'hyundai': 6815, 'adventu': 6816, 'widening': 6817, 'burma': 6818, 'overplay': 6819, 'haunt': 6820, 'colonel': 6821, 'lieutenant': 6822, 'rematch': 6823, 'brabakow': 6824, 'burden': 6825, 'aggravated': 6826, 'tructed': 6827, 'mckenzie': 6828, 'pocket': 6829, 'saharan': 6830, 'guantanamo': 6831, 'bruno': 6832, 'inventor': 6833, 'gerhard': 6834, 'schroeder': 6835, 'tout': 6836, 'tartle': 6837, 'flare': 6838, 'cardio': 6839, 'ychiatric': 6840, 'rahman': 6841, 'sattar': 6842, 'nubbe': 6843, 'cowger': 6844, 'cocon': 6845, 'fertilizer': 6846, 'andro': 6847, 'ionate': 6848, 'nationali': 6849, 'carol': 6850, 'eley': 6851, 'effectively': 6852, 'heine': 6853, 'unpenali': 6854, 'ayev': 6855, 'shamil': 6856, 'pile': 6857, 'romanian': 6858, 'hinder': 6859, 'elaborate': 6860, 'virigina': 6861, 'guehenno': 6862, 'marie': 6863, 'boao': 6864, 'taffe': 6865, 'avila': 6866, 'extramadura': 6867, 'neptune': 6868, 'anto': 6869, 'southwark': 6870, 'zilkha': 6871, 'heat': 6872, 'tifle': 6873, 'emirate': 6874, 'lithuania': 6875, 'appliance': 6876, 'starbak': 6877, 'crude': 6878, 'hattere': 6879, 'uburb': 6880, 'adjacent': 6881, 'conner': 6882, 'laci': 6883, 'ironically': 6884, 'msft': 6885, 'sullivan': 6886, 'alarmed': 6887, 'kerkow': 6888, 'budge': 6889, 'roddick': 6890, 'schaumburg': 6891, 'trillion': 6892, 'admiration': 6893, 'motori': 6894, 'carpet': 6895, 'fume': 6896, 'trave': 6897, 'nemo': 6898, 'rake': 6899, 'tored': 6900, 'redi': 6901, 'tricting': 6902, 'certificate': 6903, 'wexford': 6904, 'hotter': 6905, 'holle': 6906, 'lymph': 6907, 'node': 6908, 'fabricate': 6909, 'shatter': 6910, 'unformed': 6911, 'interact': 6912, 'nadi': 6913, 'tark': 6914, 'burt': 6915, 'flickinger': 6916, 'strategic': 6917, 'ethel': 6918, 'kayaker': 6919, 'turkoman': 6920, 'arbor': 6921, 'variation': 6922, 'creenwriter': 6923, 'underline': 6924, 'pentium': 6925, 'site': 6926, 'multiparty': 6927, 'atory': 6928, 'shreveport': 6929, 'conditional': 6930, 'dillard': 6931, 'ponded': 6932, 'plow': 6933, 'tarp': 6934, 'banker': 6935, 'counterclaim': 6936, 'elude': 6937, 'hooter': 6938, 'tract': 6939, 'comingle': 6940, 'nonappropriate': 6941, 'dhaliwal': 6942, 'borrower': 6943, 'matche': 6944, 'capita': 6945, 'hyper': 6946, 'vigilant': 6947, 'carole': 6948, 'keeton': 6949, 'readily': 6950, 'pact': 6951, 'churche': 6952, 'undetermined': 6953, 'globally': 6954, 'riverboat': 6955, 'schafer': 6956, 'hamdi': 6957, 'jennette': 6958, 'exempted': 6959, 'tablet': 6960, 'breathe': 6961, 'hillary': 6962, 'glenn': 6963, 'trek': 6964, 'counterpane': 6965, 'idefen': 6966, 'albany': 6967, 'gormley': 6968, 'applie': 6969, 'chante': 6970, 'jawaon': 6971, 'deregulatory': 6972, 'prawle': 6973, 'µguru': 6974, 'feather': 6975, 'regroup': 6976, 'badat': 6977, 'mbla': 6978, 'goldberg': 6979, 'abel': 6980, 'aftermath': 6981, 'arrangement': 6982, 'bellsouth': 6983, 'canfor': 6984, 'dependence': 6985, 'intermeete': 6986, 'mammoth': 6987, 'oilman': 6988, 'slocan': 6989, 'solte': 6990, 'steelworker': 6991, 'wilkie': 6992, 'shareholder': 6993, 'alarming': 6994, 'zulfiqar': 6995, 'prob': 6996, 'mitch': 6997, 'multiyear': 6998, 'mirant': 6999, 'written': 7000, 'bellmore': 7001, 'mepham': 7002, 'greek': 7003, 'orthodox': 7004, 'roar': 7005, 'ally': 7006, 'inate': 7007, 'mofaz': 7008, 'shaul': 7009, 'hortfall': 7010, 'bolten': 7011, 'counterterrori': 7012, 'gillian': 7013, 'kent': 7014, 'baltic': 7015, 'notoriou': 7016, 'tartup': 7017, 'taffer': 7018, 'esrx': 7019, 'script': 7020, 'nonbinding': 7021, 'olicitor': 7022, 'tination': 7023, 'librarian': 7024, 'tainted': 7025, 'guerilla': 7026, 'overthrow': 7027, 'barowitz': 7028, 'cumulative': 7029, 'momentou': 7030, 'egypt': 7031, 'mongolia': 7032, 'tuni': 7033, 'unpublicized': 7034, 'dyke': 7035, 'conn': 7036, 'caucu': 7037, 'mouth': 7038, 'baranow': 7039, 'souza': 7040, 'divert': 7041, 'realize': 7042, 'cranky': 7043, 'confirmation': 7044, 'ewell': 7045, 'pinoff': 7046, 'pring': 7047, 'drowning': 7048, 'manner': 7049, 'foren': 7050, 'wreckage': 7051, 'gunn': 7052, 'wagner': 7053, 'wolford': 7054, 'mole': 7055, 'myron': 7056, 'echostar': 7057, 'treatie': 7058, 'behead': 7059, 'kirkintilloch': 7060, 'vietnow': 7061, 'trapdoor': 7062, 'veritas': 7063, 'troyed': 7064, 'quip': 7065, 'tman': 7066, 'ballooni': 7067, 'partway': 7068, 'berth': 7069, 'fidel': 7070, 'overthrew': 7071, 'meddling': 7072, 'alike': 7073, 'reap': 7074, 'raft': 7075, 'sander': 7076, 'culmination': 7077, 'garton': 7078, 'requirement': 7079, 'dave': 7080, 'floyd': 7081, 'mccrackin': 7082, 'superintendent': 7083, 'érable': 7084, 'technically': 7085, 'favorable': 7086, 'effor': 7087, 'vaccinate': 7088, 'midpoint': 7089, 'uzbeki': 7090, 'dart': 7091, 'holloway': 7092, 'dire': 7093, 'keptici': 7094, 'phyxiating': 7095, 'citrano': 7096, 'whenu': 7097, 'levant': 7098, 'leaflet': 7099, 'unwittingly': 7100, 'bounce': 7101, 'articular': 7102, 'embattle': 7103, 'newmarket': 7104, 'akin': 7105, 'vazzi': 7106, 'pepper': 7107, 'exact': 7108, 'tenn': 7109, 'loyalty': 7110, 'turbe': 7111, 'creep': 7112, 'schoof': 7113, 'wapping': 7114, 'cautiou': 7115, 'leap': 7116, 'menu': 7117, 'bleak': 7118, 'interrupt': 7119, 'lical': 7120, 'mccann': 7121, 'hayle': 7122, 'delight': 7123, 'nicola': 7124, 'sarkozy': 7125, 'unruly': 7126, 'finali': 7127, 'pelling': 7128, 'retired': 7129, 'buchare': 7130, 'columni': 7131, 'crane': 7132, 'hazardou': 7133, 'radioactive': 7134, 'uming': 7135, 'appetizer': 7136, 'devour': 7137, 'entree': 7138, 'trumbull': 7139, 'yeate': 7140, 'penin': 7141, 'dealing': 7142, 'crap': 7143, 'dandani': 7144, 'downfall': 7145, 'grie': 7146, 'knee': 7147, 'rhode': 7148, 'riyadh': 7149, 'thinly': 7150, 'veiled': 7151, 'nima': 7152, 'oftly': 7153, 'memorie': 7154, 'urrected': 7155, 'hybrid': 7156, 'eurex': 7157, 'everybody': 7158, 'warrantie': 7159, 'cancn': 7160, 'leeward': 7161, 'ignage': 7162, 'lebo': 7163, 'mitzna': 7164, 'ophir': 7165, 'niigata': 7166, 'berk': 7167, 'hathaway': 7168, 'attraction': 7169, 'stockwell': 7170, 'intern': 7171, 'notion': 7172, 'pecification': 7173, 'shumaker': 7174, 'bloodie': 7175, 'genome': 7176, 'mere': 7177, 'ciencemag': 7178, 'errate': 7179, 'hiram': 7180, 'goer': 7181, 'dynamite': 7182, 'roadblock': 7183, 'rickety': 7184, 'chairwoman': 7185, 'beta': 7186, 'proliant': 7187, 'velcade': 7188, 'roadmap': 7189, 'electronically': 7190, 'sunw': 7191, 'tirring': 7192, 'upmarket': 7193, 'telegram': 7194, 'wheel': 7195, 'hellfire': 7196, 'titche': 7197, 'erratically': 7198, 'outhward': 7199, 'kyeong': 7200, 'brocade': 7201, 'agitate': 7202, 'congregant': 7203, 'kirkwood': 7204, 'alibozek': 7205, 'ridiculou': 7206, 'nationalitie': 7207, 'alignment': 7208, 'jodie': 7209, 'bernadette': 7210, 'hair': 7211, 'newcomer': 7212, 'hotbed': 7213, 'andree': 7214, 'piral': 7215, 'surface': 7216, 'precede': 7217, 'adaptable': 7218, 'armament': 7219, 'chaplain': 7220, 'grown': 7221, 'invoice': 7222, 'phony': 7223, 'crui': 7224, 'symptom': 7225, 'valley': 7226, 'optimal': 7227, 'chretien': 7228, 'bloom': 7229, 'prevalent': 7230, 'storage': 7231, 'exaggerate': 7232, 'johanne': 7233, 'podium': 7234, 'takeaway': 7235, 'gonzale': 7236, 'mayan': 7237, 'saul': 7238, 'erting': 7239, 'mutiny': 7240, 'manife': 7241, 'compatible': 7242, 'cybera': 7243, 'barrack': 7244, 'caron': 7245, 'calmly': 7246, 'argyle': 7247, 'driveway': 7248, 'powerbook': 7249, 'eliminate': 7250, 'rear': 7251, 'legali': 7252, 'directory': 7253, 'naming': 7254, 'cube': 7255, 'metadata': 7256, 'razali': 7257, 'brainwa': 7258, 'incapable': 7259, 'ecrecy': 7260, 'connected': 7261, 'waterman': 7262, 'richmond': 7263, 'tave': 7264, 'bilateral': 7265, 'unique': 7266, 'exotic': 7267, 'kopf': 7268, 'overflow': 7269, 'purport': 7270, 'detective': 7271, 'pitke': 7272, 'mockery': 7273, 'parody': 7274, 'rituxan': 7275, 'spend': 7276, 'urie': 7277, 'baht': 7278, 'angel': 7279, 'antonio': 7280, 'confidential': 7281, 'enrich': 7282, 'heighten': 7283, 'joey': 7284, 'lozano': 7285, 'melena': 7286, 'narci': 7287, 'nations': 7288, 'nited': 7289, 'referee': 7290, 'tarrant': 7291, 'timeout': 7292, 'undocumented': 7293, 'chronicler': 7294, 'midway': 7295, 'nafta': 7296, 'procedural': 7297, 'bergen': 7298, 'madigan': 7299, 'tightening': 7300, 'trend': 7301, 'fumigation': 7302, 'denver': 7303, 'nottingham': 7304, 'indianapoli': 7305, 'loft': 7306, 'domeq': 7307, 'soldier': 7308, 'remedy': 7309, 'malaysia': 7310, 'unreliable': 7311, 'grain': 7312, 'cocoa': 7313, 'taunch': 7314, 'microchip': 7315, 'plunge': 7316, 'fiery': 7317, 'koufa': 7318, 'allot': 7319, 'thunderou': 7320, 'minimize': 7321, 'montefiore': 7322, 'neuro': 7323, 'pediatric': 7324, 'beautie': 7325, 'legendary': 7326, 'tamayo': 7327, 'brandi': 7328, 'baylor': 7329, 'bordelon': 7330, 'umphrey': 7331, 'arranged': 7332, 'kanawha': 7333, 'nichola': 7334, 'earnhardt': 7335, 'verde': 7336, 'callahan': 7337, 'rena': 7338, 'cmcsa': 7339, 'monzon': 7340, 'whopping': 7341, 'laughtere': 7342, 'idered': 7343, 'dominion': 7344, 'defining': 7345, 'tudied': 7346, 'troke': 7347, 'hopkinton': 7348, 'kell': 7349, 'oaklyn': 7350, 'volatility': 7351, 'embed': 7352, 'athough': 7353, 'haired': 7354, 'undereducate': 7355, 'twickenham': 7356, 'reception': 7357, 'troff': 7358, 'diamondback': 7359, 'tole': 7360, 'belief': 7361, 'cement': 7362, 'germinate': 7363, 'panacea': 7364, 'hepburn': 7365, 'itting': 7366, 'bair': 7367, 'formal': 7368, 'hugo': 7369, 'weaving': 7370, 'fiduciary': 7371, 'chipmaker': 7372, 'quatte': 7373, 'kenilworth': 7374, 'obriety': 7375, 'particularly': 7376, 'bran': 7377, 'trategie': 7378, 'daunt': 7379, 'dmitriyeva': 7380, 'yekaterina': 7381, 'comfort': 7382, 'spoke': 7383, 'frederick': 7384, 'motz': 7385, 'teal': 7386, 'ultry': 7387, 'ayatollah': 7388, 'boynton': 7389, 'tega': 7390, 'eveni': 7391, 'president': 7392, 'yoweri': 7393, 'irregularitie': 7394, 'edown': 7395, 'wherea': 7396, 'troll': 7397, 'legged': 7398, 'granada': 7399, 'limme': 7400, 'harman': 7401, 'jetblue': 7402, 'mercury': 7403, 'quarterlie': 7404, 'ually': 7405, 'weber': 7406, 'fold': 7407, 'darl': 7408, 'mcbride': 7409, 'lieu': 7410, 'workaround': 7411, 'zimmer': 7412, 'reimportation': 7413, 'curtail': 7414, 'amygdala': 7415, 'unfamiliar': 7416, 'elimination': 7417, 'carnegie': 7418, 'piano': 7419, 'tomin': 7420, 'mcinto': 7421, 'baltimore': 7422, 'handed': 7423, 'pitcher': 7424, 'deck': 7425, 'reallocation': 7426, 'kilometer': 7427, 'thumb': 7428, 'promotional': 7429, 'venango': 7430, 'babylon': 7431, 'suffolk': 7432, 'tume': 7433, 'stabilization': 7434, 'timeframe': 7435, 'inoperative': 7436, 'atorva': 7437, 'tatin': 7438, 'judgement': 7439, 'railway': 7440, 'urgency': 7441, 'ticket': 7442, 'acke': 7443, 'gsppapr': 7444, 'mobili': 7445, 'caffeinate': 7446, 'apologi': 7447, 'uncertain': 7448, 'bcooperkc': 7449, 'cooper': 7450, 'subway': 7451, 'clau': 7452, 'maintenance': 7453, 'fargo': 7454, 'neil': 7455, 'pair': 7456, 'quicken': 7457, 'saemaeul': 7458, 'adsl': 7459, 'abductor': 7460, 'branden': 7461, 'fame': 7462, 'haken': 7463, 'story': 7464, 'ummon': 7465, 'lieut': 7466, 'barbey': 7467, 'neverthele': 7468, 'muliff': 7469, 'alvage': 7470, 'dhwg': 7471, 'purge': 7472, 'bethany': 7473, 'chequered': 7474, 'preferably': 7475, 'downloadable': 7476, 'separate': 7477, 'enli': 7478, 'cardholder': 7479, 'clock': 7480, 'apprehen': 7481, 'logan': 7482, 'remini': 7483, 'doctoring': 7484, 'secureconver': 7485, 'zeller': 7486, 'overturn': 7487, 'hambali': 7488, 'decorative': 7489, 'edmonton': 7490, 'mclellan': 7491, 'meditate': 7492, 'indefinite': 7493, 'rowell': 7494, 'afula': 7495, 'akamai': 7496, 'etoy': 7497, 'powerhou': 7498, 'dantonio': 7499, 'somerville': 7500, 'teadfa': 7501, 'gloria': 7502, 'whoende': 7503, 'monologue': 7504, 'fairly': 7505, 'brokenhearted': 7506, 'lamb': 7507, 'nuremberg': 7508, 'wheelhou': 7509, 'thrill': 7510, 'manouchehr': 7511, 'nationalize': 7512, 'studie': 7513, 'takin': 7514, 'dice': 7515, 'fatally': 7516, 'collection': 7517, 'equitie': 7518, 'tracinda': 7519, 'boxer': 7520, 'rogge': 7521, 'tantrum': 7522, 'reeker': 7523, 'haemochromato': 7524, 'caramore': 7525, 'barrena': 7526, 'datamonitor': 7527, 'petty': 7528, 'inging': 7529, 'ethernet': 7530, 'gigabit': 7531, 'witch': 7532, 'breakfa': 7533, 'finale': 7534, 'sergeant': 7535, 'deplete': 7536, 'franken': 7537, 'heathrow': 7538, 'syria': 7539, 'camping': 7540, 'spam': 7541, 'uddenly': 7542, 'dwight': 7543, 'explicitly': 7544, 'diebold': 7545, 'atlanti': 7546, 'decimate': 7547, 'galileo': 7548, 'preading': 7549, 'commitee': 7550, 'defiant': 7551, 'ubmi': 7552, 'rallying': 7553, 'takbir': 7554, 'broadly': 7555, 'expedite': 7556, 'tuner': 7557, 'cribed': 7558, 'furniture': 7559, 'homeware': 7560, 'flooded': 7561, 'tring': 7562, 'conjoin': 7563, 'fallback': 7564, 'complacency': 7565, 'truly': 7566, 'onally': 7567, 'dodi': 7568, 'fayed': 7569, 'wale': 7570, 'lifeline': 7571, 'madden': 7572, 'okay': 7573, 'hainan': 7574, 'effu': 7575, 'roommate': 7576, 'steel': 7577, 'mattei': 7578, 'eichorn': 7579, 'lodge': 7580, 'timber': 7581, 'flexibility': 7582, 'managing': 7583, 'iege': 7584, 'short': 7585, 'thwart': 7586, 'harp': 7587, 'dawn': 7588, 'haring': 7589, 'moderni': 7590, 'cattleman': 7591, 'duvall': 7592, 'urely': 7593, 'ghunterdetnew': 7594, 'forcibly': 7595, 'incorporate': 7596, 'jiménez': 7597, 'carrie': 7598, 'divulge': 7599, 'grocer': 7600, 'enhower': 7601, 'loyald': 7602, 'schaichat': 7603, 'brandon': 7604, 'formby': 7605, 'beck': 7606, 'omehow': 7607, 'mana': 7608, 'dirani': 7609, 'obeid': 7610, 'elling': 7611, 'correction': 7612, 'ychotic': 7613, 'megabyte': 7614, 'bluntly': 7615, 'unequivocally': 7616, 'upplemente': 7617, 'frankly': 7618, 'onward': 7619, 'rolling': 7620, 'stoke': 7621, 'automotive': 7622, 'batterie': 7623, 'boca': 7624, 'ding': 7625, 'ditch': 7626, 'dong': 7627, 'doorbell': 7628, 'drain': 7629, 'drewe': 7630, 'hebert': 7631, 'raton': 7632, 'wallet': 7633, 'woodbury': 7634, 'intro': 7635, 'irreverent': 7636, 'witty': 7637, 'tello': 7638, 'urer': 7639, 'hamburger': 7640, 'compa': 7641, 'ture': 7642, 'uncharacteri': 7643, 'martialle': 7644, 'fiancee': 7645, 'munition': 7646, 'lamiah': 7647, 'forfeiture': 7648, 'allred': 7649, 'frey': 7650, 'booher': 7651, 'ragin': 7652, 'trangling': 7653, 'genetici': 7654, 'flounder': 7655, 'tpac': 7656, 'zealand': 7657, 'beache': 7658, 'wimme': 7659, 'fearful': 7660, 'hutte': 7661, 'recogni': 7662, 'recour': 7663, 'pepperoni': 7664, 'cemetery': 7665, 'sonoma': 7666, 'amplifier': 7667, 'belonging': 7668, 'bluecore': 7669, 'caller': 7670, 'debilitate': 7671, 'georgetown': 7672, 'hatfill': 7673, 'lfbga': 7674, 'multimedia': 7675, 'multimillion': 7676, 'tail': 7677, 'xolair': 7678, 'interpretation': 7679, 'grubb': 7680, 'shannon': 7681, 'andinfineon': 7682, 'dayannounce': 7683, 'ibmof': 7684, 'willon': 7685, 'bullock': 7686, 'contra': 7687, 'uper': 7688, 'confide': 7689, 'boudin': 7690, 'depiction': 7691, 'plintere': 7692, 'spengler': 7693, 'counteract': 7694, 'junk': 7695, 'pinch': 7696, 'champagne': 7697, 'antti': 7698, 'finni': 7699, 'kalliomaki': 7700, 'midyear': 7701, 'comedie': 7702, 'darien': 7703, 'devon': 7704, 'carolyn': 7705, 'grove': 7706, 'recorder': 7707, 'applicant': 7708, 'competence': 7709, 'nitpick': 7710, 'molecular': 7711, 'geek': 7712, 'harpe': 7713, 'sorbello': 7714, 'weatherall': 7715, 'breaux': 7716, 'envi': 7717, 'urfaced': 7718, 'kethley': 7719, 'orry': 7720, 'comey': 7721, 'enbaum': 7722, 'retry': 7723, 'daunting': 7724, 'luck': 7725, 'reality': 7726, 'guide': 7727, 'kibblewhite': 7728, 'taupo': 7729, 'tramping': 7730, 'nextel': 7731, 'deferring': 7732, 'lind': 7733, 'smart': 7734, 'headquart': 7735, 'milpita': 7736, 'socorro': 7737, 'teroid': 7738, 'bodily': 7739, 'concerned': 7740, 'perfection': 7741, 'redrawn': 7742, 'entice': 7743, 'collin': 7744, 'tenth': 7745, 'carf': 7746, 'neutrality': 7747, 'markovitz': 7748, 'ociating': 7749, 'compute': 7750, 'coordination': 7751, 'muggling': 7752, 'germ': 7753, 'quirt': 7754, 'rhinoviru': 7755, 'smartphone': 7756, 'fixe': 7757, 'landmark': 7758, 'erez': 7759, 'longrun': 7760, 'directband': 7761, 'recreation': 7762, 'spruce': 7763, 'hallow': 7764, 'barbini': 7765, 'ceyhan': 7766, 'habalala': 7767, 'imang': 7768, 'manto': 7769, 'retroviral': 7770, 'rollout': 7771, 'fleming': 7772, 'doubtful': 7773, 'nowitzki': 7774, 'doorway': 7775, 'warwick': 7776, 'kimberly': 7777, 'stelly': 7778, 'cata': 7779, 'preventive': 7780, 'trophic': 7781, 'touche': 7782, 'marlin': 7783, 'younge': 7784, 'guidant': 7785, 'plummet': 7786, 'mcnair': 7787, 'chin': 7788, 'denny': 7789, 'factually': 7790, 'silve': 7791, 'stack': 7792, 'triumph': 7793, 'polychronopoulo': 7794, 'interference': 7795, 'athon': 7796, 'colymbo': 7797, 'ecplectico': 7798, 'peni': 7799, 'tounding': 7800, 'wimmer': 7801, 'lott': 7802, 'kyrocket': 7803, 'viral': 7804, 'atrocitie': 7805, 'grote': 7806, 'wyden': 7807, 'hazard': 7808, 'huddle': 7809, 'harborma': 7810, 'lighthou': 7811, 'monomoy': 7812, 'ranger': 7813, 'tilitie': 7814, 'gore': 7815, 'patriot': 7816, 'amortization': 7817, 'addene': 7818, 'cmdr': 7819, 'gibbon': 7820, 'cardiova': 7821, 'cular': 7822, 'owen': 7823, 'corrective': 7824, 'kenyan': 7825, 'thoracic': 7826, 'cowell': 7827, 'cupid': 7828, 'daniela': 7829, 'hantuchova': 7830, 'orderly': 7831, 'eurchf': 7832, 'outgoing': 7833, 'launche': 7834, 'legit': 7835, 'butter': 7836, 'tfood': 7837, 'unilever': 7838, 'brookdale': 7839, 'infectant': 7840, 'immunology': 7841, 'ethanol': 7842, 'refuge': 7843, 'toric': 7844, 'clubhou': 7845, 'unabomber': 7846, 'simp': 7847, 'epizootic': 7848, 'helm': 7849, 'pope': 7850, 'guild': 7851, 'recalled': 7852, 'albatro': 7853, 'faithful': 7854, 'kempenaer': 7855, 'mate': 7856, 'notably': 7857, 'unfaithful': 7858, 'bunker': 7859, 'mortar': 7860, 'propel': 7861, 'abdul': 7862, 'haji': 7863, 'jalaludin': 7864, 'khidr': 7865, 'mading': 7866, 'thiming': 7867, 'faruq': 7868, 'omar': 7869, 'dila': 7870, 'random': 7871, 'botuli': 7872, 'hemorrhagic': 7873, 'plague': 7874, 'therapeutic': 7875, 'tularemia': 7876, 'ninety': 7877, 'tomach': 7878, 'reliance': 7879, 'bravo': 7880, 'cnbc': 7881, 'merge': 7882, 'belgium': 7883, 'gaine': 7884, 'msnbc': 7885, 'ripple': 7886, 'drams': 7887, 'rallie': 7888, 'upbeat': 7889, 'mattel': 7890, 'ifpi': 7891, 'undercover': 7892, 'criminologi': 7893, 'healey': 7894, 'eminal': 7895, 'computerized': 7896, 'derrick': 7897, 'lozada': 7898, 'sanchez': 7899, 'brick': 7900, 'upper': 7901, 'tyrer': 7902, 'bahrain': 7903, 'yemen': 7904, 'environmentali': 7905, 'micco': 7906, 'ukee': 7907, 'impa': 7908, 'rhetoric': 7909, 'render': 7910, 'pyongyang': 7911, 'caravan': 7912, 'devore': 7913, 'cloudbur': 7914, 'ethical': 7915, 'ynonymou': 7916, 'bull': 7917, 'kerr': 7918, 'lloyd': 7919, 'bladder': 7920, 'mcclo': 7921, 'peeche': 7922, 'groundout': 7923, 'noveli': 7924, 'tairca': 7925, 'bijani': 7926, 'dadollah': 7927, 'fuck': 7928, 'grinning': 7929, 'itanium': 7930, 'mysql': 7931, 'tarvation': 7932, 'cohn': 7933, 'dmca': 7934, 'leeway': 7935, 'frantically': 7936, 'hallway': 7937, 'eventual': 7938, 'rocky': 7939, 'commercialize': 7940, 'groundbreaking': 7941, 'productivity': 7942, 'payable': 7943, 'beth': 7944, 'idence': 7945, 'borrow': 7946, 'orville': 7947, 'phalt': 7948, 'tinker': 7949, 'wright': 7950, 'premarket': 7951, 'tingui': 7952, 'wold': 7953, 'debacle': 7954, 'aert': 7955, 'citation': 7956, 'commodity': 7957, 'inaccurate': 7958, 'robber': 7959, 'ronnie': 7960, 'blackberry': 7961, 'wheat': 7962, 'anecdotal': 7963, 'billy': 7964, 'engro': 7965, 'hodge': 7966, 'sell': 7967, 'ymbolically': 7968, 'ebber': 7969, 'exonerate': 7970, 'weingarten': 7971, 'atari': 7972, 'infograme': 7973, 'detailed': 7974, 'fluor': 7975, 'cavitie': 7976, 'patricia': 7977, 'fork': 7978, 'turnover': 7979, 'uniformly': 7980, 'chaudhry': 7981, 'fiji': 7982, 'indigenou': 7983, 'itar': 7984, 'avalanche': 7985, 'britz': 7986, 'kinney': 7987, 'emergence': 7988, 'celnik': 7989, 'strier': 7990, 'fjord': 7991, 'geophy': 7992, 'pour': 7993, 'ticketma': 7994, 'chogm': 7995, 'rejoin': 7996, 'whirlwind': 7997, 'derailment': 7998, 'biogen': 7999, 'idec': 8000, 'dropping': 8001, 'eave': 8002, 'carpenter': 8003, 'hyne': 8004, 'lerach': 8005, 'milberg': 8006, 'methodi': 8007, 'glory': 8008, 'whammy': 8009, 'tabloid': 8010, 'boulder': 8011, 'moldering': 8012, 'outbuilding': 8013, 'commentator': 8014, 'ahold': 8015, 'amateur': 8016, 'virada': 8017, 'incriminating': 8018, 'rendition': 8019, 'bugtraq': 8020, 'ptrace': 8021, 'priority': 8022, 'chicken': 8023, 'garlic': 8024, 'hredde': 8025, 'kung': 8026, 'salix': 8027, 'privacy': 8028, 'purcell': 8029, 'fixture': 8030, 'ulation': 8031, 'clete': 8032, 'herbert': 8033, 'tyrone': 8034, 'guyane': 8035, 'drunk': 8036, 'relocate': 8037, 'exhibitor': 8038, 'heik': 8039, 'athlon': 8040, 'natively': 8041, 'opteron': 8042, 'impediment': 8043, 'qawa': 8044, 'brake': 8045, 'butt': 8046, 'bulger': 8047, 'wanted': 8048, 'whitey': 8049, 'humphrie': 8050, 'footnote': 8051, 'rioter': 8052, 'kernan': 8053, 'oath': 8054, 'tempore': 8055, 'ajuro': 8056, 'shiokawa': 8057, 'copalian': 8058, 'pattie': 8059, 'admin': 8060, 'gregory': 8061, 'convert': 8062, 'rian': 8063, 'wathen': 8064, 'gillard': 8065, 'julia': 8066, 'urveillance': 8067, 'lefforge': 8068, 'spinboldak': 8069, 'prava': 8070, 'wcoeq': 8071, 'education': 8072, 'statu': 8073, 'nyathi': 8074, 'themba': 8075, 'barbour': 8076, 'brutal': 8077, 'dark': 8078, 'geneva': 8079, 'giovanni': 8080, 'ignani': 8081, 'gelber': 8082, 'luna': 8083, 'reunite': 8084, 'ender': 8085, 'incidence': 8086, 'bodybuilder': 8087, 'http': 8088, 'mokinggun': 8089, 'prowe': 8090, 'reprint': 8091, 'fetter': 8092, 'trevor': 8093, 'chan': 8094, 'inquirie': 8095, 'romanow': 8096, 'anticipated': 8097, 'materialize': 8098, 'rivet': 8099, 'alien': 8100, 'ideology': 8101, 'propaganda': 8102, 'tantially': 8103, 'terrance': 8104, 'sequent': 8105, 'terminate': 8106, 'mizoguchi': 8107, 'zembei': 8108, 'mcdevitt': 8109, 'overtake': 8110, 'juli': 8111, 'niemann': 8112, 'bauer': 8113, 'eddie': 8114, 'erick': 8115, 'bavelier': 8116, 'homework': 8117, 'qurei': 8118, 'gilroy': 8119, 'brando': 8120, 'somebody': 8121, 'barra': 8122, 'fred': 8123, 'reid': 8124, 'mouse': 8125, 'wizard': 8126, 'penni': 8127, 'commence': 8128, 'infidelity': 8129, 'recount': 8130, 'goin': 8131, 'rotorua': 8132, 'linear': 8133, 'barrett': 8134, 'lifetime': 8135, 'centcom': 8136, 'haggle': 8137, 'volunteer': 8138, 'gape': 8139, 'ioni': 8140, 'upporting': 8141, 'kilo': 8142, 'powermizer': 8143, 'parvin': 8144, 'hootaround': 8145, 'shortly': 8146, 'hemenway': 8147, 'nontraditional': 8148, 'weave': 8149, 'ubpoenaed': 8150, 'unarmed': 8151, 'itate': 8152, 'olympia': 8153, 'snowe': 8154, 'redwood': 8155, 'wbal': 8156, 'moine': 8157, 'idewalk': 8158, 'condo': 8159, 'emotional': 8160, 'kirmi': 8161, 'iwar': 8162, 'ingra': 8163, 'trejo': 8164, 'buymu': 8165, 'margarine': 8166, 'herr': 8167, 'bather': 8168, 'cilla': 8169, 'drew': 8170, 'everett': 8171, 'hemphill': 8172, 'predece': 8173, 'sequoia': 8174, 'confidant': 8175, 'crowe': 8176, 'ellett': 8177, 'originate': 8178, 'concrete': 8179, 'ordinance': 8180, 'quarely': 8181, 'portray': 8182, 'alarm': 8183, 'beirut': 8184, 'hurley': 8185, 'campground': 8186, 'facto': 8187, 'mont': 8188, 'bludgeon': 8189, 'tairwell': 8190, 'infamou': 8191, 'oceanfront': 8192, 'loop': 8193, 'commerciali': 8194, 'tipograph': 8195, 'interactivecorp': 8196, 'jarman': 8197, 'appropriation': 8198, 'antwerp': 8199, 'planning': 8200, 'beige': 8201, 'chertoff': 8202, 'fijian': 8203, 'raymond': 8204, 'commonwealth': 8205, 'hightechnology': 8206, 'loyal': 8207, 'trophy': 8208, 'packet': 8209, 'vacant': 8210, 'etch': 8211, 'civility': 8212, 'pravachol': 8213, 'berryhill': 8214, 'mold': 8215, 'thibault': 8216, 'printed': 8217, 'booking': 8218, 'affront': 8219, 'morrell': 8220, 'policing': 8221, 'rolfe': 8222, 'wlan': 8223, 'qureia': 8224, 'houldnt': 8225, 'fearon': 8226}\n"
     ]
    }
   ],
   "source": [
    "print('cleaning data...')\n",
    "data_words_clean, mapped = clean_procedure(all_sentences)\n",
    "# Create Dictionary\n",
    "dictionary = corpora.Dictionary(data_words_clean)\n",
    "# Print dictionary\n",
    "print(dictionary.token2id)\n",
    "\n",
    "## Create Term document frequency (corpus)\n",
    "# Term Document Frequency\n",
    "corpus = [dictionary.doc2bow(text) for text in data_words_clean]"
   ]
  },
  {
   "cell_type": "code",
   "execution_count": 28,
   "metadata": {
    "executionInfo": {
     "elapsed": 406,
     "status": "ok",
     "timestamp": 1660500630425,
     "user": {
      "displayName": "Ilan Alex Golik",
      "userId": "15856695005902315184"
     },
     "user_tz": -180
    },
    "id": "3-sugQ0EAyp4"
   },
   "outputs": [],
   "source": [
    "class LDA_Wrapper_Topics_Distributions_Gensim:\n",
    "    def __init__(self, random_seed, data_words_clean, map_for_train, corpus, dictionary, n_components=10):\n",
    "      self.seed = random_seed\n",
    "      self.map_for_train=map_for_train\n",
    "      self.data_words_clean = data_words_clean\n",
    "      self.corpus = corpus\n",
    "      self.dictionary = dictionary\n",
    "      self.n_components = n_components\n",
    "      self.ldamodel = gensim.models.ldamodel.LdaModel(corpus=corpus,\n",
    "                                           id2word=dictionary,\n",
    "                                           num_topics=self.n_components, \n",
    "                                           passes=15,\n",
    "                                           alpha='auto',\n",
    "                                           random_state=random_seed,\n",
    "                                           minimum_probability = 0.00000001)\n",
    "\n",
    "      # Saving trained model\n",
    "      self.ldamodel.save(f'results/LDA_{self.n_components}')\n",
    "      # Loading trained model\n",
    "      self.ldamodel = gensim.models.ldamodel.LdaModel.load(f'results/LDA_{self.n_components}')\n",
    "      self.max_len = n_components\n",
    "      self.log_lines = []\n",
    "      self.print=self.__print_log__\n",
    "\n",
    "    def __print_log__(self, x):\n",
    "      pass\n",
    "\n",
    "    def topic_distribution_by_topic_order(self, string_input):\n",
    "      # Fit and transform\n",
    "      bow = self.ldamodel.id2word.doc2bow(string_input) # convert to bag of words format first\n",
    "\n",
    "      doc_topics, word_topics, phi_values = self.ldamodel.get_document_topics(bow, per_word_topics=True)\n",
    "\n",
    "      output = [topic[1] for topic in doc_topics]    \n",
    "      return output\n",
    "\n",
    "    def transform(self, sentences):\n",
    "      p = []\n",
    "      for sentence in sentences:\n",
    "        clean_sentence = self.map_for_train[sentence]\n",
    "\n",
    "        dists = self.topic_distribution_by_topic_order(clean_sentence)\n",
    "        p.append(dists)\n",
    "\n",
    "      self.print(\"in transform\")\n",
    "      return torch.tensor(p).type(torch.FloatTensor);\n",
    "\n",
    "    def transform_cleaned(self, sentences):\n",
    "      p = []\n",
    "      for clean_sentence in sentences:\n",
    "        dists = self.topic_distribution_by_topic_order(clean_sentence)\n",
    "        p.append(dists)\n",
    "      self.print(\"in transform\")\n",
    "      return torch.tensor(p).type(torch.FloatTensor);\n",
    "\n",
    "    def evaluate_model(self):\n",
    "      # Compute Perplexity Score\n",
    "      print('nPerplexity Score: ', self.ldamodel.log_perplexity(self.corpus))\n",
    "\n",
    "      # Compute Coherence Score\n",
    "      coherence_model_lda = gensim.models.CoherenceModel(model=self.ldamodel, texts=self.data_words_clean, dictionary=self.dictionary, coherence='c_v')\n",
    "      coherence_lda = coherence_model_lda.get_coherence()\n",
    "      print('nCoherence Score: ', coherence_lda)"
   ]
  },
  {
   "cell_type": "code",
   "execution_count": 29,
   "metadata": {
    "colab": {
     "base_uri": "https://localhost:8080/"
    },
    "executionInfo": {
     "elapsed": 238096,
     "status": "ok",
     "timestamp": 1660500868518,
     "user": {
      "displayName": "Ilan Alex Golik",
      "userId": "15856695005902315184"
     },
     "user_tz": -180
    },
    "id": "MY9MS0b_C5L_",
    "outputId": "cb91433b-b4db-4258-8cc0-ee226c03fb5f"
   },
   "outputs": [
    {
     "name": "stdout",
     "output_type": "stream",
     "text": [
      "ceating topic generators\n",
      "nPerplexity Score:  -8.433320587498988\n",
      "nCoherence Score:  0.5462631943650254\n",
      "ceated topic generator for 70 topics\n",
      "nPerplexity Score:  -8.474606601630866\n",
      "nCoherence Score:  0.5434750490054747\n",
      "ceated topic generator for 75 topics\n",
      "nPerplexity Score:  -8.486849227990447\n",
      "nCoherence Score:  0.540990374904409\n",
      "ceated topic generator for 80 topics\n",
      "nPerplexity Score:  -15.727235476731805\n",
      "nCoherence Score:  0.5487113039224787\n",
      "ceated topic generator for 85 topics\n",
      "nPerplexity Score:  -16.20160205077192\n",
      "nCoherence Score:  0.5537050093545848\n",
      "ceated topic generator for 90 topics\n"
     ]
    }
   ],
   "source": [
    "topics_dict_gensim = dict()\n",
    "print(f'ceating topic generators')\n",
    "# n_topics\n",
    "for n in [70,75,80,85,90]:\n",
    "  set_seed(SEED)\n",
    "  topics_dict_gensim[n] = LDA_Wrapper_Topics_Distributions_Gensim(T_SEED, data_words_clean, mapped, corpus, dictionary, n_components=n)\n",
    "  topics_dict_gensim[n].evaluate_model()\n",
    "  print(f'ceated topic generator for {n} topics')"
   ]
  },
  {
   "cell_type": "code",
   "execution_count": 30,
   "metadata": {
    "executionInfo": {
     "elapsed": 14,
     "status": "ok",
     "timestamp": 1660500868519,
     "user": {
      "displayName": "Ilan Alex Golik",
      "userId": "15856695005902315184"
     },
     "user_tz": -180
    },
    "id": "rEZmSDRVI-E_"
   },
   "outputs": [],
   "source": [
    "topics_dict = topics_dict_gensim"
   ]
  },
  {
   "cell_type": "code",
   "execution_count": 31,
   "metadata": {
    "executionInfo": {
     "elapsed": 9,
     "status": "ok",
     "timestamp": 1660500868519,
     "user": {
      "displayName": "Ilan Alex Golik",
      "userId": "15856695005902315184"
     },
     "user_tz": -180
    },
    "id": "DWfd86BDNRRI"
   },
   "outputs": [],
   "source": [
    "BATCH_SIZE = 32"
   ]
  },
  {
   "cell_type": "code",
   "execution_count": 32,
   "metadata": {
    "executionInfo": {
     "elapsed": 406,
     "status": "ok",
     "timestamp": 1660500868918,
     "user": {
      "displayName": "Ilan Alex Golik",
      "userId": "15856695005902315184"
     },
     "user_tz": -180
    },
    "id": "gPZ3pKA8tj0P"
   },
   "outputs": [],
   "source": [
    "from transformers import AdamW\n",
    "class myTrainer():\n",
    "  def __init__(self,\n",
    "               model,\n",
    "               train_dataset, val_dataset,test_dataset,\n",
    "               batch_size,\n",
    "               epochs = 5, with_LDA = True, model_name = 'basemodel'):\n",
    "    \n",
    "    self.model = model\n",
    "    self.epochs = epochs\n",
    "    self.with_LDA = with_LDA\n",
    "    self.model_name = str(model_name)\n",
    "\n",
    "    weights_train = compute_class_weight(class_weight='balanced', classes= np.unique(train_dataset.labels), y=train_dataset.labels)\n",
    "    self.weights_train = torch.tensor(weights_train).type(torch.FloatTensor).cuda()\n",
    "    weights_val = compute_class_weight(class_weight='balanced', classes= np.unique(val_dataset.labels), y=val_dataset.labels)\n",
    "    self.weights_val = torch.tensor(weights_val).type(torch.FloatTensor).cuda()\n",
    "    weights_test = compute_class_weight(class_weight='balanced', classes= np.unique(test_dataset.labels), y=test_dataset.labels)\n",
    "    self.weights_test = torch.tensor(weights_test).type(torch.FloatTensor).cuda()\n",
    "\n",
    "    self.criterion = nn.BCELoss()\n",
    "    learningRate = 50 ** -5\n",
    "    self.optimizer = AdamW(self.model.parameters(), lr=learningRate)\n",
    "    self.train_dataloader = DataLoader(train_dataset, batch_size=batch_size, shuffle=False)\n",
    "    self.val_dataloader = DataLoader(val_dataset, batch_size=batch_size, shuffle=False)\n",
    "    self.test_dataloader = DataLoader(test_dataset, batch_size=batch_size, shuffle=False)\n",
    "\n",
    "    self.loss_train = []\n",
    "    self.loss_val = []\n",
    "\n",
    "  def calculate_loss(self, true_y, predicted_y):\n",
    "    label_tensor = true_y.type(torch.FloatTensor).unsqueeze(1).cuda()\n",
    "    loss = self.criterion(predicted_y, label_tensor)\n",
    "    return loss\n",
    "\n",
    "\n",
    "\n",
    "  def train(self):\n",
    "    min_valid_loss = np.inf\n",
    "    \n",
    "    # run on all epochs\n",
    "    print(self.model_name + ': Training \\t',end='')\n",
    "    print('\\n')\n",
    "    for epoch in range(self.epochs):\n",
    "      with tqdm(self.train_dataloader, unit=\"batch\", leave=False) as tepoch:\n",
    "        for data in tepoch:\n",
    "            tepoch.set_description(f\"Epoch {epoch+1} train step\")\n",
    "            if len(data)==3:\n",
    "              self.train_loss_pair(data)\n",
    "            else:\n",
    "              self.train_loss(data)\n",
    "\n",
    "      with tqdm(self.val_dataloader, unit=\"batch\", leave=False) as vepoch:\n",
    "        for data in vepoch:\n",
    "            vepoch.set_description(f\"Epoch {epoch+1} validation step\")\n",
    "            if len(data)==3:\n",
    "              self.val_loss_pair(data)\n",
    "            else:\n",
    "              self.val_loss(data)\n",
    "  \n",
    "\n",
    "      if min_valid_loss > self.loss_val[-1]:\n",
    "\n",
    "          min_valid_loss = self.loss_val[-1]\n",
    "          self.save_model()\n",
    "\n",
    "    self.load_model()      \n",
    "    \n",
    "\n",
    "  def train_loss(self,data):\n",
    "    inputs, labels = data\n",
    "\n",
    "    # Clear the gradients\n",
    "    self.optimizer.zero_grad()\n",
    "\n",
    "    # tokenizer\n",
    "    tokens_bert = self.model.tokenizing(inputs) \n",
    "    tokens_bert = tokens_bert.cuda()\n",
    "\n",
    "    # LDA\n",
    "    if self.with_LDA:\n",
    "\n",
    "      features_lda = self.model.model_lda.transform(inputs)\n",
    "      features_lda = features_lda.cuda()\n",
    "\n",
    "      target = self.model(tokens_bert,features_lda)\n",
    "    else:\n",
    "      target = self.model(tokens_bert)\n",
    "      \n",
    "\n",
    "    loss = self.calculate_loss(labels, target)\n",
    "    loss.backward()\n",
    "    self.optimizer.step()\n",
    "    train_loss = loss.item() * len(data)\n",
    "    self.loss_train.append(train_loss)\n",
    "\n",
    "\n",
    "  def train_loss_pair(self,data):\n",
    "    inputs1, inputs2, labels = data\n",
    "\n",
    "    # Clear the gradients\n",
    "    self.optimizer.zero_grad()\n",
    "\n",
    "    # tokenizer\n",
    "    tokens_bert = self.model.tokenizing_pair(inputs1,inputs2)\n",
    "    tokens_bert = tokens_bert.cuda()\n",
    "\n",
    "    # LDA\n",
    "    if self.with_LDA:\n",
    "      features_lda1 = self.model.model_lda.transform(inputs1)\n",
    "      features_lda2 = self.model.model_lda.transform(inputs2)\n",
    "      features_lda = torch.cat([features_lda1, features_lda2],dim=1)\n",
    "      features_lda = features_lda.cuda()\n",
    "      target = self.model(tokens_bert,features_lda)\n",
    "    else:\n",
    "      target = self.model(tokens_bert)\n",
    "    loss = self.calculate_loss(labels, target)\n",
    "    loss.backward()\n",
    "    self.optimizer.step()\n",
    "    train_loss = loss.item() * len(data)\n",
    "    self.loss_train.append(train_loss)\n",
    "\n",
    "\n",
    "  def val_loss(self,data):\n",
    "    # get the inputs; data is a list of [inputs, labels]\n",
    "    inputs, labels = data\n",
    "\n",
    "    tokens_bert = self.model.tokenizing(inputs) #self.model.tokenizer_bert.batch_encode_plus(inputs,return_tensors='pt',padding=True)['input_ids']\n",
    "    tokens_bert = tokens_bert.cuda()\n",
    "\n",
    "    # LDA\n",
    "    if self.with_LDA:\n",
    "\n",
    "      features_lda = self.model.model_lda.transform(inputs)\n",
    "      features_lda = features_lda.cuda()      \n",
    "      target = self.model(tokens_bert,features_lda)\n",
    "    else:\n",
    "      target = self.model(tokens_bert)\n",
    "    \n",
    "    # Find the Loss\n",
    "    loss = self.calculate_loss(labels, target)\n",
    "\n",
    "    # Calculate Loss\n",
    "    valid_loss = loss.item() * len(data)\n",
    "    self.loss_val.append(valid_loss)\n",
    "\n",
    "\n",
    "  def val_loss_pair(self,data):\n",
    "    inputs1, inputs2, labels = data\n",
    "\n",
    "    # tokenizer\n",
    "    tokens_bert = self.model.tokenizing_pair(inputs1,inputs2) \n",
    "    tokens_bert = tokens_bert.cuda()\n",
    "\n",
    "    # LDA\n",
    "    if self.with_LDA:\n",
    "      features_lda1 = self.model.model_lda.transform(inputs1)\n",
    "      features_lda2 = self.model.model_lda.transform(inputs2)\n",
    "      \n",
    "      features_lda = torch.cat([features_lda1, features_lda2],dim=1)\n",
    "      features_lda = features_lda.cuda()\n",
    "      target = self.model(tokens_bert,features_lda)\n",
    "    else:\n",
    "      target = self.model(tokens_bert)\n",
    "    \n",
    "    # Find the Loss\n",
    "    loss = self.calculate_loss(labels, target)\n",
    "\n",
    "    # Calculate Loss\n",
    "    valid_loss = loss.item() * len(data)\n",
    "    self.loss_val.append(valid_loss)\n",
    "\n",
    "\n",
    "  def predict(self):\n",
    "\n",
    "    # results\n",
    "    real_labels = []\n",
    "    predictions = []\n",
    "\n",
    "    self.model.eval()  \n",
    "    with torch.no_grad():\n",
    "      with tqdm(self.test_dataloader, unit=\"batch\") as test_step:\n",
    "        for b, data in enumerate(test_step):\n",
    "          test_step.set_description(f\"Batch {b+1} predict\")\n",
    "          inputs, labels = data\n",
    "          \n",
    "          # tokenizer\n",
    "          tokens_bert = self.model.tokenizing(inputs)\n",
    "          tokens_bert = tokens_bert.cuda()\n",
    "          \n",
    "          # LDA\n",
    "          if self.with_LDA:\n",
    "            inputs_cleaned, map = clean_procedure(inputs)\n",
    "            # tokens_lda = self.model.tokenizing(inputs)\n",
    "            features_lda = self.model.model_lda.transform_cleaned(inputs_cleaned)\n",
    "            features_lda = features_lda.cuda()\n",
    "            target = self.model(tokens_bert,features_lda)  \n",
    "          else:\n",
    "            target = self.model(tokens_bert)\n",
    "          # print(target)\n",
    "          target = target.round()\n",
    "        predictions.extend(target.cpu().detach()[:,0].tolist())\n",
    "        real_labels.extend(labels.tolist())\n",
    "    return real_labels,predictions\n",
    "\n",
    "\n",
    "  def predict_pair(self):\n",
    "\n",
    "    # results\n",
    "    real_labels = []\n",
    "    predictions = []\n",
    "    print(self.model_name + ': Testing \\t',end='')\n",
    "    print('\\n')\n",
    "    self.model.eval() \n",
    "    with torch.no_grad():\n",
    "      with tqdm(self.test_dataloader, unit=\"batch\", leave=False) as test_step:\n",
    "        for b, data in enumerate(test_step):\n",
    "          test_step.set_description(f\"Batch {b+1} predict\")\n",
    "          inputs1, inputs2, labels = data\n",
    "\n",
    "          # tokenizer\n",
    "          tokens_bert = self.model.tokenizing_pair(inputs1,inputs2)\n",
    "          tokens_bert = tokens_bert.cuda()\n",
    "\n",
    "          \n",
    "          \n",
    "          # LDA\n",
    "          if self.with_LDA:\n",
    "            inputs_cleaned1, map = clean_procedure(inputs1)\n",
    "            features_lda1 = self.model.model_lda.transform_cleaned(inputs_cleaned1)\n",
    "            \n",
    "            # tokens_lda2 = self.model.tokenizing(inputs2)\n",
    "            inputs_cleaned2, map = clean_procedure(inputs2)\n",
    "            features_lda2 = self.model.model_lda.transform_cleaned(inputs_cleaned2)\n",
    "      \n",
    "            features_lda = torch.cat([features_lda1, features_lda2],dim=1)\n",
    "            features_lda = features_lda.cuda()\n",
    "            target = self.model(tokens_bert,features_lda)  \n",
    "          else:\n",
    "            target = self.model(tokens_bert)\n",
    "          # print(target)\n",
    "          target = target.round()\n",
    "          predictions.extend(target.cpu().detach()[:,0].tolist())\n",
    "          real_labels.extend(labels.tolist())\n",
    "    return real_labels,predictions\n",
    "\n",
    "\n",
    "  def save_model(self):\n",
    "    # print('Saving the model... ',end='')\n",
    "    with open('results/'+ self.model_name +'.pkl', 'wb') as f:\n",
    "      pickle.dump(self.model, f, pickle.HIGHEST_PROTOCOL)\n",
    "    # print('done!')\n",
    "\n",
    "\n",
    "  def load_model(self):\n",
    "    # print('Loading the model... ',end='')\n",
    "    with open('results/'+ self.model_name +'.pkl', 'rb') as f:\n",
    "      self.model = pickle.load(f)\n",
    "\n",
    "\n",
    "  def plot_losses(self):\n",
    "    plt.figure(figsize=(20,6))\n",
    "\n",
    "    plt.subplot(1,2,1)\n",
    "    plt.plot(self.loss_train)\n",
    "    plt.title('Train Loss')\n",
    "    plt.xlabel('# batch')\n",
    "    plt.ylabel('loss')\n",
    "\n",
    "    plt.subplot(1,2,2)\n",
    "    plt.plot(self.loss_val)\n",
    "    plt.title('Validation Loss')\n",
    "    plt.xlabel('# batch')\n",
    "    plt.ylabel('loss');\n",
    "    "
   ]
  },
  {
   "cell_type": "code",
   "execution_count": 33,
   "metadata": {
    "executionInfo": {
     "elapsed": 7,
     "status": "ok",
     "timestamp": 1660500868919,
     "user": {
      "displayName": "Ilan Alex Golik",
      "userId": "15856695005902315184"
     },
     "user_tz": -180
    },
    "id": "44rVboqNdoFg"
   },
   "outputs": [],
   "source": [
    "class TBertImpl(nn.Module):\n",
    "    def __init__(self, model_name, bert_tokenizer, topic_generator,\n",
    "                 batch_size, t_max_len, n_components=10,\n",
    "                 max_len=80, isPair=0):\n",
    "        super(TBertImpl, self).__init__()\n",
    "\n",
    "        self.batch_size = batch_size\n",
    "        self.max_len = max_len\n",
    "\n",
    "        self.model_lda = topic_generator\n",
    "        self.tokenizer_bert = bert_tokenizer\n",
    "        self.model_bert = BertModel.from_pretrained(model_name)\n",
    "        n_topic_words_counter = self.model_lda.max_len\n",
    "        input_len = (768 + (n_topic_words_counter + (isPair * n_topic_words_counter)))\n",
    "        self.classifier = nn.Sequential(\n",
    "            nn.Linear(input_len, input_len),\n",
    "            nn.ReLU(),\n",
    "            nn.Dropout(p=0.8),\n",
    "            nn.Linear(input_len, 1),\n",
    "            nn.Sigmoid()\n",
    "        )\n",
    "        \n",
    "\n",
    "\n",
    "\n",
    "    def tokenizing(self,sentences):\n",
    "      return self.tokenizer_bert.batch_encode_plus(sentences,return_tensors='pt',add_special_tokens=False,padding=\"max_length\",max_length=self.max_len, pad_to_max_length=True,truncation=True)['input_ids']\n",
    "\n",
    "    def tokenizing_pair(self,sentences1,sentences2):\n",
    "      return self.tokenizer_bert(sentences1,sentences2,return_tensors='pt',add_special_tokens=True,padding=\"max_length\",max_length=self.max_len, pad_to_max_length=True,truncation=True)['input_ids']\n",
    "\n",
    "    def freeze_BERT(self):\n",
    "      for name, param in self.model_bert.named_parameters():\n",
    "        if 'classifier' not in name: # classifier layer\n",
    "          param.requires_grad = False\n",
    "      # for param in self.model_bert.parameters():\n",
    "      #   param.requires_grad = False\n",
    "\n",
    "    def forward(self, tokens_bert,features_lda):\n",
    "        features_bert = self.model_bert(tokens_bert).last_hidden_state[:, 0, :]\n",
    "        features = torch.cat([features_bert, features_lda],dim=1)\n",
    "        outputs = self.classifier(features)\n",
    "        return outputs"
   ]
  },
  {
   "cell_type": "markdown",
   "metadata": {
    "id": "_0-L0caRbKKk"
   },
   "source": [
    "## Train Models"
   ]
  },
  {
   "cell_type": "markdown",
   "metadata": {
    "id": "yAz24ytfBYul"
   },
   "source": [
    "##### Train tBERT - with search over number of topics"
   ]
  },
  {
   "cell_type": "code",
   "execution_count": 34,
   "metadata": {
    "executionInfo": {
     "elapsed": 6,
     "status": "ok",
     "timestamp": 1660500868920,
     "user": {
      "displayName": "Ilan Alex Golik",
      "userId": "15856695005902315184"
     },
     "user_tz": -180
    },
    "id": "Gu3GUBPEk_LU"
   },
   "outputs": [],
   "source": [
    "test_results_dictionary = defaultdict(lambda: \"Not Present\")"
   ]
  },
  {
   "cell_type": "code",
   "execution_count": 35,
   "metadata": {
    "colab": {
     "base_uri": "https://localhost:8080/",
     "height": 474,
     "referenced_widgets": [
      "4f7242b338424c828e0bb567cb550914",
      "02f637c6513e4c31a305444d5415e73f",
      "de830a88d85b4f828a32cef6efda4409",
      "4762902a2b3a4bdc9db5042a1175e823",
      "0ef7388c11534bd29b97c6a981102ee1",
      "4c62c7165e69456bb49dc9d689861f5a",
      "921cc4c79ce9404b830aabcb1924689b",
      "ad52cf8a7c284bf8a3c1b706da7a4a07",
      "ba4b190b429d4aee84ccb0fe3b6ad30b",
      "7bba76850af04f2a99cd428142280eb0",
      "839c9b5119d74e9d90e656d7396d7772"
     ]
    },
    "executionInfo": {
     "elapsed": 730584,
     "status": "ok",
     "timestamp": 1660501599499,
     "user": {
      "displayName": "Ilan Alex Golik",
      "userId": "15856695005902315184"
     },
     "user_tz": -180
    },
    "id": "vlXfYLw2vdP0",
    "outputId": "0626dd3f-e88d-4f64-ea3e-66494458721a"
   },
   "outputs": [
    {
     "data": {
      "application/vnd.jupyter.widget-view+json": {
       "model_id": "4f7242b338424c828e0bb567cb550914",
       "version_major": 2,
       "version_minor": 0
      },
      "text/plain": [
       "Downloading pytorch_model.bin:   0%|          | 0.00/420M [00:00<?, ?B/s]"
      ]
     },
     "metadata": {},
     "output_type": "display_data"
    },
    {
     "name": "stdout",
     "output_type": "stream",
     "text": [
      "tbert_msrp_t70: Training \t\n",
      "\n"
     ]
    },
    {
     "name": "stderr",
     "output_type": "stream",
     "text": []
    },
    {
     "name": "stdout",
     "output_type": "stream",
     "text": [
      "tbert_msrp_t70: Testing \t\n",
      "\n"
     ]
    },
    {
     "name": "stderr",
     "output_type": "stream",
     "text": []
    },
    {
     "name": "stdout",
     "output_type": "stream",
     "text": [
      "Done for 70 topics\n",
      "tbert_msrp_t75: Training \t\n",
      "\n"
     ]
    },
    {
     "name": "stderr",
     "output_type": "stream",
     "text": []
    },
    {
     "name": "stdout",
     "output_type": "stream",
     "text": [
      "tbert_msrp_t75: Testing \t\n",
      "\n"
     ]
    },
    {
     "name": "stderr",
     "output_type": "stream",
     "text": []
    },
    {
     "name": "stdout",
     "output_type": "stream",
     "text": [
      "Done for 75 topics\n",
      "tbert_msrp_t80: Training \t\n",
      "\n"
     ]
    },
    {
     "name": "stderr",
     "output_type": "stream",
     "text": []
    },
    {
     "name": "stdout",
     "output_type": "stream",
     "text": [
      "tbert_msrp_t80: Testing \t\n",
      "\n"
     ]
    },
    {
     "name": "stderr",
     "output_type": "stream",
     "text": []
    },
    {
     "name": "stdout",
     "output_type": "stream",
     "text": [
      "Done for 80 topics\n",
      "tbert_msrp_t85: Training \t\n",
      "\n"
     ]
    },
    {
     "name": "stderr",
     "output_type": "stream",
     "text": []
    },
    {
     "name": "stdout",
     "output_type": "stream",
     "text": [
      "tbert_msrp_t85: Testing \t\n",
      "\n"
     ]
    },
    {
     "name": "stderr",
     "output_type": "stream",
     "text": []
    },
    {
     "name": "stdout",
     "output_type": "stream",
     "text": [
      "Done for 85 topics\n",
      "tbert_msrp_t90: Training \t\n",
      "\n"
     ]
    },
    {
     "name": "stderr",
     "output_type": "stream",
     "text": []
    },
    {
     "name": "stdout",
     "output_type": "stream",
     "text": [
      "tbert_msrp_t90: Testing \t\n",
      "\n"
     ]
    },
    {
     "name": "stderr",
     "output_type": "stream",
     "text": []
    },
    {
     "name": "stdout",
     "output_type": "stream",
     "text": [
      "Done for 90 topics\n"
     ]
    }
   ],
   "source": [
    "df = pd.DataFrame(columns=['TopicsNumber','tBERT_F1','Loss_Train','Loss_Val'])\n",
    "\n",
    "def add_result(topics, real_tbert, pred_tbert, loss_train, loss_val, results_dict):\n",
    "  results_dict[topics] = (real_tbert, pred_tbert)\n",
    "  f1_tbert = f1_score(y_true=real_tbert,y_pred=pred_tbert)\n",
    "  df.loc[len(df)] = [str(topics),f1_tbert,loss_train,loss_val]\n",
    "\n",
    "# n_topics = [60,70,75,80,85,90,100]\n",
    "for n in [70,75,80,85,90]:\n",
    "  set_seed(SEED)\n",
    "  # model\n",
    "  model_tbert = TBertImpl(BERT_MODEL_NAME, tokenizer, topics_dict[n], batch_size=BATCH_SIZE, \n",
    "                          t_max_len = T_MAX_LEN, isPair=1,n_components=n).cuda();\n",
    "  model_tbert.freeze_BERT()\n",
    "\n",
    "  # train\n",
    "  trainer_tBERT = myTrainer(model_tbert,with_LDA=True,\n",
    "                            model_name='tbert_msrp_t'+str(n),\n",
    "                            train_dataset=dataset_msrp_train,\n",
    "                            val_dataset=dataset_msrp_val,\n",
    "                            test_dataset=dataset_msrp_test,\n",
    "                            batch_size=BATCH_SIZE ,epochs=3)\n",
    "  trainer_tBERT.train()\n",
    "\n",
    "  # predict\n",
    "  real_tbert_msrp,pred_tbert_msrp = trainer_tBERT.predict_pair()\n",
    "\n",
    "  # save model results\n",
    "  add_result(n, real_tbert_msrp, pred_tbert_msrp,trainer_tBERT.loss_train,trainer_tBERT.loss_val, test_results_dictionary)\n",
    "  print(f'Done for {n} topics')\n",
    "  # print(df.tBERT_Accuracy.values)\n",
    "\n",
    "\n",
    "\n",
    "  # free cuda\n",
    "  model_tbert, trainer_tBERT = None, None\n",
    "  gc.collect()\n",
    "  empty_cache()"
   ]
  },
  {
   "cell_type": "markdown",
   "metadata": {
    "id": "VfIXzix9DNIH"
   },
   "source": [
    "## Evaluation"
   ]
  },
  {
   "cell_type": "code",
   "execution_count": 36,
   "metadata": {
    "colab": {
     "base_uri": "https://localhost:8080/",
     "height": 204
    },
    "executionInfo": {
     "elapsed": 30,
     "status": "ok",
     "timestamp": 1660501599500,
     "user": {
      "displayName": "Ilan Alex Golik",
      "userId": "15856695005902315184"
     },
     "user_tz": -180
    },
    "id": "QIL_ewSWhKFK",
    "outputId": "4c570a38-6d0c-469d-d642-0ff7ea4970aa"
   },
   "outputs": [
    {
     "data": {
      "text/html": [
       "\n",
       "  <div id=\"df-1abad1e0-5953-40c2-bfd3-16a82e0dbdd0\">\n",
       "    <div class=\"colab-df-container\">\n",
       "      <div>\n",
       "<style scoped>\n",
       "    .dataframe tbody tr th:only-of-type {\n",
       "        vertical-align: middle;\n",
       "    }\n",
       "\n",
       "    .dataframe tbody tr th {\n",
       "        vertical-align: top;\n",
       "    }\n",
       "\n",
       "    .dataframe thead th {\n",
       "        text-align: right;\n",
       "    }\n",
       "</style>\n",
       "<table border=\"1\" class=\"dataframe\">\n",
       "  <thead>\n",
       "    <tr style=\"text-align: right;\">\n",
       "      <th></th>\n",
       "      <th>TopicsNumber</th>\n",
       "      <th>tBERT_F1</th>\n",
       "      <th>Loss_Train</th>\n",
       "      <th>Loss_Val</th>\n",
       "    </tr>\n",
       "  </thead>\n",
       "  <tbody>\n",
       "    <tr>\n",
       "      <th>0</th>\n",
       "      <td>70</td>\n",
       "      <td>0.021583</td>\n",
       "      <td>[2.2099199295043945, 2.175016164779663, 2.1703...</td>\n",
       "      <td>[2.1522789001464844, 2.118533670902252, 2.1868...</td>\n",
       "    </tr>\n",
       "    <tr>\n",
       "      <th>1</th>\n",
       "      <td>75</td>\n",
       "      <td>0.256564</td>\n",
       "      <td>[2.0985412001609802, 2.1431005597114563, 2.120...</td>\n",
       "      <td>[2.1297224164009094, 2.045852243900299, 2.0852...</td>\n",
       "    </tr>\n",
       "    <tr>\n",
       "      <th>2</th>\n",
       "      <td>80</td>\n",
       "      <td>0.703522</td>\n",
       "      <td>[2.036818027496338, 2.0058692693710327, 2.2473...</td>\n",
       "      <td>[2.10968416929245, 2.03753399848938, 2.1322292...</td>\n",
       "    </tr>\n",
       "    <tr>\n",
       "      <th>3</th>\n",
       "      <td>85</td>\n",
       "      <td>0.608008</td>\n",
       "      <td>[2.0258857011795044, 2.092802345752716, 2.1527...</td>\n",
       "      <td>[2.0816248655319214, 2.061777412891388, 2.0749...</td>\n",
       "    </tr>\n",
       "    <tr>\n",
       "      <th>4</th>\n",
       "      <td>90</td>\n",
       "      <td>0.795287</td>\n",
       "      <td>[2.020535945892334, 1.9770995378494263, 2.0873...</td>\n",
       "      <td>[2.10549259185791, 2.0065526962280273, 1.99248...</td>\n",
       "    </tr>\n",
       "  </tbody>\n",
       "</table>\n",
       "</div>\n",
       "      <button class=\"colab-df-convert\" onclick=\"convertToInteractive('df-1abad1e0-5953-40c2-bfd3-16a82e0dbdd0')\"\n",
       "              title=\"Convert this dataframe to an interactive table.\"\n",
       "              style=\"display:none;\">\n",
       "        \n",
       "  <svg xmlns=\"http://www.w3.org/2000/svg\" height=\"24px\"viewBox=\"0 0 24 24\"\n",
       "       width=\"24px\">\n",
       "    <path d=\"M0 0h24v24H0V0z\" fill=\"none\"/>\n",
       "    <path d=\"M18.56 5.44l.94 2.06.94-2.06 2.06-.94-2.06-.94-.94-2.06-.94 2.06-2.06.94zm-11 1L8.5 8.5l.94-2.06 2.06-.94-2.06-.94L8.5 2.5l-.94 2.06-2.06.94zm10 10l.94 2.06.94-2.06 2.06-.94-2.06-.94-.94-2.06-.94 2.06-2.06.94z\"/><path d=\"M17.41 7.96l-1.37-1.37c-.4-.4-.92-.59-1.43-.59-.52 0-1.04.2-1.43.59L10.3 9.45l-7.72 7.72c-.78.78-.78 2.05 0 2.83L4 21.41c.39.39.9.59 1.41.59.51 0 1.02-.2 1.41-.59l7.78-7.78 2.81-2.81c.8-.78.8-2.07 0-2.86zM5.41 20L4 18.59l7.72-7.72 1.47 1.35L5.41 20z\"/>\n",
       "  </svg>\n",
       "      </button>\n",
       "      \n",
       "  <style>\n",
       "    .colab-df-container {\n",
       "      display:flex;\n",
       "      flex-wrap:wrap;\n",
       "      gap: 12px;\n",
       "    }\n",
       "\n",
       "    .colab-df-convert {\n",
       "      background-color: #E8F0FE;\n",
       "      border: none;\n",
       "      border-radius: 50%;\n",
       "      cursor: pointer;\n",
       "      display: none;\n",
       "      fill: #1967D2;\n",
       "      height: 32px;\n",
       "      padding: 0 0 0 0;\n",
       "      width: 32px;\n",
       "    }\n",
       "\n",
       "    .colab-df-convert:hover {\n",
       "      background-color: #E2EBFA;\n",
       "      box-shadow: 0px 1px 2px rgba(60, 64, 67, 0.3), 0px 1px 3px 1px rgba(60, 64, 67, 0.15);\n",
       "      fill: #174EA6;\n",
       "    }\n",
       "\n",
       "    [theme=dark] .colab-df-convert {\n",
       "      background-color: #3B4455;\n",
       "      fill: #D2E3FC;\n",
       "    }\n",
       "\n",
       "    [theme=dark] .colab-df-convert:hover {\n",
       "      background-color: #434B5C;\n",
       "      box-shadow: 0px 1px 3px 1px rgba(0, 0, 0, 0.15);\n",
       "      filter: drop-shadow(0px 1px 2px rgba(0, 0, 0, 0.3));\n",
       "      fill: #FFFFFF;\n",
       "    }\n",
       "  </style>\n",
       "\n",
       "      <script>\n",
       "        const buttonEl =\n",
       "          document.querySelector('#df-1abad1e0-5953-40c2-bfd3-16a82e0dbdd0 button.colab-df-convert');\n",
       "        buttonEl.style.display =\n",
       "          google.colab.kernel.accessAllowed ? 'block' : 'none';\n",
       "\n",
       "        async function convertToInteractive(key) {\n",
       "          const element = document.querySelector('#df-1abad1e0-5953-40c2-bfd3-16a82e0dbdd0');\n",
       "          const dataTable =\n",
       "            await google.colab.kernel.invokeFunction('convertToInteractive',\n",
       "                                                     [key], {});\n",
       "          if (!dataTable) return;\n",
       "\n",
       "          const docLinkHtml = 'Like what you see? Visit the ' +\n",
       "            '<a target=\"_blank\" href=https://colab.research.google.com/notebooks/data_table.ipynb>data table notebook</a>'\n",
       "            + ' to learn more about interactive tables.';\n",
       "          element.innerHTML = '';\n",
       "          dataTable['output_type'] = 'display_data';\n",
       "          await google.colab.output.renderOutput(dataTable, element);\n",
       "          const docLink = document.createElement('div');\n",
       "          docLink.innerHTML = docLinkHtml;\n",
       "          element.appendChild(docLink);\n",
       "        }\n",
       "      </script>\n",
       "    </div>\n",
       "  </div>\n",
       "  "
      ],
      "text/plain": [
       "  TopicsNumber  tBERT_F1                                         Loss_Train  \\\n",
       "0           70  0.021583  [2.2099199295043945, 2.175016164779663, 2.1703...   \n",
       "1           75  0.256564  [2.0985412001609802, 2.1431005597114563, 2.120...   \n",
       "2           80  0.703522  [2.036818027496338, 2.0058692693710327, 2.2473...   \n",
       "3           85  0.608008  [2.0258857011795044, 2.092802345752716, 2.1527...   \n",
       "4           90  0.795287  [2.020535945892334, 1.9770995378494263, 2.0873...   \n",
       "\n",
       "                                            Loss_Val  \n",
       "0  [2.1522789001464844, 2.118533670902252, 2.1868...  \n",
       "1  [2.1297224164009094, 2.045852243900299, 2.0852...  \n",
       "2  [2.10968416929245, 2.03753399848938, 2.1322292...  \n",
       "3  [2.0816248655319214, 2.061777412891388, 2.0749...  \n",
       "4  [2.10549259185791, 2.0065526962280273, 1.99248...  "
      ]
     },
     "execution_count": 36,
     "metadata": {},
     "output_type": "execute_result"
    }
   ],
   "source": [
    "df"
   ]
  },
  {
   "cell_type": "code",
   "execution_count": 37,
   "metadata": {
    "colab": {
     "base_uri": "https://localhost:8080/"
    },
    "executionInfo": {
     "elapsed": 22,
     "status": "ok",
     "timestamp": 1660501599502,
     "user": {
      "displayName": "Ilan Alex Golik",
      "userId": "15856695005902315184"
     },
     "user_tz": -180
    },
    "id": "R7ZoNS13w3Q_",
    "outputId": "5d36240e-2a6e-47ec-c8b0-282a12b8e532"
   },
   "outputs": [
    {
     "name": "stdout",
     "output_type": "stream",
     "text": [
      "                   precision    recall  f1-score   support\n",
      "\n",
      "is not paraphrase       0.29      0.01      0.02       549\n",
      "    is paraphrase       0.67      0.99      0.80      1092\n",
      "\n",
      "         accuracy                           0.66      1641\n",
      "        macro avg       0.48      0.50      0.41      1641\n",
      "     weighted avg       0.54      0.66      0.54      1641\n",
      "\n"
     ]
    }
   ],
   "source": [
    "real_labels_90 = test_results_dictionary[90][0]\n",
    "predicted_labels_90 = test_results_dictionary[90][1]\n",
    "print(classification_report(real_labels_90, predicted_labels_90, target_names=['is not paraphrase', 'is paraphrase']))"
   ]
  },
  {
   "cell_type": "code",
   "execution_count": 38,
   "metadata": {
    "colab": {
     "base_uri": "https://localhost:8080/",
     "height": 404
    },
    "executionInfo": {
     "elapsed": 909,
     "status": "ok",
     "timestamp": 1660501600398,
     "user": {
      "displayName": "Ilan Alex Golik",
      "userId": "15856695005902315184"
     },
     "user_tz": -180
    },
    "id": "GpKE7IpHXhoc",
    "outputId": "b3692fde-5d50-4b31-d1af-cab0b1da5885"
   },
   "outputs": [
    {
     "data": {
      "image/png": "[encoded data removed]",
      "text/plain": [
       "<Figure size 1440x432 with 3 Axes>"
      ]
     },
     "metadata": {
      "needs_background": "light"
     },
     "output_type": "display_data"
    }
   ],
   "source": [
    "plt.figure(figsize=(20,6))\n",
    "\n",
    "plt.subplot(1,3,1)\n",
    "plt.bar(df.TopicsNumber,df.tBERT_F1)\n",
    "for index,data in enumerate(df.tBERT_F1):\n",
    "  plt.text(x=index-0.25, y=data+0.007, s=\"{:.3}\".format(data) )\n",
    "plt.title('Accuracy')\n",
    "\n",
    "for j,c in enumerate(['Loss_Train','Loss_Val']):\n",
    "  plt.subplot(1,3,j+2)\n",
    "  for i in range(len(df)):\n",
    "    y = df[c][i]\n",
    "    x = list(range(len(y)))\n",
    "    l = 'n_topics=' + str(df.TopicsNumber[i])  \n",
    "    plt.plot(x,y,label=l)\n",
    "  \n",
    "  plt.title(c)\n",
    "  plt.xlabel('# batch')\n",
    "  plt.ylabel('loss')\n",
    "  plt.legend()\n",
    "\n",
    "plt.show()"
   ]
  },
  {
   "cell_type": "markdown",
   "metadata": {
    "id": "sXv3LIrc_5RD"
   },
   "source": [
    "The t=90 model performing well as the one in the article.  \n",
    "<br><br><br>"
   ]
  },
  {
   "cell_type": "markdown",
   "metadata": {
    "id": "G6sF7EgCLlZu"
   },
   "source": [
    "Thanks For Reading... :))"
   ]
  },
  {
   "cell_type": "code",
   "execution_count": 38,
   "metadata": {
    "executionInfo": {
     "elapsed": 10,
     "status": "ok",
     "timestamp": 1660501600399,
     "user": {
      "displayName": "Ilan Alex Golik",
      "userId": "15856695005902315184"
     },
     "user_tz": -180
    },
    "id": "Dn4hNb4T8cAM"
   },
   "outputs": [],
   "source": []
  }
 ],
 "metadata": {
  "accelerator": "GPU",
  "colab": {
   "collapsed_sections": [],
   "machine_shape": "hm",
   "name": "tBERT_with_LDA.ipynb",
   "provenance": []
  },
  "gpuClass": "standard",
  "kernelspec": {
   "display_name": "Python 3 (ipykernel)",
   "language": "python",
   "name": "python3"
  },
  "language_info": {
   "codemirror_mode": {
    "name": "ipython",
    "version": 3
   },
   "file_extension": ".py",
   "mimetype": "text/x-python",
   "name": "python",
   "nbconvert_exporter": "python",
   "pygments_lexer": "ipython3",
   "version": "3.9.7"
  },
  "widgets": {
   "application/vnd.jupyter.widget-state+json": {
    "02f637c6513e4c31a305444d5415e73f": {
     "model_module": "@jupyter-widgets/controls",
     "model_module_version": "1.5.0",
     "model_name": "HTMLModel",
     "state": {
      "_dom_classes": [],
      "_model_module": "@jupyter-widgets/controls",
      "_model_module_version": "1.5.0",
      "_model_name": "HTMLModel",
      "_view_count": null,
      "_view_module": "@jupyter-widgets/controls",
      "_view_module_version": "1.5.0",
      "_view_name": "HTMLView",
      "description": "",
      "description_tooltip": null,
      "layout": "IPY_MODEL_4c62c7165e69456bb49dc9d689861f5a",
      "placeholder": "​",
      "style": "IPY_MODEL_921cc4c79ce9404b830aabcb1924689b",
      "value": "Downloading pytorch_model.bin: 100%"
     }
    },
    "0ef7388c11534bd29b97c6a981102ee1": {
     "model_module": "@jupyter-widgets/base",
     "model_module_version": "1.2.0",
     "model_name": "LayoutModel",
     "state": {
      "_model_module": "@jupyter-widgets/base",
      "_model_module_version": "1.2.0",
      "_model_name": "LayoutModel",
      "_view_count": null,
      "_view_module": "@jupyter-widgets/base",
      "_view_module_version": "1.2.0",
      "_view_name": "LayoutView",
      "align_content": null,
      "align_items": null,
      "align_self": null,
      "border": null,
      "bottom": null,
      "display": null,
      "flex": null,
      "flex_flow": null,
      "grid_area": null,
      "grid_auto_columns": null,
      "grid_auto_flow": null,
      "grid_auto_rows": null,
      "grid_column": null,
      "grid_gap": null,
      "grid_row": null,
      "grid_template_areas": null,
      "grid_template_columns": null,
      "grid_template_rows": null,
      "height": null,
      "justify_content": null,
      "justify_items": null,
      "left": null,
      "margin": null,
      "max_height": null,
      "max_width": null,
      "min_height": null,
      "min_width": null,
      "object_fit": null,
      "object_position": null,
      "order": null,
      "overflow": null,
      "overflow_x": null,
      "overflow_y": null,
      "padding": null,
      "right": null,
      "top": null,
      "visibility": null,
      "width": null
     }
    },
    "1634b83577314dc6ac6c524cba669f01": {
     "model_module": "@jupyter-widgets/controls",
     "model_module_version": "1.5.0",
     "model_name": "HTMLModel",
     "state": {
      "_dom_classes": [],
      "_model_module": "@jupyter-widgets/controls",
      "_model_module_version": "1.5.0",
      "_model_name": "HTMLModel",
      "_view_count": null,
      "_view_module": "@jupyter-widgets/controls",
      "_view_module_version": "1.5.0",
      "_view_name": "HTMLView",
      "description": "",
      "description_tooltip": null,
      "layout": "IPY_MODEL_cddca8cc5eab4fb189c97636da23af59",
      "placeholder": "​",
      "style": "IPY_MODEL_e6a03635646f46c1ae6aae430057a7a1",
      "value": "Downloading vocab.txt: 100%"
     }
    },
    "386bacaadfde4fccacf66af655e67e93": {
     "model_module": "@jupyter-widgets/base",
     "model_module_version": "1.2.0",
     "model_name": "LayoutModel",
     "state": {
      "_model_module": "@jupyter-widgets/base",
      "_model_module_version": "1.2.0",
      "_model_name": "LayoutModel",
      "_view_count": null,
      "_view_module": "@jupyter-widgets/base",
      "_view_module_version": "1.2.0",
      "_view_name": "LayoutView",
      "align_content": null,
      "align_items": null,
      "align_self": null,
      "border": null,
      "bottom": null,
      "display": null,
      "flex": null,
      "flex_flow": null,
      "grid_area": null,
      "grid_auto_columns": null,
      "grid_auto_flow": null,
      "grid_auto_rows": null,
      "grid_column": null,
      "grid_gap": null,
      "grid_row": null,
      "grid_template_areas": null,
      "grid_template_columns": null,
      "grid_template_rows": null,
      "height": null,
      "justify_content": null,
      "justify_items": null,
      "left": null,
      "margin": null,
      "max_height": null,
      "max_width": null,
      "min_height": null,
      "min_width": null,
      "object_fit": null,
      "object_position": null,
      "order": null,
      "overflow": null,
      "overflow_x": null,
      "overflow_y": null,
      "padding": null,
      "right": null,
      "top": null,
      "visibility": null,
      "width": null
     }
    },
    "3d90d19184d04bc99a287d2e75f43440": {
     "model_module": "@jupyter-widgets/base",
     "model_module_version": "1.2.0",
     "model_name": "LayoutModel",
     "state": {
      "_model_module": "@jupyter-widgets/base",
      "_model_module_version": "1.2.0",
      "_model_name": "LayoutModel",
      "_view_count": null,
      "_view_module": "@jupyter-widgets/base",
      "_view_module_version": "1.2.0",
      "_view_name": "LayoutView",
      "align_content": null,
      "align_items": null,
      "align_self": null,
      "border": null,
      "bottom": null,
      "display": null,
      "flex": null,
      "flex_flow": null,
      "grid_area": null,
      "grid_auto_columns": null,
      "grid_auto_flow": null,
      "grid_auto_rows": null,
      "grid_column": null,
      "grid_gap": null,
      "grid_row": null,
      "grid_template_areas": null,
      "grid_template_columns": null,
      "grid_template_rows": null,
      "height": null,
      "justify_content": null,
      "justify_items": null,
      "left": null,
      "margin": null,
      "max_height": null,
      "max_width": null,
      "min_height": null,
      "min_width": null,
      "object_fit": null,
      "object_position": null,
      "order": null,
      "overflow": null,
      "overflow_x": null,
      "overflow_y": null,
      "padding": null,
      "right": null,
      "top": null,
      "visibility": null,
      "width": null
     }
    },
    "45019820025f4b04a2213c4eefb7cf1d": {
     "model_module": "@jupyter-widgets/controls",
     "model_module_version": "1.5.0",
     "model_name": "ProgressStyleModel",
     "state": {
      "_model_module": "@jupyter-widgets/controls",
      "_model_module_version": "1.5.0",
      "_model_name": "ProgressStyleModel",
      "_view_count": null,
      "_view_module": "@jupyter-widgets/base",
      "_view_module_version": "1.2.0",
      "_view_name": "StyleView",
      "bar_color": null,
      "description_width": ""
     }
    },
    "46faae23da2d4bdf8313c7fc1fee9ebd": {
     "model_module": "@jupyter-widgets/base",
     "model_module_version": "1.2.0",
     "model_name": "LayoutModel",
     "state": {
      "_model_module": "@jupyter-widgets/base",
      "_model_module_version": "1.2.0",
      "_model_name": "LayoutModel",
      "_view_count": null,
      "_view_module": "@jupyter-widgets/base",
      "_view_module_version": "1.2.0",
      "_view_name": "LayoutView",
      "align_content": null,
      "align_items": null,
      "align_self": null,
      "border": null,
      "bottom": null,
      "display": null,
      "flex": null,
      "flex_flow": null,
      "grid_area": null,
      "grid_auto_columns": null,
      "grid_auto_flow": null,
      "grid_auto_rows": null,
      "grid_column": null,
      "grid_gap": null,
      "grid_row": null,
      "grid_template_areas": null,
      "grid_template_columns": null,
      "grid_template_rows": null,
      "height": null,
      "justify_content": null,
      "justify_items": null,
      "left": null,
      "margin": null,
      "max_height": null,
      "max_width": null,
      "min_height": null,
      "min_width": null,
      "object_fit": null,
      "object_position": null,
      "order": null,
      "overflow": null,
      "overflow_x": null,
      "overflow_y": null,
      "padding": null,
      "right": null,
      "top": null,
      "visibility": null,
      "width": null
     }
    },
    "4762902a2b3a4bdc9db5042a1175e823": {
     "model_module": "@jupyter-widgets/controls",
     "model_module_version": "1.5.0",
     "model_name": "HTMLModel",
     "state": {
      "_dom_classes": [],
      "_model_module": "@jupyter-widgets/controls",
      "_model_module_version": "1.5.0",
      "_model_name": "HTMLModel",
      "_view_count": null,
      "_view_module": "@jupyter-widgets/controls",
      "_view_module_version": "1.5.0",
      "_view_name": "HTMLView",
      "description": "",
      "description_tooltip": null,
      "layout": "IPY_MODEL_7bba76850af04f2a99cd428142280eb0",
      "placeholder": "​",
      "style": "IPY_MODEL_839c9b5119d74e9d90e656d7396d7772",
      "value": " 420M/420M [00:06&lt;00:00, 66.2MB/s]"
     }
    },
    "4c62c7165e69456bb49dc9d689861f5a": {
     "model_module": "@jupyter-widgets/base",
     "model_module_version": "1.2.0",
     "model_name": "LayoutModel",
     "state": {
      "_model_module": "@jupyter-widgets/base",
      "_model_module_version": "1.2.0",
      "_model_name": "LayoutModel",
      "_view_count": null,
      "_view_module": "@jupyter-widgets/base",
      "_view_module_version": "1.2.0",
      "_view_name": "LayoutView",
      "align_content": null,
      "align_items": null,
      "align_self": null,
      "border": null,
      "bottom": null,
      "display": null,
      "flex": null,
      "flex_flow": null,
      "grid_area": null,
      "grid_auto_columns": null,
      "grid_auto_flow": null,
      "grid_auto_rows": null,
      "grid_column": null,
      "grid_gap": null,
      "grid_row": null,
      "grid_template_areas": null,
      "grid_template_columns": null,
      "grid_template_rows": null,
      "height": null,
      "justify_content": null,
      "justify_items": null,
      "left": null,
      "margin": null,
      "max_height": null,
      "max_width": null,
      "min_height": null,
      "min_width": null,
      "object_fit": null,
      "object_position": null,
      "order": null,
      "overflow": null,
      "overflow_x": null,
      "overflow_y": null,
      "padding": null,
      "right": null,
      "top": null,
      "visibility": null,
      "width": null
     }
    },
    "4f7242b338424c828e0bb567cb550914": {
     "model_module": "@jupyter-widgets/controls",
     "model_module_version": "1.5.0",
     "model_name": "HBoxModel",
     "state": {
      "_dom_classes": [],
      "_model_module": "@jupyter-widgets/controls",
      "_model_module_version": "1.5.0",
      "_model_name": "HBoxModel",
      "_view_count": null,
      "_view_module": "@jupyter-widgets/controls",
      "_view_module_version": "1.5.0",
      "_view_name": "HBoxView",
      "box_style": "",
      "children": [
       "IPY_MODEL_02f637c6513e4c31a305444d5415e73f",
       "IPY_MODEL_de830a88d85b4f828a32cef6efda4409",
       "IPY_MODEL_4762902a2b3a4bdc9db5042a1175e823"
      ],
      "layout": "IPY_MODEL_0ef7388c11534bd29b97c6a981102ee1"
     }
    },
    "5293b6ed693b4e90824715af496a72b6": {
     "model_module": "@jupyter-widgets/base",
     "model_module_version": "1.2.0",
     "model_name": "LayoutModel",
     "state": {
      "_model_module": "@jupyter-widgets/base",
      "_model_module_version": "1.2.0",
      "_model_name": "LayoutModel",
      "_view_count": null,
      "_view_module": "@jupyter-widgets/base",
      "_view_module_version": "1.2.0",
      "_view_name": "LayoutView",
      "align_content": null,
      "align_items": null,
      "align_self": null,
      "border": null,
      "bottom": null,
      "display": null,
      "flex": null,
      "flex_flow": null,
      "grid_area": null,
      "grid_auto_columns": null,
      "grid_auto_flow": null,
      "grid_auto_rows": null,
      "grid_column": null,
      "grid_gap": null,
      "grid_row": null,
      "grid_template_areas": null,
      "grid_template_columns": null,
      "grid_template_rows": null,
      "height": null,
      "justify_content": null,
      "justify_items": null,
      "left": null,
      "margin": null,
      "max_height": null,
      "max_width": null,
      "min_height": null,
      "min_width": null,
      "object_fit": null,
      "object_position": null,
      "order": null,
      "overflow": null,
      "overflow_x": null,
      "overflow_y": null,
      "padding": null,
      "right": null,
      "top": null,
      "visibility": null,
      "width": null
     }
    },
    "5d20192dd812423c9d2b03a0edc12414": {
     "model_module": "@jupyter-widgets/base",
     "model_module_version": "1.2.0",
     "model_name": "LayoutModel",
     "state": {
      "_model_module": "@jupyter-widgets/base",
      "_model_module_version": "1.2.0",
      "_model_name": "LayoutModel",
      "_view_count": null,
      "_view_module": "@jupyter-widgets/base",
      "_view_module_version": "1.2.0",
      "_view_name": "LayoutView",
      "align_content": null,
      "align_items": null,
      "align_self": null,
      "border": null,
      "bottom": null,
      "display": null,
      "flex": null,
      "flex_flow": null,
      "grid_area": null,
      "grid_auto_columns": null,
      "grid_auto_flow": null,
      "grid_auto_rows": null,
      "grid_column": null,
      "grid_gap": null,
      "grid_row": null,
      "grid_template_areas": null,
      "grid_template_columns": null,
      "grid_template_rows": null,
      "height": null,
      "justify_content": null,
      "justify_items": null,
      "left": null,
      "margin": null,
      "max_height": null,
      "max_width": null,
      "min_height": null,
      "min_width": null,
      "object_fit": null,
      "object_position": null,
      "order": null,
      "overflow": null,
      "overflow_x": null,
      "overflow_y": null,
      "padding": null,
      "right": null,
      "top": null,
      "visibility": null,
      "width": null
     }
    },
    "622b0acfe7c34902a938967b88e51043": {
     "model_module": "@jupyter-widgets/controls",
     "model_module_version": "1.5.0",
     "model_name": "HBoxModel",
     "state": {
      "_dom_classes": [],
      "_model_module": "@jupyter-widgets/controls",
      "_model_module_version": "1.5.0",
      "_model_name": "HBoxModel",
      "_view_count": null,
      "_view_module": "@jupyter-widgets/controls",
      "_view_module_version": "1.5.0",
      "_view_name": "HBoxView",
      "box_style": "",
      "children": [
       "IPY_MODEL_975e372a0a4646eb940e7c40ba5a6220",
       "IPY_MODEL_e9f33432329142b2801bb44af315ec1c",
       "IPY_MODEL_6794ddbe639d49deaae73fb7de53f5b9"
      ],
      "layout": "IPY_MODEL_f0e7908e619d4fb5847db8ccb77b6609"
     }
    },
    "62b43d3de36a43a5b653345997b301e5": {
     "model_module": "@jupyter-widgets/controls",
     "model_module_version": "1.5.0",
     "model_name": "DescriptionStyleModel",
     "state": {
      "_model_module": "@jupyter-widgets/controls",
      "_model_module_version": "1.5.0",
      "_model_name": "DescriptionStyleModel",
      "_view_count": null,
      "_view_module": "@jupyter-widgets/base",
      "_view_module_version": "1.2.0",
      "_view_name": "StyleView",
      "description_width": ""
     }
    },
    "6697162c10c64dd6b72eccc7decd8a6a": {
     "model_module": "@jupyter-widgets/base",
     "model_module_version": "1.2.0",
     "model_name": "LayoutModel",
     "state": {
      "_model_module": "@jupyter-widgets/base",
      "_model_module_version": "1.2.0",
      "_model_name": "LayoutModel",
      "_view_count": null,
      "_view_module": "@jupyter-widgets/base",
      "_view_module_version": "1.2.0",
      "_view_name": "LayoutView",
      "align_content": null,
      "align_items": null,
      "align_self": null,
      "border": null,
      "bottom": null,
      "display": null,
      "flex": null,
      "flex_flow": null,
      "grid_area": null,
      "grid_auto_columns": null,
      "grid_auto_flow": null,
      "grid_auto_rows": null,
      "grid_column": null,
      "grid_gap": null,
      "grid_row": null,
      "grid_template_areas": null,
      "grid_template_columns": null,
      "grid_template_rows": null,
      "height": null,
      "justify_content": null,
      "justify_items": null,
      "left": null,
      "margin": null,
      "max_height": null,
      "max_width": null,
      "min_height": null,
      "min_width": null,
      "object_fit": null,
      "object_position": null,
      "order": null,
      "overflow": null,
      "overflow_x": null,
      "overflow_y": null,
      "padding": null,
      "right": null,
      "top": null,
      "visibility": null,
      "width": null
     }
    },
    "6794ddbe639d49deaae73fb7de53f5b9": {
     "model_module": "@jupyter-widgets/controls",
     "model_module_version": "1.5.0",
     "model_name": "HTMLModel",
     "state": {
      "_dom_classes": [],
      "_model_module": "@jupyter-widgets/controls",
      "_model_module_version": "1.5.0",
      "_model_name": "HTMLModel",
      "_view_count": null,
      "_view_module": "@jupyter-widgets/controls",
      "_view_module_version": "1.5.0",
      "_view_name": "HTMLView",
      "description": "",
      "description_tooltip": null,
      "layout": "IPY_MODEL_8d745ff1fcf24affab9bdcd64ef71adc",
      "placeholder": "​",
      "style": "IPY_MODEL_9f54b3b81e43494a988989ed71e015a4",
      "value": " 28.0/28.0 [00:00&lt;00:00, 633B/s]"
     }
    },
    "74787568328b433ab55055bc63d14cb1": {
     "model_module": "@jupyter-widgets/controls",
     "model_module_version": "1.5.0",
     "model_name": "DescriptionStyleModel",
     "state": {
      "_model_module": "@jupyter-widgets/controls",
      "_model_module_version": "1.5.0",
      "_model_name": "DescriptionStyleModel",
      "_view_count": null,
      "_view_module": "@jupyter-widgets/base",
      "_view_module_version": "1.2.0",
      "_view_name": "StyleView",
      "description_width": ""
     }
    },
    "798651ad359a499094c3b17848f291ae": {
     "model_module": "@jupyter-widgets/controls",
     "model_module_version": "1.5.0",
     "model_name": "HTMLModel",
     "state": {
      "_dom_classes": [],
      "_model_module": "@jupyter-widgets/controls",
      "_model_module_version": "1.5.0",
      "_model_name": "HTMLModel",
      "_view_count": null,
      "_view_module": "@jupyter-widgets/controls",
      "_view_module_version": "1.5.0",
      "_view_name": "HTMLView",
      "description": "",
      "description_tooltip": null,
      "layout": "IPY_MODEL_3d90d19184d04bc99a287d2e75f43440",
      "placeholder": "​",
      "style": "IPY_MODEL_ed8a385113214f29b04f4ba1d6b566b6",
      "value": " 226k/226k [00:00&lt;00:00, 849kB/s]"
     }
    },
    "7bba76850af04f2a99cd428142280eb0": {
     "model_module": "@jupyter-widgets/base",
     "model_module_version": "1.2.0",
     "model_name": "LayoutModel",
     "state": {
      "_model_module": "@jupyter-widgets/base",
      "_model_module_version": "1.2.0",
      "_model_name": "LayoutModel",
      "_view_count": null,
      "_view_module": "@jupyter-widgets/base",
      "_view_module_version": "1.2.0",
      "_view_name": "LayoutView",
      "align_content": null,
      "align_items": null,
      "align_self": null,
      "border": null,
      "bottom": null,
      "display": null,
      "flex": null,
      "flex_flow": null,
      "grid_area": null,
      "grid_auto_columns": null,
      "grid_auto_flow": null,
      "grid_auto_rows": null,
      "grid_column": null,
      "grid_gap": null,
      "grid_row": null,
      "grid_template_areas": null,
      "grid_template_columns": null,
      "grid_template_rows": null,
      "height": null,
      "justify_content": null,
      "justify_items": null,
      "left": null,
      "margin": null,
      "max_height": null,
      "max_width": null,
      "min_height": null,
      "min_width": null,
      "object_fit": null,
      "object_position": null,
      "order": null,
      "overflow": null,
      "overflow_x": null,
      "overflow_y": null,
      "padding": null,
      "right": null,
      "top": null,
      "visibility": null,
      "width": null
     }
    },
    "7cdbb26788924a7095af0e5be64270bd": {
     "model_module": "@jupyter-widgets/controls",
     "model_module_version": "1.5.0",
     "model_name": "HTMLModel",
     "state": {
      "_dom_classes": [],
      "_model_module": "@jupyter-widgets/controls",
      "_model_module_version": "1.5.0",
      "_model_name": "HTMLModel",
      "_view_count": null,
      "_view_module": "@jupyter-widgets/controls",
      "_view_module_version": "1.5.0",
      "_view_name": "HTMLView",
      "description": "",
      "description_tooltip": null,
      "layout": "IPY_MODEL_386bacaadfde4fccacf66af655e67e93",
      "placeholder": "​",
      "style": "IPY_MODEL_62b43d3de36a43a5b653345997b301e5",
      "value": "Downloading config.json: 100%"
     }
    },
    "7ebd4474ac33482dbe5b32f2464c4611": {
     "model_module": "@jupyter-widgets/base",
     "model_module_version": "1.2.0",
     "model_name": "LayoutModel",
     "state": {
      "_model_module": "@jupyter-widgets/base",
      "_model_module_version": "1.2.0",
      "_model_name": "LayoutModel",
      "_view_count": null,
      "_view_module": "@jupyter-widgets/base",
      "_view_module_version": "1.2.0",
      "_view_name": "LayoutView",
      "align_content": null,
      "align_items": null,
      "align_self": null,
      "border": null,
      "bottom": null,
      "display": null,
      "flex": null,
      "flex_flow": null,
      "grid_area": null,
      "grid_auto_columns": null,
      "grid_auto_flow": null,
      "grid_auto_rows": null,
      "grid_column": null,
      "grid_gap": null,
      "grid_row": null,
      "grid_template_areas": null,
      "grid_template_columns": null,
      "grid_template_rows": null,
      "height": null,
      "justify_content": null,
      "justify_items": null,
      "left": null,
      "margin": null,
      "max_height": null,
      "max_width": null,
      "min_height": null,
      "min_width": null,
      "object_fit": null,
      "object_position": null,
      "order": null,
      "overflow": null,
      "overflow_x": null,
      "overflow_y": null,
      "padding": null,
      "right": null,
      "top": null,
      "visibility": null,
      "width": null
     }
    },
    "7f292b46e80842ca8c62664e352266a8": {
     "model_module": "@jupyter-widgets/controls",
     "model_module_version": "1.5.0",
     "model_name": "ProgressStyleModel",
     "state": {
      "_model_module": "@jupyter-widgets/controls",
      "_model_module_version": "1.5.0",
      "_model_name": "ProgressStyleModel",
      "_view_count": null,
      "_view_module": "@jupyter-widgets/base",
      "_view_module_version": "1.2.0",
      "_view_name": "StyleView",
      "bar_color": null,
      "description_width": ""
     }
    },
    "807686b6f4d74b7dafee2d0e9c0988fc": {
     "model_module": "@jupyter-widgets/controls",
     "model_module_version": "1.5.0",
     "model_name": "HTMLModel",
     "state": {
      "_dom_classes": [],
      "_model_module": "@jupyter-widgets/controls",
      "_model_module_version": "1.5.0",
      "_model_name": "HTMLModel",
      "_view_count": null,
      "_view_module": "@jupyter-widgets/controls",
      "_view_module_version": "1.5.0",
      "_view_name": "HTMLView",
      "description": "",
      "description_tooltip": null,
      "layout": "IPY_MODEL_caa37f44e1944af8b7d4bc9cff19509c",
      "placeholder": "​",
      "style": "IPY_MODEL_74787568328b433ab55055bc63d14cb1",
      "value": " 570/570 [00:00&lt;00:00, 11.5kB/s]"
     }
    },
    "839c9b5119d74e9d90e656d7396d7772": {
     "model_module": "@jupyter-widgets/controls",
     "model_module_version": "1.5.0",
     "model_name": "DescriptionStyleModel",
     "state": {
      "_model_module": "@jupyter-widgets/controls",
      "_model_module_version": "1.5.0",
      "_model_name": "DescriptionStyleModel",
      "_view_count": null,
      "_view_module": "@jupyter-widgets/base",
      "_view_module_version": "1.2.0",
      "_view_name": "StyleView",
      "description_width": ""
     }
    },
    "8b7322ba6d694a4b9bbf4acd5dbf6d96": {
     "model_module": "@jupyter-widgets/controls",
     "model_module_version": "1.5.0",
     "model_name": "DescriptionStyleModel",
     "state": {
      "_model_module": "@jupyter-widgets/controls",
      "_model_module_version": "1.5.0",
      "_model_name": "DescriptionStyleModel",
      "_view_count": null,
      "_view_module": "@jupyter-widgets/base",
      "_view_module_version": "1.2.0",
      "_view_name": "StyleView",
      "description_width": ""
     }
    },
    "8d745ff1fcf24affab9bdcd64ef71adc": {
     "model_module": "@jupyter-widgets/base",
     "model_module_version": "1.2.0",
     "model_name": "LayoutModel",
     "state": {
      "_model_module": "@jupyter-widgets/base",
      "_model_module_version": "1.2.0",
      "_model_name": "LayoutModel",
      "_view_count": null,
      "_view_module": "@jupyter-widgets/base",
      "_view_module_version": "1.2.0",
      "_view_name": "LayoutView",
      "align_content": null,
      "align_items": null,
      "align_self": null,
      "border": null,
      "bottom": null,
      "display": null,
      "flex": null,
      "flex_flow": null,
      "grid_area": null,
      "grid_auto_columns": null,
      "grid_auto_flow": null,
      "grid_auto_rows": null,
      "grid_column": null,
      "grid_gap": null,
      "grid_row": null,
      "grid_template_areas": null,
      "grid_template_columns": null,
      "grid_template_rows": null,
      "height": null,
      "justify_content": null,
      "justify_items": null,
      "left": null,
      "margin": null,
      "max_height": null,
      "max_width": null,
      "min_height": null,
      "min_width": null,
      "object_fit": null,
      "object_position": null,
      "order": null,
      "overflow": null,
      "overflow_x": null,
      "overflow_y": null,
      "padding": null,
      "right": null,
      "top": null,
      "visibility": null,
      "width": null
     }
    },
    "921cc4c79ce9404b830aabcb1924689b": {
     "model_module": "@jupyter-widgets/controls",
     "model_module_version": "1.5.0",
     "model_name": "DescriptionStyleModel",
     "state": {
      "_model_module": "@jupyter-widgets/controls",
      "_model_module_version": "1.5.0",
      "_model_name": "DescriptionStyleModel",
      "_view_count": null,
      "_view_module": "@jupyter-widgets/base",
      "_view_module_version": "1.2.0",
      "_view_name": "StyleView",
      "description_width": ""
     }
    },
    "963c6cbdc3ed4733afc313f34ac2560d": {
     "model_module": "@jupyter-widgets/controls",
     "model_module_version": "1.5.0",
     "model_name": "FloatProgressModel",
     "state": {
      "_dom_classes": [],
      "_model_module": "@jupyter-widgets/controls",
      "_model_module_version": "1.5.0",
      "_model_name": "FloatProgressModel",
      "_view_count": null,
      "_view_module": "@jupyter-widgets/controls",
      "_view_module_version": "1.5.0",
      "_view_name": "ProgressView",
      "bar_style": "success",
      "description": "",
      "description_tooltip": null,
      "layout": "IPY_MODEL_46faae23da2d4bdf8313c7fc1fee9ebd",
      "max": 231508,
      "min": 0,
      "orientation": "horizontal",
      "style": "IPY_MODEL_bba2d297d7e347c19b1aa73597d90173",
      "value": 231508
     }
    },
    "975e372a0a4646eb940e7c40ba5a6220": {
     "model_module": "@jupyter-widgets/controls",
     "model_module_version": "1.5.0",
     "model_name": "HTMLModel",
     "state": {
      "_dom_classes": [],
      "_model_module": "@jupyter-widgets/controls",
      "_model_module_version": "1.5.0",
      "_model_name": "HTMLModel",
      "_view_count": null,
      "_view_module": "@jupyter-widgets/controls",
      "_view_module_version": "1.5.0",
      "_view_name": "HTMLView",
      "description": "",
      "description_tooltip": null,
      "layout": "IPY_MODEL_6697162c10c64dd6b72eccc7decd8a6a",
      "placeholder": "​",
      "style": "IPY_MODEL_8b7322ba6d694a4b9bbf4acd5dbf6d96",
      "value": "Downloading tokenizer_config.json: 100%"
     }
    },
    "9f54b3b81e43494a988989ed71e015a4": {
     "model_module": "@jupyter-widgets/controls",
     "model_module_version": "1.5.0",
     "model_name": "DescriptionStyleModel",
     "state": {
      "_model_module": "@jupyter-widgets/controls",
      "_model_module_version": "1.5.0",
      "_model_name": "DescriptionStyleModel",
      "_view_count": null,
      "_view_module": "@jupyter-widgets/base",
      "_view_module_version": "1.2.0",
      "_view_name": "StyleView",
      "description_width": ""
     }
    },
    "ad0ff99c28624c94b9344b6687dac20c": {
     "model_module": "@jupyter-widgets/controls",
     "model_module_version": "1.5.0",
     "model_name": "HBoxModel",
     "state": {
      "_dom_classes": [],
      "_model_module": "@jupyter-widgets/controls",
      "_model_module_version": "1.5.0",
      "_model_name": "HBoxModel",
      "_view_count": null,
      "_view_module": "@jupyter-widgets/controls",
      "_view_module_version": "1.5.0",
      "_view_name": "HBoxView",
      "box_style": "",
      "children": [
       "IPY_MODEL_7cdbb26788924a7095af0e5be64270bd",
       "IPY_MODEL_b3b23d293f08428785d4537f880915ef",
       "IPY_MODEL_807686b6f4d74b7dafee2d0e9c0988fc"
      ],
      "layout": "IPY_MODEL_7ebd4474ac33482dbe5b32f2464c4611"
     }
    },
    "ad52cf8a7c284bf8a3c1b706da7a4a07": {
     "model_module": "@jupyter-widgets/base",
     "model_module_version": "1.2.0",
     "model_name": "LayoutModel",
     "state": {
      "_model_module": "@jupyter-widgets/base",
      "_model_module_version": "1.2.0",
      "_model_name": "LayoutModel",
      "_view_count": null,
      "_view_module": "@jupyter-widgets/base",
      "_view_module_version": "1.2.0",
      "_view_name": "LayoutView",
      "align_content": null,
      "align_items": null,
      "align_self": null,
      "border": null,
      "bottom": null,
      "display": null,
      "flex": null,
      "flex_flow": null,
      "grid_area": null,
      "grid_auto_columns": null,
      "grid_auto_flow": null,
      "grid_auto_rows": null,
      "grid_column": null,
      "grid_gap": null,
      "grid_row": null,
      "grid_template_areas": null,
      "grid_template_columns": null,
      "grid_template_rows": null,
      "height": null,
      "justify_content": null,
      "justify_items": null,
      "left": null,
      "margin": null,
      "max_height": null,
      "max_width": null,
      "min_height": null,
      "min_width": null,
      "object_fit": null,
      "object_position": null,
      "order": null,
      "overflow": null,
      "overflow_x": null,
      "overflow_y": null,
      "padding": null,
      "right": null,
      "top": null,
      "visibility": null,
      "width": null
     }
    },
    "b0ba4d8b3cb74aa7ac0e969fd96dc28b": {
     "model_module": "@jupyter-widgets/controls",
     "model_module_version": "1.5.0",
     "model_name": "HBoxModel",
     "state": {
      "_dom_classes": [],
      "_model_module": "@jupyter-widgets/controls",
      "_model_module_version": "1.5.0",
      "_model_name": "HBoxModel",
      "_view_count": null,
      "_view_module": "@jupyter-widgets/controls",
      "_view_module_version": "1.5.0",
      "_view_name": "HBoxView",
      "box_style": "",
      "children": [
       "IPY_MODEL_1634b83577314dc6ac6c524cba669f01",
       "IPY_MODEL_963c6cbdc3ed4733afc313f34ac2560d",
       "IPY_MODEL_798651ad359a499094c3b17848f291ae"
      ],
      "layout": "IPY_MODEL_bd48dca500574bd5aab107bb7d5ae846"
     }
    },
    "b3b23d293f08428785d4537f880915ef": {
     "model_module": "@jupyter-widgets/controls",
     "model_module_version": "1.5.0",
     "model_name": "FloatProgressModel",
     "state": {
      "_dom_classes": [],
      "_model_module": "@jupyter-widgets/controls",
      "_model_module_version": "1.5.0",
      "_model_name": "FloatProgressModel",
      "_view_count": null,
      "_view_module": "@jupyter-widgets/controls",
      "_view_module_version": "1.5.0",
      "_view_name": "ProgressView",
      "bar_style": "success",
      "description": "",
      "description_tooltip": null,
      "layout": "IPY_MODEL_5d20192dd812423c9d2b03a0edc12414",
      "max": 570,
      "min": 0,
      "orientation": "horizontal",
      "style": "IPY_MODEL_45019820025f4b04a2213c4eefb7cf1d",
      "value": 570
     }
    },
    "ba4b190b429d4aee84ccb0fe3b6ad30b": {
     "model_module": "@jupyter-widgets/controls",
     "model_module_version": "1.5.0",
     "model_name": "ProgressStyleModel",
     "state": {
      "_model_module": "@jupyter-widgets/controls",
      "_model_module_version": "1.5.0",
      "_model_name": "ProgressStyleModel",
      "_view_count": null,
      "_view_module": "@jupyter-widgets/base",
      "_view_module_version": "1.2.0",
      "_view_name": "StyleView",
      "bar_color": null,
      "description_width": ""
     }
    },
    "bba2d297d7e347c19b1aa73597d90173": {
     "model_module": "@jupyter-widgets/controls",
     "model_module_version": "1.5.0",
     "model_name": "ProgressStyleModel",
     "state": {
      "_model_module": "@jupyter-widgets/controls",
      "_model_module_version": "1.5.0",
      "_model_name": "ProgressStyleModel",
      "_view_count": null,
      "_view_module": "@jupyter-widgets/base",
      "_view_module_version": "1.2.0",
      "_view_name": "StyleView",
      "bar_color": null,
      "description_width": ""
     }
    },
    "bd48dca500574bd5aab107bb7d5ae846": {
     "model_module": "@jupyter-widgets/base",
     "model_module_version": "1.2.0",
     "model_name": "LayoutModel",
     "state": {
      "_model_module": "@jupyter-widgets/base",
      "_model_module_version": "1.2.0",
      "_model_name": "LayoutModel",
      "_view_count": null,
      "_view_module": "@jupyter-widgets/base",
      "_view_module_version": "1.2.0",
      "_view_name": "LayoutView",
      "align_content": null,
      "align_items": null,
      "align_self": null,
      "border": null,
      "bottom": null,
      "display": null,
      "flex": null,
      "flex_flow": null,
      "grid_area": null,
      "grid_auto_columns": null,
      "grid_auto_flow": null,
      "grid_auto_rows": null,
      "grid_column": null,
      "grid_gap": null,
      "grid_row": null,
      "grid_template_areas": null,
      "grid_template_columns": null,
      "grid_template_rows": null,
      "height": null,
      "justify_content": null,
      "justify_items": null,
      "left": null,
      "margin": null,
      "max_height": null,
      "max_width": null,
      "min_height": null,
      "min_width": null,
      "object_fit": null,
      "object_position": null,
      "order": null,
      "overflow": null,
      "overflow_x": null,
      "overflow_y": null,
      "padding": null,
      "right": null,
      "top": null,
      "visibility": null,
      "width": null
     }
    },
    "caa37f44e1944af8b7d4bc9cff19509c": {
     "model_module": "@jupyter-widgets/base",
     "model_module_version": "1.2.0",
     "model_name": "LayoutModel",
     "state": {
      "_model_module": "@jupyter-widgets/base",
      "_model_module_version": "1.2.0",
      "_model_name": "LayoutModel",
      "_view_count": null,
      "_view_module": "@jupyter-widgets/base",
      "_view_module_version": "1.2.0",
      "_view_name": "LayoutView",
      "align_content": null,
      "align_items": null,
      "align_self": null,
      "border": null,
      "bottom": null,
      "display": null,
      "flex": null,
      "flex_flow": null,
      "grid_area": null,
      "grid_auto_columns": null,
      "grid_auto_flow": null,
      "grid_auto_rows": null,
      "grid_column": null,
      "grid_gap": null,
      "grid_row": null,
      "grid_template_areas": null,
      "grid_template_columns": null,
      "grid_template_rows": null,
      "height": null,
      "justify_content": null,
      "justify_items": null,
      "left": null,
      "margin": null,
      "max_height": null,
      "max_width": null,
      "min_height": null,
      "min_width": null,
      "object_fit": null,
      "object_position": null,
      "order": null,
      "overflow": null,
      "overflow_x": null,
      "overflow_y": null,
      "padding": null,
      "right": null,
      "top": null,
      "visibility": null,
      "width": null
     }
    },
    "cddca8cc5eab4fb189c97636da23af59": {
     "model_module": "@jupyter-widgets/base",
     "model_module_version": "1.2.0",
     "model_name": "LayoutModel",
     "state": {
      "_model_module": "@jupyter-widgets/base",
      "_model_module_version": "1.2.0",
      "_model_name": "LayoutModel",
      "_view_count": null,
      "_view_module": "@jupyter-widgets/base",
      "_view_module_version": "1.2.0",
      "_view_name": "LayoutView",
      "align_content": null,
      "align_items": null,
      "align_self": null,
      "border": null,
      "bottom": null,
      "display": null,
      "flex": null,
      "flex_flow": null,
      "grid_area": null,
      "grid_auto_columns": null,
      "grid_auto_flow": null,
      "grid_auto_rows": null,
      "grid_column": null,
      "grid_gap": null,
      "grid_row": null,
      "grid_template_areas": null,
      "grid_template_columns": null,
      "grid_template_rows": null,
      "height": null,
      "justify_content": null,
      "justify_items": null,
      "left": null,
      "margin": null,
      "max_height": null,
      "max_width": null,
      "min_height": null,
      "min_width": null,
      "object_fit": null,
      "object_position": null,
      "order": null,
      "overflow": null,
      "overflow_x": null,
      "overflow_y": null,
      "padding": null,
      "right": null,
      "top": null,
      "visibility": null,
      "width": null
     }
    },
    "de830a88d85b4f828a32cef6efda4409": {
     "model_module": "@jupyter-widgets/controls",
     "model_module_version": "1.5.0",
     "model_name": "FloatProgressModel",
     "state": {
      "_dom_classes": [],
      "_model_module": "@jupyter-widgets/controls",
      "_model_module_version": "1.5.0",
      "_model_name": "FloatProgressModel",
      "_view_count": null,
      "_view_module": "@jupyter-widgets/controls",
      "_view_module_version": "1.5.0",
      "_view_name": "ProgressView",
      "bar_style": "success",
      "description": "",
      "description_tooltip": null,
      "layout": "IPY_MODEL_ad52cf8a7c284bf8a3c1b706da7a4a07",
      "max": 440473133,
      "min": 0,
      "orientation": "horizontal",
      "style": "IPY_MODEL_ba4b190b429d4aee84ccb0fe3b6ad30b",
      "value": 440473133
     }
    },
    "e6a03635646f46c1ae6aae430057a7a1": {
     "model_module": "@jupyter-widgets/controls",
     "model_module_version": "1.5.0",
     "model_name": "DescriptionStyleModel",
     "state": {
      "_model_module": "@jupyter-widgets/controls",
      "_model_module_version": "1.5.0",
      "_model_name": "DescriptionStyleModel",
      "_view_count": null,
      "_view_module": "@jupyter-widgets/base",
      "_view_module_version": "1.2.0",
      "_view_name": "StyleView",
      "description_width": ""
     }
    },
    "e9f33432329142b2801bb44af315ec1c": {
     "model_module": "@jupyter-widgets/controls",
     "model_module_version": "1.5.0",
     "model_name": "FloatProgressModel",
     "state": {
      "_dom_classes": [],
      "_model_module": "@jupyter-widgets/controls",
      "_model_module_version": "1.5.0",
      "_model_name": "FloatProgressModel",
      "_view_count": null,
      "_view_module": "@jupyter-widgets/controls",
      "_view_module_version": "1.5.0",
      "_view_name": "ProgressView",
      "bar_style": "success",
      "description": "",
      "description_tooltip": null,
      "layout": "IPY_MODEL_5293b6ed693b4e90824715af496a72b6",
      "max": 28,
      "min": 0,
      "orientation": "horizontal",
      "style": "IPY_MODEL_7f292b46e80842ca8c62664e352266a8",
      "value": 28
     }
    },
    "ed8a385113214f29b04f4ba1d6b566b6": {
     "model_module": "@jupyter-widgets/controls",
     "model_module_version": "1.5.0",
     "model_name": "DescriptionStyleModel",
     "state": {
      "_model_module": "@jupyter-widgets/controls",
      "_model_module_version": "1.5.0",
      "_model_name": "DescriptionStyleModel",
      "_view_count": null,
      "_view_module": "@jupyter-widgets/base",
      "_view_module_version": "1.2.0",
      "_view_name": "StyleView",
      "description_width": ""
     }
    },
    "f0e7908e619d4fb5847db8ccb77b6609": {
     "model_module": "@jupyter-widgets/base",
     "model_module_version": "1.2.0",
     "model_name": "LayoutModel",
     "state": {
      "_model_module": "@jupyter-widgets/base",
      "_model_module_version": "1.2.0",
      "_model_name": "LayoutModel",
      "_view_count": null,
      "_view_module": "@jupyter-widgets/base",
      "_view_module_version": "1.2.0",
      "_view_name": "LayoutView",
      "align_content": null,
      "align_items": null,
      "align_self": null,
      "border": null,
      "bottom": null,
      "display": null,
      "flex": null,
      "flex_flow": null,
      "grid_area": null,
      "grid_auto_columns": null,
      "grid_auto_flow": null,
      "grid_auto_rows": null,
      "grid_column": null,
      "grid_gap": null,
      "grid_row": null,
      "grid_template_areas": null,
      "grid_template_columns": null,
      "grid_template_rows": null,
      "height": null,
      "justify_content": null,
      "justify_items": null,
      "left": null,
      "margin": null,
      "max_height": null,
      "max_width": null,
      "min_height": null,
      "min_width": null,
      "object_fit": null,
      "object_position": null,
      "order": null,
      "overflow": null,
      "overflow_x": null,
      "overflow_y": null,
      "padding": null,
      "right": null,
      "top": null,
      "visibility": null,
      "width": null
     }
    }
   }
  }
 },
 "nbformat": 4,
 "nbformat_minor": 4
}
