{
 "cells": [
  {
   "cell_type": "markdown",
   "metadata": {
    "id": "Sph-HYUyIeRk"
   },
   "source": [
    "### Article's Code\n",
    "You can find it in <a href='https://github.com/wuningxi/tBERT'>this</a> Github.\n"
   ]
  },
  {
   "cell_type": "markdown",
   "metadata": {
    "id": "Zhce49Y27Lvq"
   },
   "source": [
    "### Prerequisites:"
   ]
  },
  {
   "cell_type": "code",
   "execution_count": 1,
   "metadata": {
    "colab": {
     "base_uri": "https://localhost:8080/"
    },
    "executionInfo": {
     "elapsed": 10554,
     "status": "ok",
     "timestamp": 1660492675668,
     "user": {
      "displayName": "Ilan Alex Golik",
      "userId": "15856695005902315184"
     },
     "user_tz": -180
    },
    "id": "8SMUUB6P5RvW",
    "outputId": "de04ecef-0487-4587-85e2-633bbfcf412c"
   },
   "outputs": [
    {
     "name": "stdout",
     "output_type": "stream",
     "text": [
      "\u001b[K     |████████████████████████████████| 4.7 MB 8.3 MB/s \n",
      "\u001b[K     |████████████████████████████████| 596 kB 76.3 MB/s \n",
      "\u001b[K     |████████████████████████████████| 6.6 MB 69.6 MB/s \n",
      "\u001b[K     |████████████████████████████████| 101 kB 10.0 MB/s \n",
      "\u001b[?25h"
     ]
    }
   ],
   "source": [
    "!pip install --quiet transformers"
   ]
  },
  {
   "cell_type": "markdown",
   "metadata": {
    "id": "TaSpFcqU7Qlv"
   },
   "source": [
    "### Imports:"
   ]
  },
  {
   "cell_type": "code",
   "execution_count": 2,
   "metadata": {
    "executionInfo": {
     "elapsed": 19610,
     "status": "ok",
     "timestamp": 1660492695273,
     "user": {
      "displayName": "Ilan Alex Golik",
      "userId": "15856695005902315184"
     },
     "user_tz": -180
    },
    "id": "K8RP-19ogtcq"
   },
   "outputs": [],
   "source": [
    "import gc\n",
    "import random\n",
    "import warnings\n",
    "\n",
    "\n",
    "import pickle\n",
    "import numpy as np\n",
    "import pandas as pd\n",
    "import matplotlib.pyplot as plt\n",
    "from wordcloud import WordCloud, STOPWORDS\n",
    "\n",
    "\n",
    "import nltk\n",
    "from nltk.corpus import stopwords \n",
    "from nltk.tokenize import word_tokenize\n",
    "\n",
    "\n",
    "import torch\n",
    "from torch import nn\n",
    "import torch.optim as optim\n",
    "from torch.cuda import empty_cache\n",
    "from torch.utils.data import DataLoader, random_split\n",
    "\n",
    "\n",
    "from transformers import logging\n",
    "from transformers import EarlyStoppingCallback\n",
    "from transformers import TrainingArguments, Trainer\n",
    "from transformers import BertModel,BertTokenizer\n",
    "from transformers.file_utils import is_tf_available, is_torch_available, is_torch_tpu_available\n",
    "\n",
    "\n",
    "from sklearn.model_selection import train_test_split\n",
    "from sklearn.decomposition import LatentDirichletAllocation\n",
    "from sklearn.feature_extraction.text import TfidfVectorizer, CountVectorizer\n",
    "from sklearn.metrics import accuracy_score, recall_score, precision_score, f1_score,classification_report\n",
    "\n",
    "from sklearn.utils import compute_class_weight\n",
    "from tqdm import tqdm\n",
    "\n",
    "import gensim, spacy\n",
    "import gensim.corpora as corpora\n",
    "from nltk.corpus import stopwords\n",
    "\n",
    "import pandas as pd\n",
    "import re\n",
    "from tqdm import tqdm\n",
    "import time\n",
    "\n",
    "from collections import defaultdict\n",
    "from google.colab import drive"
   ]
  },
  {
   "cell_type": "markdown",
   "metadata": {
    "id": "7iHzjW8kfJaG"
   },
   "source": [
    "##### Warnings & Verbose"
   ]
  },
  {
   "cell_type": "code",
   "execution_count": 3,
   "metadata": {
    "executionInfo": {
     "elapsed": 25,
     "status": "ok",
     "timestamp": 1660492695275,
     "user": {
      "displayName": "Ilan Alex Golik",
      "userId": "15856695005902315184"
     },
     "user_tz": -180
    },
    "id": "8WEWKsq2fIbn"
   },
   "outputs": [],
   "source": [
    "warnings.filterwarnings(\"ignore\") # general\n",
    "logging.set_verbosity_error() # huggingface"
   ]
  },
  {
   "cell_type": "markdown",
   "metadata": {
    "id": "pYQOVtPp7TkY"
   },
   "source": [
    "##### Setup -  Natural Language Tool Kit "
   ]
  },
  {
   "cell_type": "code",
   "execution_count": 4,
   "metadata": {
    "colab": {
     "base_uri": "https://localhost:8080/"
    },
    "executionInfo": {
     "elapsed": 371,
     "status": "ok",
     "timestamp": 1660492696052,
     "user": {
      "displayName": "Ilan Alex Golik",
      "userId": "15856695005902315184"
     },
     "user_tz": -180
    },
    "id": "czUOJpyLgzPc",
    "outputId": "c0302f85-5f61-40cd-d7d2-83b61c41b2da"
   },
   "outputs": [
    {
     "name": "stderr",
     "output_type": "stream",
     "text": [
      "[nltk_data] Downloading package punkt to /root/nltk_data...\n",
      "[nltk_data]   Unzipping tokenizers/punkt.zip.\n",
      "[nltk_data] Downloading package stopwords to /root/nltk_data...\n",
      "[nltk_data]   Unzipping corpora/stopwords.zip.\n",
      "[nltk_data] Downloading package averaged_perceptron_tagger to\n",
      "[nltk_data]     /root/nltk_data...\n",
      "[nltk_data]   Unzipping taggers/averaged_perceptron_tagger.zip.\n"
     ]
    },
    {
     "data": {
      "text/plain": [
       "True"
      ]
     },
     "execution_count": 4,
     "metadata": {},
     "output_type": "execute_result"
    }
   ],
   "source": [
    "nltk.download('punkt')\n",
    "nltk.download('stopwords')\n",
    "nltk.download('averaged_perceptron_tagger')"
   ]
  },
  {
   "cell_type": "markdown",
   "metadata": {
    "id": "KRdRW1Zy7fV4"
   },
   "source": [
    "##### Setup - Google Drive"
   ]
  },
  {
   "cell_type": "code",
   "execution_count": 5,
   "metadata": {
    "colab": {
     "base_uri": "https://localhost:8080/"
    },
    "executionInfo": {
     "elapsed": 24440,
     "status": "ok",
     "timestamp": 1660492720485,
     "user": {
      "displayName": "Ilan Alex Golik",
      "userId": "15856695005902315184"
     },
     "user_tz": -180
    },
    "id": "2OcLhQnjg1GH",
    "outputId": "4c06ac69-8af7-45a9-fcca-8503fbf4e8ce"
   },
   "outputs": [
    {
     "name": "stdout",
     "output_type": "stream",
     "text": [
      "Mounted at /content/drive\n"
     ]
    }
   ],
   "source": [
    "drive.mount('/content/drive')"
   ]
  },
  {
   "cell_type": "code",
   "execution_count": 6,
   "metadata": {
    "colab": {
     "base_uri": "https://localhost:8080/"
    },
    "executionInfo": {
     "elapsed": 433,
     "status": "ok",
     "timestamp": 1660492720903,
     "user": {
      "displayName": "Ilan Alex Golik",
      "userId": "15856695005902315184"
     },
     "user_tz": -180
    },
    "id": "vHSTV5wdyWtS",
    "outputId": "3f6ba40f-37b5-48d1-d978-93bd6d0b40c7"
   },
   "outputs": [
    {
     "name": "stdout",
     "output_type": "stream",
     "text": [
      "/content/drive/MyDrive/NLP/tBert-final-project/tBERT\n"
     ]
    }
   ],
   "source": [
    "%cd drive/MyDrive/NLP/tBert-final-project/tBERT/"
   ]
  },
  {
   "cell_type": "code",
   "execution_count": 7,
   "metadata": {
    "colab": {
     "base_uri": "https://localhost:8080/"
    },
    "executionInfo": {
     "elapsed": 311,
     "status": "ok",
     "timestamp": 1660492721207,
     "user": {
      "displayName": "Ilan Alex Golik",
      "userId": "15856695005902315184"
     },
     "user_tz": -180
    },
    "id": "2wAlmDJ28i3E",
    "outputId": "f0375942-60a6-40b7-b0c2-62bdf8065e77"
   },
   "outputs": [
    {
     "name": "stdout",
     "output_type": "stream",
     "text": [
      "Code_Article_Torch_Original.ipynb\n",
      "data\n",
      "gensim-lda.ipynb\n",
      "lda_bert.ipynb\n",
      "lda_cv.ipynb\n",
      "results\n",
      "Sentiment_Analysis_and_Topic_Modelling_on_Brand-Related_Social_Media_Data.pdf\n",
      "tBERT.jpg\n",
      "tBERT_with_GSDMM.ipynb\n",
      "tBERT_with_LDA.ipynb\n",
      "tBERT_with_LDA_QOURA.ipynb\n"
     ]
    }
   ],
   "source": [
    "!ls"
   ]
  },
  {
   "cell_type": "code",
   "execution_count": 8,
   "metadata": {
    "executionInfo": {
     "elapsed": 15,
     "status": "ok",
     "timestamp": 1660492721208,
     "user": {
      "displayName": "Ilan Alex Golik",
      "userId": "15856695005902315184"
     },
     "user_tz": -180
    },
    "id": "RPzvoqQ8Augw"
   },
   "outputs": [],
   "source": [
    "SEED = 82"
   ]
  },
  {
   "cell_type": "code",
   "execution_count": 9,
   "metadata": {
    "executionInfo": {
     "elapsed": 15,
     "status": "ok",
     "timestamp": 1660492721209,
     "user": {
      "displayName": "Ilan Alex Golik",
      "userId": "15856695005902315184"
     },
     "user_tz": -180
    },
    "id": "Yj769BUk_gIC"
   },
   "outputs": [],
   "source": [
    "def set_seed(seed: int):\n",
    "    \"\"\"\n",
    "    Helper function for reproducible behavior to set the seed in ``random``, ``numpy``, ``torch`` and/or ``tf`` (if\n",
    "    installed).\n",
    "\n",
    "    Args:\n",
    "        seed (:obj:`int`): The seed to set.\n",
    "    \"\"\"\n",
    "    random.seed(seed)\n",
    "    np.random.seed(seed)\n",
    "    if is_torch_available():\n",
    "        torch.manual_seed(seed)\n",
    "        torch.cuda.manual_seed_all(seed)\n",
    "        # ^^ safe to call this function even if cuda is not available\n",
    "    if is_tf_available():\n",
    "        import tensorflow as tf\n",
    "\n",
    "        tf.random.set_seed(seed)\n",
    "\n",
    "set_seed(SEED)"
   ]
  },
  {
   "cell_type": "markdown",
   "metadata": {
    "id": "tQf3Yzez7plK"
   },
   "source": [
    "## Dataset"
   ]
  },
  {
   "cell_type": "markdown",
   "metadata": {
    "id": "ebWQqrJF1Tnc"
   },
   "source": [
    "##### Torch's Dataset"
   ]
  },
  {
   "cell_type": "code",
   "execution_count": 10,
   "metadata": {
    "executionInfo": {
     "elapsed": 14,
     "status": "ok",
     "timestamp": 1660492721209,
     "user": {
      "displayName": "Ilan Alex Golik",
      "userId": "15856695005902315184"
     },
     "user_tz": -180
    },
    "id": "9QIrR0jn1T3o"
   },
   "outputs": [],
   "source": [
    "class Dataset(torch.utils.data.Dataset):\n",
    "    def __init__(self, encodings, labels):\n",
    "        self.encodings = encodings\n",
    "        self.labels = labels\n",
    "\n",
    "    def __getitem__(self, idx):\n",
    "        x = self.encodings[idx]\n",
    "        y = self.labels[idx]\n",
    "        return x,y\n",
    "\n",
    "    def __len__(self):\n",
    "        return len(self.encodings)\n",
    "\n",
    "\n",
    "class PairDataset(torch.utils.data.Dataset):\n",
    "    def __init__(self, text1,text2,labels):\n",
    "        self.text1  = text1\n",
    "        self.text2  = text2\n",
    "        self.labels = labels\n",
    "\n",
    "    def __getitem__(self, idx):\n",
    "        x1 = self.text1[idx]\n",
    "        x2 = self.text2[idx]\n",
    "        y = self.labels[idx]\n",
    "        return x1,x2,y\n",
    "\n",
    "    def __len__(self):\n",
    "        return len(self.labels)"
   ]
  },
  {
   "cell_type": "markdown",
   "metadata": {
    "id": "yA1sNv_8zDvb"
   },
   "source": [
    "### QUORA\n"
   ]
  },
  {
   "cell_type": "code",
   "execution_count": 11,
   "metadata": {
    "executionInfo": {
     "elapsed": 14,
     "status": "ok",
     "timestamp": 1660492721211,
     "user": {
      "displayName": "Ilan Alex Golik",
      "userId": "15856695005902315184"
     },
     "user_tz": -180
    },
    "id": "whiu_RqzzEDW"
   },
   "outputs": [],
   "source": [
    "quora_train = 'data/Quora/Quora_question_pair_partition/train.tsv'\n",
    "quora_val   = 'data/Quora/Quora_question_pair_partition/dev.tsv'\n",
    "quora_test  = 'data/Quora/Quora_question_pair_partition/test.tsv'"
   ]
  },
  {
   "cell_type": "markdown",
   "metadata": {
    "id": "WKkOa7Nbyob0"
   },
   "source": [
    "##### Create a dataframe"
   ]
  },
  {
   "cell_type": "code",
   "execution_count": 12,
   "metadata": {
    "colab": {
     "base_uri": "https://localhost:8080/"
    },
    "executionInfo": {
     "elapsed": 2981,
     "status": "ok",
     "timestamp": 1660492724179,
     "user": {
      "displayName": "Ilan Alex Golik",
      "userId": "15856695005902315184"
     },
     "user_tz": -180
    },
    "id": "Y6jODy3uyotR",
    "outputId": "d7dd1ecb-00be-478f-8d94-2799ab54cf2b"
   },
   "outputs": [
    {
     "data": {
      "text/plain": [
       "((384345, 3), (9999, 3), (9999, 3))"
      ]
     },
     "execution_count": 12,
     "metadata": {},
     "output_type": "execute_result"
    }
   ],
   "source": [
    "df_quora_train = pd.read_csv(quora_train, sep='\\t', header=0, error_bad_lines=False, warn_bad_lines=False, names=['label','q1','q2', 'id'],usecols=[0,1,2]).dropna()\n",
    "df_quora_val   = pd.read_csv(quora_val,   sep='\\t', header=0, error_bad_lines=False, warn_bad_lines=False, names=['label','q1','q2', 'id'],usecols=[0,1,2]).dropna()\n",
    "df_quora_test  = pd.read_csv(quora_test,  sep='\\t', header=0, error_bad_lines=False, warn_bad_lines=False, names=['label','q1','q2', 'id'],usecols=[0,1,2]).dropna()\n",
    "\n",
    "df_quora_train.shape,df_quora_val.shape,df_quora_test.shape\n"
   ]
  },
  {
   "cell_type": "code",
   "execution_count": 13,
   "metadata": {
    "colab": {
     "base_uri": "https://localhost:8080/",
     "height": 204
    },
    "executionInfo": {
     "elapsed": 21,
     "status": "ok",
     "timestamp": 1660492724180,
     "user": {
      "displayName": "Ilan Alex Golik",
      "userId": "15856695005902315184"
     },
     "user_tz": -180
    },
    "id": "8ASh7owJqjht",
    "outputId": "e91d783b-46b4-480b-968d-8b82dec1bbea"
   },
   "outputs": [
    {
     "data": {
      "text/html": [
       "\n",
       "  <div id=\"df-ad13eb34-5eeb-40be-987f-f61df0bff7ee\">\n",
       "    <div class=\"colab-df-container\">\n",
       "      <div>\n",
       "<style scoped>\n",
       "    .dataframe tbody tr th:only-of-type {\n",
       "        vertical-align: middle;\n",
       "    }\n",
       "\n",
       "    .dataframe tbody tr th {\n",
       "        vertical-align: top;\n",
       "    }\n",
       "\n",
       "    .dataframe thead th {\n",
       "        text-align: right;\n",
       "    }\n",
       "</style>\n",
       "<table border=\"1\" class=\"dataframe\">\n",
       "  <thead>\n",
       "    <tr style=\"text-align: right;\">\n",
       "      <th></th>\n",
       "      <th>label</th>\n",
       "      <th>q1</th>\n",
       "      <th>q2</th>\n",
       "    </tr>\n",
       "  </thead>\n",
       "  <tbody>\n",
       "    <tr>\n",
       "      <th>0</th>\n",
       "      <td>0</td>\n",
       "      <td>Currently , all Supreme Court Justices come fr...</td>\n",
       "      <td>What 's your type of jungle -LRB- concrete or ...</td>\n",
       "    </tr>\n",
       "    <tr>\n",
       "      <th>1</th>\n",
       "      <td>1</td>\n",
       "      <td>Why is saltwater taffy candy imported in Austr...</td>\n",
       "      <td>Why is salt water taffy candy unknown in Japan ?</td>\n",
       "    </tr>\n",
       "    <tr>\n",
       "      <th>2</th>\n",
       "      <td>0</td>\n",
       "      <td>Who has the better stable of characters , DC o...</td>\n",
       "      <td>Which is better - DC or Marvel ?</td>\n",
       "    </tr>\n",
       "    <tr>\n",
       "      <th>3</th>\n",
       "      <td>1</td>\n",
       "      <td>What is difference between CAT and GMAT in ter...</td>\n",
       "      <td>What is the difference between the CAT and GMA...</td>\n",
       "    </tr>\n",
       "    <tr>\n",
       "      <th>4</th>\n",
       "      <td>0</td>\n",
       "      <td>How can I stop being addicted to love ?</td>\n",
       "      <td>How can I stop being so addicted to my phone ?</td>\n",
       "    </tr>\n",
       "  </tbody>\n",
       "</table>\n",
       "</div>\n",
       "      <button class=\"colab-df-convert\" onclick=\"convertToInteractive('df-ad13eb34-5eeb-40be-987f-f61df0bff7ee')\"\n",
       "              title=\"Convert this dataframe to an interactive table.\"\n",
       "              style=\"display:none;\">\n",
       "        \n",
       "  <svg xmlns=\"http://www.w3.org/2000/svg\" height=\"24px\"viewBox=\"0 0 24 24\"\n",
       "       width=\"24px\">\n",
       "    <path d=\"M0 0h24v24H0V0z\" fill=\"none\"/>\n",
       "    <path d=\"M18.56 5.44l.94 2.06.94-2.06 2.06-.94-2.06-.94-.94-2.06-.94 2.06-2.06.94zm-11 1L8.5 8.5l.94-2.06 2.06-.94-2.06-.94L8.5 2.5l-.94 2.06-2.06.94zm10 10l.94 2.06.94-2.06 2.06-.94-2.06-.94-.94-2.06-.94 2.06-2.06.94z\"/><path d=\"M17.41 7.96l-1.37-1.37c-.4-.4-.92-.59-1.43-.59-.52 0-1.04.2-1.43.59L10.3 9.45l-7.72 7.72c-.78.78-.78 2.05 0 2.83L4 21.41c.39.39.9.59 1.41.59.51 0 1.02-.2 1.41-.59l7.78-7.78 2.81-2.81c.8-.78.8-2.07 0-2.86zM5.41 20L4 18.59l7.72-7.72 1.47 1.35L5.41 20z\"/>\n",
       "  </svg>\n",
       "      </button>\n",
       "      \n",
       "  <style>\n",
       "    .colab-df-container {\n",
       "      display:flex;\n",
       "      flex-wrap:wrap;\n",
       "      gap: 12px;\n",
       "    }\n",
       "\n",
       "    .colab-df-convert {\n",
       "      background-color: #E8F0FE;\n",
       "      border: none;\n",
       "      border-radius: 50%;\n",
       "      cursor: pointer;\n",
       "      display: none;\n",
       "      fill: #1967D2;\n",
       "      height: 32px;\n",
       "      padding: 0 0 0 0;\n",
       "      width: 32px;\n",
       "    }\n",
       "\n",
       "    .colab-df-convert:hover {\n",
       "      background-color: #E2EBFA;\n",
       "      box-shadow: 0px 1px 2px rgba(60, 64, 67, 0.3), 0px 1px 3px 1px rgba(60, 64, 67, 0.15);\n",
       "      fill: #174EA6;\n",
       "    }\n",
       "\n",
       "    [theme=dark] .colab-df-convert {\n",
       "      background-color: #3B4455;\n",
       "      fill: #D2E3FC;\n",
       "    }\n",
       "\n",
       "    [theme=dark] .colab-df-convert:hover {\n",
       "      background-color: #434B5C;\n",
       "      box-shadow: 0px 1px 3px 1px rgba(0, 0, 0, 0.15);\n",
       "      filter: drop-shadow(0px 1px 2px rgba(0, 0, 0, 0.3));\n",
       "      fill: #FFFFFF;\n",
       "    }\n",
       "  </style>\n",
       "\n",
       "      <script>\n",
       "        const buttonEl =\n",
       "          document.querySelector('#df-ad13eb34-5eeb-40be-987f-f61df0bff7ee button.colab-df-convert');\n",
       "        buttonEl.style.display =\n",
       "          google.colab.kernel.accessAllowed ? 'block' : 'none';\n",
       "\n",
       "        async function convertToInteractive(key) {\n",
       "          const element = document.querySelector('#df-ad13eb34-5eeb-40be-987f-f61df0bff7ee');\n",
       "          const dataTable =\n",
       "            await google.colab.kernel.invokeFunction('convertToInteractive',\n",
       "                                                     [key], {});\n",
       "          if (!dataTable) return;\n",
       "\n",
       "          const docLinkHtml = 'Like what you see? Visit the ' +\n",
       "            '<a target=\"_blank\" href=https://colab.research.google.com/notebooks/data_table.ipynb>data table notebook</a>'\n",
       "            + ' to learn more about interactive tables.';\n",
       "          element.innerHTML = '';\n",
       "          dataTable['output_type'] = 'display_data';\n",
       "          await google.colab.output.renderOutput(dataTable, element);\n",
       "          const docLink = document.createElement('div');\n",
       "          docLink.innerHTML = docLinkHtml;\n",
       "          element.appendChild(docLink);\n",
       "        }\n",
       "      </script>\n",
       "    </div>\n",
       "  </div>\n",
       "  "
      ],
      "text/plain": [
       "   label                                                 q1  \\\n",
       "0      0  Currently , all Supreme Court Justices come fr...   \n",
       "1      1  Why is saltwater taffy candy imported in Austr...   \n",
       "2      0  Who has the better stable of characters , DC o...   \n",
       "3      1  What is difference between CAT and GMAT in ter...   \n",
       "4      0            How can I stop being addicted to love ?   \n",
       "\n",
       "                                                  q2  \n",
       "0  What 's your type of jungle -LRB- concrete or ...  \n",
       "1   Why is salt water taffy candy unknown in Japan ?  \n",
       "2                   Which is better - DC or Marvel ?  \n",
       "3  What is the difference between the CAT and GMA...  \n",
       "4     How can I stop being so addicted to my phone ?  "
      ]
     },
     "execution_count": 13,
     "metadata": {},
     "output_type": "execute_result"
    }
   ],
   "source": [
    "df_quora_train.head()"
   ]
  },
  {
   "cell_type": "code",
   "execution_count": 14,
   "metadata": {
    "colab": {
     "base_uri": "https://localhost:8080/",
     "height": 204
    },
    "executionInfo": {
     "elapsed": 13,
     "status": "ok",
     "timestamp": 1660492724181,
     "user": {
      "displayName": "Ilan Alex Golik",
      "userId": "15856695005902315184"
     },
     "user_tz": -180
    },
    "id": "zX0gpflrqX8q",
    "outputId": "9943be2a-bd16-469d-e1b5-0ed381cb5985"
   },
   "outputs": [
    {
     "data": {
      "text/html": [
       "\n",
       "  <div id=\"df-ce42ea47-d2fe-40b6-8abe-6ca8d07bffcc\">\n",
       "    <div class=\"colab-df-container\">\n",
       "      <div>\n",
       "<style scoped>\n",
       "    .dataframe tbody tr th:only-of-type {\n",
       "        vertical-align: middle;\n",
       "    }\n",
       "\n",
       "    .dataframe tbody tr th {\n",
       "        vertical-align: top;\n",
       "    }\n",
       "\n",
       "    .dataframe thead th {\n",
       "        text-align: right;\n",
       "    }\n",
       "</style>\n",
       "<table border=\"1\" class=\"dataframe\">\n",
       "  <thead>\n",
       "    <tr style=\"text-align: right;\">\n",
       "      <th></th>\n",
       "      <th>label</th>\n",
       "      <th>q1</th>\n",
       "      <th>q2</th>\n",
       "    </tr>\n",
       "  </thead>\n",
       "  <tbody>\n",
       "    <tr>\n",
       "      <th>0</th>\n",
       "      <td>0</td>\n",
       "      <td>Do women support each other more than men do ?</td>\n",
       "      <td>Do women need more compliments than men ?</td>\n",
       "    </tr>\n",
       "    <tr>\n",
       "      <th>1</th>\n",
       "      <td>1</td>\n",
       "      <td>How can one root android devices ?</td>\n",
       "      <td>How do I root an Android device ?</td>\n",
       "    </tr>\n",
       "    <tr>\n",
       "      <th>2</th>\n",
       "      <td>0</td>\n",
       "      <td>How did Hitler come to power ?</td>\n",
       "      <td>Who followed Hitler to power ?</td>\n",
       "    </tr>\n",
       "    <tr>\n",
       "      <th>3</th>\n",
       "      <td>1</td>\n",
       "      <td>Can we donate blood after getting a tattoo ?</td>\n",
       "      <td>Can I donate blood if I have a tattoo ?</td>\n",
       "    </tr>\n",
       "    <tr>\n",
       "      <th>4</th>\n",
       "      <td>0</td>\n",
       "      <td>What are reviews for the BioVault 2.0 Biometri...</td>\n",
       "      <td>Do you need a safe for a long gun in California ?</td>\n",
       "    </tr>\n",
       "  </tbody>\n",
       "</table>\n",
       "</div>\n",
       "      <button class=\"colab-df-convert\" onclick=\"convertToInteractive('df-ce42ea47-d2fe-40b6-8abe-6ca8d07bffcc')\"\n",
       "              title=\"Convert this dataframe to an interactive table.\"\n",
       "              style=\"display:none;\">\n",
       "        \n",
       "  <svg xmlns=\"http://www.w3.org/2000/svg\" height=\"24px\"viewBox=\"0 0 24 24\"\n",
       "       width=\"24px\">\n",
       "    <path d=\"M0 0h24v24H0V0z\" fill=\"none\"/>\n",
       "    <path d=\"M18.56 5.44l.94 2.06.94-2.06 2.06-.94-2.06-.94-.94-2.06-.94 2.06-2.06.94zm-11 1L8.5 8.5l.94-2.06 2.06-.94-2.06-.94L8.5 2.5l-.94 2.06-2.06.94zm10 10l.94 2.06.94-2.06 2.06-.94-2.06-.94-.94-2.06-.94 2.06-2.06.94z\"/><path d=\"M17.41 7.96l-1.37-1.37c-.4-.4-.92-.59-1.43-.59-.52 0-1.04.2-1.43.59L10.3 9.45l-7.72 7.72c-.78.78-.78 2.05 0 2.83L4 21.41c.39.39.9.59 1.41.59.51 0 1.02-.2 1.41-.59l7.78-7.78 2.81-2.81c.8-.78.8-2.07 0-2.86zM5.41 20L4 18.59l7.72-7.72 1.47 1.35L5.41 20z\"/>\n",
       "  </svg>\n",
       "      </button>\n",
       "      \n",
       "  <style>\n",
       "    .colab-df-container {\n",
       "      display:flex;\n",
       "      flex-wrap:wrap;\n",
       "      gap: 12px;\n",
       "    }\n",
       "\n",
       "    .colab-df-convert {\n",
       "      background-color: #E8F0FE;\n",
       "      border: none;\n",
       "      border-radius: 50%;\n",
       "      cursor: pointer;\n",
       "      display: none;\n",
       "      fill: #1967D2;\n",
       "      height: 32px;\n",
       "      padding: 0 0 0 0;\n",
       "      width: 32px;\n",
       "    }\n",
       "\n",
       "    .colab-df-convert:hover {\n",
       "      background-color: #E2EBFA;\n",
       "      box-shadow: 0px 1px 2px rgba(60, 64, 67, 0.3), 0px 1px 3px 1px rgba(60, 64, 67, 0.15);\n",
       "      fill: #174EA6;\n",
       "    }\n",
       "\n",
       "    [theme=dark] .colab-df-convert {\n",
       "      background-color: #3B4455;\n",
       "      fill: #D2E3FC;\n",
       "    }\n",
       "\n",
       "    [theme=dark] .colab-df-convert:hover {\n",
       "      background-color: #434B5C;\n",
       "      box-shadow: 0px 1px 3px 1px rgba(0, 0, 0, 0.15);\n",
       "      filter: drop-shadow(0px 1px 2px rgba(0, 0, 0, 0.3));\n",
       "      fill: #FFFFFF;\n",
       "    }\n",
       "  </style>\n",
       "\n",
       "      <script>\n",
       "        const buttonEl =\n",
       "          document.querySelector('#df-ce42ea47-d2fe-40b6-8abe-6ca8d07bffcc button.colab-df-convert');\n",
       "        buttonEl.style.display =\n",
       "          google.colab.kernel.accessAllowed ? 'block' : 'none';\n",
       "\n",
       "        async function convertToInteractive(key) {\n",
       "          const element = document.querySelector('#df-ce42ea47-d2fe-40b6-8abe-6ca8d07bffcc');\n",
       "          const dataTable =\n",
       "            await google.colab.kernel.invokeFunction('convertToInteractive',\n",
       "                                                     [key], {});\n",
       "          if (!dataTable) return;\n",
       "\n",
       "          const docLinkHtml = 'Like what you see? Visit the ' +\n",
       "            '<a target=\"_blank\" href=https://colab.research.google.com/notebooks/data_table.ipynb>data table notebook</a>'\n",
       "            + ' to learn more about interactive tables.';\n",
       "          element.innerHTML = '';\n",
       "          dataTable['output_type'] = 'display_data';\n",
       "          await google.colab.output.renderOutput(dataTable, element);\n",
       "          const docLink = document.createElement('div');\n",
       "          docLink.innerHTML = docLinkHtml;\n",
       "          element.appendChild(docLink);\n",
       "        }\n",
       "      </script>\n",
       "    </div>\n",
       "  </div>\n",
       "  "
      ],
      "text/plain": [
       "   label                                                 q1  \\\n",
       "0      0     Do women support each other more than men do ?   \n",
       "1      1                 How can one root android devices ?   \n",
       "2      0                     How did Hitler come to power ?   \n",
       "3      1       Can we donate blood after getting a tattoo ?   \n",
       "4      0  What are reviews for the BioVault 2.0 Biometri...   \n",
       "\n",
       "                                                  q2  \n",
       "0          Do women need more compliments than men ?  \n",
       "1                  How do I root an Android device ?  \n",
       "2                     Who followed Hitler to power ?  \n",
       "3            Can I donate blood if I have a tattoo ?  \n",
       "4  Do you need a safe for a long gun in California ?  "
      ]
     },
     "execution_count": 14,
     "metadata": {},
     "output_type": "execute_result"
    }
   ],
   "source": [
    "df_quora_test.head()"
   ]
  },
  {
   "cell_type": "markdown",
   "metadata": {
    "id": "ahoyIV-v1gYQ"
   },
   "source": [
    "##### Create PairDataset"
   ]
  },
  {
   "cell_type": "code",
   "execution_count": 15,
   "metadata": {
    "executionInfo": {
     "elapsed": 12,
     "status": "ok",
     "timestamp": 1660492724182,
     "user": {
      "displayName": "Ilan Alex Golik",
      "userId": "15856695005902315184"
     },
     "user_tz": -180
    },
    "id": "GDIjGu491gr_"
   },
   "outputs": [],
   "source": [
    "dataset_quora_train = PairDataset(df_quora_train.q1.values, df_quora_train.q2.values, df_quora_train.label.values)\n",
    "dataset_quora_val   = PairDataset(df_quora_val.q1.values,   df_quora_val.q2.values,   df_quora_val.label.values)\n",
    "dataset_quora_test  = PairDataset(df_quora_test.q1.values,  df_quora_test.q2.values,  df_quora_test.label.values)"
   ]
  },
  {
   "cell_type": "markdown",
   "metadata": {
    "id": "0cHNj8A0yZDC"
   },
   "source": [
    "##### Distribution - Traget Labels  \n"
   ]
  },
  {
   "cell_type": "code",
   "execution_count": 16,
   "metadata": {
    "colab": {
     "base_uri": "https://localhost:8080/",
     "height": 386
    },
    "executionInfo": {
     "elapsed": 515,
     "status": "ok",
     "timestamp": 1660492724685,
     "user": {
      "displayName": "Ilan Alex Golik",
      "userId": "15856695005902315184"
     },
     "user_tz": -180
    },
    "id": "-hWelPDfyYP4",
    "outputId": "227dc669-0751-45ed-e598-1b3a9fe35f6c"
   },
   "outputs": [
    {
     "data": {
      "image/png": "[encoded data removed]",
      "text/plain": [
       "<Figure size 1080x432 with 3 Axes>"
      ]
     },
     "metadata": {
      "needs_background": "light"
     },
     "output_type": "display_data"
    }
   ],
   "source": [
    "d = {'train':df_quora_train,'validation':df_quora_val,'test':df_quora_test}\n",
    "\n",
    "plt.figure(figsize=(15,6))\n",
    "\n",
    "for i,(k,v) in enumerate(d.items()):\n",
    "  plt.subplot(1,3,i+1)\n",
    "  v.label.value_counts().plot.bar();\n",
    "  plt.title('Label Distribution -  -' + k)"
   ]
  },
  {
   "cell_type": "markdown",
   "metadata": {
    "id": "cyWZsQEk-TXk"
   },
   "source": [
    "It is easy to see that there are twise as much \"true\" then \"false\" - as it was proposed in the article, will use the F1 parameter to evaluate our resulted model. In addition the quora dataset is very big, let us play with the size of the dataset. I will use this smaller sample to work through your problem before fitting a final model on all of your data (using progressive data loading techniques). It is a good practice in general for machine learning to give you quick spot-checks of algorithms and turnaround of results.\n",
    "<br><br>"
   ]
  },
  {
   "cell_type": "code",
   "execution_count": 17,
   "metadata": {
    "executionInfo": {
     "elapsed": 9,
     "status": "ok",
     "timestamp": 1660492724685,
     "user": {
      "displayName": "Ilan Alex Golik",
      "userId": "15856695005902315184"
     },
     "user_tz": -180
    },
    "id": "fclbMdR44dXI"
   },
   "outputs": [],
   "source": [
    "df_quora_train = df_quora_train.sample(frac=0.05, random_state=SEED)\n",
    "df_quora_val = df_quora_val.sample(frac=0.10, random_state=SEED)\n",
    "df_quora_test = df_quora_test.sample(frac=0.10, random_state=SEED)"
   ]
  },
  {
   "cell_type": "code",
   "execution_count": 18,
   "metadata": {
    "executionInfo": {
     "elapsed": 8,
     "status": "ok",
     "timestamp": 1660492724686,
     "user": {
      "displayName": "Ilan Alex Golik",
      "userId": "15856695005902315184"
     },
     "user_tz": -180
    },
    "id": "VnxaYoftDxG4"
   },
   "outputs": [],
   "source": [
    "dataset_quora_train = PairDataset(df_quora_train.q1.values, df_quora_train.q2.values, df_quora_train.label.values)\n",
    "dataset_quora_val   = PairDataset(df_quora_val.q1.values,   df_quora_val.q2.values,   df_quora_val.label.values)\n",
    "dataset_quora_test  = PairDataset(df_quora_test.q1.values,  df_quora_test.q2.values,  df_quora_test.label.values)"
   ]
  },
  {
   "cell_type": "code",
   "execution_count": 19,
   "metadata": {
    "colab": {
     "base_uri": "https://localhost:8080/",
     "height": 386
    },
    "executionInfo": {
     "elapsed": 313,
     "status": "ok",
     "timestamp": 1660492724992,
     "user": {
      "displayName": "Ilan Alex Golik",
      "userId": "15856695005902315184"
     },
     "user_tz": -180
    },
    "id": "UJaBDRuU5bwD",
    "outputId": "1c4f4388-a9ea-49ee-9445-dae8b7e17ede"
   },
   "outputs": [
    {
     "data": {
      "image/png": "[encoded data removed]",
      "text/plain": [
       "<Figure size 1080x432 with 3 Axes>"
      ]
     },
     "metadata": {
      "needs_background": "light"
     },
     "output_type": "display_data"
    }
   ],
   "source": [
    "d = {'train':df_quora_train,'validation':df_quora_val,'test':df_quora_test}\n",
    "\n",
    "plt.figure(figsize=(15,6))\n",
    "\n",
    "for i,(k,v) in enumerate(d.items()):\n",
    "  plt.subplot(1,3,i+1)\n",
    "  v.label.value_counts().plot.bar();\n",
    "  plt.title('Label Distribution -  -' + k)"
   ]
  },
  {
   "cell_type": "markdown",
   "metadata": {
    "id": "UNnYRIx28UNz"
   },
   "source": [
    "## Models - Setup DL models"
   ]
  },
  {
   "cell_type": "markdown",
   "metadata": {
    "id": "civ_WtRz8aZr"
   },
   "source": [
    "#### Model - BERT"
   ]
  },
  {
   "cell_type": "markdown",
   "metadata": {
    "id": "rfsd8jDGBTo6"
   },
   "source": [
    "\n",
    "\n",
    "\n",
    "\n",
    "\n",
    "\n",
    "\n",
    "\n",
    "\n",
    "\n",
    "\n",
    "\n",
    "\n",
    "\n",
    "\n",
    "\n",
    "\n",
    "\n",
    "\n",
    "\n",
    "\n",
    "\n",
    "\n",
    "\n",
    "\n",
    "\n",
    "\n",
    "\n",
    "\n",
    "\n",
    "\n",
    "\n",
    "\n",
    "\n",
    "\n",
    "\n",
    "\n",
    "\n",
    "\n",
    "\n",
    "\n",
    "\n",
    "\n",
    "\n",
    "\n",
    "\n",
    "\n",
    "\n",
    "\n",
    "\n",
    "\n",
    "\n",
    "\n",
    "\n",
    "\n",
    "\n",
    "\n",
    "\n",
    "\n",
    "\n",
    "\n",
    "\n",
    "\n",
    "\n",
    "\n",
    "\n",
    "\n",
    "\n",
    "\n",
    "\n",
    "\n",
    "\n",
    "\n",
    "\n",
    "\n",
    "\n",
    "\n",
    "\n",
    "\n",
    "\n",
    "\n",
    "\n",
    "\n",
    "\n",
    "\n",
    "\n",
    "\n",
    "\n",
    "\n",
    "\n",
    "\n",
    "\n",
    "\n",
    "\n",
    "\n",
    "\n",
    "\n",
    "\n",
    "\n",
    "\n",
    "\n",
    "\n",
    "\n",
    "\n",
    "\n",
    "\n",
    "\n",
    "\n",
    "\n",
    "\n",
    "\n",
    "\n",
    "\n",
    "\n",
    "\n",
    "\n",
    "\n",
    "\n",
    "\n",
    "\n",
    "\n",
    "\n",
    "\n",
    "\n",
    "\n",
    "\n",
    "\n",
    "\n",
    "\n",
    "\n",
    "\n",
    "\n",
    "\n",
    "\n",
    "\n",
    "\n",
    "\n",
    "\n",
    "\n",
    "\n",
    "\n",
    "\n",
    "\n",
    "\n",
    "\n",
    "\n",
    "\n",
    "\n",
    "\n",
    "\n",
    "\n",
    "\n",
    "\n",
    "\n",
    "\n",
    "\n",
    "\n",
    "\n",
    "\n",
    "\n",
    "\n",
    "\n",
    "\n",
    "\n",
    "\n",
    "\n",
    "\n",
    "\n",
    "\n",
    "\n",
    "\n",
    "\n",
    "\n",
    "\n",
    "\n",
    "\n",
    "\n",
    "\n",
    "\n",
    "\n",
    "\n",
    "\n",
    "\n",
    "\n",
    "\n",
    "#### Setup Trainer"
   ]
  },
  {
   "cell_type": "code",
   "execution_count": 20,
   "metadata": {
    "executionInfo": {
     "elapsed": 14,
     "status": "ok",
     "timestamp": 1660492724993,
     "user": {
      "displayName": "Ilan Alex Golik",
      "userId": "15856695005902315184"
     },
     "user_tz": -180
    },
    "id": "yuc_UDe-ppLX"
   },
   "outputs": [],
   "source": [
    "T_SEED=SEED"
   ]
  },
  {
   "cell_type": "code",
   "execution_count": 21,
   "metadata": {
    "executionInfo": {
     "elapsed": 12,
     "status": "ok",
     "timestamp": 1660492724993,
     "user": {
      "displayName": "Ilan Alex Golik",
      "userId": "15856695005902315184"
     },
     "user_tz": -180
    },
    "id": "eM1mp40cprdP"
   },
   "outputs": [],
   "source": [
    "T_MAX_LEN = 10"
   ]
  },
  {
   "cell_type": "code",
   "execution_count": 22,
   "metadata": {
    "executionInfo": {
     "elapsed": 12,
     "status": "ok",
     "timestamp": 1660492724994,
     "user": {
      "displayName": "Ilan Alex Golik",
      "userId": "15856695005902315184"
     },
     "user_tz": -180
    },
    "id": "mcE6CE4B16Cd"
   },
   "outputs": [],
   "source": [
    "MAX_LEN_BERT = 50"
   ]
  },
  {
   "cell_type": "code",
   "execution_count": 23,
   "metadata": {
    "executionInfo": {
     "elapsed": 11,
     "status": "ok",
     "timestamp": 1660492724994,
     "user": {
      "displayName": "Ilan Alex Golik",
      "userId": "15856695005902315184"
     },
     "user_tz": -180
    },
    "id": "bWlsfIRPw42Z"
   },
   "outputs": [],
   "source": [
    "n_topics = [1,5,10,20,60,70,75,80,85,90,100]"
   ]
  },
  {
   "cell_type": "code",
   "execution_count": 24,
   "metadata": {
    "executionInfo": {
     "elapsed": 11,
     "status": "ok",
     "timestamp": 1660492724995,
     "user": {
      "displayName": "Ilan Alex Golik",
      "userId": "15856695005902315184"
     },
     "user_tz": -180
    },
    "id": "w_I3XZVPqQMQ"
   },
   "outputs": [],
   "source": [
    "# BERT_MODEL_NAME = \"google/bert_uncased_L-12_H-768_A-12\"\n",
    "BERT_MODEL_NAME = \"bert-base-uncased\""
   ]
  },
  {
   "cell_type": "code",
   "execution_count": 25,
   "metadata": {
    "colab": {
     "base_uri": "https://localhost:8080/",
     "height": 164,
     "referenced_widgets": [
      "8f0c9c935bf742ef8e8a068e3c2eb47a",
      "4df61a3bbac34447ae9516ff161316e3",
      "20257fa3d1004406865840a5539f13df",
      "4b02393c18e34878a7626510b2158f58",
      "be64ee0b65e34c30b46735fddd5166b4",
      "8d0662612570419cb0d959fca6ca7a89",
      "a354a4a2ce394d30a5d2091981e3b22a",
      "2985e5769402426aa2842def55631493",
      "0d860195b5504c66b409cfef2cf7bd8a",
      "336101c4a438464e9fd03871ee47a83d",
      "7094b05e65834d6eb8b9572e975d2aed",
      "c43def29fae6420a85a558f7a6c28fb7",
      "77b5c8d24aac49b6b093da8c9c851e89",
      "d1c049d7c01a4996b18f6d6e3bc74b98",
      "5b9fe172514341ba822ce80ef95c1136",
      "f3cd8571d4de4a23b4dc0a4d33350aa6",
      "88b7803844214284a675f38cf20a5c7f",
      "79ee7340f79e485e930e1a93ee52cbb9",
      "629bf86f2d19496d99df47d63d5ccf8b",
      "b4e245ce147f46c6b70f796947600163",
      "5ca66a80fc9a45399e8c679aca48998e",
      "5b3ca422f2ae4fc584b708259f55864a",
      "c325923f7b5a4ee7b28beeddcc922dec",
      "8b83dcabe99f49eaade4f11484815951",
      "67e7e23de49c4d53916c409a54af1ae7",
      "4c8b181c25d640d29d4245003c7ce8ad",
      "1f343c04f62647e8aeef7d1fe7496b36",
      "022452df2b6248e59e3a6d94485e5c00",
      "85213433194f40a999c39cb16cf51db9",
      "13b2c80ed9b24bbd94e1ee7181b96a19",
      "a9541fea188d44d3a6a95d41241f9aa9",
      "75193076b096401a8d187589c0d2a5e1",
      "4f19fe0f05e14909a9625134615586a0"
     ]
    },
    "executionInfo": {
     "elapsed": 2385,
     "status": "ok",
     "timestamp": 1660492727370,
     "user": {
      "displayName": "Ilan Alex Golik",
      "userId": "15856695005902315184"
     },
     "user_tz": -180
    },
    "id": "Ne4k42oAq5Ha",
    "outputId": "e6387c19-a9f2-4fb9-8b4c-2cbefe5de40a"
   },
   "outputs": [
    {
     "data": {
      "application/vnd.jupyter.widget-view+json": {
       "model_id": "8f0c9c935bf742ef8e8a068e3c2eb47a",
       "version_major": 2,
       "version_minor": 0
      },
      "text/plain": [
       "Downloading vocab.txt:   0%|          | 0.00/226k [00:00<?, ?B/s]"
      ]
     },
     "metadata": {},
     "output_type": "display_data"
    },
    {
     "data": {
      "application/vnd.jupyter.widget-view+json": {
       "model_id": "c43def29fae6420a85a558f7a6c28fb7",
       "version_major": 2,
       "version_minor": 0
      },
      "text/plain": [
       "Downloading tokenizer_config.json:   0%|          | 0.00/28.0 [00:00<?, ?B/s]"
      ]
     },
     "metadata": {},
     "output_type": "display_data"
    },
    {
     "data": {
      "application/vnd.jupyter.widget-view+json": {
       "model_id": "c325923f7b5a4ee7b28beeddcc922dec",
       "version_major": 2,
       "version_minor": 0
      },
      "text/plain": [
       "Downloading config.json:   0%|          | 0.00/570 [00:00<?, ?B/s]"
      ]
     },
     "metadata": {},
     "output_type": "display_data"
    },
    {
     "data": {
      "text/plain": [
       "PreTrainedTokenizer(name_or_path='bert-base-uncased', vocab_size=30522, model_max_len=512, is_fast=False, padding_side='right', truncation_side='right', special_tokens={'unk_token': '[UNK]', 'sep_token': '[SEP]', 'pad_token': '[PAD]', 'cls_token': '[CLS]', 'mask_token': '[MASK]'})"
      ]
     },
     "execution_count": 25,
     "metadata": {},
     "output_type": "execute_result"
    }
   ],
   "source": [
    "tokenizer = BertTokenizer.from_pretrained(BERT_MODEL_NAME)\n",
    "tokenizer"
   ]
  },
  {
   "cell_type": "code",
   "execution_count": 26,
   "metadata": {
    "executionInfo": {
     "elapsed": 11,
     "status": "ok",
     "timestamp": 1660492727372,
     "user": {
      "displayName": "Ilan Alex Golik",
      "userId": "15856695005902315184"
     },
     "user_tz": -180
    },
    "id": "obQ-U8WosF22"
   },
   "outputs": [],
   "source": [
    "def preprocessing(sentence):\n",
    "  sentence = str(sentence).lower()                                            # lower latters\n",
    "  words = word_tokenize(sentence)                                             # split into words\n",
    "  words = [word for word in words if word.isalpha()]                          # remove punctuations\n",
    "  words = [word for word in words if word not in stopwords.words('english')]  # remove stopwords\n",
    "  words = [word for (word, pos) in nltk.pos_tag(words) if pos[:2] == 'NN']    # keep nouns\n",
    "  sentence = ' '.join(words)                                                  # combine words to a sentence\n",
    "  return sentence\n",
    "def preprocessAll(sentences):\n",
    "  sentences = [preprocessing(sentence) for sentence in sentences]\n",
    "  return sentences\n",
    "\n",
    "def get_words_len_for_topics(topics):\n",
    "  return 50"
   ]
  },
  {
   "cell_type": "code",
   "execution_count": 27,
   "metadata": {
    "executionInfo": {
     "elapsed": 8,
     "status": "ok",
     "timestamp": 1660492727372,
     "user": {
      "displayName": "Ilan Alex Golik",
      "userId": "15856695005902315184"
     },
     "user_tz": -180
    },
    "id": "ajTf6bsU4WA6"
   },
   "outputs": [],
   "source": [
    "all_sentences = df_quora_train.q1.values.tolist()\n",
    "all_sentences.extend(df_quora_train.q2.values.tolist())\n",
    "all_sentences.extend(df_quora_val.q1.values.tolist())\n",
    "all_sentences.extend(df_quora_val.q2.values.tolist())\n",
    "# all_sentences = list(set(all_sentences))  \n",
    "# all_sentences = preprocessAll(all_sentences)"
   ]
  },
  {
   "cell_type": "code",
   "execution_count": 28,
   "metadata": {
    "executionInfo": {
     "elapsed": 755,
     "status": "ok",
     "timestamp": 1660492728120,
     "user": {
      "displayName": "Ilan Alex Golik",
      "userId": "15856695005902315184"
     },
     "user_tz": -180
    },
    "id": "zXKUXJnMAG7Q"
   },
   "outputs": [],
   "source": [
    "nlp = spacy.load(\"en_core_web_sm\")\n",
    "\n",
    "# Load NLTK stopwords\n",
    "stop_words = stopwords.words('english')\n",
    "# Add some extra words in it if required\n",
    "stop_words.extend(['from', 'subject', 'use','pron'])"
   ]
  },
  {
   "cell_type": "code",
   "execution_count": 29,
   "metadata": {
    "executionInfo": {
     "elapsed": 4,
     "status": "ok",
     "timestamp": 1660492728120,
     "user": {
      "displayName": "Ilan Alex Golik",
      "userId": "15856695005902315184"
     },
     "user_tz": -180
    },
    "id": "hXcbXgDRAHWG"
   },
   "outputs": [],
   "source": [
    "def clean_procedure(input_data):\n",
    "  data = input_data\n",
    "\n",
    "  ### Cleaning data\n",
    "\n",
    "  # Remove Emails\n",
    "  data = [re.sub('S*@S*s?', '', sent) for sent in data]\n",
    "  # Remove new line characters and extra space\n",
    "  data = [re.sub('s+', ' ', sent) for sent in data]\n",
    "  # Remove single quotes\n",
    "  data = [re.sub(\"'\", \"\", sent) for sent in data]\n",
    "\n",
    "  ### Lemmatization\n",
    "  data_lemma = []\n",
    "  for i, txt in enumerate(data):\n",
    "      lis = []\n",
    "      doc = nlp(txt)\n",
    "      for token in doc:\n",
    "          lis.append(token.lemma_)\n",
    "      data_lemma.append(' '.join(lis))\n",
    "\n",
    "  ### Tokenization and gensim stopword removal\n",
    "\n",
    "  # You can look for all gensim stopwords by running -> 'gensim.parsing.preprocessing.STOPWORDS'\n",
    "\n",
    "  # Function to tokenize\n",
    "  # Also remove words whose length less than 3 (you can chang it)\n",
    "  def tokenization_with_gen_stop(text):\n",
    "      result=[]\n",
    "      for token in gensim.utils.simple_preprocess(text) :\n",
    "          if token not in gensim.parsing.preprocessing.STOPWORDS and len(token) > 3:\n",
    "              result.append(token)\n",
    "\n",
    "      return result\n",
    "\n",
    "  ## Apply tokenization function\n",
    "  data_words = []\n",
    "  for i, txt in enumerate(data_lemma):\n",
    "      data_words.append(tokenization_with_gen_stop(txt))\n",
    "\n",
    "  ### NLTK Stopword removal (extra stopwords)\n",
    "\n",
    "  _cleaned = []\n",
    "  for i, word in enumerate(data_words):\n",
    "      wrd = []\n",
    "      for w in word:\n",
    "          if w not in stop_words:\n",
    "              wrd.append(w)\n",
    "      _cleaned.append(wrd)\n",
    "  mapped = dict()\n",
    "  for i, words in enumerate(_cleaned):\n",
    "    mapped[input_data[i]] = words\n",
    "  return _cleaned, mapped"
   ]
  },
  {
   "cell_type": "code",
   "execution_count": 30,
   "metadata": {
    "colab": {
     "base_uri": "https://localhost:8080/"
    },
    "executionInfo": {
     "elapsed": 237626,
     "status": "ok",
     "timestamp": 1660492965743,
     "user": {
      "displayName": "Ilan Alex Golik",
      "userId": "15856695005902315184"
     },
     "user_tz": -180
    },
    "id": "K5GBE5EXAHwL",
    "outputId": "4439070d-23d5-4848-f0ac-b672bbdd9e76"
   },
   "outputs": [
    {
     "name": "stdout",
     "output_type": "stream",
     "text": [
      "cleaning data...\n",
      "{'hire': 0, 'ional': 1, 'kill': 2, 'painter': 3, 'profe': 4, 'sydney': 5, 'kanniyakumari': 6, 'near': 7, 'place': 8, 'touri': 9, 'filing': 10, 'income': 11, 'properti': 12, 'return': 13, 'briti': 14, 'enior': 15, 'equivalent': 16, 'hman': 17, 'junior': 18, 'inve': 19, 'long': 20, 'mart': 21, 'sail': 22, 'term': 23, 'tment': 24, 'tock': 25, 'email': 26, 'omeone': 27, 'politely': 28, 'reply': 29, 'certificate': 30, 'europe': 31, 'hould': 32, 'obtain': 33, 'order': 34, 'relevant': 35, 'technical': 36, 'upport': 37, 'work': 38, 'countrie': 39, 'difficult': 40, 'earn': 41, 'banking': 42, 'erie': 43, 'exam': 44, 'online': 45, 'feedback': 46, 'quora': 47, 'ubmit': 48, 'extend': 49, 'functionality': 50, 'kera': 51, 'plan': 52, 'hard': 53, 'client': 54, 'cognizant': 55, 'major': 56, 'solution': 57, 'technology': 58, 'ntse': 59, 'prepare': 60, 'becau': 61, 'contend': 62, 'conway': 63, 'gender': 64, 'hillary': 65, 'inten': 66, 'kellyanne': 67, 'male': 68, 'white': 69, 'foreign': 70, 'language': 71, 'learn': 72, 'hold': 73, 'ignificance': 74, 'life': 75, 'univer': 76, 'world': 77, 'alarm': 78, 'burglar': 79, 'difference': 80, 'dance': 81, 'compare': 82, 'engineer': 83, 'engineering': 84, 'ladder': 85, 'management': 86, 'oftware': 87, 'cancel': 88, 'driver': 89, 'penalize': 90, 'uber': 91, 'election': 92, 'embly': 93, 'punjab': 94, 'check': 95, 'phone': 96, 'voicemail': 97, 'alien': 98, 'area': 99, 'money': 100, 'perfect': 101, 'ceiling': 102, 'pider': 103, 'remove': 104, 'away': 105, 'come': 106, 'england': 107, 'ireland': 108, 'able': 109, 'neutrality': 110, 'itor': 111, 'notice': 112, 'thing': 113, 'time': 114, 'unexpected': 115, 'vietnam': 116, 'agriculture': 117, 'gabon': 118, 'good': 119, 'oceanography': 120, 'scripp': 121, 'titute': 122, 'hack': 123, 'napchat': 124, 'book': 125, 'entrepreneur': 126, 'read': 127, 'direction': 128, 'main': 129, 'provide': 130, 'reinforcement': 131, 'proof': 132, 'real': 133, 'beginner': 134, 'routine': 135, 'weightlifting': 136, 'acma_': 137, 'aying': 138, 'card': 139, 'ipad': 140, 'talled': 141, 'window': 142, 'italy': 143, 'know': 144, 'admit': 145, 'feel': 146, 'narci': 147, 'onality': 148, 'people': 149, 'prove': 150, 'wrong': 151, 'chin': 152, 'omethe': 153, 'oval': 154, 'quare': 155, 'round': 156, 'companie': 157, 'corporate': 158, 'culture': 159, 'different': 160, 'earch': 161, 'like': 162, 'originate': 163, 'urname': 164, 'dream': 165, 'friend': 166, 'mean': 167, 'abroad': 168, 'collect': 169, 'country': 170, 'databa': 171, 'need': 172, 'travel': 173, 'launch': 174, 'marketing': 175, 'product': 176, 'trategy': 177, 'facebook': 178, 'mutual': 179, 'google': 180, 'tion': 181, 'delete': 182, 'tagram': 183, 'ugge': 184, 'crime': 185, 'education': 186, 'effect': 187, 'lower': 188, 'ociety': 189, 'rate': 190, 'korean': 191, 'oybean': 192, 'blue': 193, 'whey': 194, 'forward': 195, 'houlder': 196, 'neck': 197, 'ture': 198, 'fake': 199, 'revenue': 200, 'torie': 201, 'normal': 202, 'price': 203, 'account': 204, 'authenticate': 205, 'figure': 206, 'public': 207, 'twitter': 208, 'communication': 209, 'interview': 210, 'level': 211, 'proce': 212, 'engli': 213, 'canva': 214, 'ervice': 215, 'free': 216, 'graphic': 217, 'imilar': 218, 'rock': 219, 'create': 220, 'kunafe': 221, 'rael': 222, 'high': 223, 'marijuana': 224, 'ource': 225, 'immunity': 226, 'improve': 227, 'policy': 228, 'foil': 229, 'literature': 230, 'metal': 231, 'alternative': 232, 'healthprof': 233, 'funny': 234, 'wacky': 235, 'wordie': 236, 'recipe': 237, 'dino': 238, 'evolution': 239, 'explain': 240, 'theory': 241, 'correct': 242, 'iluni': 243, 'pronunciation': 244, 'qarrt': 245, 'word': 246, 'offline': 247, 'tran': 248, 'video': 249, 'youtube': 250, 'balaguru': 251, 'wami': 252, 'perfectly': 253, 'train': 254, 'bowl': 255, 'eagle': 256, 'philadelphia': 257, 'super': 258, 'contender': 259, 'chance': 260, 'change': 261, 'togo': 262, 'year': 263, 'crete': 264, 'digital': 265, 'ignal': 266, 'bread': 267, 'dangerou': 268, 'mold': 269, 'yellow': 270, 'corgi': 271, 'golden': 272, 'retriever': 273, 'exual': 274, 'otherwi': 275, 'automatically': 276, 'ender': 277, 'open': 278, 'deci': 279, 'demonetize': 280, 'government': 281, 'indian': 282, 'note': 283, 'rupee': 284, 'think': 285, 'android': 286, 'privilege': 287, 'root': 288, 'company': 289, 'hierarchy': 290, 'mckin': 291, 'argument': 292, 'entire': 293, 'line': 294, 'pecifie': 295, 'replace': 296, 'runtime': 297, 'tring': 298, 'tiano': 299, 'cake': 300, 'flavour': 301, 'idere': 302, 'lenovo': 303, 'mobile': 304, 'power': 305, 'meaning': 306, 'phra': 307, 'paper': 308, 'upsc': 309, 'onal': 310, 'child': 311, 'chizophrenia': 312, 'develop': 313, 'bihar': 314, 'condition': 315, 'exactly': 316, 'expectation': 317, 'jungle': 318, 'lalu': 319, 'light': 320, 'recent': 321, 'want': 322, 'crave': 323, 'kind': 324, 'adipex': 325, 'elaborate': 326, 'information': 327, 'internet': 328, 'lack': 329, 'meth': 330, 'creen': 331, 'drop': 332, 'protect': 333, 'protector': 334, 'temper': 335, 'worth': 336, 'ervative': 337, 'belief': 338, 'brahmin': 339, 'maithil': 340, 'rule': 341, 'unique': 342, 'arrive': 343, 'colorado': 344, 'pecial': 345, 'spring': 346, 'trike': 347, 'look': 348, 'paint': 349, 'corruption': 350, 'mechanical': 351, 'mould': 352, 'economi': 353, 'huthunt': 354, 'limit': 355, 'movebubble': 356, 'radpad': 357, 'reach': 358, 'rental': 359, 'tart': 360, 'tartup': 361, 'important': 362, 'kenya': 363, 'torical': 364, 'drax': 365, 'human': 366, 'troyer': 367, 'chuck': 368, 'mcgill': 369, 'saul': 370, 'bring': 371, 'india': 372, 'competitor': 373, 'awake': 374, 'morning': 375, 'remember': 376, 'franci': 377, 'teacher': 378, 'gadget': 379, 'california': 380, 'hawaii': 381, 'highway': 382, 'impre': 383, 'advice': 384, 'outcome': 385, 'predict': 386, 'right': 387, 'moment': 388, 'comp': 389, 'goldman': 390, 'london': 391, 'sach': 392, 'total': 393, 'dwarka': 394, 'happen': 395, 'highlight': 396, 'later': 397, 'radha': 398, 'embarra': 399, 'climate': 400, 'eriou': 401, 'aptitude': 402, 'boyfriend': 403, 'girl': 404, 'executive': 405, 'module': 406, 'criminal': 407, 'tice': 408, 'depre': 409, 'quote': 410, 'airplane': 411, 'dump': 412, 'toilet': 413, 'tabli': 414, 'economy': 415, 'help': 416, 'bazaar': 417, 'compari': 418, 'portal': 419, 'urance': 420, 'china': 421, 'chine': 422, 'live': 423, 'contact': 424, 'hacker': 425, 'giant': 426, 'hare': 427, 'tadium': 428, 'everyday': 429, 'type': 430, 'financial': 431, 'retiree': 432, 'indu': 433, 'tudent': 434, 'food': 435, 'traditional': 436, 'game': 437, 'cienti': 438, 'datum': 439, 'career': 440, 'humanitie': 441, 'option': 442, 'emoticon': 443, 'pregnant': 444, 'family': 445, 'hera': 446, 'relation': 447, 'clinton': 448, 'elect': 449, 'ident': 450, 'state': 451, 'united': 452, 'dominica': 453, 'fact': 454, 'intere': 455, 'ting': 456, 'bacteria': 457, 'microbe': 458, 'alary': 459, 'officer': 460, 'carat': 461, 'diamond': 462, 'college': 463, 'kalamazoo': 464, 'pect': 465, 'tronge': 466, 'weake': 467, 'ible': 468, 'conduct': 469, 'employment': 470, 'internal': 471, 'international': 472, 'previou': 473, 'aviation': 474, 'cour': 475, 'affiliate': 476, 'eller': 477, 'track': 478, 'foreigner': 479, 'stockholm': 480, 'luxury': 481, 'pigeon': 482, 'touch': 483, 'accord': 484, 'action': 485, 'equal': 486, 'motion': 487, 'newton': 488, 'oppo': 489, 'reaction': 490, 'flex': 491, 'jump': 492, 'outdate': 493, 'programmer': 494, 'trump': 495, 'victory': 496, 'dough': 497, 'harmful': 498, 'night': 499, 'refrigerator': 500, 'roti': 501, 'bulking': 502, 'carb': 503, 'protein': 504, 'meet': 505, 'partner': 506, 'wildcard': 507, 'buck': 508, 'delhi': 509, 'metro': 510, 'tation': 511, 'thou': 512, 'harry': 513, 'opinion': 514, 'potter': 515, 'legit': 516, 'adverti': 517, 'allow': 518, 'dealer': 519, 'tapioca': 520, 'avoid': 521, 'faux': 522, 'kazakh': 523, 'ocial': 524, 'civil': 525, 'chemically': 526, 'feviquick': 527, 'boat': 528, 'earphone': 529, 'foot': 530, 'watch': 531, 'leave': 532, 'truthfulne': 533, 'keyboard': 534, 'logitech': 535, 'wirele': 536, 'obama': 537, 'office': 538, 'adju': 539, 'daughter': 540, 'mother': 541, 'teach': 542, 'love': 543, 'qualification': 544, 'require': 545, 'anxiety': 546, 'manage': 547, 'danga': 548, 'hindi': 549, 'poke': 550, 'accelerator': 551, 'progre': 552, 'tool': 553, 'pronounce': 554, 'explainer': 555, 'active': 556, 'corel': 557, 'draw': 558, 'number': 559, 'timate': 560, 'belgium': 561, 'geography': 562, 'germany': 563, 'quick': 564, 'cruel': 565, 'forget': 566, 'loved': 567, 'attenuation': 568, 'cable': 569, 'hdmi': 570, 'length': 571, 'maximum': 572, 'occur': 573, 'boob': 574, 'grow': 575, 'animal': 576, 'unhappy': 577, 'architect': 578, 'parayi': 579, 'project': 580, 'verilog': 581, 'future': 582, 'paki': 583, 'earche': 584, 'learning': 585, 'unintelligent': 586, 'characteri': 587, 'french': 588, 'photography': 589, 'booking': 590, 'howe': 591, 'irctc': 592, 'tory': 593, 'orga': 594, 'woman': 595, 'downvote': 596, 'healthie': 597, 'girlfriend': 598, 'anymore': 599, 'laptop': 600, 'turn': 601, 'cyber': 602, 'ecurity': 603, 'purpo': 604, 'angry': 605, 'convince': 606, 'admi': 607, 'bcom': 608, 'direct': 609, 'large': 610, 'memorize': 611, 'recall': 612, 'tudy': 613, 'view': 614, 'control': 615, 'mouth': 616, 'ulcer': 617, 'current': 618, 'pitcher': 619, 'tarte': 620, 'tooth': 621, 'define': 622, 'tatement': 623, 'true': 624, 'mitochondria': 625, 'motile': 626, 'weigh': 627, 'iiitd': 628, 'placement': 629, 'bangalore': 630, 'lamborghini': 631, 'topic': 632, 'truction': 633, 'enterpri': 634, 'mobility': 635, 'feature': 636, 'iphone': 637, 'mccartney': 638, 'paul': 639, 'kate': 640, 'tyle': 641, 'enrol': 642, 'intermediate': 643, 'ocean': 644, 'mail': 645, 'outlook': 646, 'yahoo': 647, 'ervation': 648, 'modi': 649, 'drawback': 650, 'republican': 651, 'advantage': 652, 'elite': 653, 'hyundai': 654, 'lakh': 655, 'delivery': 656, 'earth': 657, 'attention': 658, 'chool': 659, 'mind': 660, 'prevent': 661, 'wander': 662, 'headphone': 663, 'bank': 664, 'beautiful': 665, 'flag': 666, 'slack': 667, 'team': 668, 'clearance': 669, 'tolerance': 670, 'bidpie': 671, 'chri': 672, 'scandinavia': 673, 'tian': 674, 'viking': 675, 'battery': 676, 'charge': 677, 'fully': 678, 'body': 679, 'ciou': 680, 'daily': 681, 'function': 682, 'leep': 683, 'perform': 684, 'till': 685, 'walk': 686, 'admire': 687, 'rubber': 688, 'wood': 689, 'analy': 690, 'element': 691, 'finite': 692, 'force': 693, 'formula': 694, 'empire': 695, 'roman': 696, 'example': 697, 'fermentation': 698, 'prefer': 699, 'upermodel': 700, 'drone': 701, 'ionally': 702, 'photograph': 703, 'print': 704, 'benefit': 705, 'moking': 706, 'quit': 707, 'weed': 708, 'blow': 709, 'beat': 710, 'healthy': 711, 'heart': 712, 'minute': 713, 'birth': 714, 'date': 715, 'ider': 716, 'murder': 717, 'picion': 718, 'gain': 719, 'knowledge': 720, 'write': 721, 'vegetable': 722, 'beard': 723, 'tarzan': 724, 'ername': 725, 'recover': 726, 'multiple': 727, 'great': 728, 'hope': 729, 'drive': 730, 'lane': 731, 'left': 732, 'lowly': 733, 'graduate': 734, 'birthday': 735, 'etiquette': 736, 'happy': 737, 'jehovah': 738, 'witne': 739, 'wife': 740, 'britannia': 741, 'conquer': 742, 'hibernia': 743, 'anyont': 744, 'dragon': 745, 'walker': 746, 'centimeter': 747, 'meter': 748, 'intern': 749, 'program': 750, 'rationale': 751, 'tifie': 752, 'offer': 753, 'unlimited': 754, 'welcome': 755, 'moon': 756, 'believe': 757, 'firmly': 758, 'imulation': 759, 'damage': 760, 'liquid': 761, 'macbook': 762, 'repair': 763, 'acknowledge': 764, 'receipt': 765, 'ladie': 766, 'machine': 767, 'withdrawal': 768, 'publi': 769, 'follower': 770, 'increa': 771, 'genetic': 772, 'importance': 773, 'tree': 774, 'inflation': 775, 'unemployment': 776, 'profile': 777, 'briefly': 778, 'filipino': 779, 'hape': 780, 'natural': 781, 'parent': 782, 'expire': 783, 'frequently': 784, 'terday': 785, 'aving': 786, 'eligible': 787, 'home': 788, 'payment': 789, 'purcha': 790, 'groundbreaking': 791, 'peni': 792, 'suprabhat': 793, 'teere': 794, 'wheel': 795, 'link': 796, 'weight': 797, 'actually': 798, 'cutoff': 799, 'percent': 800, 'percentage': 801, 'qualcomm': 802, 'invade': 803, 'kurdi': 804, 'syria': 805, 'turkey': 806, 'common': 807, 'cope': 808, 'horo': 809, 'legitimate': 810, 'care': 811, 'feeling': 812, 'count': 813, 'deduct': 814, 'depreciation': 815, 'method': 816, 'payback': 817, 'black': 818, 'fluently': 819, 'intonation': 820, 'peak': 821, 'camel': 822, 'milk': 823, 'addre': 824, 'hide': 825, 'hollywood': 826, 'movie': 827, 'stewart': 828, 'adaptation': 829, 'behavioral': 830, 'applebaum': 831, 'joke': 832, 'sidney': 833, 'homoeopathy': 834, 'medicine': 835, 'andrew': 836, 'textbook': 837, 'america': 838, 'package': 839, 'priority': 840, 'tracking': 841, 'religiou': 842, 'matter': 843, 'application': 844, 'update': 845, 'code': 846, 'ummer': 847, 'culo': 848, 'spani': 849, 'poem': 850, 'editorial': 851, 'hindu': 852, 'page': 853, 'pirant': 854, 'mathematical': 855, 'mathematician': 856, 'theoretical': 857, 'canada': 858, 'athei': 859, 'tell': 860, 'general': 861, 'ince': 862, 'midnight': 863, 'urgery': 864, 'compound': 865, 'mixture': 866, 'talent': 867, 'height': 868, 'contribute': 869, 'snapchat': 870, 'story': 871, 'electrical': 872, 'audiotape': 873, 'behaviour': 874, 'impact': 875, 'month': 876, 'motivational': 877, 'repetitively': 878, 'tening': 879, 'invention': 880, 'reinvent': 881, 'deloitte': 882, 'developer': 883, 'sale': 884, 'apollo': 885, 'early': 886, 'jealou': 887, 'reject': 888, 'aggre': 889, 'expre': 890, 'ivene': 891, 'martial': 892, 'throne': 893, 'makeup': 894, 'hmir': 895, 'olution': 896, 'political': 897, 'charger': 898, 'zenfone': 899, 'tablet': 900, 'wear': 901, 'grad': 902, 'itie': 903, 'recruit': 904, 'shack': 905, 'shake': 906, 'kippur': 907, 'vadodara': 908, 'core': 909, 'percentile': 910, 'creepie': 911, 'cribe': 912, 'ming': 913, 'deep': 914, 'quickly': 915, 'minecraft': 916, 'modding': 917, 'tutorial': 918, 'gmail': 919, 'charle': 920, 'darwin': 921, 'irnss': 922, 'choice': 923, 'marry': 924, 'cycle': 925, 'trual': 926, 'emergency': 927, 'ball': 928, 'pidercam': 929, 'ford': 930, 'bleed': 931, 'energy': 932, 'heat': 933, 'thermal': 934, 'thermodynamic': 935, 'cheape': 936, 'flight': 937, 'klinefelter': 938, 'yndrome': 939, 'apply': 940, 'uance': 941, 'admini': 942, 'cience': 943, 'optional': 944, 'tration': 945, 'ubject': 946, 'diet': 947, 'ketogenic': 948, 'enhance': 949, 'libido': 950, 'currently': 951, 'employee': 952, 'eventbrite': 953, 'chrome': 954, 'famou': 955, 'jake': 956, 'william': 957, 'bigge': 958, 'regret': 959, 'gaming': 960, 'role': 961, 'detergent': 962, 'hing': 963, 'market': 964, 'target': 965, 'barack': 966, 'depo': 967, 'vagina': 968, 'hyderabad': 969, 'igne': 970, 'cort': 971, 'clothing': 972, 'copy': 973, 'france': 974, 'harde': 975, 'crowdfunde': 976, 'ignore': 977, 'pill': 978, 'donald': 979, 'rape': 980, 'aircraft': 981, 'carrier': 982, 'weapon': 983, 'vmware': 984, 'form': 985, 'trong': 986, 'explode': 987, 'eyela': 988, 'complete': 989, 'incre': 990, 'join': 991, 'letter': 992, 'pire': 993, 'rank': 994, 'recieve': 995, 'branch': 996, 'electronic': 997, 'trumentation': 998, 'tudye': 999, 'degree': 1000, 'requirement': 1001, 'mahindra': 1002, 'tech': 1003, 'guitar': 1004, 'deal': 1005, 'hair': 1006, 'actre': 1007, 'prime': 1008, 'irritating': 1009, 'puzzle': 1010, 'intelligence': 1011, 'enrique': 1012, 'problem': 1013, 'singapore': 1014, 'deactivate': 1015, 'tatu': 1016, 'pecific': 1017, 'tweet': 1018, 'leader': 1019, 'frac': 1020, 'integrate': 1021, 'math': 1022, 'magento': 1023, 'truly': 1024, 'witch': 1025, 'ecret': 1026, 'ocietie': 1027, 'pite': 1028, 'ucceed': 1029, 'wiki': 1030, 'pregnancy': 1031, 'week': 1032, 'mccb': 1033, 'engine': 1034, 'keyword': 1035, 'organic': 1036, 'search': 1037, 'semru': 1038, 'candidate': 1039, 'challenger': 1040, 'credible': 1041, 'aging': 1042, 'trie': 1043, 'carrie': 1044, 'electricty': 1045, 'overall': 1046, 'volt': 1047, 'couple': 1048, 'hara': 1049, 'hill': 1050, 'hotel': 1051, 'ment': 1052, 'moral': 1053, 'ooty': 1054, 'police': 1055, 'taff': 1056, 'unmarried': 1057, 'land': 1058, 'algorithm': 1059, 'european': 1060, 'military': 1061, 'violent': 1062, 'undergraduate': 1063, 'millionaire': 1064, 'intp': 1065, 'image': 1066, 'upload': 1067, 'wbjee': 1068, 'block': 1069, 'building': 1070, 'plate': 1071, 'tectonic': 1072, 'adopt': 1073, 'teenager': 1074, 'hifting': 1075, 'origin': 1076, 'icloud': 1077, 'photo': 1078, 'concept': 1079, 'uper': 1080, 'experience': 1081, 'bran': 1082, 'eyed': 1083, 'hour': 1084, 'late': 1085, 'raven': 1086, 'afely': 1087, 'craig': 1088, 'ebay': 1089, 'skyrim': 1090, 'prinkler': 1091, 'quality': 1092, 'cientifically': 1093, 'goblin': 1094, 'dittofi': 1095, 'ipod': 1096, 'omegle': 1097, 'merge': 1098, 'unmerge': 1099, 'ketball': 1100, 'hololen': 1101, 'micro': 1102, 'mole': 1103, 'motivation': 1104, 'amazon': 1105, 'operate': 1106, 'egoi': 1107, 'denomination': 1108, 'lead': 1109, 'reduce': 1110, 'value': 1111, 'britain': 1112, 'immediately': 1113, 'pound': 1114, 'korea': 1115, 'north': 1116, 'moke': 1117, 'occa': 1118, 'smoking': 1119, 'altman': 1120, 'allegation': 1121, 'cuba': 1122, 'embargo': 1123, 'voltage': 1124, 'renewable': 1125, 'criber': 1126, 'operator': 1127, 'throughput': 1128, 'trend': 1129, 'kingdom': 1130, 'traitor': 1131, 'deliverable': 1132, 'manager': 1133, 'member': 1134, 'poor': 1135, 'tomer': 1136, 'motor': 1137, 'peace': 1138, 'drum': 1139, 'recommendation': 1140, 'roland': 1141, 'ition': 1142, 'syrian': 1143, 'unable': 1144, 'agent': 1145, 'firefight': 1146, 'hear': 1147, 'final': 1148, 'laughter': 1149, 'optimal': 1150, 'ahead': 1151, 'fellow': 1152, 'blog': 1153, 'midnightexpre': 1154, 'traffic': 1155, 'wordpre': 1156, 'founder': 1157, 'gearbe': 1158, 'dhabi': 1159, 'york': 1160, 'archaic': 1161, 'female': 1162, 'choo': 1163, 'codevita': 1164, 'criterion': 1165, 'ranking': 1166, 'balm': 1167, 'eline': 1168, 'buttock': 1169, 'exerci': 1170, 'angel': 1171, 'blood': 1172, 'likely': 1173, 'relea': 1174, 'wave': 1175, 'ection': 1176, 'inter': 1177, 'montréal': 1178, 'particularly': 1179, 'bear': 1180, 'torrent': 1181, 'unblock': 1182, 'environment': 1183, 'idency': 1184, 'urvive': 1185, 'economic': 1186, 'health': 1187, 'celebrate': 1188, 'january': 1189, 'neostencil': 1190, 'pavan': 1191, 'afety': 1192, 'florida': 1193, 'handle': 1194, 'hotgun': 1195, 'precaution': 1196, 'propo': 1197, 'inate': 1198, 'nathuram': 1199, 'nehru': 1200, 'vinayak': 1201, 'confidentiality': 1202, 'doctor': 1203, 'exception': 1204, 'patient': 1205, 'urvey': 1206, 'carnatic': 1207, 'ical': 1208, 'tani': 1209, 'boundarie': 1210, 'john': 1211, 'papa': 1212, 'pizza': 1213, 'myriad': 1214, 'determine': 1215, 'lewi': 1216, 'tructure': 1217, 'ulfate': 1218, 'arnab': 1219, 'mini': 1220, 'equence': 1221, 'hutdown': 1222, 'java': 1223, 'object': 1224, 'forbid': 1225, 'thank': 1226, 'viewer': 1227, 'itting': 1228, 'joint': 1229, 'parliament': 1230, 'reliance': 1231, 'clara': 1232, 'oakland': 1233, 'santa': 1234, 'itively': 1235, 'negatively': 1236, 'pride': 1237, 'magazin': 1238, 'teen': 1239, 'agreement': 1240, 'clear': 1241, 'cream': 1242, 'emotional': 1243, 'hone': 1244, 'overly': 1245, 'proportion': 1246, 'tactic': 1247, 'unaware': 1248, 'yell': 1249, 'pubic': 1250, 'arrow': 1251, 'fifa': 1252, 'ignify': 1253, 'mode': 1254, 'player': 1255, 'tilt': 1256, 'upward': 1257, 'fifth': 1258, 'grader': 1259, 'programming': 1260, 'middle': 1261, 'tier': 1262, 'ophy': 1263, 'philo': 1264, 'ation': 1265, 'currency': 1266, 'demoneti': 1267, 'belly': 1268, 'completely': 1269, 'indoor': 1270, 'minimun': 1271, 'siib': 1272, 'curriculum': 1273, 'finance': 1274, 'society': 1275, 'source': 1276, 'americano': 1277, 'latte': 1278, 'acquire': 1279, 'attitude': 1280, 'negative': 1281, 'equation': 1282, 'precalc': 1283, 'quartic': 1284, 'expenditure': 1285, 'malay': 1286, 'rebel': 1287, 'acce': 1288, 'modifier': 1289, 'character': 1290, 'dead': 1291, 'favourite': 1292, 'walking': 1293, 'defeat': 1294, 'jabba': 1295, 'luke': 1296, 'palace': 1297, 'rancor': 1298, 'minimum': 1299, 'viable': 1300, 'celebration': 1301, 'fear': 1302, 'overcome': 1303, 'vaild': 1304, 'gate': 1305, 'refer': 1306, 'binary': 1307, 'face': 1308, 'legal': 1309, 'trading': 1310, 'illinoi': 1311, 'libertariani': 1312, 'neoliberali': 1313, 'documentation': 1314, 'writing': 1315, 'brand': 1316, 'tereotype': 1317, 'variou': 1318, 'adobe': 1319, 'premiere': 1320, 'production': 1321, 'vlog': 1322, 'selenium': 1323, 'alway': 1324, 'ratio': 1325, 'journey': 1326, 'oblong': 1327, 'ound': 1328, 'doubt': 1329, 'available': 1330, 'color': 1331, 'itive': 1332, 'reprogram': 1333, 'tead': 1334, 'peed': 1335, 'practice': 1336, 'typing': 1337, 'carole': 1338, 'jame': 1339, 'king': 1340, 'taylor': 1341, 'attract': 1342, 'erection': 1343, 'randomly': 1344, 'tale': 1345, 'hormone': 1346, 'young': 1347, 'producer': 1348, 'barkha': 1349, 'chaura': 1350, 'deepak': 1351, 'dutt': 1352, 'journali': 1353, 'rajdeep': 1354, 'sarde': 1355, 'enger': 1356, 'inful': 1357, 'neaker': 1358, 'port': 1359, 'studio': 1360, 'bart': 1361, 'cholar': 1362, 'dirk': 1363, 'ehrman': 1364, 'formal': 1365, 'jerald': 1366, 'lamic': 1367, 'tianity': 1368, 'crap': 1369, 'fight': 1370, 'swami': 1371, 'vegetarian': 1372, 'vivekananda': 1373, 'average': 1374, 'cold': 1375, 'gobi': 1376, 'temperature': 1377, 'mountain': 1378, 'defence': 1379, 'bleach': 1380, 'naturally': 1381, 'brain': 1382, 'connection': 1383, 'differ': 1384, 'elephant': 1385, 'hort': 1386, 'modularity': 1387, 'neuro': 1388, 'range': 1389, 'relative': 1390, 'tribution': 1391, 'brandy': 1392, 'examination': 1393, 'mark': 1394, 'poker': 1395, 'zynga': 1396, 'death': 1397, 'worried': 1398, 'ingle': 1399, 'lucifer': 1400, 'apache': 1401, 'avanyu': 1402, 'tribe': 1403, 'ymbol': 1404, 'cooperative': 1405, 'auti': 1406, 'overload': 1407, 'painful': 1408, 'achieve': 1409, 'flowy': 1410, 'flyaway': 1411, 'frizz': 1412, 'hiny': 1413, 'ilky': 1414, 'plit': 1415, 'unfair': 1416, 'facetime': 1417, 'neake': 1418, 'campaign': 1419, 'reform': 1420, 'tackle': 1421, 'raci': 1422, 'highe': 1423, 'shiva': 1424, 'columbia': 1425, 'asus': 1426, 'intel': 1427, 'upgrade': 1428, 'macy': 1429, 'amendment': 1430, 'olve': 1431, 'blank': 1432, 'html': 1433, 'berlin': 1434, 'mood': 1435, 'ring': 1436, 'halting': 1437, 'layman': 1438, 'generate': 1439, 'lloyd': 1440, 'bright': 1441, 'borderline': 1442, 'ymptom': 1443, 'ancient': 1444, 'greek': 1445, 'capture': 1446, 'coitu': 1447, 'interruptu': 1448, 'jihad': 1449, 'muhammad': 1450, 'newly': 1451, 'permit': 1452, 'chennai': 1453, 'anti': 1454, 'minoritie': 1455, 'religion': 1456, 'break': 1457, 'lock': 1458, 'shock': 1459, 'site': 1460, 'tubgirl': 1461, 'medium': 1462, 'treatment': 1463, 'intelligent': 1464, 'fail': 1465, 'hunter': 1466, 'legend': 1467, 'safe': 1468, 'savage': 1469, 'tommorrow': 1470, 'vandal': 1471, 'edit': 1472, 'truck': 1473, 'paytm': 1474, 'arai': 1475, 'center': 1476, 'deliver': 1477, 'genuinely': 1478, 'handwritten': 1479, 'kalu': 1480, 'praka': 1481, 'tear': 1482, 'eochapi': 1483, 'accompany': 1484, 'lifetime': 1485, 'analytical': 1486, 'phere': 1487, 'approve': 1488, 'gary': 1489, 'anticipate': 1490, 'factor': 1491, 'meaningful': 1492, 'stage': 1493, 'activity': 1494, 'follow': 1495, 'repre': 1496, 'hole': 1497, 'ingularity': 1498, 'geniu': 1499, 'infection': 1500, 'viral': 1501, 'gabriel': 1502, 'inger': 1503, 'juan': 1504, 'ucce': 1505, 'arab': 1506, 'eize': 1507, 'ettle': 1508, 'forcibly': 1509, 'landowner': 1510, 'pale': 1511, 'teal': 1512, 'tine': 1513, 'zioni': 1514, 'creative': 1515, 'ayurveda': 1516, 'development': 1517, 'excer': 1518, 'medical': 1519, 'jiro': 1520, 'steve': 1521, 'walt': 1522, 'marriage': 1523, 'spotify': 1524, 'utilize': 1525, 'idle': 1526, 'circle': 1527, 'jerk': 1528, 'point': 1529, 'civic': 1530, 'affect': 1531, 'attractive': 1532, 'natal': 1533, 'saturn': 1534, 'field': 1535, 'flow': 1536, 'calendly': 1537, 'review': 1538, 'amaze': 1539, 'etio': 1540, 'honda': 1541, 'toyota': 1542, 'improvement': 1543, 'motivate': 1544, 'self': 1545, 'illy': 1546, 'bulge': 1547, 'impeach': 1548, 'tuff': 1549, 'arkan': 1550, 'conviction': 1551, 'everity': 1552, 'oklahoma': 1553, 'arizona': 1554, 'cottonwood': 1555, 'olar': 1556, 'panel': 1557, 'provider': 1558, 'tallation': 1559, 'detection': 1560, 'framework': 1561, 'implement': 1562, 'methode': 1563, 'uperpower': 1564, 'void': 1565, 'bookkeepe': 1566, 'bookkeeper': 1567, 'atomic': 1568, 'cent': 1569, 'hydrogen': 1570, 'makar': 1571, 'sankranti': 1572, 'entence': 1573, 'influx': 1574, 'antiviru': 1575, 'dolph': 1576, 'lundgren': 1577, 'twice': 1578, 'calculate': 1579, 'velocity': 1580, 'arti': 1581, 'naked': 1582, 'cerebral': 1583, 'diagno': 1584, 'tormtrooper': 1585, 'politic': 1586, 'league': 1587, 'pace': 1588, 'particle': 1589, 'documentarie': 1590, 'goldberg': 1591, 'rube': 1592, 'trip': 1593, 'awarene': 1594, 'welfare': 1595, 'anity': 1596, 'judai': 1597, 'cgpa': 1598, 'toefl': 1599, 'cocaine': 1600, 'chemi': 1601, 'lecture': 1602, 'envelope': 1603, 'reliable': 1604, 'femini': 1605, 'tern': 1606, 'concentrate': 1607, 'hornine': 1608, 'relieve': 1609, 'turbation': 1610, 'workplace': 1611, 'optimization': 1612, 'outh': 1613, 'accurate': 1614, 'imdb': 1615, 'rating': 1616, 'rotten': 1617, 'tomatoe': 1618, 'tore': 1619, 'pain': 1620, 'workout': 1621, 'cotton': 1622, 'fibre': 1623, 'eband': 1624, 'tranger': 1625, 'bing': 1626, 'zillow': 1627, 'commit': 1628, 'hell': 1629, 'equator': 1630, 'divide': 1631, 'remainder': 1632, 'alive': 1633, 'george': 1634, 'hington': 1635, 'captain': 1636, 'dhoni': 1637, 'kohli': 1638, 'carry': 1639, 'urgical': 1640, 'brown': 1641, 'period': 1642, 'martphone': 1643, 'today': 1644, 'wwiii': 1645, 'caller': 1646, 'cell': 1647, 'play': 1648, 'holocau': 1649, 'south': 1650, 'wittie': 1651, 'grouptable': 1652, 'certain': 1653, 'fabric': 1654, 'thumb': 1655, 'yard': 1656, 'appointment': 1657, 'manually': 1658, 'daycare': 1659, 'commerce': 1660, 'reloading': 1661, 'safari': 1662, 'acrifice': 1663, 'afterlife': 1664, 'dogma': 1665, 'hindui': 1666, 'karma': 1667, 'tition': 1668, 'extremely': 1669, 'motivated': 1670, 'ence': 1671, 'extent': 1672, 'lake': 1673, 'navy': 1674, 'bermuda': 1675, 'teriou': 1676, 'triangle': 1677, 'fraction': 1678, 'attack': 1679, 'cultural': 1680, 'pend': 1681, 'wale': 1682, 'hereditary': 1683, 'individual': 1684, 'vain': 1685, 'court': 1686, 'supreme': 1687, 'approach': 1688, 'ectopic': 1689, 'itioning': 1690, 'olute': 1691, 'carlebach': 1692, 'german': 1693, 'shlomo': 1694, 'yiddi': 1695, 'ukrainian': 1696, 'mainframe': 1697, 'tream': 1698, 'treamer': 1699, 'twitch': 1700, 'continue': 1701, 'location': 1702, 'tinder': 1703, 'careerpower': 1704, 'coach': 1705, 'confu': 1706, 'mahendra': 1707, 'army': 1708, 'strike': 1709, 'goldilock': 1710, 'zone': 1711, 'analytic': 1712, 'report': 1713, 'green': 1714, 'holder': 1715, 'picture': 1716, 'template': 1717, 'bicycle': 1718, 'commute': 1719, 'data': 1720, 'tract': 1721, 'vector': 1722, 'bedroom': 1723, 'terdam': 1724, 'mathematic': 1725, 'divya': 1726, 'hini': 1727, 'madhuna': 1728, 'patanjali': 1729, 'vati': 1730, 'detectable': 1731, 'debit': 1732, 'compatible': 1733, 'eculari': 1734, 'material': 1735, 'lymph': 1736, 'platform': 1737, 'agree': 1738, 'import': 1739, 'captaincy': 1740, 'smirnoff': 1741, 'vodka': 1742, 'inverted': 1743, 'table': 1744, 'popular': 1745, 'publication': 1746, 'bang': 1747, 'download': 1748, 'eligibility': 1749, 'hoax': 1750, 'robert': 1751, 'vaccine': 1752, 'moody': 1753, 'little': 1754, 'weekday': 1755, 'weekend': 1756, 'comment': 1757, 'margin': 1758, 'procra': 1759, 'tinate': 1760, 'goal': 1761, 'cool': 1762, 'peech': 1763, 'nietz': 1764, 'tare': 1765, 'aqueduct': 1766, 'invent': 1767, 'xmodgame': 1768, 'carolina': 1769, 'primary': 1770, 'eating': 1771, 'toddler': 1772, 'kaif': 1773, 'katrina': 1774, 'tance': 1775, 'tant': 1776, 'definitively': 1777, 'idential': 1778, 'rightfully': 1779, 'flie': 1780, 'water': 1781, 'actor': 1782, 'commercial': 1783, 'mall': 1784, 'organization': 1785, 'terilization': 1786, 'proficient': 1787, 'wordpad': 1788, 'weather': 1789, 'advanced': 1790, 'balaji': 1791, 'gupta': 1792, 'vika': 1793, 'adword': 1794, 'certification': 1795, 'bernie': 1796, 'nominate': 1797, 'sander': 1798, 'room': 1799, 'kick': 1800, 'citizen': 1801, 'chocolate': 1802, 'erectile': 1803, 'remedy': 1804, 'poiler': 1805, 'reiner': 1806, 'spoiler': 1807, 'tand': 1808, 'titan': 1809, 'billionaire': 1810, 'telugu': 1811, 'jaini': 1812, 'coutrie': 1813, 'manner': 1814, 'terrori': 1815, 'prom': 1816, 'dirty': 1817, 'pital': 1818, 'chole': 1819, 'terol': 1820, 'shinden': 1821, 'sunri': 1822, 'andhra': 1823, 'demand': 1824, 'onable': 1825, 'prade': 1826, 'special': 1827, 'statu': 1828, 'pirate': 1829, 'croatia': 1830, 'denmark': 1831, 'audio': 1832, 'dark': 1833, 'dimen': 1834, 'japane': 1835, 'digit': 1836, 'divi': 1837, 'concert': 1838, 'crowd': 1839, 'eemingly': 1840, 'entation': 1841, 'guide': 1842, 'hand': 1843, 'ician': 1844, 'orche': 1845, 'tanding': 1846, 'tick': 1847, 'wand': 1848, 'pune': 1849, 'firefighter': 1850, 'iraq': 1851, 'coworke': 1852, 'nice': 1853, 'haking': 1854, 'peaking': 1855, 'voice': 1856, 'landing': 1857, 'nasa': 1858, 'neil': 1859, 'quantico': 1860, 'american': 1861, 'broadca': 1862, 'channel': 1863, 'ement': 1864, 'star': 1865, 'emotion': 1866, 'chromatography': 1867, 'duty': 1868, 'fiction': 1869, 'novel': 1870, 'romantic': 1871, 'crack': 1872, 'grade': 1873, 'alevel': 1874, 'ociology': 1875, 'brooklyn': 1876, 'deeply': 1877, 'onate': 1878, 'airport': 1879, 'dubai': 1880, 'layover': 1881, 'mikrotik': 1882, 'legally': 1883, 'tifr': 1884, 'erve': 1885, 'rude': 1886, 'trait': 1887, 'calicut': 1888, 'city': 1889, 'kerala': 1890, 'peaceful': 1891, 'tate': 1892, 'ethical': 1893, 'ignorance': 1894, 'puni': 1895, 'reading': 1896, 'aler': 1897, 'factory': 1898, 'outlet': 1899, 'vegan': 1900, 'majority': 1901, 'acro': 1902, 'balance': 1903, 'department': 1904, 'reputation': 1905, 'platelet': 1906, 'rich': 1907, 'divorce': 1908, 'freedom': 1909, 'banglade': 1910, 'independence': 1911, 'region': 1912, 'wing': 1913, 'backdate': 1914, 'cale': 1915, 'byteriani': 1916, 'catholici': 1917, 'article': 1918, 'microwave': 1919, 'tolic': 1920, 'genre': 1921, 'netflix': 1922, 'python': 1923, 'planet': 1924, 'trader': 1925, 'spark': 1926, 'hunt': 1927, 'tactical': 1928, 'anger': 1929, 'railway': 1930, 'graduation': 1931, 'adult': 1932, 'kalium': 1933, 'natrium': 1934, 'pota': 1935, 'rename': 1936, 'sodium': 1937, 'modafinil': 1938, 'baby': 1939, 'shopify': 1940, 'eilat': 1941, 'firm': 1942, 'fund': 1943, 'mightier': 1944, 'piano': 1945, 'irregular': 1946, 'partame': 1947, 'hitchen': 1948, 'intellectual': 1949, 'topher': 1950, 'dinner': 1951, 'head': 1952, 'lice': 1953, 'tubborn': 1954, 'farveez': 1955, 'maharoof': 1956, 'mohamed': 1957, 'record': 1958, 'microphone': 1959, 'webcam': 1960, 'dependent': 1961, 'periodic': 1962, 'credit': 1963, 'taurant': 1964, 'wipe': 1965, 'allah': 1966, 'criminate': 1967, 'favor': 1968, 'marie': 1969, 'mond': 1970, 'abimilech': 1971, 'biblical': 1972, 'jael': 1973, 'gmat': 1974, 'ielts': 1975, 'indicate': 1976, 'ignment': 1977, 'innovation': 1978, 'ajeenkya': 1979, 'patil': 1980, 'coupon': 1981, 'cription': 1982, 'goodrx': 1983, 'futuri': 1984, 'wallet': 1985, 'door': 1986, 'chow': 1987, 'hakka': 1988, 'mein': 1989, 'noodle': 1990, 'punjabi': 1991, 'atom': 1992, 'neutron': 1993, 'hyperloop': 1994, 'maglev': 1995, 'hypocritical': 1996, 'hypothe': 1997, 'theorie': 1998, 'compre': 1999, 'fuel': 2000, 'helpful': 2001, 'octane': 2002, 'hype': 2003, 'paco': 2004, 'perfume': 2005, 'rabanne': 2006, 'tination': 2007, 'cure': 2008, 'knee': 2009, 'mulan': 2010, 'burn': 2011, 'default': 2012, 'font': 2013, 'suitecrm': 2014, 'delaware': 2015, 'incorporate': 2016, 'regi': 2017, 'tere': 2018, 'rimowa': 2019, 'uitca': 2020, 'judge': 2021, 'experiment': 2022, 'formation': 2023, 'governance': 2024, 'involve': 2025, 'tituional': 2026, 'tata': 2027, 'colour': 2028, 'extract': 2029, 'accompli': 2030, 'failure': 2031, 'hment': 2032, 'objectively': 2033, 'tenure': 2034, 'therodynamic': 2035, 'boxe': 2036, 'pepper': 2037, 'tuffe': 2038, 'tralia': 2039, 'spinko': 2040, 'cabinet': 2041, 'pick': 2042, 'munich': 2043, 'produce': 2044, 'marcu': 2045, 'orange': 2046, 'pecialize': 2047, 'smart': 2048, 'ultant': 2049, 'jhunjhunu': 2050, 'decide': 2051, 'electoral': 2052, 'vote': 2053, 'tupid': 2054, 'fedex': 2055, 'tigate': 2056, 'tolen': 2057, 'clickable': 2058, 'upercharged': 2059, 'accumulation': 2060, 'corrupt': 2061, 'curb': 2062, 'introduction': 2063, 'politician': 2064, 'forever': 2065, 'tamp': 2066, 'decrea': 2067, 'cloud': 2068, 'eagate': 2069, 'torage': 2070, 'quickbook': 2071, 'recovery': 2072, 'overdraft': 2073, 'evidence': 2074, 'illuminati': 2075, 'trick': 2076, 'ibility': 2077, 'million': 2078, 'munition': 2079, 'unexplored': 2080, 'warplane': 2081, 'hurt': 2082, 'tampon': 2083, 'avalanche': 2084, 'cryptography': 2085, 'horror': 2086, 'recommend': 2087, 'lyric': 2088, 'brag': 2089, 'diagram': 2090, 'immoral': 2091, 'charade': 2092, 'dumb': 2093, 'film': 2094, 'communicate': 2095, 'vehicle': 2096, 'affective': 2097, 'device': 2098, 'entertainment': 2099, 'alpha': 2100, 'group': 2101, 'naphthalene': 2102, 'talk': 2103, 'camera': 2104, 'etting': 2105, 'milky': 2106, 'contagiou': 2107, 'negotiable': 2108, 'ritalin': 2109, 'hpsc': 2110, 'study': 2111, 'avatar': 2112, 'chibi': 2113, 'owner': 2114, 'khowai': 2115, 'kraft': 2116, 'ddos': 2117, 'cape': 2118, 'race': 2119, 'cover': 2120, 'tint': 2121, 'caltrain': 2122, 'profitable': 2123, 'excel': 2124, 'hortcut': 2125, 'tain': 2126, 'equally': 2127, 'telecom': 2128, 'plover': 2129, 'aadmi': 2130, 'ground': 2131, 'gujarat': 2132, 'party': 2133, 'reality': 2134, 'culine': 2135, 'traight': 2136, 'adam': 2137, 'dougla': 2138, 'galaxy': 2139, 'hitchhiker': 2140, 'onally': 2141, 'crater': 2142, 'depth': 2143, 'broker': 2144, 'trive': 2145, 'appoint': 2146, 'colleague': 2147, 'begin': 2148, 'overweight': 2149, 'aravalli': 2150, 'quadratic': 2151, 'avenue': 2152, 'bremen': 2153, 'cartoon': 2154, 'tall': 2155, 'immunization': 2156, 'hadoop': 2157, 'fordham': 2158, 'msgf': 2159, 'overnight': 2160, 'prie': 2161, 'ange': 2162, 'julian': 2163, 'ambro': 2164, 'megaupload': 2165, 'tung': 2166, 'accept': 2167, 'orry': 2168, 'raeli': 2169, 'refugee': 2170, 'tinian': 2171, 'github': 2172, 'cipline': 2173, 'acid': 2174, 'hyaluronic': 2175, 'hopping': 2176, 'javascript': 2177, 'terbate': 2178, 'accidentally': 2179, 'facilitie': 2180, 'perk': 2181, 'cend': 2182, 'external': 2183, 'ultra': 2184, 'lept': 2185, 'enjoy': 2186, 'inging': 2187, 'endanger': 2188, 'pecie': 2189, 'threaten': 2190, 'beach': 2191, 'diani': 2192, 'friendly': 2193, 'watamu': 2194, 'tarting': 2195, 'alienate': 2196, 'karna': 2197, 'calculu': 2198, 'ight': 2199, 'rigorou': 2200, 'correlation': 2201, 'upporter': 2202, 'build': 2203, 'makeday': 2204, 'tobacco': 2205, 'turize': 2206, 'nonatomic': 2207, 'objective': 2208, 'property': 2209, 'retain': 2210, 'badminton': 2211, 'racket': 2212, 'antenna': 2213, 'frequency': 2214, 'propagation': 2215, 'radio': 2216, 'diabete': 2217, 'hate': 2218, 'ibling': 2219, 'tend': 2220, 'ridiculou': 2221, 'coder': 2222, 'ceremonie': 2223, 'commemorate': 2224, 'native': 2225, 'pueblo': 2226, 'apple': 2227, 'regular': 2228, 'contretemp': 2229, 'brother': 2230, 'covery': 2231, 'excavation': 2232, 'lagina': 2233, 'longe': 2234, 'author': 2235, 'elfie': 2236, 'corn': 2237, 'plant': 2238, 'hedge': 2239, 'bird': 2240, 'bore': 2241, 'trange': 2242, 'chronicle': 2243, 'narnia': 2244, 'negotiate': 2245, 'katzung': 2246, 'lippincott': 2247, 'mbbs': 2248, 'pharmacology': 2249, 'proffe': 2250, 'second': 2251, 'gateway': 2252, 'ability': 2253, 'entry': 2254, 'modern': 2255, 'ynce': 2256, 'gift': 2257, 'invite': 2258, 'azhar': 2259, 'chhatti': 2260, 'garh': 2261, 'ellie': 2262, 'goulding': 2263, 'fitne': 2264, 'branche': 2265, 'withdraw': 2266, 'align': 2267, 'technologie': 2268, 'expand': 2269, 'galaxie': 2270, 'approx': 2271, 'volleyball': 2272, 'evil': 2273, 'accommodate': 2274, 'inclu': 2275, 'initial': 2276, 'logic': 2277, 'national': 2278, 'cheme': 2279, 'grand': 2280, 'ignificant': 2281, 'nazgûl': 2282, 'vape': 2283, 'iisc': 2284, 'iiser': 2285, 'annoying': 2286, 'relief': 2287, 'tronaut': 2288, 'defit': 2289, 'tripout': 2290, 'cloak': 2291, 'upvote': 2292, 'ahai': 2293, 'azor': 2294, 'jaime': 2295, 'lanni': 2296, 'rent': 2297, 'betray': 2298, 'brea': 2299, 'gynecoma': 2300, 'retrieve': 2301, 'alvage': 2302, 'gear': 2303, 'emulator': 2304, 'terminal': 2305, 'exaggeration': 2306, 'contemporary': 2307, 'ethic': 2308, 'ervati': 2309, 'puritan': 2310, 'trace': 2311, 'merchandi': 2312, 'hmmwv': 2313, 'humvee': 2314, 'rover': 2315, 'snatch': 2316, 'airtel': 2317, 'miling': 2318, 'oman': 2319, 'emotionally': 2320, 'ychology': 2321, 'bits': 2322, 'iiit': 2323, 'premier': 2324, 'coding': 2325, 'competitive': 2326, 'focu': 2327, 'denote': 2328, 'darkroom': 2329, 'bolt': 2330, 'reload': 2331, 'rifle': 2332, 'inevitable': 2333, 'cary': 2334, 'hana': 2335, 'road': 2336, 'valid': 2337, 'beginning': 2338, 'crape': 2339, 'laundering': 2340, 'trade': 2341, 'clean': 2342, 'hower': 2343, 'wall': 2344, 'olation': 2345, 'reproductive': 2346, 'hotmail': 2347, 'abdul': 2348, 'kalam': 2349, 'titution': 2350, 'component': 2351, 'interface': 2352, 'network': 2353, 'clothe': 2354, 'evening': 2355, 'hlight': 2356, 'idewalk': 2357, 'jogger': 2358, 'treet': 2359, 'valuable': 2360, 'dante': 2361, 'hwari': 2362, 'temple': 2363, 'local': 2364, 'vonage': 2365, 'maller': 2366, 'bother': 2367, 'influence': 2368, 'capital': 2369, 'belong': 2370, 'helium': 2371, 'inactive': 2372, 'infer': 2373, 'inference': 2374, 'neon': 2375, 'info': 2376, 'vice': 2377, 'alphabet': 2378, 'arrange': 2379, 'hark': 2380, 'rohit': 2381, 'sharma': 2382, 'betty': 2383, 'bounce': 2384, 'landmine': 2385, 'italian': 2386, 'abbey': 2387, 'downton': 2388, 'addiction': 2389, 'correctly': 2390, 'preferred': 2391, 'pronoun': 2392, 'carve': 2393, 'telangana': 2394, 'mito': 2395, 'bond': 2396, 'igma': 2397, 'networking': 2398, 'vanguard': 2399, 'japan': 2400, 'badge': 2401, 'arabic': 2402, 'writer': 2403, 'ccavenue': 2404, 'olympic': 2405, 'arou': 2406, 'fuck': 2407, 'shall': 2408, 'sheet': 2409, 'lation': 2410, 'wakhra': 2411, 'ector': 2412, 'private': 2413, 'ubuntu': 2414, 'hion': 2415, 'treak': 2416, 'adhd': 2417, 'leepy': 2418, 'mirror': 2419, 'pencil': 2420, 'plane': 2421, 'reflect': 2422, 'arnold': 2423, 'immigrate': 2424, 'pokemon': 2425, 'ranger': 2426, 'mtech': 2427, 'pitality': 2428, 'cigarette': 2429, 'fall': 2430, 'leather': 2431, 'legge': 2432, 'poilt': 2433, 'azimuth': 2434, 'propeller': 2435, 'encryption': 2436, 'quantum': 2437, 'technique': 2438, 'afterward': 2439, 'blurry': 2440, 'removal': 2441, 'packet': 2442, 'chandler': 2443, 'sherlock': 2444, 'global': 2445, 'warming': 2446, 'electron': 2447, 'menu': 2448, 'panera': 2449, 'favorite': 2450, 'swift': 2451, 'barcode': 2452, 'erte': 2453, 'coal': 2454, 'trainee': 2455, 'liberal': 2456, 'politically': 2457, 'robot': 2458, 'elective': 2459, 'generic': 2460, 'gold': 2461, 'clit': 2462, 'finger': 2463, 'labia': 2464, 'turbating': 2465, 'loneline': 2466, 'remedie': 2467, 'tipation': 2468, 'manipulate': 2469, 'academy': 2470, 'eful': 2471, 'khan': 2472, 'commi': 2473, 'service': 2474, 'union': 2475, 'fundamental': 2476, 'kalimat': 2477, 'kalma': 2478, 'modify': 2479, 'qualify': 2480, 'shahdah': 2481, 'shia': 2482, 'tayyibah': 2483, 'tort': 2484, 'ṭaiyibah': 2485, 'wifi': 2486, 'engagement': 2487, 'promi': 2488, 'bollywood': 2489, 'urine': 2490, 'cpap': 2491, 'greate': 2492, 'automatic': 2493, 'cognitive': 2494, 'celebrity': 2495, 'wide': 2496, 'pilot': 2497, 'tudie': 2498, 'enter': 2499, 'tummy': 2500, 'proficiency': 2501, 'grammar': 2502, 'televi': 2503, 'weird': 2504, 'acceleration': 2505, 'bhopal': 2506, 'datahero': 2507, 'stripe': 2508, 'ualize': 2509, 'looking': 2510, 'heavy': 2511, 'whipping': 2512, 'cupcake': 2513, 'forehead': 2514, 'vibhuti': 2515, 'jaipur': 2516, 'lnmiit': 2517, 'pecte': 2518, 'chile': 2519, 'participate': 2520, 'startup': 2521, 'cele': 2522, 'orbital': 2523, 'tial': 2524, 'tronomer': 2525, 'cabie': 2526, 'evere': 2527, 'colombia': 2528, 'event': 2529, 'path': 2530, 'picplz': 2531, 'planning': 2532, 'collide': 2533, 'double': 2534, 'leonard': 2535, 'pacetime': 2536, 'ripple': 2537, 'sheldon': 2538, 'uperfluid': 2539, 'unia': 2540, 'catch': 2541, 'raid': 2542, 'militari': 2543, 'pectj': 2544, 'weave': 2545, 'cafe': 2546, 'xcode': 2547, 'calorie': 2548, 'hierarchical': 2549, 'nutil': 2550, 'refinement': 2551, 'imple': 2552, 'proper': 2553, 'refu': 2554, 'central': 2555, 'manufacturer': 2556, 'kiri': 2557, 'confident': 2558, 'emoji': 2559, 'terie': 2560, 'tack': 2561, 'comic': 2562, 'troke': 2563, 'acne': 2564, 'dating': 2565, 'interracial': 2566, 'conductor': 2567, 'flux': 2568, 'frecuncy': 2569, 'magnetic': 2570, 'thinking': 2571, 'worrying': 2572, 'conceite': 2573, 'ounde': 2574, 'thigh': 2575, 'cientific': 2576, 'definition': 2577, 'uncon': 2578, 'bubba': 2579, 'forre': 2580, 'gump': 2581, 'powerpoint': 2582, 'combu': 2583, 'enthalpy': 2584, 'ethanol': 2585, 'impatient': 2586, 'gravity': 2587, 'butterflie': 2588, 'girly': 2589, 'tulip': 2590, 'wimming': 2591, 'cegenation': 2592, 'impri': 2593, 'onment': 2594, 'peculation': 2595, 'taxe': 2596, 'hown': 2597, 'jetpack': 2598, 'singh': 2599, 'yuvraj': 2600, 'bike': 2601, 'encourage': 2602, 'popularity': 2603, 'molecular': 2604, 'expen': 2605, 'minded': 2606, 'vacuum': 2607, 'contra': 2608, 'onou': 2609, 'wandering': 2610, 'crazie': 2611, 'cheat': 2612, 'official': 2613, 'breeder': 2614, 'budgie': 2615, 'magazine': 2616, 'broom': 2617, 'delphini': 2618, 'voldemort': 2619, 'ubliminal': 2620, 'motorcycle': 2621, 'unlock': 2622, 'econd': 2623, 'everal': 2624, 'lowe': 2625, 'veniver': 2626, 'veri': 2627, 'vici': 2628, 'vivu': 2629, 'ocjp': 2630, 'attend': 2631, 'demonetization': 2632, 'narendra': 2633, 'yorker': 2634, 'oneplu': 2635, 'acdc': 2636, 'zeppelin': 2637, 'prodigy': 2638, 'copper': 2639, 'hydroxide': 2640, 'ulphate': 2641, 'laugh': 2642, 'flood': 2643, 'mainland': 2644, 'phenomenon': 2645, 'ibps': 2646, 'albanian': 2647, 'turk': 2648, 'lgbt': 2649, 'bhairamgarh': 2650, 'sanctuary': 2651, 'wildlife': 2652, 'bioreference': 2653, 'ecure': 2654, 'omnia': 2655, 'kodi': 2656, 'denti': 2657, 'peciali': 2658, 'chart': 2659, 'htira': 2660, 'surya': 2661, 'yudi': 2662, 'jack': 2663, 'michael': 2664, 'nake': 2665, 'compute': 2666, 'grocerie': 2667, 'cripte': 2668, 'tential': 2669, 'bryant': 2670, 'kobe': 2671, 'lebron': 2672, 'drink': 2673, 'okay': 2674, 'juice': 2675, 'onion': 2676, 'regrow': 2677, 'pintere': 2678, 'guideline': 2679, 'kentucky': 2680, 'reboot': 2681, 'martin': 2682, 'cern': 2683, 'infatuation': 2684, 'manife': 2685, 'tified': 2686, 'tiny': 2687, 'arvind': 2688, 'kejriwal': 2689, 'ucla': 2690, 'tired': 2691, 'bailout': 2692, 'collap': 2693, 'eventually': 2694, 'greece': 2695, 'turmoil': 2696, 'ugly': 2697, 'inherent': 2698, 'regre': 2699, 'tribali': 2700, 'taxation': 2701, 'porn': 2702, 'teenage': 2703, 'equitie': 2704, 'coconut': 2705, 'fever': 2706, 'haley': 2707, 'nikky': 2708, 'treat': 2709, 'halloween': 2710, 'ilent': 2711, 'pretend': 2712, 'euthana': 2713, 'netherland': 2714, 'moan': 2715, 'forgetful': 2716, 'greenlit': 2717, 'lion': 2718, 'gelatin': 2719, 'pork': 2720, 'learner': 2721, 'licence': 2722, 'mumbai': 2723, 'incident': 2724, 'battle': 2725, 'vomiting': 2726, 'watery': 2727, 'languange': 2728, 'literally': 2729, 'ychic': 2730, 'faucet': 2731, 'groan': 2732, 'trickle': 2733, 'uddenly': 2734, 'unle': 2735, 'jewelry': 2736, 'wedding': 2737, 'tamilnadu': 2738, 'club': 2739, 'efficiently': 2740, 'coke': 2741, 'hirt': 2742, 'pecifically': 2743, 'elfle': 2744, 'billion': 2745, 'dollar': 2746, 'introvert': 2747, 'chao': 2748, 'harm': 2749, 'realize': 2750, 'exce': 2751, 'iron': 2752, 'engenering': 2753, 'uiet': 2754, 'heet': 2755, 'inche': 2756, 'piece': 2757, 'verizon': 2758, 'reque': 2759, 'effective': 2760, 'kitchen': 2761, 'gcse': 2762, 'donate': 2763, 'pint': 2764, 'wered': 2765, 'projector': 2766, 'titanium': 2767, 'worldwide': 2768, 'foam': 2769, 'throw': 2770, 'conform': 2771, 'teel': 2772, 'frame': 2773, 'artificial': 2774, 'training': 2775, 'gane': 2776, 'hnan': 2777, 'lokacart': 2778, 'ramakri': 2779, 'prank': 2780, 'fiancee': 2781, 'driving': 2782, 'exten': 2783, 'licen': 2784, 'logo': 2785, 'chip': 2786, 'nano': 2787, 'rumour': 2788, 'repeater': 2789, 'library': 2790, 'treaming': 2791, 'accurately': 2792, 'folk': 2793, 'reporting': 2794, 'wyoming': 2795, 'file': 2796, 'nintendo': 2797, 'button': 2798, 'anthem': 2799, 'compromi': 2800, 'maintain': 2801, 'aeroponic': 2802, 'initiate': 2803, 'receive': 2804, 'kolkata': 2805, 'ebook': 2806, 'content': 2807, 'compo': 2808, 'urgency': 2809, 'urrection': 2810, 'wake': 2811, 'augu': 2812, 'onward': 2813, 'confidence': 2814, 'continuou': 2815, 'ejaculate': 2816, 'budget': 2817, 'cheap': 2818, 'ymbolize': 2819, 'typical': 2820, 'actual': 2821, 'cumulative': 2822, 'volume': 2823, 'vwap': 2824, 'lanyard': 2825, 'melbourne': 2826, 'imminent': 2827, 'hijab': 2828, 'alternate': 2829, 'mental': 2830, 'toughne': 2831, 'hotte': 2832, 'lady': 2833, 'melania': 2834, 'jammu': 2835, 'pertain': 2836, 'ratify': 2837, 'dell': 2838, 'piron': 2839, 'condom': 2840, 'brave': 2841, 'oldi': 2842, 'valour': 2843, 'recruiter': 2844, 'contribution': 2845, 'northern': 2846, 'nmat': 2847, 'pence': 2848, 'anterior': 2849, 'fiber': 2850, 'flexation': 2851, 'inferior': 2852, 'lati': 2853, 'terior': 2854, 'untwi': 2855, 'uperior': 2856, 'vertical': 2857, 'poet': 2858, 'poll': 2859, 'pega': 2860, 'alchohol': 2861, 'overrate': 2862, 'tanla': 2863, 'clark': 2864, 'expedition': 2865, 'explorer': 2866, 'accident': 2867, 'generaly': 2868, 'talky': 2869, 'walky': 2870, 'lander': 2871, 'pacific': 2872, 'philippine': 2873, 'provoke': 2874, 'thought': 2875, 'title': 2876, 'collegedunia': 2877, 'model': 2878, 'erect': 2879, 'overprotective': 2880, 'domain': 2881, 'policie': 2882, 'noah': 2883, 'dual': 2884, 'pentium': 2885, 'graffittibook': 2886, 'petrol': 2887, 'pricing': 2888, 'suzuki': 2889, 'variant': 2890, 'wift': 2891, 'funding': 2892, 'crib': 2893, 'activate': 2894, 'activation': 2895, 'kmspico': 2896, 'mundane': 2897, 'fini': 2898, 'diwali': 2899, 'community': 2900, 'harvard': 2901, 'appear': 2902, 'security': 2903, 'preparation': 2904, 'nism': 2905, 'securitie': 2906, 'hutte': 2907, 'expect': 2908, 'equipment': 2909, 'chloropla': 2910, 'alto': 2911, 'palo': 2912, 'wering': 2913, 'hockey': 2914, 'original': 2915, 'tumblr': 2916, 'govt': 2917, 'smell': 2918, 'tire': 2919, 'pichai': 2920, 'sundar': 2921, 'invi': 2922, 'crude': 2923, 'vulgar': 2924, 'greenland': 2925, 'tero': 2926, 'tronomical': 2927, 'arora': 2928, 'nike': 2929, 'cardio': 2930, 'morocco': 2931, 'aboli': 2932, 'school': 2933, 'summer': 2934, 'render': 2935, 'mcdonald': 2936, 'hoarding': 2937, 'maybe': 2938, 'pivot': 2939, 'circuit': 2940, 'combinational': 2941, 'bhagvad': 2942, 'geeta': 2943, 'ayahua': 2944, 'hardy': 2945, 'talented': 2946, 'getting': 2947, 'hobo': 2948, 'brutal': 2949, 'expat': 2950, 'facial': 2951, 'crazy': 2952, 'albini': 2953, 'retina': 2954, 'gandhi': 2955, 'rahul': 2956, 'conte': 2957, 'eurovi': 2958, 'song': 2959, 'diploma': 2960, 'adver': 2961, 'quarterback': 2962, 'threat': 2963, 'recur': 2964, 'ethnicity': 2965, 'pectively': 2966, 'unlikeable': 2967, 'attraction': 2968, 'ically': 2969, 'improvi': 2970, 'bodyguard': 2971, 'medieval': 2972, 'apparel': 2973, 'conver': 2974, 'retailer': 2975, 'relate': 2976, 'campu': 2977, 'wipro': 2978, 'confortable': 2979, 'fluency': 2980, 'paycheck': 2981, 'nece': 2982, 'tence': 2983, 'wade': 2984, 'entrance': 2985, 'converter': 2986, 'wait': 2987, 'idea': 2988, 'truation': 2989, 'hidden': 2990, 'partition': 2991, 'gramicidin': 2992, 'ionomycin': 2993, 'ionophore': 2994, 'vancomycin': 2995, 'beta': 2996, 'poverty': 2997, 'yearly': 2998, 'credibility': 2999, 'freelance': 3000, 'fulltime': 3001, 'msbi': 3002, 'crew': 3003, 'gangbang': 3004, 'brightne': 3005, 'depend': 3006, 'hardware': 3007, 'alcohol': 3008, 'county': 3009, 'dillingham': 3010, 'drug': 3011, 'rehab': 3012, 'kateboard': 3013, 'demanding': 3014, 'determinant': 3015, 'drip': 3016, 'irrigation': 3017, 'array': 3018, 'fridge': 3019, 'fruit': 3020, 'poile': 3021, 'collage': 3022, 'background': 3023, 'ideal': 3024, 'tandard': 3025, 'abandon': 3026, 'tworld': 3027, 'polity': 3028, 'acadmic': 3029, 'cholor': 3030, 'requirment': 3031, 'boot': 3032, 'enable': 3033, 'chom': 3034, 'noam': 3035, 'erupt': 3036, 'tone': 3037, 'volcano': 3038, 'bath': 3039, 'merit': 3040, 'uming': 3041, 'bite': 3042, 'puppy': 3043, 'powerful': 3044, 'apart': 3045, 'ecound': 3046, 'quebec': 3047, 'mitr': 3048, 'urdu': 3049, 'dreaming': 3050, 'frequencie': 3051, 'frontal': 3052, 'gamma': 3053, 'induce': 3054, 'lobe': 3055, 'lucid': 3056, 'tacs': 3057, 'timulate': 3058, 'jeet': 3059, 'kune': 3060, 'immortal': 3061, 'annual': 3062, 'paradigm': 3063, 'ample': 3064, 'ampling': 3065, 'random': 3066, 'tratifie': 3067, 'monaut': 3068, 'indie': 3069, 'bragança': 3070, 'brazil': 3071, 'pauli': 3072, 'making': 3073, 'happie': 3074, 'leia': 3075, 'starwar': 3076, 'friction': 3077, 'coun': 3078, 'henceforth': 3079, 'practitioner': 3080, 'uicide': 3081, 'unethical': 3082, 'elle': 3083, 'willing': 3084, 'qualitie': 3085, 'hitler': 3086, 'living': 3087, 'apture': 3088, 'earchable': 3089, 'plot': 3090, 'ride': 3091, 'penny': 3092, 'category': 3093, 'credential': 3094, 'roulette': 3095, 'barry': 3096, 'pread': 3097, 'rumor': 3098, 'soetoro': 3099, 'quant': 3100, 'audit': 3101, 'angelli': 3102, 'batterie': 3103, 'duracell': 3104, 'kinnow': 3105, 'khalifah': 3106, 'command': 3107, 'node': 3108, 'tful': 3109, 'luffy': 3110, 'naruto': 3111, 'affinity': 3112, 'proton': 3113, 'nobel': 3114, 'prize': 3115, 'logan': 3116, 'outdoor': 3117, 'beneath': 3118, 'interconnect': 3119, 'omehow': 3120, 'volcanoe': 3121, 'afraid': 3122, 'tenni': 3123, 'affair': 3124, 'excerci': 3125, 'counter': 3126, 'geiger': 3127, 'click': 3128, 'alexandria': 3129, 'librarie': 3130, 'nalanda': 3131, 'vandali': 3132, 'vapour': 3133, 'rotate': 3134, 'lotto': 3135, 'science': 3136, 'indifferent': 3137, 'fulfill': 3138, 'hoot': 3139, 'wwii': 3140, 'capable': 3141, 'hroom': 3142, 'expired': 3143, 'pull': 3144, 'neyland': 3145, 'methamphetamine': 3146, 'probation': 3147, 'december': 3148, 'include': 3149, 'capacitor': 3150, 'stalin': 3151, 'ussr': 3152, 'admin': 3153, 'challenge': 3154, 'healthcare': 3155, 'unix': 3156, 'vendor': 3157, 'avoidant': 3158, 'chemical': 3159, 'ferrou': 3160, 'ulfide': 3161, 'excellent': 3162, 'tati': 3163, 'tician': 3164, 'undergone': 3165, 'pillow': 3166, 'angular': 3167, 'react': 3168, 'gluten': 3169, 'teak': 3170, 'educational': 3171, 'auto': 3172, 'feeder': 3173, 'knitting': 3174, 'triper': 3175, 'exually': 3176, 'arduino': 3177, 'horte': 3178, 'malayalam': 3179, 'piring': 3180, 'flavor': 3181, 'generally': 3182, 'half': 3183, 'imply': 3184, 'atte': 3185, 'erode': 3186, 'tirupur': 3187, 'siberian': 3188, 'duck': 3189, 'moth': 3190, 'blender': 3191, 'nutribullet': 3192, 'usps': 3193, 'inch': 3194, 'argentina': 3195, 'pecially': 3196, 'bhim': 3197, 'curve': 3198, 'interact': 3199, 'trongly': 3200, 'bull': 3201, 'potty': 3202, 'barclay': 3203, 'hmah': 3204, 'mehta': 3205, 'ooaltah': 3206, 'taarak': 3207, 'replacement': 3208, 'navigator': 3209, 'oven': 3210, 'pyrex': 3211, 'ware': 3212, 'loop': 3213, 'appropriation': 3214, 'claim': 3215, 'dreadlock': 3216, 'earlobe': 3217, 'inappropriate': 3218, 'tretche': 3219, 'cilia': 3220, 'napoleon': 3221, 'waterloo': 3222, 'baluchi': 3223, 'diplomatic': 3224, 'hift': 3225, 'fair': 3226, 'therapeutic': 3227, 'derivative': 3228, 'purebre': 3229, 'truth': 3230, 'momentum': 3231, 'photon': 3232, 'lide': 3233, 'chain': 3234, 'jollibee': 3235, 'truecaller': 3236, 'karnataka': 3237, 'kaveri': 3238, 'nadu': 3239, 'tamil': 3240, 'defendant': 3241, 'tent': 3242, 'border': 3243, 'canadian': 3244, 'patrol': 3245, 'cockroach': 3246, 'mell': 3247, 'odorle': 3248, 'repellent': 3249, 'pamme': 3250, 'promote': 3251, 'wanathan': 3252, 'brexit': 3253, 'flaw': 3254, 'macbeth': 3255, 'tragic': 3256, 'garage': 3257, 'murderer': 3258, 'brun': 3259, 'nova': 3260, 'scotia': 3261, 'wick': 3262, 'convert': 3263, 'communi': 3264, 'ociate': 3265, 'simplify': 3266, 'bark': 3267, 'filter': 3268, 'photographer': 3269, 'flemi': 3270, 'peaker': 3271, 'idaho': 3272, 'dimple': 3273, 'lative': 3274, 'legi': 3275, 'limitation': 3276, 'sinamet': 3277, 'allie': 3278, 'braavo': 3279, 'chir': 3280, 'icici': 3281, 'runnng': 3282, 'buyout': 3283, 'nokia': 3284, 'takeover': 3285, 'remake': 3286, 'sholay': 3287, 'pirational': 3288, 'breed': 3289, 'runner': 3290, 'repo': 3291, 'greedy': 3292, 'ebump': 3293, 'beer': 3294, 'enrich': 3295, 'tame': 3296, 'victim': 3297, 'mate': 3298, 'tronomy': 3299, 'memory': 3300, 'photographic': 3301, 'immigration': 3302, 'score': 3303, 'etymology': 3304, 'homele': 3305, 'aturation': 3306, 'crop': 3307, 'genetically': 3308, 'agra': 3309, 'coaching': 3310, 'lingui': 3311, 'claremont': 3312, 'error': 3313, 'footballer': 3314, 'doll': 3315, 'voodoo': 3316, 'indiranagar': 3317, 'quoran': 3318, 'cuetu': 3319, 'recognize': 3320, 'thai': 3321, 'vietname': 3322, 'junk': 3323, 'electricity': 3324, 'fine': 3325, 'interaction': 3326, 'bombing': 3327, 'trategic': 3328, 'taiwan': 3329, 'tradition': 3330, 'logical': 3331, 'lithium': 3332, 'hunting': 3333, 'wild': 3334, 'lana': 3335, 'revi': 3336, 'fighter': 3337, 'unit': 3338, 'watt': 3339, 'editor': 3340, 'toenail': 3341, 'board': 3342, 'ncert': 3343, 'rail': 3344, 'ruby': 3345, 'vancouver': 3346, 'football': 3347, 'volley': 3348, 'gorilla': 3349, 'villa': 3350, 'allergic': 3351, 'ciprofloxacin': 3352, 'packaging': 3353, 'cylindrical': 3354, 'freeze': 3355, 'muffin': 3356, 'infertility': 3357, 'pirit': 3358, 'aseam': 3359, 'bitch': 3360, 'emperor': 3361, 'eunuch': 3362, 'meeting': 3363, 'occupy': 3364, 'karate': 3365, 'kung': 3366, 'prerequi': 3367, 'paraguay': 3368, 'encounter': 3369, 'tele': 3370, 'bale': 3371, 'batman': 3372, 'nolan': 3373, 'linki': 3374, 'timelike': 3375, 'flammability': 3376, 'ality': 3377, 'toronto': 3378, 'feed': 3379, 'introduce': 3380, 'demonization': 3381, 'chicken': 3382, 'antarctica': 3383, 'poké': 3384, 'stop': 3385, 'chief': 3386, 'prolific': 3387, 'staff': 3388, 'influential': 3389, 'movement': 3390, 'thailand': 3391, 'ometime': 3392, 'twiter': 3393, 'orient': 3394, 'pure': 3395, 'advi': 3396, 'polar': 3397, 'seltzer': 3398, 'funnie': 3399, 'anime': 3400, 'plea': 3401, 'crow': 3402, 'turizer': 3403, 'coin': 3404, 'elve': 3405, 'extinct': 3406, 'seattle': 3407, 'onant': 3408, 'vowel': 3409, 'geological': 3410, 'powder': 3411, 'airline': 3412, 'dome': 3413, 'clixgalore': 3414, 'merchant': 3415, 'tralian': 3416, 'airprint': 3417, 'erjet': 3418, 'officejet': 3419, 'printer': 3420, 'debt': 3421, 'phuket': 3422, 'productivity': 3423, 'barrier': 3424, 'advance': 3425, 'ynthetic': 3426, 'heartbeat': 3427, 'ribcage': 3428, 'andreea': 3429, 'tina': 3430, 'tendom': 3431, 'nature': 3432, 'ogyny': 3433, 'gamer': 3434, 'july': 3435, 'meio': 3436, 'grocery': 3437, 'tomized': 3438, 'tattoo': 3439, 'loving': 3440, 'hydrate': 3441, 'bulb': 3442, 'emit': 3443, 'neare': 3444, 'unlight': 3445, 'brazilian': 3446, 'racer': 3447, 'recumbent': 3448, 'difficultie': 3449, 'roll': 3450, 'augmented': 3451, 'academic': 3452, 'cmpny': 3453, 'develpr': 3454, 'ecutive': 3455, 'tingui': 3456, 'ycho': 3457, 'jannah': 3458, 'ptsd': 3459, 'therapy': 3460, 'atlea': 3461, 'salman': 3462, 'diarrhea': 3463, 'nutrient': 3464, 'tretch': 3465, 'complexity': 3466, 'decimal': 3467, 'phonetic': 3468, 'chaudhary': 3469, 'kabbadi': 3470, 'performance': 3471, 'input': 3472, 'jquery': 3473, 'plugin': 3474, 'validate': 3475, 'altwater': 3476, 'taffy': 3477, 'omnolent': 3478, 'grenada': 3479, 'widely': 3480, 'bowler': 3481, 'cricket': 3482, 'favour': 3483, 'driveway': 3484, 'melt': 3485, 'oftener': 3486, 'cavitie': 3487, 'alert': 3488, 'damon': 3489, 'depart': 3490, 'dignam': 3491, 'matt': 3492, 'wahlberg': 3493, 'bridge': 3494, 'hyperlocal': 3495, 'cmat': 3496, 'duel': 3497, 'quadcore': 3498, 'snapdragon': 3499, 'avenger': 3500, 'hammer': 3501, 'lift': 3502, 'thor': 3503, 'ultron': 3504, 'opportunitie': 3505, 'determined': 3506, 'ociali': 3507, 'nuclear': 3508, 'connect': 3509, 'rhyme': 3510, 'ynonym': 3511, 'phelp': 3512, 'edge': 3513, 'dredd': 3514, 'nationali': 3515, 'ibirité': 3516, 'eminem': 3517, 'hailie': 3518, 'tirupati': 3519, 'trouble': 3520, 'egregation': 3521, 'southern': 3522, 'tronghold': 3523, 'irrational': 3524, 'rational': 3525, 'jordan': 3526, 'magic': 3527, 'pardon': 3528, 'incredulou': 3529, 'circumvent': 3530, 'oning': 3531, 'palladium': 3532, 'reactor': 3533, 'stark': 3534, 'usds': 3535, 'webex': 3536, 'mexico': 3537, 'examiner': 3538, 'oral': 3539, 'heroku': 3540, 'trig': 3541, 'aqueou': 3542, 'chloride': 3543, 'urrounde': 3544, 'vely': 3545, 'variable': 3546, 'clip': 3547, 'kype': 3548, 'directx': 3549, 'opengl': 3550, 'band': 3551, 'notebook': 3552, 'onei': 3553, 'guard': 3554, 'navik': 3555, 'liberali': 3556, 'provi': 3557, 'jail': 3558, 'tantly': 3559, 'pretty': 3560, 'circum': 3561, 'regardle': 3562, 'frontline': 3563, 'piritual': 3564, 'daniel': 3565, 'backward': 3566, 'bullet': 3567, 'september': 3568, 'hardne': 3569, 'rockwell': 3570, 'cene': 3571, 'bubble': 3572, 'neet': 3573, 'overcharge': 3574, 'grammatically': 3575, 'incorrect': 3576, 'drdo': 3577, 'joining': 3578, 'akan': 3579, 'dialect': 3580, 'drama': 3581, 'mock': 3582, 'parody': 3583, 'medal': 3584, 'winner': 3585, 'butt': 3586, 'trigonometry': 3587, 'infj': 3588, 'infp': 3589, 'entropy': 3590, 'biochemical': 3591, 'pathway': 3592, 'ynthe': 3593, 'married': 3594, 'polyamory': 3595, 'ighn': 3596, 'equity': 3597, 'xanax': 3598, 'hall': 3599, 'euro': 3600, 'impax': 3601, 'laboratorie': 3602, 'diff': 3603, 'inland': 3604, 'hydrophilic': 3605, 'mormon': 3606, 'clancy': 3607, 'sahara': 3608, 'homeothermic': 3609, 'poikilothermic': 3610, 'lavery': 3611, 'scofield': 3612, 'fennec': 3613, 'diameter': 3614, 'hearing': 3615, 'load': 3616, 'mitte': 3617, 'rivet': 3618, 'terabyte': 3619, 'proud': 3620, 'traveller': 3621, 'compile': 3622, 'ettop': 3623, 'hlite': 3624, 'tagecraft': 3625, 'raja': 3626, 'bitcoin': 3627, 'varana': 3628, 'cyclohexane': 3629, 'oluble': 3630, 'inva': 3631, 'privacy': 3632, 'limitle': 3633, 'pole': 3634, 'temic': 3635, 'upreme': 3636, 'igner': 3637, 'ituation': 3638, 'aero': 3639, 'howing': 3640, 'verify': 3641, 'platinum': 3642, 'commonwealth': 3643, 'onboarde': 3644, 'eract': 3645, 'recognition': 3646, 'edible': 3647, 'starbur': 3648, 'wrapper': 3649, 'horter': 3650, 'geometry': 3651, 'colourle': 3652, 'zinc': 3653, 'meereen': 3654, 'eruptive': 3655, 'locate': 3656, 'mount': 3657, 'popocatépetl': 3658, 'villarica': 3659, 'tuck': 3660, 'miui': 3661, 'inherit': 3662, 'tube': 3663, 'tetho': 3664, 'clearly': 3665, 'exemplary': 3666, 'dymatize': 3667, 'gainer': 3668, 'ufficient': 3669, 'nation': 3670, 'announce': 3671, 'bala': 3672, 'bodu': 3673, 'lankan': 3674, 'sena': 3675, 'torrentz': 3676, 'emerald': 3677, 'ugarcane': 3678, 'alluminium': 3679, 'arecibo': 3680, 'bury': 3681, 'radar': 3682, 'bothell': 3683, 'nordic': 3684, 'efficient': 3685, 'cyru': 3686, 'firing': 3687, 'priceline': 3688, 'ticket': 3689, 'inqui': 3690, 'buffer': 3691, 'creep': 3692, 'coffee': 3693, 'mocha': 3694, 'batch': 3695, 'genderi': 3696, 'coefficient': 3697, 'kannada': 3698, 'kannadiga': 3699, 'celebritie': 3700, 'rick': 3701, 'monetize': 3702, 'luther': 3703, 'annoy': 3704, 'alliance': 3705, 'brics': 3706, 'afmc': 3707, 'principle': 3708, 'dowry': 3709, 'moto': 3710, 'motorola': 3711, 'upper': 3712, 'proverbially': 3713, 'match': 3714, 'inkjet': 3715, 'comfort': 3716, 'candy': 3717, 'flipping': 3718, 'mdma': 3719, 'compen': 3720, 'openai': 3721, 'profit': 3722, 'explo': 3723, 'pacecraft': 3724, 'denver': 3725, 'taxi': 3726, 'hero': 3727, 'kollywood': 3728, 'anitation': 3729, 'tainability': 3730, 'forum': 3731, 'intervene': 3732, 'myanmar': 3733, 'angele': 3734, 'mexican': 3735, 'store': 3736, 'warrant': 3737, 'handgun': 3738, 'departure': 3739, 'conden': 3740, 'methanol': 3741, 'tructural': 3742, 'miley': 3743, 'roblox': 3744, 'mgcl': 3745, 'roorkee': 3746, 'genie': 3747, 'qwerty': 3748, 'juliet': 3749, 'oxymoron': 3750, 'romeo': 3751, 'calorimeter': 3752, 'poilcy': 3753, 'wallow': 3754, 'libertie': 3755, 'mile': 3756, 'artery': 3757, 'trategie': 3758, 'quiet': 3759, 'blind': 3760, 'nooker': 3761, 'fluff': 3762, 'breakdown': 3763, 'shaktimaan': 3764, 'uperhero': 3765, 'tortilla': 3766, 'attempt': 3767, 'bengal': 3768, 'demographic': 3769, 'northea': 3770, 'olate': 3771, 'pare': 3772, 'router': 3773, 'popularize': 3774, 'pink': 3775, 'somme': 3776, 'awaken': 3777, 'chewbacca': 3778, 'kylo': 3779, 'mortgage': 3780, 'ubprime': 3781, 'headma': 3782, 'hepatectomy': 3783, 'rapidly': 3784, 'ugar': 3785, 'itte': 3786, 'kneel': 3787, 'legged': 3788, 'abap': 3789, 'noida': 3790, 'ingaore': 3791, 'cough': 3792, 'excu': 3793, 'iitk': 3794, 'topedia': 3795, 'tigiou': 3796, 'emperador': 3797, 'miguel': 3798, 'tanduay': 3799, 'armature': 3800, 'fluctuate': 3801, 'infinite': 3802, 'polarity': 3803, 'ynchronou': 3804, 'zero': 3805, 'undergo': 3806, 'lakkidi': 3807, 'remain': 3808, 'biotechnology': 3809, 'btech': 3810, 'athlete': 3811, 'crimination': 3812, 'asos': 3813, 'hopper': 3814, 'educate': 3815, 'empathize': 3816, 'bitsian': 3817, 'putin': 3818, 'finn': 3819, 'barbaro': 3820, 'operation': 3821, 'soviet': 3822, 'wikipedia': 3823, 'gene': 3824, 'marine': 3825, 'kitchener': 3826, 'raees': 3827, 'roller': 3828, 'shutter': 3829, 'nathu': 3830, 'bare': 3831, 'edward': 3832, 'snowden': 3833, 'chedule': 3834, 'leepe': 3835, 'elderly': 3836, 'patio': 3837, 'tubruk': 3838, 'context': 3839, 'arthur': 3840, 'clinical': 3841, 'electrota': 3842, 'envi': 3843, 'father': 3844, 'denominate': 3845, 'scorpio': 3846, 'execute': 3847, 'terrible': 3848, 'mechani': 3849, 'tically': 3850, 'gomez': 3851, 'selena': 3852, 'nutritional': 3853, 'pneumonia': 3854, 'analogie': 3855, 'duality': 3856, 'dropbox': 3857, 'comedy': 3858, 'creature': 3859, 'godly': 3860, 'ibiza': 3861, 'jimmy': 3862, 'yllabu': 3863, 'orchid': 3864, 'tower': 3865, 'unite': 3866, 'bachelor': 3867, 'approximately': 3868, 'orientation': 3869, 'tudiup': 3870, 'juneau': 3871, 'candle': 3872, 'twrite': 3873, 'truggle': 3874, 'superman': 3875, 'grafana': 3876, 'tomize': 3877, 'beethoven': 3878, 'ymphony': 3879, 'liberate': 3880, 'oviet': 3881, 'vladivo': 3882, 'ociopath': 3883, 'exchanger': 3884, 'iter': 3885, 'tcws': 3886, 'hiit': 3887, 'lifting': 3888, 'negotiation': 3889, 'officially': 3890, 'unallocated': 3891, 'aryan': 3892, 'iranian': 3893, 'pioneer': 3894, 'programme': 3895, 'iran': 3896, 'karaoke': 3897, 'teurize': 3898, 'unpa': 3899, 'dete': 3900, 'scotti': 3901, 'dwarf': 3902, 'boom': 3903, 'loud': 3904, 'manuever': 3905, 'onic': 3906, 'embed': 3907, 'mechtronic': 3908, 'abilitie': 3909, 'migrate': 3910, 'qualified': 3911, 'geek': 3912, 'parallel': 3913, 'potential': 3914, 'cockpit': 3915, 'earning': 3916, 'inculcate': 3917, 'tworthy': 3918, 'behave': 3919, 'glider': 3920, 'trology': 3921, 'vedic': 3922, 'differentiate': 3923, 'rote': 3924, 'tour': 3925, 'apartment': 3926, 'calendar': 3927, 'loyola': 3928, 'marymount': 3929, 'compliment': 3930, 'particular': 3931, 'african': 3932, 'cratch': 3933, 'concentration': 3934, 'ehold': 3935, 'invalidate': 3936, 'correlate': 3937, 'breakfa': 3938, 'zapata': 3939, 'econdary': 3940, 'mature': 3941, 'pokémon': 3942, 'rare': 3943, 'leepine': 3944, 'teeth': 3945, 'abode': 3946, 'expert': 3947, 'scrape': 3948, 'ychopath': 3949, 'ferozepur': 3950, 'celeb': 3951, 'shamele': 3952, 'dutie': 3953, 'imei': 3954, 'elegant': 3955, 'directly': 3956, 'vlsi': 3957, 'blackli': 3958, 'nazi': 3959, 'slav': 3960, 'audition': 3961, 'pickup': 3962, 'clue': 3963, 'drawing': 3964, 'geometric': 3965, 'ubmitte': 3966, 'marketer': 3967, 'otto': 3968, 'skorzeny': 3969, 'arrival': 3970, 'fore': 3971, 'urban': 3972, 'nips': 3973, 'computing': 3974, 'attendance': 3975, 'metropc': 3976, 'stylo': 3977, 'shanghai': 3978, 'airbnb': 3979, 'ranikhet': 3980, 'index': 3981, 'procedure': 3982, 'xpath': 3983, 'shoolini': 3984, 'acou': 3985, 'impractical': 3986, 'joker': 3987, 'corpion': 3988, 'venom': 3989, 'foxx': 3990, 'redd': 3991, 'june': 3992, 'mccarthyi': 3993, 'matlab': 3994, 'hwanathan': 3995, 'identify': 3996, 'bell': 3997, 'ibilitie': 3998, 'lucy': 3999, 'premi': 4000, 'georgia': 4001, 'nevada': 4002, 'heavily': 4003, 'nore': 4004, 'roommate': 4005, 'arena': 4006, 'intellect': 4007, 'rottweiler': 4008, 'shepherd': 4009, 'manaphy': 4010, 'relevance': 4011, 'loping': 4012, 'marginal': 4013, 'lighten': 4014, 'coil': 4015, 'inductor': 4016, 'monologue': 4017, 'complain': 4018, 'unfairly': 4019, 'burberry': 4020, 'permanently': 4021, 'elbow': 4022, 'cillator': 4023, 'awkward': 4024, 'isis': 4025, 'cellulite': 4026, 'cereal': 4027, 'friday': 4028, 'heir': 4029, 'rightful': 4030, 'vajra': 4031, 'retake': 4032, 'codechef': 4033, 'codeforce': 4034, 'hackerearth': 4035, 'hackerrank': 4036, 'spoj': 4037, 'adavance': 4038, 'evolve': 4039, 'theoritcally': 4040, 'darth': 4041, 'mace': 4042, 'vader': 4043, 'windu': 4044, 'debate': 4045, 'crab': 4046, 'fiddler': 4047, 'agile': 4048, 'tickli': 4049, 'pharmaceutical': 4050, 'comma': 4051, 'vitality': 4052, 'mainly': 4053, 'amazing': 4054, 'alchemi': 4055, 'manhattan': 4056, 'borough': 4057, 'bromley': 4058, 'edgware': 4059, 'switch': 4060, 'arya': 4061, 'samaj': 4062, 'brief': 4063, 'conci': 4064, 'gque': 4065, 'ential': 4066, 'nonfiction': 4067, 'govern': 4068, 'tener': 4069, 'bahama': 4070, 'saltwater': 4071, 'section': 4072, 'software': 4073, 'whale': 4074, 'pectacle': 4075, 'ravi': 4076, 'vajiram': 4077, 'headache': 4078, 'clan': 4079, 'habit': 4080, 'meditation': 4081, 'atelite': 4082, 'crore': 4083, 'umption': 4084, 'prelim': 4085, 'pika': 4086, 'pamper': 4087, 'poon': 4088, 'weet': 4089, 'fawke': 4090, 'vendetta': 4091, 'blatant': 4092, 'automation': 4093, 'manual': 4094, 'venture': 4095, 'bodied': 4096, 'paralyzed': 4097, 'affection': 4098, 'finomena': 4099, 'tomorrow': 4100, 'helpx': 4101, 'actuary': 4102, 'fictional': 4103, 'shantaram': 4104, 'falcon': 4105, 'hawk': 4106, 'kite': 4107, 'prey': 4108, 'phalt': 4109, 'amole': 4110, 'virgin': 4111, 'perate': 4112, 'dirpy': 4113, 'cenario': 4114, 'hypothetical': 4115, 'dick': 4116, 'richard': 4117, 'tution': 4118, 'joaquin': 4119, 'phoenix': 4120, 'piracy': 4121, 'icsa': 4122, 'perpendicular': 4123, 'urface': 4124, 'albany': 4125, 'uitable': 4126, 'electric': 4127, 'tival': 4128, 'burgeon': 4129, 'delu': 4130, 'intolerance': 4131, 'thug': 4132, 'chooler': 4133, 'oracle': 4134, 'analog': 4135, 'midget': 4136, 'thre': 4137, 'auckland': 4138, 'normally': 4139, 'tudying': 4140, 'dengue': 4141, 'worry': 4142, 'beache': 4143, 'nude': 4144, 'banana': 4145, 'curved': 4146, 'circumci': 4147, 'flirt': 4148, 'defend': 4149, 'ecute': 4150, 'lawyer': 4151, 'nuremberg': 4152, 'trial': 4153, 'mining': 4154, 'eccle': 4155, 'underlie': 4156, 'negan': 4157, 'crucify': 4158, 'youth': 4159, 'heater': 4160, 'heel': 4161, 'buchare': 4162, 'romania': 4163, 'soldier': 4164, 'winter': 4165, 'loan': 4166, 'taboo': 4167, 'conflict': 4168, 'document': 4169, 'format': 4170, 'wheeler': 4171, 'nexu': 4172, 'kitten': 4173, 'knead': 4174, 'pikachu': 4175, 'minor': 4176, 'pornographic': 4177, 'coworker': 4178, 'epic': 4179, 'farewell': 4180, 'appliance': 4181, 'electromagnetic': 4182, 'ritual': 4183, 'oriental': 4184, 'ultancie': 4185, 'norway': 4186, 'tail': 4187, 'fourteenth': 4188, 'unattractive': 4189, 'poorly': 4190, 'publicly': 4191, 'maryland': 4192, 'cellphone': 4193, 'unin': 4194, 'octave': 4195, 'liar': 4196, 'mention': 4197, 'repeatedly': 4198, 'initiative': 4199, 'verifier': 4200, 'googling': 4201, 'eparate': 4202, 'nagaland': 4203, 'remind': 4204, 'cambodia': 4205, 'earthquake': 4206, 'kuril': 4207, 'bhat': 4208, 'tanmay': 4209, 'catholic': 4210, 'church': 4211, 'incorruptible': 4212, 'francophone': 4213, 'quitoe': 4214, 'abaqu': 4215, 'fluent': 4216, 'route': 4217, 'atellite': 4218, 'floor': 4219, 'hatching': 4220, 'attach': 4221, 'prompt': 4222, 'reader': 4223, 'aaron': 4224, 'homework': 4225, 'adornment': 4226, 'beautify': 4227, 'beauty': 4228, 'imperiali': 4229, 'neurological': 4230, 'painle': 4231, 'untreatable': 4232, 'rand': 4233, 'democratic': 4234, 'teroid': 4235, 'alarie': 4236, 'organi': 4237, 'authentication': 4238, 'azure': 4239, 'ionic': 4240, 'tallment': 4241, 'productive': 4242, 'coolant': 4243, 'reverie': 4244, 'illne': 4245, 'linux': 4246, 'tationary': 4247, 'butler': 4248, 'albert': 4249, 'tein': 4250, 'bajaj': 4251, 'dominar': 4252, 'planner': 4253, 'brew': 4254, 'mysql': 4255, 'kbar': 4256, 'unre': 4257, 'dynamic': 4258, 'webpage': 4259, 'allocate': 4260, 'bharat': 4261, 'isro': 4262, 'benghazi': 4263, 'triple': 4264, 'unknown': 4265, 'glue': 4266, 'arterie': 4267, 'cardiac': 4268, 'odilation': 4269, 'output': 4270, 'vein': 4271, 'venou': 4272, 'wheat': 4273, 'videographer': 4274, 'ociological': 4275, 'nagpur': 4276, 'angelina': 4277, 'hotter': 4278, 'jennifer': 4279, 'jolie': 4280, 'needle': 4281, 'bhogle': 4282, 'commentate': 4283, 'nowaday': 4284, 'attendant': 4285, 'biochemi': 4286, 'microbiology': 4287, 'trigger': 4288, 'demerit': 4289, 'gearbox': 4290, 'liding': 4291, 'ently': 4292, 'dumbell': 4293, 'corro': 4294, 'icmr': 4295, 'broad': 4296, 'cancer': 4297, 'monthly': 4298, 'attachment': 4299, 'aieee': 4300, 'immune': 4301, 'effectively': 4302, 'miner': 4303, 'buyer': 4304, 'sourcing': 4305, 'pacing': 4306, 'capacity': 4307, 'bind': 4308, 'configure': 4309, 'warehou': 4310, 'cervical': 4311, 'infect': 4312, 'boredom': 4313, 'revolution': 4314, 'unaccompanied': 4315, 'forgot': 4316, 'refund': 4317, 'tatkal': 4318, 'motherboard': 4319, 'flea': 4320, 'ponde': 4321, 'suddenly': 4322, 'addictive': 4323, 'horton': 4324, 'darknet': 4325, 'banc': 4326, 'comfortable': 4327, 'taye': 4328, 'viru': 4329, 'apex': 4330, 'ultima': 4331, 'flat': 4332, 'neutral': 4333, 'parking': 4334, 'wire': 4335, 'counterfeit': 4336, 'deem': 4337, 'titutional': 4338, 'chapati': 4339, 'onably': 4340, 'happine': 4341, 'teleportation': 4342, 'wealthy': 4343, 'bottle': 4344, 'trate': 4345, 'ronaldo': 4346, 'corporation': 4347, 'nucleu': 4348, 'ontario': 4349, 'structure': 4350, 'tatic': 4351, 'gere': 4352, 'henko': 4353, 'mechanic': 4354, 'punmia': 4355, 'timo': 4356, 'flexible': 4357, 'yoga': 4358, 'cricketer': 4359, 'inning': 4360, 'rajnikanth': 4361, 'thalaiva': 4362, 'verb': 4363, 'literacy': 4364, 'defriende': 4365, 'matrix': 4366, 'nearly': 4367, 'circumference': 4368, 'hulu': 4369, 'chew': 4370, 'filtering': 4371, 'mega': 4372, 'hydrocodone': 4373, 'itching': 4374, 'kǎoyā': 4375, 'peking': 4376, 'premium': 4377, 'olver': 4378, 'wimmer': 4379, 'barbara': 4380, 'director': 4381, 'honegger': 4382, 'ulphuric': 4383, 'blount': 4384, 'bondage': 4385, 'aftercooler': 4386, 'intercooler': 4387, 'parametric': 4388, 'laxative': 4389, 'bitsat': 4390, 'tender': 4391, 'tetanu': 4392, 'gynecologi': 4393, 'regularly': 4394, 'hyperlap': 4395, 'mercer': 4396, 'agency': 4397, 'bride': 4398, 'geometrical': 4399, 'theta': 4400, 'ione': 4401, 'indicative': 4402, 'terone': 4403, 'comedian': 4404, 'builder': 4405, 'dreamweaver': 4406, 'graphical': 4407, 'achu': 4408, 'governor': 4409, 'mitt': 4410, 'romney': 4411, 'detox': 4412, 'mono': 4413, 'irritated': 4414, 'forgive': 4415, 'guilty': 4416, 'obviou': 4417, 'prince': 4418, 'vajiralongkorn': 4419, 'adder': 4420, 'hello': 4421, 'meld': 4422, 'purely': 4423, 'competition': 4424, 'tangent': 4425, 'ranch': 4426, 'ktop': 4427, 'award': 4428, 'filmfare': 4429, 'franchi': 4430, 'horcrux': 4431, 'troye': 4432, 'canner': 4433, 'vulnerability': 4434, 'crui': 4435, 'kidnapper': 4436, 'macfarlane': 4437, 'seth': 4438, 'proceed': 4439, 'propertie': 4440, 'jackfruit': 4441, 'boring': 4442, 'tunnel': 4443, 'africa': 4444, 'nigeria': 4445, 'jewellery': 4446, 'eharmorny': 4447, 'uppo': 4448, 'edcuation': 4449, 'accent': 4450, 'microproce': 4451, 'related': 4452, 'topping': 4453, 'bruce': 4454, 'wayne': 4455, 'trength': 4456, 'sachin': 4457, 'tendulkar': 4458, 'pattern': 4459, 'giada': 4460, 'laurentii': 4461, 'visa': 4462, 'decent': 4463, 'hong': 4464, 'kong': 4465, 'floppy': 4466, 'cript': 4467, 'jntu': 4468, 'kakinada': 4469, 'modeling': 4470, 'nasdaq': 4471, 'iaas': 4472, 'paas': 4473, 'saas': 4474, 'fairy': 4475, 'compact': 4476, 'hentai': 4477, 'hmallow': 4478, 'lollipop': 4479, 'nougat': 4480, 'redmi': 4481, 'shuttle': 4482, 'space': 4483, 'tank': 4484, 'googlenet': 4485, 'inception': 4486, 'buddhi': 4487, 'conclu': 4488, 'tibetan': 4489, 'ualization': 4490, 'affordable': 4491, 'chat': 4492, 'cord': 4493, 'solari': 4494, 'dige': 4495, 'tive': 4496, 'oria': 4497, 'shroud': 4498, 'turin': 4499, 'introverted': 4500, 'oxytocin': 4501, 'poken': 4502, 'innovative': 4503, 'pollution': 4504, 'centauri': 4505, 'cube': 4506, 'promixa': 4507, 'baltimore': 4508, 'alexander': 4509, 'graham': 4510, 'gnome': 4511, 'warcraft': 4512, 'warrior': 4513, 'inner': 4514, 'outer': 4515, 'rocky': 4516, 'pecialization': 4517, 'urgence': 4518, 'stroke': 4519, 'demoniti': 4520, 'negativity': 4521, 'preade': 4522, 'regard': 4523, 'quicke': 4524, 'blockage': 4525, 'throat': 4526, 'cinematic': 4527, 'marvel': 4528, 'leeve': 4529, 'combat': 4530, 'conection': 4531, 'contain': 4532, 'purifier': 4533, 'bulk': 4534, 'exchange': 4535, 'album': 4536, 'mataram': 4537, 'rahman': 4538, 'vande': 4539, 'bluetooth': 4540, 'prepay': 4541, 'steel': 4542, 'uniform': 4543, 'lazine': 4544, 'babie': 4545, 'october': 4546, 'rohtang': 4547, 'elliot': 4548, 'stabler': 4549, 'enlightenment': 4550, 'pective': 4551, 'bake': 4552, 'xiaomi': 4553, 'unfollow': 4554, 'sacramento': 4555, 'oclaro': 4556, 'birthplace': 4557, 'civilization': 4558, 'kiteboating': 4559, 'polo': 4560, 'hypno': 4561, 'powell': 4562, 'ubmarine': 4563, 'equality': 4564, 'complaint': 4565, 'mafia': 4566, 'homogeneou': 4567, 'lick': 4568, 'foggy': 4569, 'pixelated': 4570, 'para': 4571, 'permi': 4572, 'hover': 4573, 'council': 4574, 'appreciate': 4575, 'botany': 4576, 'zoology': 4577, 'patial': 4578, 'convict': 4579, 'felony': 4580, 'text': 4581, 'querie': 4582, 'finland': 4583, 'rauma': 4584, 'town': 4585, 'wonderful': 4586, 'helicopter': 4587, 'dalian': 4588, 'amino': 4589, 'peptide': 4590, 'hulk': 4591, 'rogue': 4592, 'functional': 4593, 'lateralization': 4594, 'medicap': 4595, 'permanent': 4596, 'bridal': 4597, 'collection': 4598, 'pectacular': 4599, 'bump': 4600, 'rear': 4601, 'ocket': 4602, 'multinational': 4603, 'monk': 4604, 'inauguration': 4605, 'march': 4606, 'layer': 4607, 'ozone': 4608, 'ultraviolet': 4609, 'revolutionary': 4610, 'molecule': 4611, 'coreos': 4612, 'rancheros': 4613, 'cockroache': 4614, 'pupal': 4615, 'tage': 4616, 'hian': 4617, 'karda': 4618, 'prop': 4619, 'regulation': 4620, 'teoarthriti': 4621, 'thar': 4622, 'cauvery': 4623, 'pute': 4624, 'intend': 4625, 'pharmacy': 4626, 'choke': 4627, 'fluore': 4628, 'lamp': 4629, 'ifsc': 4630, 'genuine': 4631, 'label': 4632, 'lyft': 4633, 'miami': 4634, 'medication': 4635, 'longboard': 4636, 'boddhuru': 4637, 'profound': 4638, 'accomodation': 4639, 'zuckerberg': 4640, 'airbag': 4641, 'automaker': 4642, 'bayonet': 4643, 'atlantic': 4644, 'republic': 4645, 'scienti': 4646, 'petting': 4647, 'uncomfortable': 4648, 'demi': 4649, 'potentially': 4650, 'puri': 4651, 'texte': 4652, 'findyahan': 4653, 'congre': 4654, 'toprepare': 4655, 'kicka': 4656, 'adsen': 4657, 'illegal': 4658, 'yeddo': 4659, 'inpatient': 4660, 'macon': 4661, 'lunge': 4662, 'abhi': 4663, 'bachchan': 4664, 'hwarya': 4665, 'lava': 4666, 'cbse': 4667, 'withhold': 4668, 'practical': 4669, 'fifo': 4670, 'differential': 4671, 'hang': 4672, 'denie': 4673, 'confirmation': 4674, 'hitech': 4675, 'ecretary': 4676, 'lazy': 4677, 'corridor': 4678, 'cpec': 4679, 'tarter': 4680, 'editing': 4681, 'annamalai': 4682, 'meerut': 4683, 'shobhit': 4684, 'chronic': 4685, 'eczema': 4686, 'burnham': 4687, 'hkil': 4688, 'pirated': 4689, 'hemale': 4690, 'reale': 4691, 'journal': 4692, 'angle': 4693, 'metamaterial': 4694, 'ummary': 4695, 'cleaning': 4696, 'monitor': 4697, 'dumbledore': 4698, 'horcruxe': 4699, 'reveal': 4700, 'snape': 4701, 'memorizer': 4702, 'extra': 4703, 'expo': 4704, 'mere': 4705, 'prolonged': 4706, 'naxali': 4707, 'recently': 4708, 'intelligible': 4709, 'mutually': 4710, 'panic': 4711, 'managment': 4712, 'imagery': 4713, 'laloo': 4714, 'niti': 4715, 'upporting': 4716, 'bipolar': 4717, 'caliber': 4718, 'galil': 4719, 'quad': 4720, 'stack': 4721, 'hoaxe': 4722, 'beaver': 4723, 'obligation': 4724, 'magneti': 4725, 'ework': 4726, 'detention': 4727, 'lunch': 4728, 'ually': 4729, 'ethnicitie': 4730, 'notify': 4731, 'vault': 4732, 'anton': 4733, 'chekhov': 4734, 'ultancy': 4735, 'candium': 4736, 'ideapad': 4737, 'shepard': 4738, 'wolf': 4739, 'intellectually': 4740, 'collateral': 4741, 'turbulence': 4742, 'galvanometer': 4743, 'eong': 4744, 'culptor': 4745, 'inertia': 4746, 'sammy': 4747, 'lending': 4748, 'population': 4749, 'activa': 4750, 'skoal': 4751, 'wintergreen': 4752, 'exert': 4753, 'quantize': 4754, 'clat': 4755, 'multiproce': 4756, 'multita': 4757, 'cheating': 4758, 'confirm': 4759, 'anonymou': 4760, 'attorney': 4761, 'kennedy': 4762, 'nepoti': 4763, 'maibong': 4764, 'applicable': 4765, 'hcat': 4766, 'radeon': 4767, 'tapu': 4768, 'computational': 4769, 'fluid': 4770, 'omewhere': 4771, 'californian': 4772, 'luxembourg': 4773, 'underrate': 4774, 'superheroe': 4775, 'latex': 4776, 'matrice': 4777, 'chandra': 4778, 'subha': 4779, 'retirement': 4780, 'unborn': 4781, 'impul': 4782, 'nerve': 4783, 'continuity': 4784, 'hazel': 4785, 'jawa': 4786, 'kanata': 4787, 'plau': 4788, 'clock': 4789, 'mahal': 4790, 'originally': 4791, 'feti': 4792, 'amelia': 4793, 'talentle': 4794, 'unintere': 4795, 'recorded': 4796, 'hurricane': 4797, 'sandy': 4798, 'torm': 4799, 'malle': 4800, 'computable': 4801, 'media': 4802, 'neighboring': 4803, 'worrie': 4804, 'barcelona': 4805, 'biomedical': 4806, 'maker': 4807, 'cylinder': 4808, 'expiry': 4809, 'adage': 4810, 'meme': 4811, 'proverb': 4812, 'afghan': 4813, 'afghani': 4814, 'invader': 4815, 'totally': 4816, 'hield': 4817, 'wind': 4818, 'pant': 4819, 'keto': 4820, 'organ': 4821, 'ychological': 4822, 'quiz': 4823, 'accuracy': 4824, 'hartmann': 4825, 'thom': 4826, 'humbucker': 4827, 'manufacture': 4828, 'achievement': 4829, 'backlink': 4830, 'ionization': 4831, 'magne': 4832, 'amcat': 4833, 'theme': 4834, 'tudio': 4835, 'actinomorphic': 4836, 'flower': 4837, 'secure': 4838, 'corner': 4839, 'difficulty': 4840, 'ente': 4841, 'volunteer': 4842, 'hague': 4843, 'tribunal': 4844, 'fool': 4845, 'idiot': 4846, 'kidnap': 4847, 'identification': 4848, 'phillipine': 4849, 'waterboarde': 4850, 'wiggle': 4851, 'plurali': 4852, 'controver': 4853, 'meryl': 4854, 'streeper': 4855, 'metalloid': 4856, 'trailia': 4857, 'bobcat': 4858, 'montana': 4859, 'stream': 4860, 'streaming': 4861, 'cinematography': 4862, 'creenwrite': 4863, 'butter': 4864, 'chee': 4865, 'beep': 4866, 'deadly': 4867, 'radiation': 4868, 'sudhaar': 4869, 'replie': 4870, 'wally': 4871, 'nominee': 4872, 'membrane': 4873, 'critic': 4874, 'ogyni': 4875, 'weak': 4876, 'meteor': 4877, 'delude': 4878, 'identity': 4879, 'charity': 4880, 'fraud': 4881, 'amphibian': 4882, 'legacy': 4883, 'talle': 4884, 'uefi': 4885, 'googleable': 4886, 'cage': 4887, 'induction': 4888, 'quirrel': 4889, 'tofu': 4890, 'notification': 4891, 'ally': 4892, 'concrete': 4893, 'creed': 4894, 'ynonymou': 4895, 'unhide': 4896, 'acidity': 4897, 'alkalinity': 4898, 'gynecological': 4899, 'opher': 4900, 'aurdino': 4901, 'loader': 4902, 'sapphire': 4903, 'backpackr': 4904, 'bahadur': 4905, 'banda': 4906, 'mughal': 4907, 'urrender': 4908, 'urrendere': 4909, 'deer': 4910, 'foxe': 4911, 'teppe': 4912, 'cultivate': 4913, 'recogni': 4914, 'revenge': 4915, 'clerk': 4916, 'promotion': 4917, 'exuality': 4918, 'debra': 4919, 'harvick': 4920, 'banglore': 4921, 'calcutta': 4922, 'ncra': 4923, 'nepale': 4924, 'trophy': 4925, 'nsit': 4926, 'contract': 4927, 'iting': 4928, 'indugula': 4929, 'raghavendra': 4930, 'expected': 4931, 'talwar': 4932, 'graile': 4933, 'semantic': 4934, 'ifunny': 4935, 'imultaneou': 4936, 'medulla': 4937, 'oblongata': 4938, 'commandment': 4939, 'puppie': 4940, 'harmony': 4941, 'totle': 4942, 'kinny': 4943, 'metaboli': 4944, 'overthink': 4945, 'pacemaker': 4946, 'mammal': 4947, 'ucsb': 4948, 'probability': 4949, 'writability': 4950, 'social': 4951, 'drunk': 4952, 'pixxe': 4953, 'signity': 4954, 'kaur': 4955, 'lingerie': 4956, 'maxim': 4957, 'nathalia': 4958, 'cook': 4959, 'frozen': 4960, 'haggi': 4961, 'fipb': 4962, 'deny': 4963, 'lettuce': 4964, 'romaine': 4965, 'poore': 4966, 'baar': 4967, 'dekho': 4968, 'behavior': 4969, 'tutor': 4970, 'park': 4971, 'amphetamine': 4972, 'dictionary': 4973, 'potus': 4974, 'meal': 4975, 'poop': 4976, 'propaganda': 4977, 'addition': 4978, 'cookie': 4979, 'vanilla': 4980, 'frank': 4981, 'sinatra': 4982, 'niot': 4983, 'militia': 4984, 'continuation': 4985, 'heroin': 4986, 'partie': 4987, 'extrovert': 4988, 'orbit': 4989, 'linkedin': 4990, 'vita': 4991, 'duke': 4992, 'timetable': 4993, 'generator': 4994, 'principal': 4995, 'arun': 4996, 'harma': 4997, 'snap': 4998, 'typically': 4999, 'moother': 5000, 'copie': 5001, 'loathing': 5002, 'vega': 5003, 'dolce': 5004, 'eparator': 5005, 'democrat': 5006, 'excited': 5007, 'unaccounted': 5008, 'mint': 5009, 'iginficance': 5010, 'unfollowe': 5011, 'repute': 5012, 'export': 5013, 'sinch': 5014, 'icar': 5015, 'earh': 5016, 'veto': 5017, 'appropriate': 5018, 'parkway': 5019, 'aggregate': 5020, 'ordinarily': 5021, 'dictation': 5022, 'siri': 5023, 'hifte': 5024, 'teleprompter': 5025, 'bible': 5026, 'parable': 5027, 'prodigal': 5028, 'nakamoto': 5029, 'sato': 5030, 'hernia': 5031, 'sociali': 5032, 'preferably': 5033, 'guardian': 5034, 'kinetic': 5035, 'projectile': 5036, 'blurt': 5037, 'vimeo': 5038, 'igneou': 5039, 'bharath': 5040, 'depict': 5041, 'swatch': 5042, 'baba': 5043, 'ramdev': 5044, 'pore': 5045, 'wisc': 5046, 'cardiology': 5047, 'brow': 5048, 'miya': 5049, 'porto': 5050, 'portugal': 5051, 'declare': 5052, 'jain': 5053, 'movin': 5054, 'prophet': 5055, 'activitie': 5056, 'teem': 5057, 'jackpot': 5058, 'lottery': 5059, 'duplicate': 5060, 'voter': 5061, 'deport': 5062, 'temporary': 5063, 'ubcla': 5064, 'quarrel': 5065, 'bomb': 5066, 'perm': 5067, 'equel': 5068, 'splice': 5069, 'pilio': 5070, 'complex': 5071, 'queen': 5072, 'pond': 5073, 'similar': 5074, 'dancing': 5075, 'century': 5076, 'broadband': 5077, 'madipakkam': 5078, 'drown': 5079, 'gravitational': 5080, 'daddy': 5081, 'petty': 5082, 'wildflower': 5083, 'flute': 5084, 'mayan': 5085, 'hegel': 5086, 'multi': 5087, 'prez': 5088, 'backpack': 5089, 'balkan': 5090, 'crapping': 5091, 'friedrich': 5092, 'hain': 5093, 'hawking': 5094, 'stephen': 5095, 'checkout': 5096, 'architecture': 5097, 'diego': 5098, 'accountant': 5099, 'monjee': 5100, 'ditto': 5101, 'patrick': 5102, 'swayze': 5103, 'horizontally': 5104, 'flipboard': 5105, 'entirely': 5106, 'breezer': 5107, 'bethween': 5108, 'jallikattu': 5109, 'keen': 5110, 'peta': 5111, 'acting': 5112, 'lazer': 5113, 'forrent': 5114, 'brawl': 5115, 'ybox': 5116, 'boundary': 5117, 'endura': 5118, 'nutrition': 5119, 'upplement': 5120, 'chair': 5121, 'genbaku': 5122, 'cambridge': 5123, 'fiancé': 5124, 'prenuptial': 5125, 'gathering': 5126, 'fluctuation': 5127, 'virtual': 5128, 'comfortably': 5129, 'gluco': 5130, 'prandial': 5131, 'brunch': 5132, 'moderation': 5133, 'bombay': 5134, 'armie': 5135, 'hobbit': 5136, 'peter': 5137, 'dmem': 5138, 'emem': 5139, 'abortion': 5140, 'youtuber': 5141, 'acquit': 5142, 'ette': 5143, 'innocent': 5144, 'gridline': 5145, 'rainfore': 5146, 'erver': 5147, 'xampp': 5148, 'forgotten': 5149, 'impotence': 5150, 'tyre': 5151, 'remotely': 5152, 'telecommuting': 5153, 'working': 5154, 'wage': 5155, 'weekly': 5156, 'edmonton': 5157, 'veterinarian': 5158, 'knock': 5159, 'lave': 5160, 'growth': 5161, 'float': 5162, 'sauer': 5163, 'chef': 5164, 'faith': 5165, 'toothache': 5166, 'hardcore': 5167, 'owni': 5168, 'alloy': 5169, 'omorphu': 5170, 'imilaritie': 5171, 'reptile': 5172, 'paypalcorner': 5173, 'neural': 5174, 'aluminium': 5175, 'bronze': 5176, 'lubricant': 5177, 'rolling': 5178, 'cott': 5179, 'valley': 5180, 'jockey': 5181, 'bored': 5182, 'kota': 5183, 'unabomber': 5184, 'hologram': 5185, 'annaly': 5186, 'implementation': 5187, 'tailor': 5188, 'eliminate': 5189, 'walter': 5190, 'rivalry': 5191, 'bieber': 5192, 'peanut': 5193, 'googled': 5194, 'oppy': 5195, 'reference': 5196, 'upenn': 5197, 'ravindrababu': 5198, 'ravula': 5199, 'hane': 5200, 'paypal': 5201, 'serie': 5202, 'bootloader': 5203, 'xolo': 5204, 'tpone': 5205, 'unreliable': 5206, 'altitude': 5207, 'avail': 5208, 'batter': 5209, 'flour': 5210, 'undercooked': 5211, 'graphene': 5212, 'trologer': 5213, 'kater': 5214, 'pair': 5215, 'gibraltar': 5216, 'malaga': 5217, 'layered': 5218, 'winding': 5219, 'backup': 5220, 'mack': 5221, 'realty': 5222, 'extreme': 5223, 'fatigue': 5224, 'dignity': 5225, 'globally': 5226, 'flatten': 5227, 'culpable': 5228, 'homicide': 5229, 'imulate': 5230, 'routing': 5231, 'krit': 5232, 'coincidence': 5233, 'emblance': 5234, 'tika': 5235, 'calculator': 5236, 'ankit': 5237, 'goyal': 5238, 'kreatryx': 5239, 'trap': 5240, 'underwear': 5241, 'cryptology': 5242, 'guilt': 5243, 'drinkware': 5244, 'starbuck': 5245, 'domino': 5246, 'malocchio': 5247, 'prayer': 5248, 'prophecie': 5249, 'champlain': 5250, 'deepe': 5251, 'fauna': 5252, 'flora': 5253, 'yawn': 5254, 'ympathetic': 5255, 'ynchronize': 5256, 'hint': 5257, 'judy': 5258, 'lorraine': 5259, 'valak': 5260, 'pornography': 5261, 'turbatory': 5262, 'freeletic': 5263, 'jupiter': 5264, 'critical': 5265, 'norm': 5266, 'algebraic': 5267, 'pectra': 5268, 'topology': 5269, 'ongwrite': 5270, 'microcontroller': 5271, 'olympiad': 5272, 'beef': 5273, 'dcns': 5274, 'leak': 5275, 'pionage': 5276, 'scorpene': 5277, 'peri': 5278, 'troy': 5279, 'horrifying': 5280, 'foxit': 5281, 'compete': 5282, 'bluray': 5283, 'mallya': 5284, 'vijay': 5285, 'pattaya': 5286, 'regulator': 5287, 'utopia': 5288, 'pimple': 5289, 'chinee': 5290, 'enemie': 5291, 'fairie': 5292, 'haldiram': 5293, 'relativity': 5294, 'allocator': 5295, 'gzip': 5296, 'advancement': 5297, 'engin': 5298, 'therapi': 5299, 'fraudulent': 5300, 'anna': 5301, 'tnslpp': 5302, 'protection': 5303, 'secret': 5304, 'commentator': 5305, 'poland': 5306, 'ehealthin': 5307, 'pradeep': 5308, 'quotation': 5309, 'devil': 5310, 'sealer': 5311, 'warfare': 5312, 'labradoodle': 5313, 'temperament': 5314, 'cathode': 5315, 'photocell': 5316, 'photoelectric': 5317, 'tify': 5318, 'pantyho': 5319, 'attribute': 5320, 'acronym': 5321, 'verna': 5322, 'aeroplane': 5323, 'childeren': 5324, 'mutant': 5325, 'mutate': 5326, 'ninja': 5327, 'turtle': 5328, 'madre': 5329, 'sierra': 5330, 'mute': 5331, 'grind': 5332, 'heeler': 5333, 'adani': 5334, 'huge': 5335, 'pile': 5336, 'anal': 5337, 'truggling': 5338, 'egyptian': 5339, 'granite': 5340, 'olid': 5341, 'spain': 5342, 'tomatina': 5343, 'ferrie': 5344, 'zealand': 5345, 'emilia': 5346, 'reggio': 5347, 'finicity': 5348, 'urrect': 5349, 'exempt': 5350, 'infra': 5351, 'objectivi': 5352, 'quantitative': 5353, 'walnut': 5354, 'maid': 5355, 'orie': 5356, 'outfit': 5357, 'michelle': 5358, 'terrain': 5359, 'unity': 5360, 'extracurricular': 5361, 'extraneou': 5362, 'nationality': 5363, 'clum': 5364, 'cybernetic': 5365, 'trument': 5366, 'embler': 5367, 'healing': 5368, 'abominable': 5369, 'holme': 5370, 'mycroft': 5371, 'quantity': 5372, 'methodology': 5373, 'hobby': 5374, 'illegalization': 5375, 'better': 5376, 'mcom': 5377, 'cornell': 5378, 'pollutant': 5379, 'athelete': 5380, 'dope': 5381, 'tematically': 5382, 'clown': 5383, 'accenture': 5384, 'qatar': 5385, 'davi': 5386, 'thoroughly': 5387, 'pendulum': 5388, 'prote': 5389, 'polynomial': 5390, 'developed': 5391, 'derivation': 5392, 'detailed': 5393, 'mechatronic': 5394, 'temporarily': 5395, 'ilicon': 5396, 'pranayam': 5397, 'tamina': 5398, 'practicum': 5399, 'vocabulary': 5400, 'colombian': 5401, 'farm': 5402, 'lord': 5403, 'alibaba': 5404, 'wildcat': 5405, 'kahaani': 5406, 'confederacy': 5407, 'trainer': 5408, 'reache': 5409, 'idered': 5410, 'convergent': 5411, 'divergent': 5412, 'ilica': 5413, 'maritime': 5414, 'medicaid': 5415, 'obamacare': 5416, 'ubcon': 5417, 'janka': 5418, 'gloma': 5419, 'chanel': 5420, 'patek': 5421, 'philippe': 5422, 'rado': 5423, 'watche': 5424, 'audrey': 5425, 'dean': 5426, 'hepburn': 5427, 'leeper': 5428, 'waitli': 5429, 'intolerant': 5430, 'citie': 5431, 'verbal': 5432, 'crypt': 5433, 'winterfell': 5434, 'overlay': 5435, 'letv': 5436, 'arrogant': 5437, 'cocky': 5438, 'dialogue': 5439, 'yield': 5440, 'rocket': 5441, 'emdrive': 5442, 'vivo': 5443, 'arabia': 5444, 'saudi': 5445, 'enfield': 5446, 'royal': 5447, 'manic': 5448, 'retweet': 5449, 'neeze': 5450, 'dungeon': 5451, 'tabletop': 5452, 'indone': 5453, 'opera': 5454, 'eparately': 5455, 'strategie': 5456, 'clinic': 5457, 'dental': 5458, 'implant': 5459, 'programmed': 5460, 'commodity': 5461, 'aperture': 5462, 'hutter': 5463, 'lighting': 5464, 'tionnaire': 5465, 'underperforming': 5466, 'rece': 5467, 'allbe': 5468, 'cooper': 5469, 'blockbu': 5470, 'kapoor': 5471, 'ranbir': 5472, 'modem': 5473, 'zakat': 5474, 'gryffindor': 5475, 'orte': 5476, 'maneka': 5477, 'reddit': 5478, 'huawei': 5479, 'itune': 5480, 'syntaxnet': 5481, 'pandora': 5482, 'andre': 5483, 'meli': 5484, 'rickon': 5485, 'saturday': 5486, 'sunday': 5487, 'creatine': 5488, 'phate': 5489, 'nicmar': 5490, 'aware': 5491, 'intent': 5492, 'malevolence': 5493, 'murderou': 5494, 'ychiatry': 5495, 'honour': 5496, 'informal': 5497, 'edan': 5498, 'hatchback': 5499, 'almo': 5500, 'probably': 5501, 'snow': 5502, 'eball': 5503, 'leftover': 5504, 'xlri': 5505, 'echo': 5506, 'metre': 5507, 'virginity': 5508, 'rhombu': 5509, 'acre': 5510, 'nanking': 5511, 'annually': 5512, 'leeping': 5513, 'participant': 5514, 'preci': 5515, 'ilverlight': 5516, 'altrui': 5517, 'nolimit': 5518, 'newborn': 5519, 'prehi': 5520, 'toric': 5521, 'tithing': 5522, 'survivor': 5523, 'inore': 5524, 'opening': 5525, 'liver': 5526, 'regenerate': 5527, 'proxy': 5528, 'equivalence': 5529, 'uploaded': 5530, 'repel': 5531, 'rodent': 5532, 'shareit': 5533, 'hanover': 5534, 'reign': 5535, 'victoria': 5536, 'chant': 5537, 'mantra': 5538, 'undoubtedly': 5539, 'antonym': 5540, 'eukaryotic': 5541, 'prokaryotic': 5542, 'immigrant': 5543, 'reflective': 5544, 'peroxide': 5545, 'itch': 5546, 'ocially': 5547, 'ychologically': 5548, 'egypt': 5549, 'poli': 5550, 'rydalmere': 5551, 'flipkart': 5552, 'icpc': 5553, 'ignorant': 5554, 'rioting': 5555, 'gray': 5556, 'matche': 5557, 'ecommerce': 5558, 'blade': 5559, 'hangout': 5560, 'rein': 5561, 'carbide': 5562, 'nvidia': 5563, 'packing': 5564, 'deadlifte': 5565, 'shaoxe': 5566, 'vinegar': 5567, 'cooperation': 5568, 'horizon': 5569, 'biology': 5570, 'hampoo': 5571, 'derogatory': 5572, 'zipperhead': 5573, 'rope': 5574, 'humiliating': 5575, 'occupation': 5576, 'manufacturing': 5577, 'punch': 5578, 'bacon': 5579, 'trivia': 5580, 'pentazocine': 5581, 'emary': 5582, 'flickr': 5583, 'edition': 5584, 'extended': 5585, 'vhdl': 5586, 'recognizable': 5587, 'tinctive': 5588, 'reef': 5589, 'taiping': 5590, 'zhongzhou': 5591, 'comptia': 5592, 'rutger': 5593, 'aiims': 5594, 'affirmative': 5595, 'bono': 5596, 'unexpectedly': 5597, 'ihav': 5598, 'mnth': 5599, 'padlock': 5600, 'rake': 5601, 'mcma': 5602, 'properly': 5603, 'biologically': 5604, 'cobra': 5605, 'snake': 5606, 'lotr': 5607, 'trilogie': 5608, 'uconn': 5609, 'additional': 5610, 'concern': 5611, 'tomato': 5612, 'bandra': 5613, 'marital': 5614, 'guidance': 5615, 'byzantine': 5616, 'perfection': 5617, 'soul': 5618, 'nagini': 5619, 'tough': 5620, 'quarter': 5621, 'rafale': 5622, 'appreciation': 5623, 'decline': 5624, 'undo': 5625, 'lator': 5626, 'ridge': 5627, 'vimy': 5628, 'tollywood': 5629, 'omniac': 5630, 'slavic': 5631, 'alkane': 5632, 'alkene': 5633, 'alkyne': 5634, 'applet': 5635, 'anybody': 5636, 'gigolo': 5637, 'individuval': 5638, 'reputed': 5639, 'integer': 5640, 'celexa': 5641, 'dizzy': 5642, 'ebleed': 5643, 'kinda': 5644, 'entiment': 5645, 'lawn': 5646, 'pack': 5647, 'arre': 5648, 'kaine': 5649, 'rainbow': 5650, 'turbate': 5651, 'familie': 5652, 'fried': 5653, 'ellington': 5654, 'dificult': 5655, 'quickook': 5656, 'roth': 5657, 'hortening': 5658, 'manipal': 5659, 'namikaze': 5660, 'uzumaki': 5661, 'tianphobic': 5662, 'suffolk': 5663, 'capabilite': 5664, 'baked': 5665, 'financially': 5666, 'mentality': 5667, 'ignite': 5668, 'puma': 5669, 'aids': 5670, 'chapter': 5671, 'rockefeller': 5672, 'daro': 5673, 'mohenjo': 5674, 'driverle': 5675, 'godavari': 5676, 'riram': 5677, 'river': 5678, 'sagar': 5679, 'carie': 5680, 'covalent': 5681, 'bend': 5682, 'carpet': 5683, 'implication': 5684, 'lender': 5685, 'promoter': 5686, 'digitalocean': 5687, 'gumball': 5688, 'underrated': 5689, 'chihuahuan': 5690, 'britney': 5691, 'spear': 5692, 'reproduce': 5693, 'deper': 5694, 'onalization': 5695, 'neezing': 5696, 'avaaz': 5697, 'scam': 5698, 'demon': 5699, 'ghul': 5700, 'landform': 5701, 'texa': 5702, 'deter': 5703, 'adherent': 5704, 'preciou': 5705, 'endor': 5706, 'bootcamp': 5707, 'dish': 5708, 'dizzine': 5709, 'functioning': 5710, 'alternator': 5711, 'exhau': 5712, 'animation': 5713, 'pixar': 5714, 'livelihood': 5715, 'outie': 5716, 'gauge': 5717, 'pierce': 5718, 'experienced': 5719, 'mozambique': 5720, 'cdefgab': 5721, 'chord': 5722, 'ummari': 5723, 'amateur': 5724, 'enceladu': 5725, 'ettopbox': 5726, 'remote': 5727, 'unpair': 5728, 'dogfight': 5729, 'crown': 5730, 'knap': 5731, 'perpetual': 5732, 'devi': 5733, 'magnet': 5734, 'upply': 5735, 'sweden': 5736, 'arca': 5737, 'hilariou': 5738, 'grant': 5739, 'joking': 5740, 'lying': 5741, 'hoka': 5742, 'cider': 5743, 'grizzlie': 5744, 'cenery': 5745, 'jogging': 5746, 'migration': 5747, 'tuni': 5748, 'haunted': 5749, 'wheelchair': 5750, 'eperation': 5751, 'butterfly': 5752, 'meat': 5753, 'harley': 5754, 'quinn': 5755, 'deodorant': 5756, 'melling': 5757, 'getch': 5758, 'getchar': 5759, 'diman': 5760, 'texting': 5761, 'stamp': 5762, 'confe': 5763, 'canon': 5764, 'vellore': 5765, 'plainview': 5766, 'chromeca': 5767, 'dongle': 5768, 'teewe': 5769, 'herniate': 5770, 'unbia': 5771, 'confirmd': 5772, 'tqwl': 5773, 'torrente': 5774, 'outline': 5775, 'characteristics': 5776, 'contradiction': 5777, 'hocking': 5778, 'onance': 5779, 'indice': 5780, 'soup': 5781, 'rigid': 5782, 'proactiv': 5783, 'meditate': 5784, 'champion': 5785, 'convention': 5786, 'unify': 5787, 'ugary': 5788, 'inorganic': 5789, 'enlighten': 5790, 'skywalker': 5791, 'attire': 5792, 'firework': 5793, 'ecular': 5794, 'ceremony': 5795, 'rooftop': 5796, 'lizard': 5797, 'ordinary': 5798, 'mangal': 5799, 'creek': 5800, 'dakota': 5801, 'workload': 5802, 'cucumber': 5803, 'cakephp': 5804, 'numb': 5805, 'tarve': 5806, 'partial': 5807, 'tody': 5808, 'duly': 5809, 'lipton': 5810, 'areawi': 5811, 'metropolitan': 5812, 'ultimate': 5813, 'hock': 5814, 'hearth': 5815, 'dota': 5816, 'metapha': 5817, 'tape': 5818, 'peacefully': 5819, 'caring': 5820, 'lovable': 5821, 'geeky': 5822, 'podca': 5823, 'pende': 5824, 'crunche': 5825, 'opencv': 5826, 'banning': 5827, 'forbe': 5828, 'riche': 5829, 'pocket': 5830, 'nagar': 5831, 'patel': 5832, 'minne': 5833, 'ready': 5834, 'abednego': 5835, 'furnace': 5836, 'hach': 5837, 'hadrach': 5838, 'commander': 5839, 'tweak': 5840, 'endowment': 5841, 'mediafire': 5842, 'lincoln': 5843, 'matthew': 5844, 'mcconaughey': 5845, 'caffeine': 5846, 'earl': 5847, 'grey': 5848, 'coverie': 5849, 'everybody': 5850, 'gown': 5851, 'camme': 5852, 'impler': 5853, 'bourne': 5854, 'brazzer': 5855, 'jimena': 5856, 'lago': 5857, 'wicky': 5858, 'bsnl': 5859, 'tgraduate': 5860, 'beneke': 5861, 'imagine': 5862, 'corre': 5863, 'ubdomain': 5864, 'berkeley': 5865, 'eville': 5866, 'fere': 5867, 'neft': 5868, 'buffalo': 5869, 'tongue': 5870, 'monogamou': 5871, 'exponent': 5872, 'chartered': 5873, 'nicl': 5874, 'planar': 5875, 'tetrahedral': 5876, 'wherea': 5877, 'citation': 5878, 'fortune': 5879, 'winning': 5880, 'queue': 5881, 'hatred': 5882, 'democracy': 5883, 'bearing': 5884, 'plummer': 5885, 'collie': 5886, 'rough': 5887, 'geographer': 5888, 'reactivate': 5889, 'brui': 5890, 'triplet': 5891, 'galactic': 5892, 'retail': 5893, 'numbne': 5894, 'mangalyaan': 5895, 'logout': 5896, 'cmmi': 5897, 'erial': 5898, 'tery': 5899, 'thriller': 5900, 'metabolic': 5901, 'kubo': 5902, 'string': 5903, 'fourth': 5904, 'technically': 5905, 'hyper': 5906, 'hurriya': 5907, 'hiii': 5908, 'houd': 5909, 'itvery': 5910, 'sgot': 5911, 'sgpt': 5912, 'hectometer': 5913, 'anemia': 5914, 'hemophilia': 5915, 'phyton': 5916, 'manu': 5917, 'tanu': 5918, 'accounting': 5919, 'recreational': 5920, 'flap': 5921, 'pericoronal': 5922, 'occer': 5923, 'nickname': 5924, 'hacking': 5925, 'ophical': 5926, 'carbohydrate': 5927, 'dextro': 5928, 'labrador': 5929, 'nutritiou': 5930, 'capf': 5931, 'automotive': 5932, 'easy': 5933, 'master': 5934, 'hvac': 5935, 'scada': 5936, 'recording': 5937, 'winche': 5938, 'prepaid': 5939, 'downgrade': 5940, 'karl': 5941, 'marx': 5942, 'traighten': 5943, 'underground': 5944, 'kindle': 5945, 'abut': 5946, 'protrude': 5947, 'invitation': 5948, 'ilver': 5949, 'terle': 5950, 'pmatrix': 5951, 'burma': 5952, 'ecution': 5953, 'faction': 5954, 'coop': 5955, 'anxietie': 5956, 'ceiver': 5957, 'optic': 5958, 'entative': 5959, 'senate': 5960, 'loot': 5961, 'grandparent': 5962, 'undertake': 5963, 'tillation': 5964, 'juno': 5965, 'zamindari': 5966, 'generation': 5967, 'rede': 5968, 'kicking': 5969, 'tomach': 5970, 'tramadol': 5971, 'hacked': 5972, 'gwern': 5973, 'dilute': 5974, 'header': 5975, 'kali': 5976, 'wireframe': 5977, 'hannibal': 5978, 'portugue': 5979, 'spaniard': 5980, 'kvpy': 5981, 'enigma': 5982, 'jcur': 5983, 'jframe': 5984, 'jtextarea': 5985, 'wallpaper': 5986, 'populate': 5987, 'recipient': 5988, 'hcode': 5989, 'override': 5990, 'autocratic': 5991, 'unpredictable': 5992, 'creatively': 5993, 'robotic': 5994, 'howie': 5995, 'reith': 5996, 'lonely': 5997, 'graph': 5998, 'undirected': 5999, 'vertice': 6000, 'accommodation': 6001, 'teja': 6002, 'compliance': 6003, 'attain': 6004, 'faculty': 6005, 'chandigarh': 6006, 'hijra': 6007, 'kpop': 6008, 'concentric': 6009, 'eccentric': 6010, 'egmente': 6011, 'orifice': 6012, 'chlorine': 6013, 'fluorine': 6014, 'cinema': 6015, 'adoption': 6016, 'biological': 6017, 'prior': 6018, 'beetle': 6019, 'commitment': 6020, 'unlike': 6021, 'branded': 6022, 'udden': 6023, 'shazam': 6024, 'surface': 6025, 'badger': 6026, 'heilongjiang': 6027, 'ning': 6028, 'nsejs': 6029, 'codepen': 6030, 'markdown': 6031, 'bundle': 6032, 'connecticut': 6033, 'tracer': 6034, 'meetup': 6035, 'fertile': 6036, 'trillion': 6037, 'mediation': 6038, 'cthulhu': 6039, 'lovecraft': 6040, 'piration': 6041, 'olationi': 6042, 'tomman': 6043, 'sportz': 6044, 'meane': 6045, 'algebra': 6046, 'mende': 6047, 'shawn': 6048, 'tricky': 6049, 'manche': 6050, 'cuboid': 6051, 'specifically': 6052, 'variety': 6053, 'immortality': 6054, 'lung': 6055, 'perihilar': 6056, 'mercede': 6057, 'treaty': 6058, 'mentor': 6059, 'guatemala': 6060, 'dharmendra': 6061, 'milega': 6062, 'necc': 6063, 'unny': 6064, 'bukkake': 6065, 'coprime': 6066, 'shopmebook': 6067, 'authorize': 6068, 'centralize': 6069, 'ecurely': 6070, 'outdated': 6071, 'item': 6072, 'knit': 6073, 'accountancy': 6074, 'nail': 6075, 'impo': 6076, 'udta': 6077, 'strahan': 6078, 'behance': 6079, 'bulleh': 6080, 'bulleya': 6081, 'shah': 6082, 'sultan': 6083, 'malhotra': 6084, 'nath': 6085, 'prem': 6086, 'reparation': 6087, 'complicated': 6088, 'daikin': 6089, 'bhagavad': 6090, 'gita': 6091, 'dryne': 6092, 'parkle': 6093, 'petal': 6094, 'cripture': 6095, 'helleni': 6096, 'holy': 6097, 'gregorian': 6098, 'expan': 6099, 'humanity': 6100, 'ramble': 6101, 'córdoba': 6102, 'avage': 6103, 'maul': 6104, 'opre': 6105, 'sidiou': 6106, 'urge': 6107, 'amurai': 6108, 'dyna': 6109, 'abduction': 6110, 'dublin': 6111, 'telegram': 6112, 'tiger': 6113, 'glucometer': 6114, 'churche': 6115, 'communitie': 6116, 'igned': 6117, 'halfway': 6118, 'huttle': 6119, 'reenter': 6120, 'enjoyable': 6121, 'pantie': 6122, 'tocking': 6123, 'czech': 6124, 'street': 6125, 'avocado': 6126, 'tible': 6127, 'perger': 6128, 'pirite': 6129, 'alumnus': 6130, 'ydney': 6131, 'hemi': 6132, 'martly': 6133, 'educe': 6134, 'swedi': 6135, 'bathing': 6136, 'rever': 6137, 'favicon': 6138, 'ncea': 6139, 'raavan': 6140, 'ramayan': 6141, 'cult': 6142, 'hyderbad': 6143, 'painkiller': 6144, 'raman': 6145, 'patent': 6146, 'surrey': 6147, 'iodide': 6148, 'trontium': 6149, 'princeton': 6150, 'yale': 6151, 'support': 6152, 'talkavg': 6153, 'sqlite': 6154, 'partitiate': 6155, 'brigg': 6156, 'mercy': 6157, 'patricia': 6158, 'thomp': 6159, 'oriented': 6160, 'almer': 6161, 'lurm': 6162, 'terile': 6163, 'tipend': 6164, 'wine': 6165, 'unrequited': 6166, 'fiitjee': 6167, 'tupide': 6168, 'collegium': 6169, 'convey': 6170, 'indirectly': 6171, 'ergonomic': 6172, 'david': 6173, 'furuta': 6174, 'junko': 6175, 'nonpolar': 6176, 'hiba': 6177, 'annum': 6178, 'gallo': 6179, 'tribute': 6180, 'dice': 6181, 'pear': 6182, 'cdma': 6183, 'umts': 6184, 'wcdma': 6185, 'bhutto': 6186, 'bilawal': 6187, 'jaypee': 6188, 'criptive': 6189, 'infertile': 6190, 'temcare': 6191, 'howca': 6192, 'piracie': 6193, 'erwin': 6194, 'novice': 6195, 'graded': 6196, 'unlocking': 6197, 'query': 6198, 'eachother': 6199, 'pediatric': 6200, 'urgeon': 6201, 'carribean': 6202, 'crowbar': 6203, 'lever': 6204, 'scientology': 6205, 'theatre': 6206, 'buzz': 6207, 'ymbolic': 6208, 'barium': 6209, 'valency': 6210, 'himachal': 6211, 'icum': 6212, 'mirch': 6213, 'shimla': 6214, 'donation': 6215, 'playstation': 6216, 'violin': 6217, 'gutter': 6218, 'harve': 6219, 'square': 6220, 'boruto': 6221, 'konohamaru': 6222, 'margarine': 6223, 'shield': 6224, 'suit': 6225, 'bodie': 6226, 'sebi': 6227, 'dreadnought': 6228, 'patrie': 6229, 'pool': 6230, 'awakening': 6231, 'conciou': 6232, 'procce': 6233, 'unconciou': 6234, 'conditioner': 6235, 'adole': 6236, 'cence': 6237, 'adjective': 6238, 'noun': 6239, 'wicket': 6240, 'coverage': 6241, 'paraffin': 6242, 'hiccup': 6243, 'erotic': 6244, 'infinity': 6245, 'bryan': 6246, 'caplan': 6247, 'alon': 6248, 'haircut': 6249, 'adjourn': 6250, 'corning': 6251, 'emigrate': 6252, 'ecede': 6253, 'worker': 6254, 'howroom': 6255, 'lauren': 6256, 'ralph': 6257, 'kharagpur': 6258, 'paragraph': 6259, 'orphanage': 6260, 'serbian': 6261, 'jinn': 6262, 'economical': 6263, 'forex': 6264, 'olive': 6265, 'reception': 6266, 'horticulture': 6267, 'vary': 6268, 'recruitment': 6269, 'blanket': 6270, 'confrontation': 6271, 'fault': 6272, 'shark': 6273, 'elimination': 6274, 'coole': 6275, 'eeing': 6276, 'stafford': 6277, 'terrier': 6278, 'doctorate': 6279, 'sohn': 6280, 'uttamvyapar': 6281, 'nicotine': 6282, 'kidney': 6283, 'defen': 6284, 'olutely': 6285, 'implify': 6286, 'radical': 6287, 'anarcho': 6288, 'capitali': 6289, 'ammee': 6290, 'capabilitie': 6291, 'adrian': 6292, 'lamo': 6293, 'upercomputer': 6294, 'locality': 6295, 'niro': 6296, 'acceptor': 6297, 'patrioti': 6298, 'raciali': 6299, 'mixer': 6300, 'tequila': 6301, 'vijaya': 6302, 'february': 6303, 'valedictorian': 6304, 'niper': 6305, 'borange': 6306, 'importer': 6307, 'terling': 6308, 'upplier': 6309, 'revolt': 6310, 'mentally': 6311, 'bodybuilding': 6312, 'nutella': 6313, 'legalize': 6314, 'krabbit': 6315, 'bonding': 6316, 'metallic': 6317, 'receiver': 6318, 'infe': 6319, 'itcom': 6320, 'practically': 6321, 'sarabhai': 6322, 'directive': 6323, 'unverifie': 6324, 'pilani': 6325, 'ubmitted': 6326, 'ignjet': 6327, 'tscript': 6328, 'referral': 6329, 'aditi': 6330, 'carele': 6331, 'saini': 6332, 'opagno': 6333, 'maco': 6334, 'indore': 6335, 'defile': 6336, 'genital': 6337, 'approache': 6338, 'diachronic': 6339, 'ynchronic': 6340, 'mardi': 6341, 'orlean': 6342, 'cognitively': 6343, 'engage': 6344, 'empathy': 6345, 'calling': 6346, 'volte': 6347, 'kerato': 6348, 'pilari': 6349, 'tricep': 6350, 'faintly': 6351, 'glow': 6352, 'clever': 6353, 'ubtle': 6354, 'wehre': 6355, 'thetic': 6356, 'marketplace': 6357, 'pirin': 6358, 'reformation': 6359, 'bookmark': 6360, 'diode': 6361, 'wavelength': 6362, 'honey': 6363, 'server': 6364, 'webdriver': 6365, 'cute': 6366, 'canfy': 6367, 'arvut': 6368, 'carl': 6369, 'corrective': 6370, 'dharam': 6371, 'hala': 6372, 'bian': 6373, 'canton': 6374, 'switzerland': 6375, 'ticino': 6376, 'parade': 6377, 'dunning': 6378, 'kruger': 6379, 'audiogram': 6380, 'chamber': 6381, 'cillate': 6382, 'indefinitely': 6383, 'capturing': 6384, 'blockhead': 6385, 'quorean': 6386, 'samuel': 6387, 'grammatical': 6388, 'moori': 6389, 'beverage': 6390, 'infinitie': 6391, 'paradoxe': 6392, 'ingredient': 6393, 'sport': 6394, 'natto': 6395, 'identifi': 6396, 'tournament': 6397, 'trevor': 6398, 'tanzania': 6399, 'ekeepe': 6400, 'mohali': 6401, 'panchkula': 6402, 'swacch': 6403, 'omebody': 6404, 'honor': 6405, 'conception': 6406, 'libertarian': 6407, 'coat': 6408, 'matte': 6409, 'rania': 6410, 'uperego': 6411, 'squad': 6412, 'suicide': 6413, 'rukh': 6414, 'rural': 6415, 'backend': 6416, 'cannabi': 6417, 'cliff': 6418, 'diving': 6419, 'inadvertently': 6420, 'quito': 6421, 'tafar': 6422, 'wakie': 6423, 'hlyo': 6424, 'bizarre': 6425, 'cringe': 6426, 'arch': 6427, 'eminar': 6428, 'fairytale': 6429, 'betch': 6430, 'mahabharata': 6431, 'nagarjun': 6432, 'ceiba': 6433, 'ilico': 6434, 'opropyl': 6435, 'cardiopulmonary': 6436, 'inte': 6437, 'teno': 6438, 'tinal': 6439, 'coating': 6440, 'plating': 6441, 'simple': 6442, 'single': 6443, 'tenderloin': 6444, 'tande': 6445, 'opsc': 6446, 'ache': 6447, 'octopart': 6448, 'aphrodi': 6449, 'literary': 6450, 'neurop': 6451, 'ychologi': 6452, 'container': 6453, 'hima': 6454, 'hiro': 6455, 'tokyo': 6456, 'inmobi': 6457, 'nigga': 6458, 'clove': 6459, 'garlic': 6460, 'landline': 6461, 'voip': 6462, 'colony': 6463, 'ewer': 6464, 'imagination': 6465, 'ending': 6466, 'parlor': 6467, 'trating': 6468, 'voting': 6469, 'hoofer': 6470, 'ucceeded': 6471, 'boiler': 6472, 'acidification': 6473, 'charting': 6474, 'weirde': 6475, 'pollock': 6476, 'adde': 6477, 'gilmore': 6478, 'tropical': 6479, 'gtune': 6480, 'odor': 6481, 'punctual': 6482, 'swarthmore': 6483, 'agar': 6484, 'dayananda': 6485, 'brady': 6486, 'trivandrum': 6487, 'highly': 6488, 'advocate': 6489, 'engaged': 6490, 'olete': 6491, 'multivitamin': 6492, 'fanta': 6493, 'calcium': 6494, 'molar': 6495, 'nitrite': 6496, 'holiday': 6497, 'bane': 6498, 'boon': 6499, 'bookmarking': 6500, 'ubmi': 6501, 'htag': 6502, 'aille': 6503, 'weakne': 6504, 'liabilitie': 6505, 'webtoon': 6506, 'babajob': 6507, 'contributor': 6508, 'memorandum': 6509, 'underdeveloped': 6510, 'nixon': 6511, 'techmahindra': 6512, 'depreciate': 6513, 'dominique': 6514, 'fountainhead': 6515, 'francon': 6516, 'howard': 6517, 'roark': 6518, 'heap': 6519, 'lefti': 6520, 'decoration': 6521, 'morally': 6522, 'emptine': 6523, 'drupal': 6524, 'joomla': 6525, 'deepmind': 6526, 'banker': 6527, 'ftre': 6528, 'peel': 6529, 'unburn': 6530, 'dbms': 6531, 'tuple': 6532, 'interfacing': 6533, 'mcgraw': 6534, 'munnar': 6535, 'kirik': 6536, 'rory': 6537, 'capitalization': 6538, 'syndrome': 6539, 'eradicate': 6540, 'serum': 6541, 'reparing': 6542, 'elon': 6543, 'uffering': 6544, 'defy': 6545, 'territorie': 6546, 'uited': 6547, 'vince': 6548, 'brilliant': 6549, 'powershell': 6550, 'berry': 6551, 'halle': 6552, 'inventor': 6553, 'heating': 6554, 'vitriol': 6555, 'cyrus': 6556, 'exact': 6557, 'select': 6558, 'techm': 6559, 'cally': 6560, 'walmart': 6561, 'icbm': 6562, 'warhead': 6563, 'bathroom': 6564, 'bengaluru': 6565, 'equip': 6566, 'independent': 6567, 'ituate': 6568, 'volk': 6569, 'wagen': 6570, 'colonize': 6571, 'nonwhite': 6572, 'armpit': 6573, 'boil': 6574, 'krita': 6575, 'petroleum': 6576, 'median': 6577, 'jagannath': 6578, 'bilzerian': 6579, 'morgan': 6580, 'ling': 6581, 'trajectory': 6582, 'traver': 6583, 'pinche': 6584, 'goblet': 6585, 'environmental': 6586, 'lingen': 6587, 'practi': 6588, 'cardiologi': 6589, 'meraevent': 6590, 'perhap': 6591, 'hippe': 6592, 'invoice': 6593, 'twinkle': 6594, 'perceptible': 6595, 'battlefield': 6596, 'spinoff': 6597, 'apparent': 6598, 'malia': 6599, 'ingular': 6600, 'plural': 6601, 'gallery': 6602, 'rategy': 6603, 'effort': 6604, 'guarantee': 6605, 'morale': 6606, 'chargeable': 6607, 'bold': 6608, 'illegally': 6609, 'flying': 6610, 'minimize': 6611, 'laplace': 6612, 'ottawa': 6613, 'rice': 6614, 'fortre': 6615, 'transltr': 6616, 'haria': 6617, 'hmen': 6618, 'bengali': 6619, 'mongoloid': 6620, 'chel': 6621, 'confinement': 6622, 'horrify': 6623, 'olitary': 6624, 'exciting': 6625, 'voraciou': 6626, 'arbitrary': 6627, 'acceptable': 6628, 'silicon': 6629, 'mindy': 6630, 'sooryavan': 6631, 'melting': 6632, 'nacl': 6633, 'acrylamide': 6634, 'annoyingly': 6635, 'detroit': 6636, 'imal': 6637, 'nepal': 6638, 'ethernet': 6639, 'happily': 6640, 'stay': 6641, 'deaf': 6642, 'vizio': 6643, 'endredirect': 6644, 'folder': 6645, 'redirect': 6646, 'servlet': 6647, 'webcontent': 6648, 'bootable': 6649, 'playback': 6650, 'whiteboard': 6651, 'acropoli': 6652, 'hilltop': 6653, 'phobia': 6654, 'lapp': 6655, 'algeria': 6656, 'metaphor': 6657, 'onification': 6658, 'efficiency': 6659, 'ripe': 6660, 'upfront': 6661, 'tickle': 6662, 'thickne': 6663, 'tiff': 6664, 'farmer': 6665, 'urfe': 6666, 'compul': 6667, 'adverb': 6668, 'hugh': 6669, 'jackman': 6670, 'pray': 6671, 'alzheimer': 6672, 'perception': 6673, 'curr_avbl': 6674, 'qbasic': 6675, 'pity': 6676, 'involvement': 6677, 'irable': 6678, 'failing': 6679, 'loui': 6680, 'saint': 6681, 'camcorder': 6682, 'yonex': 6683, 'tvtorrent': 6684, 'eckerd': 6685, 'directv': 6686, 'coloured': 6687, 'viber': 6688, 'backdonation': 6689, 'bhubane': 6690, 'jamia': 6691, 'lamia': 6692, 'millia': 6693, 'hobbie': 6694, 'linear': 6695, 'singaporean': 6696, 'mimic': 6697, 'numerou': 6698, 'ticated': 6699, 'capita': 6700, 'greenhou': 6701, 'nervou': 6702, 'gratuity': 6703, 'pickpocket': 6704, 'drinking': 6705, 'lanka': 6706, 'criptor': 6707, 'haring': 6708, 'lori': 6709, 'slow': 6710, 'dolphin': 6711, 'hake': 6712, 'bouncy': 6713, 'lego': 6714, 'tile': 6715, 'wobble': 6716, 'basanti': 6717, 'rang': 6718, 'nuke': 6719, 'thread': 6720, 'attache': 6721, 'bromide': 6722, 'odium': 6723, 'myer': 6724, 'dipmat': 6725, 'nigerian': 6726, 'engg': 6727, 'upporte': 6728, 'quietly': 6729, 'flicker': 6730, 'tarot': 6731, 'keeping': 6732, 'eragon': 6733, 'memorie': 6734, 'trami': 6735, 'fighting': 6736, 'globe': 6737, 'streep': 6738, 'harne': 6739, 'parenthe': 6740, 'yria': 6741, 'boycott': 6742, 'tgram': 6743, 'latinize': 6744, 'romanize': 6745, 'honeywell': 6746, 'thermo': 6747, 'pipeline': 6748, 'maine': 6749, 'mercury': 6750, 'bombard': 6751, 'uranium': 6752, 'amitabh': 6753, 'kant': 6754, 'weater': 6755, 'offender': 6756, 'salem': 6757, 'colonization': 6758, 'breeze': 6759, 'harbor': 6760, 'wiring': 6761, 'ankle': 6762, 'trou': 6763, 'inverter': 6764, 'offence': 6765, 'secretary': 6766, 'benadryl': 6767, 'prana': 6768, 'combine': 6769, 'reprieve': 6770, 'marathon': 6771, 'pharma': 6772, 'patriot': 6773, 'vacation': 6774, 'labour': 6775, 'phoru': 6776, 'inge': 6777, 'hamdard': 6778, 'milia': 6779, 'franklin': 6780, 'carbon': 6781, 'gaandu': 6782, 'lang': 6783, 'centre': 6784, 'checkup': 6785, 'fallout': 6786, 'tdio': 6787, 'mouton': 6788, 'tête': 6789, 'markov': 6790, 'gram': 6791, 'panchayat': 6792, 'bada': 6793, 'harvey': 6794, 'pecter': 6795, 'hypercondriac': 6796, 'boater': 6797, 'horeline': 6798, 'carnivore': 6799, 'gradudation': 6800, 'unitary': 6801, 'antarctic': 6802, 'imperial': 6803, 'comiite': 6804, 'tner': 6805, 'uffocated': 6806, 'gintama': 6807, 'clot': 6808, 'tambora': 6809, 'contraceptive': 6810, 'afro': 6811, 'homo': 6812, 'noticeable': 6813, 'ferri': 6814, 'vitamin': 6815, 'internationally': 6816, 'uteru': 6817, 'davidwu': 6818, 'indictment': 6819, 'immature': 6820, 'rame': 6821, 'proportional': 6822, 'afcat': 6823, 'entie': 6824, 'entrie': 6825, 'complement': 6826, 'freemarker': 6827, 'siteme': 6828, 'templating': 6829, 'thymeleaf': 6830, 'linkin': 6831, 'piratory': 6832, 'ghazipur': 6833, 'interca': 6834, 'killing': 6835, 'rectify': 6836, 'suppo': 6837, 'terkey': 6838, 'drain': 6839, 'gniit': 6840, 'bangkok': 6841, 'manila': 6842, 'heroic': 6843, 'explanation': 6844, 'mahabalipuram': 6845, 'patna': 6846, 'peeche': 6847, 'pythagora': 6848, 'theorem': 6849, 'notion': 6850, 'wimp': 6851, 'dedicate': 6852, 'unlucky': 6853, 'blur': 6854, 'dslr': 6855, 'deplorable': 6856, 'decay': 6857, 'inhale': 6858, 'itivity': 6859, 'tartar': 6860, 'limited': 6861, 'micromax': 6862, 'phase': 6863, 'valve': 6864, 'dime': 6865, 'dozen': 6866, 'fitbit': 6867, 'strep': 6868, 'fadia': 6869, 'aadhaar': 6870, 'decade': 6871, 'goebbel': 6872, 'severu': 6873, 'portion': 6874, 'trict': 6875, 'balakri': 6876, 'inflammable': 6877, 'hari': 6878, 'adiz': 6879, 'unclos': 6880, 'violate': 6881, 'nowazardan': 6882, 'shippuden': 6883, 'ville': 6884, 'kumar': 6885, 'ndtv': 6886, 'verification': 6887, 'downloadable': 6888, 'deviate': 6889, 'epfo': 6890, 'login': 6891, 'awful': 6892, 'sathya': 6893, 'ooltah': 6894, 'pavitra': 6895, 'terror': 6896, 'kaufmich': 6897, 'belching': 6898, 'madhapur': 6899, 'shift': 6900, 'samba': 6901, 'actvivitie': 6902, 'airpod': 6903, 'eluga': 6904, 'pana': 6905, 'chairman': 6906, 'ortho': 6907, 'orthodontic': 6908, 'olde': 6909, 'opotamia': 6910, 'addicted': 6911, 'warangal': 6912, 'vienna': 6913, 'chiranjiv': 6914, 'wathama': 6915, 'teradata': 6916, 'voucher': 6917, 'hpcl': 6918, 'pecialized': 6919, 'gather': 6920, 'roof': 6921, 'rekha': 6922, 'bulldog': 6923, 'analyze': 6924, 'maturity': 6925, 'circulation': 6926, 'apricot': 6927, 'blend': 6928, 'grape': 6929, 'jojoba': 6930, 'vaginal': 6931, 'autode': 6932, 'xeon': 6933, 'emily': 6934, 'hank': 6935, 'gang': 6936, 'vermont': 6937, 'fourfourtwo': 6938, 'invert': 6939, 'jonathan': 6940, 'pyramid': 6941, 'detect': 6942, 'incapable': 6943, 'upto': 6944, 'phonegap': 6945, 'chang': 6946, 'neurotypical': 6947, 'prone': 6948, 'fermi': 6949, 'paradox': 6950, 'certify': 6951, 'allahabad': 6952, 'surathkal': 6953, 'armor': 6954, 'plume': 6955, 'tria': 6956, 'bloomberg': 6957, 'tagnate': 6958, 'climb': 6959, 'kaila': 6960, 'freaki': 6961, 'morilla': 6962, 'tributor': 6963, 'inglewood': 6964, 'logicical': 6965, 'momma': 6966, 'ulte': 6967, 'interval': 6968, 'taobao': 6969, 'optical': 6970, 'neerja': 6971, 'bene': 6972, 'beraq': 6973, 'honeymoon': 6974, 'leady': 6975, 'tinker': 6976, 'borrow': 6977, 'bernanke': 6978, 'federal': 6979, 'metric': 6980, 'quantifiable': 6981, 'economically': 6982, 'interrelation': 6983, 'blonde': 6984, 'rarely': 6985, 'arbitration': 6986, 'legitimacy': 6987, 'quadrocopter': 6988, 'quadrocoptor': 6989, 'coweta': 6990, 'approximate': 6991, 'recommended': 6992, 'wedgie': 6993, 'dutch': 6994, 'midi': 6995, 'factual': 6996, 'ourced': 6997, 'mildew': 6998, 'codecademy': 6999, 'abraxa': 7000, 'opportunity': 7001, 'marvell': 7002, 'vulgari': 7003, 'aggregation': 7004, 'preboard': 7005, 'norte': 7006, 'neteller': 7007, 'prevalent': 7008, 'bhutan': 7009, 'weeklong': 7010, 'heaven': 7011, 'extinction': 7012, 'burg': 7013, 'getty': 7014, 'mailbox': 7015, 'convergence': 7016, 'geode': 7017, 'intuitively': 7018, 'urement': 7019, 'ilicone': 7020, 'nylon': 7021, 'trawberrie': 7022, 'infidelitie': 7023, 'garment': 7024, 'georgetown': 7025, 'trictive': 7026, 'uchicago': 7027, 'exorci': 7028, 'liner': 7029, 'compatibility': 7030, 'sagittariu': 7031, 'adrenaline': 7032, 'junkie': 7033, 'upercar': 7034, 'acqui': 7035, 'ignificantly': 7036, 'elhoff': 7037, 'arabian': 7038, 'clingy': 7039, 'chartent': 7040, 'checking': 7041, 'reimbur': 7042, 'unauthorized': 7043, 'prof': 7044, 'teaching': 7045, 'vocational': 7046, 'chicago': 7047, 'neighborhood': 7048, 'protinex': 7049, 'bead': 7050, 'hadra': 7051, 'stone': 7052, 'χαντρα': 7053, 'etta': 7054, 'zindagi': 7055, 'ewhere': 7056, 'deadlift': 7057, 'coca': 7058, 'cola': 7059, 'unccd': 7060, 'scientifically': 7061, 'barne': 7062, 'bromance': 7063, 'ance': 7064, 'heliocentri': 7065, 'renai': 7066, 'deed': 7067, 'quotable': 7068, 'ping': 7069, 'tpaid': 7070, 'vodafone': 7071, 'polygon': 7072, 'wicca': 7073, 'witchcraft': 7074, 'audacity': 7075, 'voiceover': 7076, 'retaliation': 7077, 'tarvation': 7078, 'lindbergh': 7079, 'tione': 7080, 'fringe': 7081, 'known': 7082, 'memorable': 7083, 'wodehou': 7084, 'twickkenham': 7085, 'equifax': 7086, 'worthy': 7087, 'rvce': 7088, 'auditor': 7089, 'monetary': 7090, 'ucceede': 7091, 'rollback': 7092, 'lexer': 7093, 'defame': 7094, 'itioned': 7095, 'potify': 7096, 'inform': 7097, 'rest': 7098, 'bean': 7099, 'armed': 7100, 'voyage': 7101, 'belgaum': 7102, 'relocate': 7103, 'omething': 7104, 'cendant': 7105, 'augment': 7106, 'leadre': 7107, 'ottoman': 7108, 'safavid': 7109, 'simulink': 7110, 'backfoot': 7111, 'chandapura': 7112, 'foliage': 7113, 'mana': 7114, 'sarjapur': 7115, 'adaptive': 7116, 'lapel': 7117, 'oculu': 7118, 'rift': 7119, 'foreword': 7120, 'dictionarie': 7121, 'merriam': 7122, 'oxford': 7123, 'involuntary': 7124, 'voluntary': 7125, 'specification': 7126, 'xbox': 7127, 'kombdi': 7128, 'marathi': 7129, 'gsoc': 7130, 'iinie': 7131, 'structural': 7132, 'revoke': 7133, 'hypocri': 7134, 'ussd': 7135, 'indirect': 7136, 'mozzarella': 7137, 'trolley': 7138, 'ruler': 7139, 'undetectable': 7140, 'hermaphrodite': 7141, 'solid': 7142, 'vike': 7143, 'intro': 7144, 'simp': 7145, 'unemployed': 7146, 'acorn': 7147, 'times': 7148, 'tople': 7149, 'orderyourchoice': 7150, 'monoeciou': 7151, 'hamp': 7152, 'buddha': 7153, 'companion': 7154, 'atlanta': 7155, 'braid': 7156, 'rejoin': 7157, 'anchor': 7158, 'hdfc': 7159, 'complacency': 7160, 'quinte': 7161, 'kull': 7162, 'coloring': 7163, 'cout': 7164, 'demo': 7165, 'repercu': 7166, 'ervoir': 7167, 'zürich': 7168, 'offeronia': 7169, 'horrible': 7170, 'outrightly': 7171, 'chancellor': 7172, 'renowned': 7173, 'cherubim': 7174, 'seraphim': 7175, 'manipulative': 7176, 'mains': 7177, 'worthwhile': 7178, 'ckwl': 7179, 'wealth': 7180, 'fetch': 7181, 'cabin': 7182, 'ecluded': 7183, 'peer': 7184, 'retreat': 7185, 'warm': 7186, 'realm': 7187, 'runescape': 7188, 'iist': 7189, 'germaney': 7190, 'annabel': 7191, 'rkoi': 7192, 'schwartz': 7193, 'tirupathi': 7194, 'beneficial': 7195, 'claritin': 7196, 'elance': 7197, 'configuration': 7198, 'controller': 7199, 'witche': 7200, 'wlan': 7201, 'durgapur': 7202, 'jadavpur': 7203, 'kabali': 7204, 'hardik': 7205, 'pandya': 7206, 'stoke': 7207, 'storie': 7208, 'preferable': 7209, 'mediocre': 7210, 'feminine': 7211, 'binge': 7212, 'kabaddi': 7213, 'vitae': 7214, 'interviewer': 7215, 'playing': 7216, 'chwitz': 7217, 'audience': 7218, 'kapil': 7219, 'drummer': 7220, 'metallica': 7221, 'ulrich': 7222, 'sxsw': 7223, 'ongc': 7224, 'skype': 7225, 'ault': 7226, 'inria': 7227, 'poetic': 7228, 'rama': 7229, 'adulterate': 7230, 'jazz': 7231, 'violini': 7232, 'pump': 7233, 'dabi': 7234, 'conference': 7235, 'blackmail': 7236, 'eeke': 7237, 'ratan': 7238, 'mangane': 7239, 'buffoon': 7240, 'nafta': 7241, 'entity': 7242, 'lifeguard': 7243, 'expel': 7244, 'mandarin': 7245, '用中文的話': 7246, '這是什麽': 7247, 'coloni': 7248, 'newtonian': 7249, 'myth': 7250, 'kimchi': 7251, 'illidan': 7252, 'lich': 7253, 'amqp': 7254, 'cloudfoundry': 7255, 'nats': 7256, 'openstack': 7257, 'greenplum': 7258, 'tgresql': 7259, 'framewok': 7260, 'hybrid': 7261, 'signal': 7262, 'freelancer': 7263, 'ettlement': 7264, 'hungrier': 7265, 'hungry': 7266, 'notable': 7267, 'iaioa': 7268, 'reiki': 7269, 'creene': 7270, 'abruptly': 7271, 'logically': 7272, 'technologically': 7273, 'enforcement': 7274, 'brute': 7275, 'reactance': 7276, 'dielectric': 7277, 'developement': 7278, 'welfari': 7279, 'hippo': 7280, 'frien': 7281, 'november': 7282, 'locker': 7283, 'thief': 7284, 'cinnamon': 7285, 'erving': 7286, 'illu': 7287, 'evaco': 7288, 'calcula': 7289, 'maron': 7290, 'prepn': 7291, 'grünerløkka': 7292, 'damaging': 7293, 'eyeball': 7294, 'employer': 7295, 'upported': 7296, 'odia': 7297, 'kitkat': 7298, 'deflation': 7299, 'potent': 7300, 'timulant': 7301, 'diaper': 7302, 'gluon': 7303, 'predictive': 7304, 'metic': 7305, 'creation': 7306, 'ducit': 7307, 'latin': 7308, 'luce': 7309, 'mundum': 7310, 'ekeeping': 7311, 'intercour': 7312, 'atrophy': 7313, 'cular': 7314, 'tokamak': 7315, 'tedproxie': 7316, 'weatpant': 7317, 'oauth': 7318, 'bone': 7319, 'keleton': 7320, 'dopamine': 7321, 'endorphin': 7322, 'erotonin': 7323, 'velcro': 7324, 'reali': 7325, 'ramapuram': 7326, 'erdogan': 7327, 'netanyahu': 7328, 'gravitylight': 7329, 'successful': 7330, 'diac': 7331, 'triac': 7332, 'tylu': 7333, 'chopra': 7334, 'kama': 7335, 'sherlyn': 7336, 'utra': 7337, 'properitor': 7338, 'kelvin': 7339, 'durkheim': 7340, 'emile': 7341, 'predator': 7342, 'hike': 7343, 'jawaharlal': 7344, 'hemorrhage': 7345, 'ubconjunctival': 7346, 'excitation': 7347, 'lepton': 7348, 'quark': 7349, 'eptum': 7350, 'managerial': 7351, 'auction': 7352, 'bink': 7353, 'propagate': 7354, 'pell': 7355, 'tiffany': 7356, 'infant': 7357, 'lokpal': 7358, 'robinhood': 7359, 'geotechnical': 7360, 'layout': 7361, 'turnoff': 7362, 'poetry': 7363, 'swappedin': 7364, 'bracelet': 7365, 'rain': 7366, 'karela': 7367, 'cookbook': 7368, 'diver': 7369, 'peedo': 7370, 'ecutor': 7371, 'idito': 7372, 'neucleuotid': 7373, 'terrace': 7374, 'partime': 7375, 'typi': 7376, 'terbation': 7377, 'heidi': 7378, 'klum': 7379, 'rabbit': 7380, 'tume': 7381, 'exclude': 7382, 'cuddy': 7383, 'edel': 7384, 'finale': 7385, 'humani': 7386, 'eparation': 7387, 'indo': 7388, 'jennah': 7389, 'accutane': 7390, 'breathe': 7391, 'oxygen': 7392, 'underwater': 7393, 'trafficking': 7394, 'refurbi': 7395, 'salary': 7396, 'apathy': 7397, 'forgivene': 7398, 'tonic': 7399, 'unforgivene': 7400, 'detector': 7401, 'nacro': 7402, 'spray': 7403, 'avvy': 7404, 'rubbi': 7405, 'atchafalaya': 7406, 'sudd': 7407, 'swamp': 7408, 'wamp': 7409, 'toothpa': 7410, 'ornament': 7411, 'pearl': 7412, 'anthropology': 7413, 'egalitarian': 7414, 'weate': 7415, 'blogge': 7416, 'aipmt': 7417, 'kgmc': 7418, 'quota': 7419, 'tently': 7420, 'tuition': 7421, 'gore': 7422, 'nudity': 7423, 'violence': 7424, 'prickly': 7425, 'hadow': 7426, 'iren': 7427, 'cooty': 7428, 'tellar': 7429, 'kati': 7430, 'pecan': 7431, 'directorie': 7432, 'interpolation': 7433, 'lagrange': 7434, 'protective': 7435, 'hearted': 7436, 'arrhythmic': 7437, 'molol': 7438, 'scout': 7439, 'architectural': 7440, 'vomit': 7441, 'oline': 7442, 'renew': 7443, 'hrinking': 7444, 'dendritic': 7445, 'headlight': 7446, 'width': 7447, 'roam': 7448, 'tray': 7449, 'horde': 7450, 'archipelago': 7451, 'majuro': 7452, 'artillery': 7453, 'fingerprint': 7454, 'tagnant': 7455, 'rhode': 7456, 'tunt': 7457, 'volumetric': 7458, 'atmo': 7459, 'dioxide': 7460, 'ygritte': 7461, 'archaeological': 7462, 'romanian': 7463, 'anid': 7464, 'parthian': 7465, 'decre': 7466, 'hieght': 7467, 'voyager': 7468, 'unami': 7469, 'ovulate': 7470, 'tendencie': 7471, 'greet': 7472, 'evaluate': 7473, 'murad': 7474, 'bandwidth': 7475, 'dependable': 7476, 'electrician': 7477, 'beatle': 7478, 'turing': 7479, 'antoinette': 7480, 'involved': 7481, 'maya': 7482, 'candal': 7483, 'buydrink': 7484, 'ambidextrou': 7485, 'orthogonal': 7486, 'trajectorie': 7487, 'rotation': 7488, 'cargo': 7489, 'kernel': 7490, 'belt': 7491, 'conveyor': 7492, 'runway': 7493, 'itra': 7494, 'preference': 7495, 'londonderry': 7496, 'nlogn': 7497, 'lionel': 7498, 'daenery': 7499, 'targaryen': 7500, 'dailylife': 7501, 'librarian': 7502, 'hypnoti': 7503, 'ocialtrade': 7504, 'watering': 7505, 'weeding': 7506, 'ubnetting': 7507, 'clockwi': 7508, 'lumo': 7509, 'mania': 7510, 'uttarakhand': 7511, 'reliancetree': 7512, 'stanford': 7513, 'parian': 7514, 'catharine': 7515, 'anorexia': 7516, 'argentine': 7517, 'naturali': 7518, 'asean': 7519, 'periou': 7520, 'anxity': 7521, 'tood': 7522, 'http': 7523, 'denodo': 7524, 'virtualization': 7525, 'briefca': 7526, 'etce': 7527, 'teethe': 7528, 'tylenol': 7529, 'cuit': 7530, 'compiler': 7531, 'rlwl': 7532, 'orlando': 7533, 'gndu': 7534, 'overrated': 7535, 'juvia': 7536, 'boiling': 7537, 'forfeit': 7538, 'imovie': 7539, 'abnormal': 7540, 'amoxicillin': 7541, 'deare': 7542, 'exceptional': 7543, 'ychiatri': 7544, 'royaltie': 7545, 'treati': 7546, 'foetu': 7547, 'hydrop': 7548, 'etup': 7549, 'auru': 7550, 'dilopho': 7551, 'durable': 7552, 'goku': 7553, 'taxable': 7554, 'keychain': 7555, 'ipcc': 7556, 'rider': 7557, 'thefwa': 7558, 'citru': 7559, 'brainwa': 7560, 'derive': 7561, 'quantitie': 7562, 'werewolf': 7563, 'bookmyshow': 7564, 'redbu': 7565, 'competitivene': 7566, 'lexia': 7567, 'lean': 7568, 'wharton': 7569, 'vigina': 7570, 'excretion': 7571, 'deduction': 7572, 'wapping': 7573, 'tuberculo': 7574, 'adapter': 7575, 'helix': 7576, 'exploration': 7577, 'ronaldinho': 7578, 'optimize': 7579, 'projection': 7580, 'divergence': 7581, 'lame': 7582, 'luna': 7583, 'dermatologi': 7584, 'tirunelveli': 7585, 'comman': 7586, 'weld': 7587, 'welding': 7588, 'fireba': 7589, 'behaviourali': 7590, 'camp': 7591, 'hurry': 7592, 'ination': 7593, 'headline': 7594, 'ummate': 7595, 'urmila': 7596, 'netgear': 7597, 'eubacteria': 7598, 'packt': 7599, 'erid': 7600, 'ertive': 7601, 'drow': 7602, 'eudoephedrine': 7603, 'sudafed': 7604, 'ghrelin': 7605, 'receptor': 7606, 'popcorn': 7607, 'afternoon': 7608, 'raghav': 7609, 'evaporate': 7610, 'ided': 7611, 'emma': 7612, 'jinping': 7613, 'eater': 7614, 'lulubelle': 7615, 'acept': 7616, 'entimental': 7617, 'carriage': 7618, 'calp': 7619, 'paranormal': 7620, 'ibuprofen': 7621, 'hyperlink': 7622, 'caracano': 7623, 'grateful': 7624, 'believer': 7625, 'mnnitian': 7626, 'kunk': 7627, 'detective': 7628, 'myopia': 7629, 'puberty': 7630, 'grammarly': 7631, 'brace': 7632, 'mineral': 7633, 'aforementione': 7634, 'humbly': 7635, 'madam': 7636, 'trailer': 7637, 'automate': 7638, 'maintaince': 7639, 'employ': 7640, 'tinct': 7641, 'callao': 7642, 'lima': 7643, 'hunch': 7644, 'vulva': 7645, 'knight': 7646, 'undivided': 7647, 'monkey': 7648, 'corny': 7649, 'umed': 7650, 'delegate': 7651, 'shut': 7652, 'initialize': 7653, 'polypha': 7654, 'cubic': 7655, 'upcoming': 7656, 'mixed': 7657, 'pitbull': 7658, 'amoral': 7659, 'bonjour': 7660, 'cynical': 7661, 'charter': 7662, 'armenian': 7663, 'genocide': 7664, 'tigatory': 7665, 'sims': 7666, 'nikon': 7667, 'angularj': 7668, 'lining': 7669, 'mooc': 7670, 'orial': 7671, 'pathology': 7672, 'heartbreak': 7673, 'conjuring': 7674, 'umer': 7675, 'ikala': 7676, 'jayalalitha': 7677, 'liquor': 7678, 'eede': 7679, 'token': 7680, 'chong': 7681, 'raffle': 7682, 'moderator': 7683, 'satan': 7684, 'chirp': 7685, 'cannon': 7686, 'peru': 7687, 'erif': 7688, 'firefox': 7689, 'serif': 7690, 'compny': 7691, 'kjet': 7692, 'hygenic': 7693, 'tructive': 7694, 'neighbouring': 7695, 'maternity': 7696, 'angularjs': 7697, 'amity': 7698, 'aset': 7699, 'hraf': 7700, 'neman': 7701, 'iitd': 7702, 'aanythign': 7703, 'hmerga': 7704, 'khurmatu': 7705, 'thuz': 7706, 'turkmen': 7707, 'jelly': 7708, 'inject': 7709, 'orflow': 7710, 'minion': 7711, 'moker': 7712, 'unilever': 7713, 'devoleper': 7714, 'clitori': 7715, 'labor': 7716, 'quartz': 7717, 'marge': 7718, 'verbally': 7719, 'reward': 7720, 'colligative': 7721, 'fallen': 7722, 'hiding': 7723, 'olympu': 7724, 'konfabulator': 7725, 'xbeard': 7726, 'uperiority': 7727, 'kendriya': 7728, 'vidyalaya': 7729, 'edtech': 7730, 'edutech': 7731, 'erable': 7732, 'hateful': 7733, 'ideali': 7734, 'prune': 7735, 'southea': 7736, 'ukraine': 7737, 'ruption': 7738, 'tifiable': 7739, 'leapforce': 7740, 'lionbridge': 7741, 'copycat': 7742, 'eiffel': 7743, 'perceive': 7744, 'centrifugal': 7745, 'agencie': 7746, 'yeah': 7747, 'infrared': 7748, 'roadrunner': 7749, 'tantaneou': 7750, 'pivottable': 7751, 'buddybuild': 7752, 'triction': 7753, 'sibm': 7754, 'denial': 7755, 'iceland': 7756, 'guru': 7757, 'taller': 7758, 'unlawful': 7759, 'tahoe': 7760, 'gynaecology': 7761, 'devalue': 7762, 'harmon': 7763, 'eggplant': 7764, 'alad': 7765, 'homemade': 7766, 'refrigerate': 7767, 'arlington': 7768, 'venezuela': 7769, 'keymilitia': 7770, 'ulfuric': 7771, 'appdata': 7772, 'ignature': 7773, 'urjit': 7774, 'multiply': 7775, 'prml': 7776, 'gurgaon': 7777, 'triller': 7778, 'penetration': 7779, 'eizure': 7780, 'migraine': 7781, 'lebanon': 7782, 'rewrite': 7783, 'globalization': 7784, 'deliberate': 7785, 'spinet': 7786, 'wurlitzer': 7787, 'cambodian': 7788, 'calate': 7789, 'ubtly': 7790, 'gange': 7791, 'prominence': 7792, 'yamuna': 7793, 'foundation': 7794, 'vladimir': 7795, 'tacle': 7796, 'mongini': 7797, 'depravity': 7798, 'fructo': 7799, 'ucro': 7800, 'chive': 7801, 'bhagat': 7802, 'chetan': 7803, 'drift': 7804, 'furniture': 7805, 'ified': 7806, 'anomi': 7807, 'extremi': 7808, 'prabhupada': 7809, 'srila': 7810, 'ucked': 7811, 'unremarkable': 7812, 'diary': 7813, 'jeff': 7814, 'kinney': 7815, 'wimpy': 7816, 'gger': 7817, 'udemy': 7818, 'multiplayer': 7819, 'algae': 7820, 'vegetation': 7821, 'baldne': 7822, 'photonic': 7823, 'mamaself': 7824, 'fade': 7825, 'obito': 7826, 'sharingan': 7827, 'honorary': 7828, 'nielit': 7829, 'ambiguou': 7830, 'django': 7831, 'tallable': 7832, 'depot': 7833, 'pondicherry': 7834, 'nios': 7835, 'confuciu': 7836, 'terrex': 7837, 'deductible': 7838, 'atari': 7839, 'creepy': 7840, 'irritate': 7841, 'maldive': 7842, 'jedi': 7843, 'haringan': 7844, 'chola': 7845, 'sangam': 7846, 'flip': 7847, 'flop': 7848, 'dzire': 7849, 'climatic': 7850, 'aloe': 7851, 'vera': 7852, 'urable': 7853, 'hiking': 7854, 'mohammed': 7855, 'ativeer': 7856, 'cancellation': 7857, 'arcak': 7858, 'deniz': 7859, 'haag': 7860, 'sulawe': 7861, 'faulty': 7862, 'applecare': 7863, 'warranty': 7864, 'tampa': 7865, 'hyperion': 7866, 'bipartite': 7867, 'psat': 7868, 'comey': 7869, 'refre': 7870, 'nsitian': 7871, 'arterial': 7872, 'nebosh': 7873, 'erotica': 7874, 'jewplicate': 7875, 'entially': 7876, 'inherently': 7877, 'plague': 7878, 'iptv': 7879, 'fergu': 7880, 'niall': 7881, 'perity': 7882, 'graveyard': 7883, 'ouija': 7884, 'cooperate': 7885, 'gambling': 7886, 'rica': 7887, 'gamifie': 7888, 'monitoring': 7889, 'benifit': 7890, 'certifiaction': 7891, 'keletal': 7892, 'lami': 7893, 'dietitian': 7894, 'ymca': 7895, 'canonical': 7896, 'competency': 7897, 'anchorage': 7898, 'idol': 7899, 'bookfari': 7900, 'redtail': 7901, 'penalty': 7902, 'improvemet': 7903, 'chatting': 7904, 'differently': 7905, 'tutoring': 7906, 'pooh': 7907, 'winnie': 7908, 'algorithmic': 7909, 'preganew': 7910, 'yntax': 7911, 'wifipa': 7912, 'zerodha': 7913, 'salvador': 7914, 'upvoted': 7915, 'ampicillin': 7916, 'cloxacillin': 7917, 'pylori': 7918, 'tetracycline': 7919, 'decompo': 7920, 'frie': 7921, 'yelp': 7922, 'bitter': 7923, 'nikhil': 7924, 'mourinho': 7925, 'gujarati': 7926, 'timation': 7927, 'delay': 7928, 'ocialization': 7929, 'hump': 7930, 'vichitra': 7931, 'zawar': 7932, 'monarchy': 7933, 'hallam': 7934, 'sheffield': 7935, 'leap': 7936, 'alfaaz': 7937, 'lafz': 7938, 'hipper': 7939, 'narcotic': 7940, 'shipping': 7941, 'limbo': 7942, 'prototype': 7943, 'prepo': 7944, 'terner': 7945, 'terou': 7946, 'libel': 7947, 'misc': 7948, 'waiter': 7949, 'cellular': 7950, 'ipython': 7951, 'jupyter': 7952, 'quadra': 7953, 'scaled': 7954, 'argue': 7955, 'grandmother': 7956, 'ambitiou': 7957, 'retire': 7958, 'amidite': 7959, 'chema': 7960, 'demonitization': 7961, 'parameter': 7962, 'replica': 7963, 'viagra': 7964, 'mediawiki': 7965, 'troubling': 7966, 'adventure': 7967, 'blogger': 7968, 'ordnance': 7969, 'knive': 7970, 'lightly': 7971, 'buffett': 7972, 'warren': 7973, 'hijack': 7974, 'situation': 7975, 'mandate': 7976, 'jbims': 7977, 'symbio': 7978, 'hook': 7979, 'ooad': 7980, 'oopl': 7981, 'panda': 7982, 'wonder': 7983, 'neuron': 7984, 'anniver': 7985, 'jubilee': 7986, 'applicant': 7987, 'wrongly': 7988, 'cantone': 7989, 'dieting': 7990, 'apparently': 7991, 'jerky': 7992, 'naval': 7993, 'pemmican': 7994, 'cooler': 7995, 'lately': 7996, 'unreali': 7997, 'curate': 7998, 'yougov': 7999, 'portfolio': 8000, 'urize': 8001, 'boulder': 8002, 'moem': 8003, 'flouri': 8004, 'abolitioni': 8005, 'martian': 8006, 'hoffman': 8007, 'exhibit': 8008, 'ychopathic': 8009, 'aviv': 8010, 'paraphra': 8011, 'eventeen': 8012, 'upernatural': 8013, 'imax': 8014, 'nootropic': 8015, 'chrift': 8016, 'sütterlin': 8017, 'lipid': 8018, 'ayurvedic': 8019, 'harddrive': 8020, 'bottleno': 8021, 'agricultural': 8022, 'graphite': 8023, 'overreact': 8024, 'commonly': 8025, 'exterior': 8026, 'interior': 8027, 'nook': 8028, 'quina': 8029, 'rincón': 8030, 'umbrella': 8031, 'availability': 8032, 'inventory': 8033, 'contextual': 8034, 'immorally': 8035, 'ultimately': 8036, 'ouchi': 8037, 'bootmgr': 8038, 'dedicated': 8039, 'amplifier': 8040, 'emitter': 8041, 'premarital': 8042, 'anatolian': 8043, 'bakelite': 8044, 'polymer': 8045, 'prequel': 8046, 'quarry': 8047, 'alty': 8048, 'jigglypuff': 8049, 'snorlax': 8050, 'fabulou': 8051, 'macquarie': 8052, 'babbel': 8053, 'duolingo': 8054, 'dominant': 8055, 'briext': 8056, 'syntactic': 8057, 'nickel': 8058, 'katchatheevu': 8059, 'hfehmiyan': 8060, 'carina': 8061, 'chan': 8062, 'alexa': 8063, 'childhood': 8064, 'pectful': 8065, 'igate': 8066, 'coolpad': 8067, 'garbage': 8068, 'conan': 8069, 'allen': 8070, 'hynek': 8071, 'organize': 8072, 'endo': 8073, 'creamy': 8074, 'trapezoid': 8075, 'typeface': 8076, 'chickpea': 8077, 'htra': 8078, 'mahara': 8079, 'offmapporn': 8080, 'porntunel': 8081, 'notation': 8082, 'mohammad': 8083, 'underage': 8084, 'hodgkin': 8085, 'lymphoma': 8086, 'mecca': 8087, 'weete': 8088, 'urethral': 8089, 'appeal': 8090, 'intuitive': 8091, 'trumental': 8092, 'vocal': 8093, '如果不靠欺骗自己': 8094, '还能靠什么支撑自己走下去': 8095, 'usaco': 8096, 'afford': 8097, 'golang': 8098, 'apprai': 8099, 'freeciv': 8100, 'hydraulic': 8101, 'tarantula': 8102, 'regularization': 8103, 'paraphilia': 8104, 'pedophilia': 8105, 'rarity': 8106, 'tracte': 8107, 'harp': 8108, 'hungary': 8109, 'canal': 8110, 'marilyn': 8111, 'mankind': 8112, 'hafeez': 8113, 'contraction': 8114, 'tard': 8115, 'offen': 8116, 'nominal': 8117, 'spectrum': 8118, 'monolithic': 8119, 'authentic': 8120, 'omega': 8121, 'aadhar': 8122, 'aadharcard': 8123, 'heal': 8124, 'romantically': 8125, 'copyright': 8126, 'plumber': 8127, 'lawful': 8128, 'obedience': 8129, 'quanzhou': 8130, 'hepatiti': 8131, 'deliberatly': 8132, 'inaugural': 8133, 'copywriting': 8134, 'enforce': 8135, 'blueray': 8136, 'brrip': 8137, 'dvdrip': 8138, 'dvdscr': 8139, 'hdrip': 8140, 'hdts': 8141, 'hdtv': 8142, 'webrip': 8143, 'courier': 8144, 'glmq': 8145, 'deletion': 8146, 'jury': 8147, 'remark': 8148, 'ammonium': 8149, 'henry': 8150, 'split': 8151, 'comprehen': 8152, 'ively': 8153, 'repeat': 8154, 'concede': 8155, 'redux': 8156, 'technophile': 8157, 'foreca': 8158, 'plug': 8159, 'integral': 8160, 'guduvanchery': 8161, 'tiruvanmiyur': 8162, 'eyliciou': 8163, 'adderral': 8164, 'methylphenidate': 8165, 'recorder': 8166, 'briefing': 8167, 'tinnitu': 8168, 'bankrupt': 8169, 'rocker': 8170, 'ubculture': 8171, 'modulu': 8172, 'ticity': 8173, 'montreal': 8174, 'electromotive': 8175, 'diablo': 8176, 'parenting': 8177, 'emirati': 8178, 'breakthrough': 8179, 'equations': 8180, 'doeacc': 8181, 'hurdle': 8182, 'prevail': 8183, 'prevailing': 8184, 'controlling': 8185, 'olpc': 8186, 'tradeoff': 8187, 'tenne': 8188, 'dinitrate': 8189, 'unconditionally': 8190, 'garcia': 8191, 'jerry': 8192, 'relax': 8193, 'kongregate': 8194, 'platonic': 8195, 'cauca': 8196, 'fanny': 8197, 'finding': 8198, 'changer': 8199, 'duerte': 8200, 'concurrently': 8201, 'sperry': 8202, 'crawl': 8203, 'mite': 8204, 'brinkman': 8205, 'mitter': 8206, 'wideband': 8207, 'باقر': 8208, 'emite': 8209, 'craft': 8210, 'wooden': 8211, 'iitian': 8212, 'balloon': 8213, 'nonnegative': 8214, 'bidding': 8215, 'tablecloth': 8216, 'viva': 8217, 'higrit': 8218, 'ventricular': 8219, 'margaret': 8220, 'morri': 8221, 'andover': 8222, 'phillip': 8223, 'tudence': 8224, 'calip': 8225, 'angelita': 8226, 'búzio': 8227, 'evete': 8228, 'appearance': 8229, 'baraka': 8230, 'urveyor': 8231, 'multirole': 8232, 'emicolon': 8233, 'andreanof': 8234, 'bleached': 8235, 'hade': 8236, 'zoom': 8237, 'agregator': 8238, 'intention': 8239, 'deck': 8240, 'royale': 8241, 'intercept': 8242, 'localize': 8243, 'gradient': 8244, 'edgeverve': 8245, 'jill': 8246, 'stein': 8247, 'alienware': 8248, 'poultry': 8249, 'stem': 8250, 'cala': 8251, 'libgdx': 8252, 'capriciou': 8253, 'caption': 8254, 'char': 8255, 'mgit': 8256, 'problematic': 8257, 'ferrari': 8258, 'hypodermi': 8259, 'delink': 8260, 'tercard': 8261, 'chology': 8262, 'brandon': 8263, 'jouney': 8264, 'bottleneck': 8265, 'ynap': 8266, 'vacancie': 8267, 'namangan': 8268, 'uzbeki': 8269, 'fancy': 8270, 'electively': 8271, 'seat': 8272, 'evolutionary': 8273, 'dawn': 8274, 'colored': 8275, 'finder': 8276, 'reflection': 8277, 'cardboard': 8278, 'backbone': 8279, 'worthle': 8280, 'topper': 8281, 'schengen': 8282, 'roanoke': 8283, 'booth': 8284, 'needy': 8285, 'lahore': 8286, 'mcat': 8287, 'tructor': 8288, 'modulation': 8289, 'voltmeter': 8290, 'kathmandu': 8291, 'rebuild': 8292, 'thamandav': 8293, 'nmim': 8294, 'nmims': 8295, 'pent': 8296, 'alan': 8297, 'collective': 8298, 'hinder': 8299, 'vapor': 8300, 'jakarta': 8301, 'everance': 8302, 'undergrad': 8303, 'loyal': 8304, 'chromo': 8305, 'homologou': 8306, 'peroxi': 8307, 'talgic': 8308, 'ilencer': 8309, 'simon': 8310, 'upermarket': 8311, 'dengan': 8312, 'ebagai': 8313, 'ertifikat': 8314, 'kerja': 8315, 'pengalaman': 8316, 'hilar': 8317, 'groom': 8318, 'pope': 8319, 'umably': 8320, 'mapping': 8321, 'ferrel': 8322, 'hadley': 8323, 'hrink': 8324, 'auna': 8325, 'certified': 8326, 'autonomy': 8327, 'parrot': 8328, 'sfit': 8329, 'adequately': 8330, 'painting': 8331, 'valuate': 8332, 'acidify': 8333, 'corleone': 8334, 'godfather': 8335, 'comeback': 8336, 'backlog': 8337, 'moor': 8338, 'sicily': 8339, 'primate': 8340, 'granola': 8341, 'stevie': 8342, 'hmiri': 8343, 'inboxe': 8344, 'maximize': 8345, 'cofounder': 8346, 'inflammation': 8347, 'hamilton': 8348, 'nineteen': 8349, 'kirt': 8350, 'tricted': 8351, 'abha': 8352, 'rajya': 8353, 'knife': 8354, 'recomende': 8355, 'mongolia': 8356, 'wollen': 8357, 'warmth': 8358, 'contradict': 8359, 'glutamine': 8360, 'viii': 8361, 'baggin': 8362, 'bilbo': 8363, 'explore': 8364, 'haryana': 8365, 'cronje': 8366, 'nationalitie': 8367, 'blurring': 8368, 'clap': 8369, 'ambition': 8370, 'octagon': 8371, 'bandage': 8372, 'urpri': 8373, 'kmph': 8374, 'beam': 8375, 'badí': 8376, 'fibromyalgia': 8377, 'smartphone': 8378, 'tioner': 8379, 'sakura': 8380, 'kamov': 8381, 'bankruptcy': 8382, 'endurance': 8383, 'tout': 8384, 'zimmer': 8385, 'gixxer': 8386, 'aftr': 8387, 'anxiou': 8388, 'deni': 8389, 'ellor': 8390, 'udaipur': 8391, 'aree': 8392, 'branding': 8393, 'dalla': 8394, 'chatbot': 8395, 'pupil': 8396, 'permutation': 8397, 'gryll': 8398, 'tricte': 8399, 'handout': 8400, 'ecamp': 8401, 'yammer': 8402, 'mhcet': 8403, 'sahaj': 8404, 'samadhi': 8405, 'beagle': 8406, 'beck': 8407, 'guitari': 8408, 'jailbreak': 8409, 'tratify': 8410, 'loka': 8411, 'mythology': 8412, 'leopard': 8413, 'authority': 8414, 'regulatory': 8415, 'trai': 8416, 'declaration': 8417, 'reuter': 8418, 'fate': 8419, 'loco': 8420, 'immunoglobulin': 8421, 'rabie': 8422, 'terbuate': 8423, 'charlie': 8424, 'wonka': 8425, 'milo': 8426, 'shapiro': 8427, 'yiannopoulo': 8428, 'entertaining': 8429, 'nodej': 8430, 'diffu': 8431, 'mover': 8432, 'packer': 8433, 'infamou': 8434, 'jone': 8435, 'benjen': 8436, 'plinter': 8437, 'jailbroken': 8438, 'tipping': 8439, 'coimbatore': 8440, 'brad': 8441, 'pitt': 8442, 'maratha': 8443, 'vedanta': 8444, 'demoneiti': 8445, 'príncipe': 8446, 'tomé': 8447, 'gullibility': 8448, 'chloroform': 8449, 'furan': 8450, 'pyrrole': 8451, 'atrocitie': 8452, 'comitte': 8453, 'divert': 8454, 'traumatizing': 8455, 'warn': 8456, 'ymmetry': 8457, 'calvin': 8458, 'hobbe': 8459, 'upwork': 8460, 'macro': 8461, 'anon': 8462, 'fabricate': 8463, 'mahatma': 8464, 'draft': 8465, 'horthand': 8466, 'tenographer': 8467, 'creationi': 8468, 'lngedna': 8469, 'rearrange': 8470, 'toughe': 8471, 'dumbe': 8472, 'ecour': 8473, 'skin': 8474, 'scivac': 8475, 'calm': 8476, 'counterpart': 8477, 'drill': 8478, 'hout': 8479, 'usmc': 8480, 'dryer': 8481, 'miele': 8482, 'eazy': 8483, 'defore': 8484, 'trator': 8485, 'cramp': 8486, 'reduction': 8487, 'owen': 8488, 'combination': 8489, 'embedded': 8490, 'slovenian': 8491, 'sicilian': 8492, 'slim': 8493, 'kurd': 8494, 'vertex': 8495, 'mani': 8496, 'pheric': 8497, 'aktu': 8498, 'uptu': 8499, 'numerical': 8500, 'hydrated': 8501, 'urticaria': 8502, 'inertial': 8503, 'quint': 8504, 'iitb': 8505, 'informatic': 8506, 'nutritioni': 8507, 'melatonin': 8508, 'kukatpalli': 8509, 'gilera': 8510, 'motorbike': 8511, 'onvia': 8512, 'procurement': 8513, 'proavi': 8514, 'prominent': 8515, 'earny': 8516, 'bochum': 8517, 'ksop': 8518, 'mohr': 8519, 'redox': 8520, 'salt': 8521, 'standard': 8522, 'titration': 8523, 'theater': 8524, 'alami': 8525, 'confluence': 8526, 'defecate': 8527, 'invertebrate': 8528, 'johar': 8529, 'karan': 8530, 'ecretly': 8531, 'province': 8532, 'kinnect': 8533, 'lover': 8534, 'mountaineer': 8535, 'richmond': 8536, 'taurateur': 8537, 'bernard': 8538, 'dadie': 8539, 'chaance': 8540, 'kwik': 8541, 'hangman': 8542, 'pakalu': 8543, 'papito': 8544, 'timeline': 8545, 'doom': 8546, 'incredible': 8547, 'injury': 8548, 'traumatic': 8549, 'uffere': 8550, 'empirical': 8551, 'speed': 8552, 'primitive': 8553, 'tingle': 8554, 'alice': 8555, 'floyd': 8556, 'wonderland': 8557, 'debug': 8558, 'imperfection': 8559, 'guyana': 8560, 'acceptance': 8561, 'craper': 8562, 'eudo': 8563, 'heartmath': 8564, 'poric': 8565, 'beloved': 8566, 'hdcp': 8567, 'april': 8568, 'brindle': 8569, 'amway': 8570, 'clementine': 8571, 'tangerine': 8572, 'ulted': 8573, 'aurora': 8574, 'boreali': 8575, 'kimberly': 8576, 'kimmy': 8577, 'magnify': 8578, 'comprehend': 8579, 'clublocal': 8580, 'arrogance': 8581, 'mama': 8582, 'mamma': 8583, 'moma': 8584, 'wechat': 8585, 'introductory': 8586, 'combo': 8587, 'mritunjay': 8588, 'savant': 8589, 'shivaji': 8590, 'cholinergic': 8591, 'hive': 8592, 'weat': 8593, 'nöther': 8594, 'kaust': 8595, 'norwegian': 8596, 'thinker': 8597, 'interviewbit': 8598, 'tatione': 8599, 'identical': 8600, 'lentil': 8601, 'hmbrow': 8602, 'windy': 8603, 'enhancement': 8604, 'taking': 8605, 'maintenance': 8606, 'idence': 8607, 'bahraini': 8608, 'tidal': 8609, 'bevmo': 8610, 'maunder': 8611, 'chiefdom': 8612, 'ecutively': 8613, 'acrylic': 8614, 'apologize': 8615, 'fatiha': 8616, 'jamaat': 8617, 'urah': 8618, 'cilian': 8619, 'murphy': 8620, 'adje': 8621, 'akaldiwipi': 8622, 'retro': 8623, 'handwriting': 8624, 'inidna': 8625, 'freon': 8626, 'meaningle': 8627, 'sway': 8628, 'toryboard': 8629, 'crowded': 8630, 'electra': 8631, 'snoke': 8632, 'alter': 8633, 'brick': 8634, 'duterte': 8635, 'culinary': 8636, 'enterpreur': 8637, 'navigation': 8638, 'intermittent': 8639, 'earching': 8640, 'egment': 8641, 'himalayan': 8642, 'coral': 8643, 'carrot': 8644, 'campfire': 8645, 'invalid': 8646, 'ghat': 8647, 'madrid': 8648, 'lactation': 8649, 'intact': 8650, 'wizard': 8651, 'turkmeni': 8652, 'breath': 8653, 'synnex': 8654, 'decor': 8655, 'neolithic': 8656, 'paleolithic': 8657, 'station': 8658, 'airwatch': 8659, 'unhygienic': 8660, 'abdurraheem': 8661, 'corioli': 8662, 'hemant': 8663, 'ingh': 8664, 'raje': 8665, 'undhara': 8666, 'mhrd': 8667, 'determination': 8668, 'bundlr': 8669, 'kyle': 8670, 'sniper': 8671, 'coup': 8672, 'pacino': 8673, 'herbal': 8674, 'vaidya': 8675, 'peipu': 8676, 'biospecific': 8677, 'cache': 8678, 'heroe': 8679, 'attainable': 8680, 'pectator': 8681, 'peoplesoft': 8682, 'dach': 8683, 'hund': 8684, 'madaga': 8685, 'biometric': 8686, 'tacking': 8687, 'toggl': 8688, 'holachef': 8689, 'uncontrolled': 8690, 'marlboro': 8691, 'talker': 8692, 'deliciou': 8693, 'grapefruit': 8694, 'homeo': 8695, 'pawn': 8696, 'placememnt': 8697, 'zurich': 8698, 'blackjack': 8699, 'counting': 8700, 'andromeda': 8701, 'arround': 8702, 'extraction': 8703, 'eighteen': 8704, 'khaki': 8705, 'abbreviation': 8706, 'hiac': 8707, 'incometax': 8708, 'nerd': 8709, 'carlie': 8710, 'seer': 8711, 'chievou': 8712, 'ymmetrically': 8713, 'aquarium': 8714, 'leach': 8715, 'windex': 8716, 'fireball': 8717, 'sapien': 8718, 'technologi': 8719, 'coloniali': 8720, 'forbidden': 8721, 'abecedarian': 8722, 'choole': 8723, 'vani': 8724, 'ipill': 8725, 'airliner': 8726, 'ejection': 8727, 'matriarch': 8728, 'patriarch': 8729, 'incognito': 8730, 'glaucoma': 8731, 'cleaner': 8732, 'danger': 8733, 'antibiotic': 8734, 'jaguar': 8735, 'ubiquitou': 8736, 'liability': 8737, 'ought': 8738, 'ehood': 8739, 'furthe': 8740, 'phlegm': 8741, 'unhealthy': 8742, 'wallowing': 8743, 'emerge': 8744, 'microcomputer': 8745, 'copenhagen': 8746, 'spending': 8747, 'permeability': 8748, 'permittivity': 8749, 'jock': 8750, 'hopy': 8751, 'scor': 8752, 'lone': 8753, 'francoi': 8754, 'gautier': 8755, 'macau': 8756, 'upportive': 8757, 'dandruff': 8758, 'thinning': 8759, 'ejaculation': 8760, 'millionr': 8761, 'scooter': 8762, 'deviation': 8763, 'variance': 8764, 'debar': 8765, 'gogglebox': 8766, 'ifie': 8767, 'tangible': 8768, 'ubtitle': 8769, 'urgent': 8770, 'laxity': 8771, 'ligament': 8772, 'ahmedabad': 8773, 'picnic': 8774, 'neutralize': 8775, 'lamophobia': 8776, 'mannatech': 8777, 'almond': 8778, 'accidental': 8779, 'littlefinger': 8780, 'argentinean': 8781, 'patiently': 8782, 'ulip': 8783, 'cengage': 8784, 'outhern': 8785, 'paid': 8786, 'popup': 8787, 'darjeeling': 8788, 'gangtok': 8789, 'itinerary': 8790, 'allopathy': 8791, 'educator': 8792, 'mashape': 8793, 'colbert': 8794, 'overturn': 8795, 'quara': 8796, 'wordy': 8797, 'xena': 8798, 'annul': 8799, 'donkey': 8800, 'goula': 8801, 'hungarian': 8802, 'exclu': 8803, 'nightclub': 8804, 'cendental': 8805, 'mindfulne': 8806, 'academia': 8807, 'copying': 8808, 'picy': 8809, 'heyzap': 8810, 'ukulele': 8811, 'anto': 8812, 'bayer': 8813, 'propel': 8814, 'otope': 8815, 'radiu': 8816, 'regina': 8817, 'rowboat': 8818, 'spektor': 8819, 'prepration': 8820, 'choctaw': 8821, 'bald': 8822, 'cygwin': 8823, 'baghdad': 8824, 'dehradun': 8825, 'studie': 8826, 'naga': 8827, 'macroevolution': 8828, 'microevolution': 8829, 'cerber': 8830, 'decrypt': 8831, 'niger': 8832, 'iframe': 8833, 'reheat': 8834, 'broken': 8835, 'devolope': 8836, 'jakub': 8837, 'pachocki': 8838, 'addida': 8839, 'adida': 8840, 'intj': 8841, 'mbti': 8842, 'rectifier': 8843, 'hemingway': 8844, 'rtgs': 8845, 'obey': 8846, 'nonvolatile': 8847, 'knuth': 8848, 'wath': 8849, 'comes': 8850, 'west': 8851, 'foap': 8852, 'fotolia': 8853, 'pulsar': 8854, 'tyii': 8855, 'eruption': 8856, 'volcanic': 8857, 'hurriedly': 8858, 'tandpoint': 8859, 'unwi': 8860, 'mande': 8861, 'urrogacy': 8862, 'ailing': 8863, 'chinki': 8864, 'abbath': 8865, 'brokerage': 8866, 'landlord': 8867, 'tenant': 8868, 'crimea': 8869, 'weirdo': 8870, 'alvation': 8871, 'thyri': 8872, 'parcel': 8873, 'multiver': 8874, 'fixed': 8875, 'contractor': 8876, 'nomination': 8877, 'kvar': 8878, 'firewall': 8879, 'marte': 8880, 'puffine': 8881, 'appealing': 8882, 'fargo': 8883, 'jacket': 8884, 'yllable': 8885, 'onedrive': 8886, 'loading': 8887, 'lobby': 8888, 'naukri': 8889, 'ppsspp': 8890, 'centennial': 8891, 'maytag': 8892, 'acetone': 8893, 'fondle': 8894, 'feminazi': 8895, 'gyme': 8896, 'ignation': 8897, 'emory': 8898, 'abbreviate': 8899, 'federer': 8900, 'nadal': 8901, 'thunder': 8902, 'litigation': 8903, 'hamburger': 8904, 'ingapore': 8905, 'kart': 8906, 'wardrobe': 8907, 'icse': 8908, 'conge': 8909, 'predominately': 8910, 'kharghar': 8911, 'nata': 8912, 'lndigenou': 8913, 'drake': 8914, 'rihanna': 8915, 'venue': 8916, 'catalan': 8917, 'tilian': 8918, 'caucu': 8919, 'disec': 8920, 'moderate': 8921, 'bullie': 8922, 'olivetti': 8923, 'firebug': 8924, 'southwe': 8925, 'hinduphobic': 8926, 'webmd': 8927, 'joined': 8928, 'tenth': 8929, 'uade': 8930, 'gymme': 8931, 'kateboarde': 8932, 'anne': 8933, 'bronn': 8934, 'worm': 8935, 'bidder': 8936, 'openxcell': 8937, 'truthfinder': 8938, 'aulia': 8939, 'hazrat': 8940, 'nizamuddin': 8941, 'harwich': 8942, 'lawford': 8943, 'manningtree': 8944, 'tley': 8945, 'iana': 8946, 'alia': 8947, 'enberg': 8948, 'uncertainty': 8949, 'ampere': 8950, 'contamination': 8951, 'burrito': 8952, 'xxxl': 8953, 'palm': 8954, 'criminantanaly': 8955, 'klearn': 8956, 'lineardi': 8957, 'uglie': 8958, 'iift': 8959, 'trea': 8960, 'parachute': 8961, 'fertilizer': 8962, 'manure': 8963, 'ultrafine': 8964, 'ruminant': 8965, 'davv': 8966, 'genome': 8967, 'thermonuclear': 8968, 'ambien': 8969, 'morphine': 8970, 'territorial': 8971, 'inaccurate': 8972, 'incomplete': 8973, 'networth': 8974, 'langan': 8975, 'bully': 8976, 'neighbor': 8977, 'macupdate': 8978, 'decea': 8979, 'durex': 8980, 'unicorn': 8981, 'esport': 8982, 'turbocharger': 8983, 'upercharger': 8984, 'karuvelam': 8985, 'tability': 8986, 'pointer': 8987, 'gaal': 8988, 'headquart': 8989, 'hsbc': 8990, 'confront': 8991, 'unarmed': 8992, 'indiabix': 8993, 'avacado': 8994, 'tuna': 8995, 'houf': 8996, 'sanriku': 8997, 'intuition': 8998, 'minimax': 8999, 'pythagorean': 9000, 'iama': 9001, 'comercial': 9002, 'sound': 9003, 'expedia': 9004, 'orbitz': 9005, 'purportedly': 9006, 'jewi': 9007, 'niit': 9008, 'aratana': 9009, 'feather': 9010, 'ruffle': 9011, 'spokane': 9012, 'cdata': 9013, 'markup': 9014, 'aleve': 9015, 'pirituality': 9016, 'candid': 9017, 'blackberry': 9018, 'poil': 9019, 'renewal': 9020, 'makeover': 9021, 'fragile': 9022, 'sketch': 9023, 'coolidge': 9024, 'overdo': 9025, 'torically': 9026, 'crook': 9027, 'operating': 9028, 'libra': 9029, 'paraly': 9030, 'carcity': 9031, 'cedar': 9032, 'shopping': 9033, 'axophone': 9034, 'bilingual': 9035, 'grace': 9036, 'janeiro': 9037, 'complu': 9038, 'gtbit': 9039, 'turban': 9040, 'sarjana': 9041, 'omnivore': 9042, 'queaking': 9043, 'pithoragrah': 9044, 'uttrakhand': 9045, 'definite': 9046, 'impending': 9047, 'logi': 9048, 'modded': 9049, 'maxgain': 9050, 'corti': 9051, 'spirit': 9052, 'ured': 9053, 'pico': 9054, 'tajmahal': 9055, 'deng': 9056, 'forceful': 9057, 'tiananmen': 9058, 'uppre': 9059, 'xiaoping': 9060, 'thefoundation': 9061, 'aluminum': 9062, 'bachelorette': 9063, 'collider': 9064, 'hadron': 9065, 'pectfully': 9066, 'traveler': 9067, 'antioxidant': 9068, 'pivotal': 9069, 'vibe': 9070, 'academically': 9071, 'tortoi': 9072, 'magician': 9073, 'decibel': 9074, 'cooter': 9075, 'intouchable': 9076, 'golgappa': 9077, 'jalebi': 9078, 'blame': 9079, 'ignboard': 9080, 'citi': 9081, 'latop': 9082, 'deepika': 9083, 'padukone': 9084, 'tainle': 9085, 'saga': 9086, 'arthrocente': 9087, 'enthu': 9088, 'archery': 9089, 'iblitie': 9090, 'fahan': 9091, 'pandrel': 9092, 'cartel': 9093, 'broil': 9094, 'appication': 9095, 'zombie': 9096, 'aged': 9097, 'inane': 9098, 'celtic': 9099, 'knotwork': 9100, 'nacelle': 9101, 'warp': 9102, 'hypoden': 9103, 'parietal': 9104, 'rucku': 9105, 'virda': 9106, 'prominently': 9107, 'prozac': 9108, 'sumer': 9109, 'olely': 9110, 'alike': 9111, 'pecular': 9112, 'norfolk': 9113, 'motive': 9114, 'euglena': 9115, 'maven': 9116, 'accelerate': 9117, 'grabber': 9118, 'biodegradable': 9119, 'rockwool': 9120, 'confederation': 9121, 'provocative': 9122, 'pullup': 9123, 'extraordinary': 9124, 'tandardization': 9125, 'laravel': 9126, 'ideally': 9127, 'brake': 9128, 'benzene': 9129, 'venice': 9130, 'macroeconomic': 9131, 'microeconomic': 9132, 'iconic': 9133, 'infringement': 9134, 'trademark': 9135, 'zipautomobile': 9136, 'zipcar': 9137, 'ubwoofer': 9138, 'ikkim': 9139, '打著民主反民主': 9140, 'revolve': 9141, 'cadero': 9142, 'germanium': 9143, 'documentary': 9144, 'protocol': 9145, 'monopoly': 9146, 'ssri': 9147, 'sindhu': 9148, 'ciaz': 9149, 'maruti': 9150, 'vento': 9151, 'tenerife': 9152, 'torbox': 9153, 'dothraki': 9154, 'trillionaire': 9155, 'nipple': 9156, 'fugitive': 9157, 'pipe': 9158, 'corrupted': 9159, 'question': 9160, 'ketone': 9161, 'pberry': 9162, 'coloumb': 9163, 'nucleon': 9164, 'cottage': 9165, 'marathahalli': 9166, 'paneer': 9167, 'prepared': 9168, 'notably': 9169, 'demotivate': 9170, 'everytime': 9171, 'towel': 9172, 'ignate': 9173, 'leaf': 9174, 'coward': 9175, 'safinaz': 9176, 'xkcd': 9177, 'kingroot': 9178, 'virgo': 9179, 'jpeg': 9180, 'mpeg': 9181, 'cherry': 9182, 'cyanide': 9183, 'belkin': 9184, 'techical': 9185, 'hexagonal': 9186, 'waffle': 9187, 'ladakh': 9188, 'valuation': 9189, 'curial': 9190, 'pancreatic': 9191, 'hydrogenation': 9192, 'hoethere': 9193, 'papaya': 9194, 'sublime': 9195, 'grid': 9196, 'genghi': 9197, 'playli': 9198, 'ntpc': 9199, 'hebei': 9200, 'sanhe': 9201, 'mati': 9202, 'numi': 9203, 'badal': 9204, 'alot': 9205, 'moroccan': 9206, 'capricorn': 9207, 'seven': 9208, 'acca': 9209, 'dexcar': 9210, 'agullah': 9211, 'beelzebub': 9212, 'billy': 9213, 'grim': 9214, 'mandy': 9215, 'funeral': 9216, 'remarkable': 9217, 'taple': 9218, 'tocke': 9219, 'sonic': 9220, 'champ': 9221, 'skeet': 9222, 'bender': 9223, 'fender': 9224, 'bargain': 9225, 'hawaiian': 9226, 'leroy': 9227, 'neiman': 9228, 'surfer': 9229, 'alicylic': 9230, 'sulfo': 9231, 'toluene': 9232, 'ulfonic': 9233, 'likelihood': 9234, 'urrogate': 9235, 'paribha': 9236, 'colde': 9237, 'toxic': 9238, 'ballmer': 9239, 'adfc': 9240, 'ideration': 9241, 'galilei': 9242, 'galileo': 9243, 'grange': 9244, 'dull': 9245, 'throbbing': 9246, 'icon': 9247, 'largely': 9248, 'pretentiou': 9249, 'adderall': 9250, 'pellet': 9251, 'zomato': 9252, 'hygieni': 9253, 'impeachment': 9254, 'ored': 9255, 'workability': 9256, 'vocali': 9257, 'yogurt': 9258, 'exterminate': 9259, 'cycling': 9260, 'contour': 9261, 'horny': 9262, 'hunger': 9263, 'hydrophobic': 9264, 'oliophobic': 9265, 'dandelion': 9266, 'baye': 9267, 'naive': 9268, 'atla': 9269, 'shrugged': 9270, 'homecoming': 9271, 'wattmeter': 9272, 'recharge': 9273, 'cloudy': 9274, 'mpfi': 9275, 'harpen': 9276, 'harpener': 9277, 'inci': 9278, 'moothbore': 9279, 'takenly': 9280, 'tament': 9281, 'cranberrie': 9282, 'uicidal': 9283, 'stock': 9284, 'urrected': 9285, 'dominican': 9286, 'bait': 9287, 'perch': 9288, 'maui': 9289, 'ungla': 9290, 'komodo': 9291, 'helter': 9292, 'identifier': 9293, 'mmean': 9294, 'almon': 9295, 'himi': 9296, 'parallelogram': 9297, 'medullary': 9298, 'educt': 9299, 'rally': 9300, 'share': 9301, 'refute': 9302, 'textile': 9303, 'imha': 9304, 'nara': 9305, 'underate': 9306, 'taine': 9307, 'orphan': 9308, 'embryo': 9309, 'fertilization': 9310, 'nihili': 9311, 'urdi': 9312, 'guinea': 9313, 'papua': 9314, 'lynda': 9315, 'goverment': 9316, 'trenche': 9317, 'irony': 9318, 'bnbr': 9319, 'omayra': 9320, 'sánchez': 9321, 'pedal': 9322, 'edential': 9323, 'rajnath': 9324, 'pullman': 9325, 'turbo': 9326, 'coxeter': 9327, 'commando': 9328, 'nerdy': 9329, 'kylie': 9330, 'minogue': 9331, 'humanitu': 9332, 'jewnut': 9333, 'freckle': 9334, 'chimpanzee': 9335, 'tony': 9336, 'emft': 9337, 'extroverted': 9338, 'phycitri': 9339, 'fallacie': 9340, 'mixpanel': 9341, 'bonu': 9342, 'urogenital': 9343, 'conded': 9344, 'genpact': 9345, 'bicarbonate': 9346, 'ceptic': 9347, 'brighton': 9348, 'midway': 9349, 'checker': 9350, 'onnel': 9351, 'cinderella': 9352, 'accuride': 9353, 'chexsy': 9354, 'kaka': 9355, 'shani': 9356, 'tragedy': 9357, 'hamele': 9358, 'activi': 9359, 'reciever': 9360, 'mims': 9361, 'josso': 9362, 'multidomain': 9363, 'sign': 9364, 'patagonian': 9365, 'jakob': 9366, 'parrow': 9367, 'specialization': 9368, 'makeu': 9369, 'bigg': 9370, 'teleca': 9371, 'timing': 9372, 'pampa': 9373, 'cheek': 9374, 'luck': 9375, 'lucky': 9376, 'drexel': 9377, 'sjsu': 9378, 'syracu': 9379, 'calumny': 9380, 'penetrative': 9381, 'oxide': 9382, 'nameplate': 9383, 'onan': 9384, 'imile': 9385, 'tigermom': 9386, 'rowling': 9387, 'upervi': 9388, 'following': 9389, 'bharadwaj': 9390, 'hifuji': 9391, 'shaurya': 9392, 'jindal': 9393, 'univ': 9394, 'credited': 9395, 'moore': 9396, 'envoy': 9397, 'ubproce': 9398, 'eyebrow': 9399, 'algo': 9400, 'cookable': 9401, 'tauren': 9402, 'raytheon': 9403, 'encrypt': 9404, 'fucking': 9405, 'millennial': 9406, 'mouse': 9407, 'omebazar': 9408, 'parliamentary': 9409, 'caribbean': 9410, 'allergie': 9411, 'earwax': 9412, 'pecialitie': 9413, 'badly': 9414, 'exotic': 9415, 'reich': 9416, 'bunny': 9417, 'clau': 9418, 'remor': 9419, 'uffer': 9420, 'hygienic': 9421, 'mary': 9422, 'philanthropi': 9423, 'mindfuck': 9424, 'notevole': 9425, 'prodotto': 9426, 'akira': 9427, 'yamaoka': 9428, 'axon': 9429, 'symfony': 9430, 'fibromiyalgia': 9431, 'furiou': 9432, 'multiplication': 9433, 'copilot': 9434, 'imbalance': 9435, 'unbalanced': 9436, 'nimcet': 9437, 'qualifying': 9438, 'farfetch': 9439, 'incentive': 9440, 'taco': 9441, 'toil': 9442, 'lupu': 9443, 'pernio': 9444, 'ccap': 9445, 'crisil': 9446, 'croll': 9447, 'elitmu': 9448, 'liquefactive': 9449, 'necro': 9450, 'compartment': 9451, 'paddy': 9452, 'embrace': 9453, 'alkaline': 9454, 'lemon': 9455, 'ananthagiri': 9456, 'broadway': 9457, 'iderable': 9458, 'locomotive': 9459, 'emirate': 9460, 'tabloid': 9461, 'mannat': 9462, 'oorie': 9463, 'lightning': 9464, 'emiautomatic': 9465, 'canker': 9466, 'participle': 9467, 'ranipuram': 9468, 'lotion': 9469, 'peloponne': 9470, 'bonanza': 9471, 'drank': 9472, 'alcoholic': 9473, 'hangover': 9474, 'interpol': 9475, 'fourty': 9476, 'ninety': 9477, 'ninty': 9478, 'chore': 9479, 'counciou': 9480, 'cibil': 9481, 'overdue': 9482, 'flurry': 9483, 'footprint': 9484, 'balachander': 9485, 'ajith': 9486, 'vedalam': 9487, 'dilation': 9488, 'debenham': 9489, 'cuso': 9490, 'explicitly': 9491, 'informer': 9492, 'propane': 9493, 'cende': 9494, 'raelite': 9495, 'lozenge': 9496, 'normalize': 9497, 'babybel': 9498, 'rangbhoomi': 9499, 'caltech': 9500, 'pletelet': 9501, 'libya': 9502, 'memo': 9503, 'somalia': 9504, 'sudan': 9505, 'timony': 9506, 'telexfree': 9507, 'motel': 9508, 'pheromone': 9509, 'teering': 9510, 'diabetic': 9511, 'hodor': 9512, 'irate': 9513, 'uncharacteri': 9514, 'amravati': 9515, 'hydrabad': 9516, 'liken': 9517, 'pari': 9518, 'tingy': 9519, 'lucrative': 9520, 'printing': 9521, 'equent': 9522, 'libration': 9523, 'locking': 9524, 'indication': 9525, 'reliability': 9526, 'balli': 9527, 'bouquet': 9528, 'embibe': 9529, 'freight': 9530, 'nurture': 9531, 'imartini': 9532, 'silverlight': 9533, 'treame': 9534, 'bypa': 9535, 'cram': 9536, 'bathhou': 9537, 'ocallaghan': 9538, 'dvda': 9539, 'mamba': 9540, 'champaign': 9541, 'idli': 9542, 'nadph': 9543, 'oxida': 9544, 'magnitude': 9545, 'afehou': 9546, 'apocalyptic': 9547, 'cliche': 9548, 'underu': 9549, 'alphabetical': 9550, 'marker': 9551, 'snooker': 9552, 'tyli': 9553, 'raipur': 9554, 'alination': 9555, 'eawater': 9556, 'rainfall': 9557, 'tical': 9558, 'ballot': 9559, 'friendli': 9560, 'sangamon': 9561, 'mane': 9562, 'barber': 9563, 'omalley': 9564, 'liga': 9565, 'joey': 9566, 'agglomeration': 9567, 'chauhan': 9568, 'prithviraj': 9569, 'tomb': 9570, 'anova': 9571, 'sonia': 9572, 'angra': 9573, 'franco': 9574, 'biodiver': 9575, 'bpel': 9576, 'bpmn': 9577, 'rooted': 9578, 'erpent': 9579, 'coinage': 9580, 'marc': 9581, 'srour': 9582, 'superior': 9583, 'andoid': 9584, 'layton': 9585, 'rockville': 9586, 'drumpf': 9587, 'criminant': 9588, 'tranquility': 9589, 'dalal': 9590, 'khoon': 9591, 'upermoon': 9592, 'rollerblade': 9593, 'urely': 9594, 'ertoli': 9595, 'doctoral': 9596, 'tdoc': 9597, 'traw': 9598, 'ubmerge': 9599, 'fuii': 9600, 'uphold': 9601, 'electrode': 9602, 'warden': 9603, 'fluffer': 9604, 'strategic': 9605, 'romance': 9606, 'accu': 9607, 'brook': 9608, 'trekker': 9609, 'squirtle': 9610, 'kewne': 9611, 'trubation': 9612, 'currencie': 9613, 'diificult': 9614, 'alaam': 9615, 'alaikum': 9616, 'boron': 9617, 'oxidation': 9618, 'mongodb': 9619, 'glorify': 9620, 'kodava': 9621, 'hamed': 9622, 'metadata': 9623, 'literate': 9624, 'cardiff': 9625, 'turnover': 9626, 'deca': 9627, 'tetrapho': 9628, 'drench': 9629, 'howere': 9630, 'copa': 9631, 'tereotypical': 9632, 'dailyobject': 9633, 'mathematically': 9634, 'nightmare': 9635, 'skittle': 9636, 'gopro': 9637, 'mevo': 9638, 'fateh': 9639, 'brownfield': 9640, 'short': 9641, 'breeding': 9642, 'captive': 9643, 'delique': 9644, 'cahoot': 9645, 'kindne': 9646, 'burger': 9647, 'operative': 9648, 'pranav': 9649, 'sixthsen': 9650, 'bachhan': 9651, 'hwaya': 9652, 'drilling': 9653, 'frequent': 9654, 'gallon': 9655, 'urinate': 9656, 'urination': 9657, 'earbud': 9658, 'urbani': 9659, 'deadlie': 9660, 'chick': 9661, 'ticker': 9662, 'belfort': 9663, 'deficiencie': 9664, 'pave': 9665, 'curd': 9666, 'cataly': 9667, 'uncataly': 9668, 'cente': 9669, 'advantageou': 9670, 'metabolically': 9671, 'ynchrony': 9672, 'cement': 9673, 'prohibit': 9674, 'pendrive': 9675, 'ionate': 9676, 'narrative': 9677, 'elementary': 9678, 'arri': 9679, 'sisti': 9680, 'affix': 9681, 'patch': 9682, 'handicraft': 9683, 'scotland': 9684, 'undulate': 9685, 'cheater': 9686, 'regain': 9687, 'deepen': 9688, 'temptation': 9689, 'scott': 9690, 'clairvoyant': 9691, 'bridget': 9692, 'marquardt': 9693, 'meladerm': 9694, 'pigmentation': 9695, 'longbowman': 9696, 'kaku': 9697, 'michio': 9698, 'muller': 9699, 'camping': 9700, 'ociometric': 9701, 'outgoing': 9702, 'rampage': 9703, 'ummah': 9704, 'unperturbe': 9705, 'yazidi': 9706, 'borodino': 9707, 'sonoran': 9708, 'fable': 9709, 'jean': 9710, 'taph': 9711, 'germ': 9712, 'kevin': 9713, 'turner': 9714, 'chromebook': 9715, 'milan': 9716, 'recurrence': 9717, 'wayback': 9718, 'highlighter': 9719, 'periodical': 9720, 'ontwik': 9721, 'arranged': 9722, 'pecificaton': 9723, 'kelly': 9724, 'paintball': 9725, 'athletic': 9726, 'bookchor': 9727, 'interper': 9728, 'ervomotor': 9729, 'tepper': 9730, 'sheila': 9731, 'tempt': 9732, 'ambala': 9733, 'gaelic': 9734, 'revive': 9735, 'unwilling': 9736, 'indigo': 9737, 'pathological': 9738, 'vive': 9739, 'blowjob': 9740, 'onville': 9741, 'ibilite': 9742, 'kirlo': 9743, 'vulnerabilitie': 9744, 'tering': 9745, 'malcolm': 9746, 'stratford': 9747, 'wilmington': 9748, 'identadvi': 9749, 'laundromat': 9750, 'ssis': 9751, 'indoctrination': 9752, 'embody': 9753, 'nirvana': 9754, 'reincarnation': 9755, 'allergy': 9756, 'homeopathy': 9757, 'nitrogen': 9758, 'leon': 9759, 'pixel': 9760, 'borivali': 9761, 'churchgate': 9762, 'kalyan': 9763, 'entrepreneurial': 9764, 'turki': 9765, 'japanologi': 9766, 'japanophile': 9767, 'weeaboo': 9768, 'regulu': 9769, 'grappler': 9770, 'rampant': 9771, 'lucknow': 9772, 'regional': 9773, 'handed': 9774, 'lovelie': 9775, 'walthpire': 9776, 'enlightened': 9777, 'continent': 9778, 'mononucleo': 9779, 'cuban': 9780, 'pherical': 9781, 'aiesec': 9782, 'harmonic': 9783, 'atacama': 9784, 'proc': 9785, 'imperfect': 9786, 'charlotte': 9787, 'untraceable': 9788, 'neumann': 9789, 'emancipate': 9790, 'getkey': 9791, 'blocked': 9792, 'entertain': 9793, 'haft': 9794, 'pricey': 9795, 'elder': 9796, 'miranda': 9797, 'curable': 9798, 'omatic': 9799, 'trengthen': 9800, 'actuarial': 9801, 'shyp': 9802, 'uttar': 9803, 'keepa': 9804, 'nearby': 9805, 'ruin': 9806, 'jitter': 9807, 'vaccination': 9808, 'необыкновенно': 9809, 'pathalogy': 9810, 'tragram': 9811, 'niyath': 9812, 'metallurgical': 9813, 'piral': 9814, 'untouched': 9815, 'multiculturali': 9816, 'chaotic': 9817, 'automobile': 9818, 'liquidity': 9819, 'thier': 9820, 'latina': 9821, 'underweight': 9822, 'oregano': 9823, 'probiotic': 9824, 'arthriti': 9825, 'trenght': 9826, 'electro': 9827, 'bool': 9828, 'kanye': 9829, 'wainte': 9830, 'condo': 9831, 'convent': 9832, 'loreto': 9833, 'terre': 9834, 'unsc': 9835, 'aggregator': 9836, 'comite': 9837, 'amniocente': 9838, 'macgyver': 9839, 'scorpion': 9840, 'toryline': 9841, 'cochin': 9842, 'incur': 9843, 'hine': 9844, 'mcmahon': 9845, 'micromanager': 9846, 'shane': 9847, 'stephanie': 9848, 'pluck': 9849, 'kewing': 9850, 'girokonto': 9851, 'sparka': 9852, 'htein': 9853, 'leven': 9854, 'hyperechoic': 9855, 'michigan': 9856, 'ohio': 9857, 'penn': 9858, 'ylvania': 9859, 'bryde': 9860, 'cyclop': 9861, 'brian': 9862, 'propul': 9863, 'ecchi': 9864, 'yuri': 9865, 'ucke': 9866, 'bach': 9867, 'mozart': 9868, 'clearwater': 9869, 'boreal': 9870, 'nanodegree': 9871, 'udacity': 9872, 'ovulation': 9873, 'directory': 9874, 'robbery': 9875, 'churn': 9876, 'detonation': 9877, 'slutroulette': 9878, 'pacewalk': 9879, 'chilka': 9880, 'ryanair': 9881, 'biker': 9882, 'eration': 9883, 'immi': 9884, 'darjeele': 9885, 'influencer': 9886, 'barbell': 9887, 'piercing': 9888, 'coliti': 9889, 'enlarge': 9890, 'pleen': 9891, 'ulcerative': 9892, 'unthinkable': 9893, 'boardwalk': 9894, 'edation': 9895, 'rogan': 9896, 'freddie': 9897, 'lound': 9898, 'injection': 9899, 'tractor': 9900, 'tracfone': 9901, 'codec': 9902, 'telephone': 9903, 'plank': 9904, 'alti': 9905, 'cattle': 9906, 'highland': 9907, 'scandinavian': 9908, 'torian': 9909, 'circular': 9910, 'oothe': 9911, 'daydreaming': 9912, 'unproductive': 9913, 'nairobi': 9914, 'notary': 9915, 'dolan': 9916, 'mommy': 9917, 'xavier': 9918, 'carter': 9919, 'ilhéu': 9920, 'panther': 9921, 'thumou': 9922, 'motley': 9923, 'debunk': 9924, 'tnpsc': 9925, 'alright': 9926, 'gerund': 9927, 'adreno': 9928, 'mali': 9929, 'chronological': 9930, 'execution': 9931, 'cooking': 9932, 'backoff': 9933, 'coexi': 9934, 'zigbee': 9935, 'riddle': 9936, 'riddler': 9937, 'dire': 9938, 'strait': 9939, 'percentiler': 9940, 'alignment': 9941, 'tellation': 9942, 'kinect': 9943, 'cepa': 9944, 'rilanka': 9945, 'vaporize': 9946, 'ygeia': 9947, 'geneva': 9948, 'interpreter': 9949, 'relegate': 9950, 'abraham': 9951, 'animate': 9952, 'aayiram': 9953, 'premam': 9954, 'unofficial': 9955, 'vaaranam': 9956, 'commuter': 9957, 'icai': 9958, 'revalidation': 9959, 'appstore': 9960, 'tune': 9961, 'conde': 9962, 'announcement': 9963, 'checkli': 9964, 'parineeti': 9965, 'brin': 9966, 'larry': 9967, 'sergey': 9968, 'lazaru': 9969, 'bloat': 9970, 'siena': 9971, 'mona': 9972, 'intervention': 9973, 'uffixe': 9974, 'patellectomy': 9975, 'student': 9976, 'cyborg': 9977, 'grievou': 9978, 'payroll': 9979, 'probable': 9980, 'topcoder': 9981, 'napchchat': 9982, 'drawer': 9983, 'madhya': 9984, 'zatch': 9985, 'humpback': 9986, 'sony': 9987, 'ravana': 9988, 'beyoncé': 9989, 'kean': 9990, 'throttle': 9991, 'infu': 9992, 'ward': 9993, 'acute': 9994, 'dexterou': 9995, 'outbur': 9996, 'adeptia': 9997, 'qlik': 9998, 'sence': 9999, 'alex': 10000, 'begger': 10001, 'apocalyp': 10002, 'outbreak': 10003, 'allege': 10004, 'priyanka': 10005, 'boxer': 10006, 'expectancy': 10007, 'heer': 10008, 'unesco': 10009, 'killer': 10010, 'zodiac': 10011, 'eeuu': 10012, 'detonate': 10013, 'como': 10014, 'cavitation': 10015, 'pulmonary': 10016, 'cinematographer': 10017, 'equilateral': 10018, 'mentali': 10019, 'torytelle': 10020, 'bigdata': 10021, 'dezyre': 10022, 'worthful': 10023, 'oscp': 10024, 'dama': 10025, 'concerned': 10026, 'concurrent': 10027, 'erlang': 10028, 'tolerant': 10029, 'reapply': 10030, 'rejection': 10031, 'rapper': 10032, 'tructional': 10033, 'cobar': 10034, 'pablo': 10035, 'twin': 10036, 'ailor': 10037, 'vaca': 10038, 'erialization': 10039, 'jayalalithaa': 10040, 'hookedonphonic': 10041, 'pheme': 10042, 'unforgivable': 10043, 'updating': 10044, 'fidel': 10045, 'nepean': 10046, 'ponzi': 10047, 'tainable': 10048, 'adha': 10049, 'eden': 10050, 'hazard': 10051, 'terchef': 10052, 'groupon': 10053, 'village': 10054, 'valiant': 10055, 'daesh': 10056, 'chai': 10057, 'balla': 10058, 'coar': 10059, 'lindor': 10060, 'lindt': 10061, 'truffle': 10062, 'kolkatta': 10063, 'stat': 10064, 'viteee': 10065, 'zippo': 10066, 'balanced': 10067, 'brighte': 10068, 'tought': 10069, 'watching': 10070, 'bhatt': 10071, 'maria': 10072, 'sharapova': 10073, 'arcadia': 10074, 'theoretically': 10075, 'delta': 10076, 'nightlife': 10077, 'prague': 10078, 'wattpad': 10079, 'ourcing': 10080, 'eccedente': 10081, 'albe': 10082, 'metrocard': 10083, 'maximi': 10084, 'gifted': 10085, 'fernando': 10086, 'lera': 10087, 'uruguayan': 10088, 'tarved': 10089, 'encom': 10090, 'bikaner': 10091, 'hree': 10092, 'comparative': 10093, 'federali': 10094, 'kalanick': 10095, 'travi': 10096, 'tituent': 10097, 'uefa': 10098, 'devolepment': 10099, 'coli': 10100, 'fece': 10101, 'indiana': 10102, 'panay': 10103, 'volatility': 10104, 'ceramic': 10105, 'eale': 10106, 'grout': 10107, 'reiterate': 10108, 'interactive': 10109, 'ticketmeout': 10110, 'gratitude': 10111, 'alabama': 10112, 'laguna': 10113, 'niguel': 10114, 'goodwill': 10115, 'mattre': 10116, 'texture': 10117, 'capgemini': 10118, 'pewdiepie': 10119, 'healthfir': 10120, 'grammy': 10121, 'karimnagar': 10122, 'mage': 10123, 'overhang': 10124, 'korma': 10125, 'mutton': 10126, 'juck': 10127, 'tomorrowland': 10128, 'qoura': 10129, 'exclamation': 10130, 'autotune': 10131, 'couch': 10132, 'pille': 10133, 'squaw': 10134, 'clone': 10135, 'sidecar': 10136, 'ibly': 10137, 'maarukatte': 10138, 'paticipate': 10139, 'incoming': 10140, 'uperheroe': 10141, 'packge': 10142, 'duplex': 10143, 'localitie': 10144, 'chari': 10145, 'deux': 10146, 'mrunal': 10147, 'showroom': 10148, 'powerlifting': 10149, 'amelie': 10150, 'bakery': 10151, 'cancun': 10152, 'ethnic': 10153, 'haiti': 10154, 'liberty': 10155, 'traction': 10156, 'granville': 10157, 'iowa': 10158, 'aquariu': 10159, 'hazara': 10160, 'htun': 10161, 'informetica': 10162, 'creativity': 10163, 'rogaine': 10164, 'cyndee': 10165, 'pokorny': 10166, 'schmidt': 10167, 'unbreakable': 10168, 'formalitie': 10169, 'malayali': 10170, 'tibet': 10171, 'buying': 10172, 'expt': 10173, 'radian': 10174, 'pontaneou': 10175, 'utah': 10176, 'bibliography': 10177, 'foolproof': 10178, 'bdsm': 10179, 'shade': 10180, 'hairfall': 10181, 'urpermini': 10182, 'dothan': 10183, 'ualtie': 10184, 'rfid': 10185, 'bedwette': 10186, 'enure': 10187, 'ychopathy': 10188, 'lumpkin': 10189, 'mediahuman': 10190, 'plain': 10191, 'grip': 10192, 'publically': 10193, 'coagulation': 10194, 'flocculation': 10195, 'prohibitively': 10196, 'huluplu': 10197, 'roku': 10198, 'creenplay': 10199, 'carmen': 10200, 'spare': 10201, 'ympathy': 10202, 'leakage': 10203, 'optimi': 10204, 'keanu': 10205, 'reeve': 10206, 'rutterdam': 10207, 'randomne': 10208, 'portrayal': 10209, 'mordor': 10210, 'sauron': 10211, 'teland': 10212, 'anytime': 10213, 'unlovable': 10214, 'binocular': 10215, 'utter': 10216, 'mooth': 10217, 'qualifie': 10218, 'calcification': 10219, 'unfit': 10220, 'tarch': 10221, 'crazily': 10222, 'meow': 10223, 'unhappily': 10224, 'carta': 10225, 'magna': 10226, 'clipper': 10227, 'staple': 10228, 'lite': 10229, 'inlove': 10230, 'materiality': 10231, 'committee': 10232, 'unconventional': 10233, 'lamina': 10234, 'holographic': 10235, 'mandatory': 10236, 'ammeter': 10237, 'enema': 10238, 'fulfil': 10239, 'barbie': 10240, 'jenner': 10241, 'faire': 10242, 'kinne': 10243, 'adultery': 10244, 'fart': 10245, 'apink': 10246, 'conceptually': 10247, 'empowerment': 10248, 'admn': 10249, 'codamol': 10250, 'polka': 10251, 'evelopment': 10252, 'adhikari': 10253, 'dhol': 10254, 'ganwar': 10255, 'nari': 10256, 'sakal': 10257, 'shudra': 10258, 'taadana': 10259, 'amalgamation': 10260, 'intoxicate': 10261, 'softinator': 10262, 'leonardo': 10263, 'vinci': 10264, 'vitruvian': 10265, 'cadet': 10266, 'medically': 10267, 'hame': 10268, 'ulting': 10269, 'titiou': 10270, 'antique': 10271, 'cillo': 10272, 'waveform': 10273, 'thma': 10274, 'iocl': 10275, 'ilverfi': 10276, 'erviced': 10277, 'omniplan': 10278, 'vulnerable': 10279, 'futurelearn': 10280, 'airbu': 10281, 'boeing': 10282, 'kurkkoli': 10283, 'nazer': 10284, 'woodrow': 10285, 'scripting': 10286, 'bulimic': 10287, 'hypothetically': 10288, 'blippar': 10289, 'gruele': 10290, 'adapt': 10291, 'euphoric': 10292, 'initially': 10293, 'ioni': 10294, 'chlorophyll': 10295, 'entropic': 10296, 'turbine': 10297, 'imac': 10298, 'deadbeat': 10299, 'lgbtq': 10300, 'hable': 10301, 'jawbone': 10302, 'mermaid': 10303, 'embara': 10304, 'hbti': 10305, 'sangiove': 10306, 'earcher': 10307, 'taffe': 10308, 'supermarket': 10309, 'flume': 10310, 'ociative': 10311, 'photovoltaic': 10312, 'ccie': 10313, 'ccna': 10314, 'ccnp': 10315, 'silverback': 10316, 'synthetic': 10317, 'filler': 10318, 'waterproof': 10319, 'intution': 10320, 'reactant': 10321, 'devoid': 10322, 'valence': 10323, 'oxidize': 10324, 'ervant': 10325, 'morgoth': 10326, 'seeker': 10327, 'slytherin': 10328, 'diana': 10329, 'royalty': 10330, 'entery': 10331, 'hilary': 10332, 'gimcheon': 10333, 'blackhead': 10334, 'polyamorou': 10335, 'aligarh': 10336, 'sillicon': 10337, 'criticize': 10338, 'prai': 10339, 'loyalty': 10340, 'atire': 10341, 'edema': 10342, 'truthful': 10343, 'godde': 10344, 'laxmi': 10345, 'silk': 10346, 'tink': 10347, 'abdomen': 10348, 'calabria': 10349, 'baddebt': 10350, 'finally': 10351, 'manga': 10352, 'breathable': 10353, 'habitable': 10354, 'axle': 10355, 'sarca': 10356, 'tertiary': 10357, 'eproject': 10358, 'thefireho': 10359, 'curiou': 10360, 'borat': 10361, 'compuer': 10362, 'efull': 10363, 'adolf': 10364, 'maltipoo': 10365, 'prediction': 10366, 'integration': 10367, 'underpopulation': 10368, 'entitle': 10369, 'punchti': 10370, 'carbonate': 10371, 'interim': 10372, 'allotment': 10373, 'catagory': 10374, 'certifcate': 10375, 'inveigh': 10376, 'rupt': 10377, 'drano': 10378, 'unregi': 10379, 'peddle': 10380, 'untalented': 10381, 'agno': 10382, 'cowboy': 10383, 'shenandoah': 10384, 'trout': 10385, 'imov': 10386, 'donor': 10387, 'mynampix': 10388, 'molten': 10389, 'singer': 10390, 'machina': 10391, 'batting': 10392, 'craping': 10393, 'pilgrimage': 10394, 'bluff': 10395, 'janet': 10396, 'yellen': 10397, 'mucu': 10398, 'teakhou': 10399, 'collaborate': 10400, 'privately': 10401, 'antimatter': 10402, 'kiloton': 10403, 'makaut': 10404, 'upplementary': 10405, 'wbut': 10406, 'quran': 10407, 'tapic': 10408, 'pica': 10409, 'trooper': 10410, 'kilometer': 10411, 'algerian': 10412, 'chaganti': 10413, 'sriva': 10414, 'tava': 10415, 'mixing': 10416, 'brotherhood': 10417, 'fullmetal': 10418, 'platy': 10419, 'polite': 10420, 'alamelu': 10421, 'bhoodevi': 10422, 'padmavathi': 10423, 'sridevi': 10424, 'brothel': 10425, 'jaya': 10426, 'petalling': 10427, 'unwritten': 10428, 'steam': 10429, 'fairne': 10430, 'openly': 10431, 'heritage': 10432, 'bench': 10433, 'tinge': 10434, 'panty': 10435, 'nofap': 10436, 'purulia': 10437, 'deen': 10438, 'imake': 10439, 'nifty': 10440, 'xperia': 10441, 'socionic': 10442, 'leyan': 10443, 'acclaim': 10444, 'critically': 10445, 'halo': 10446, 'uncharted': 10447, 'evaluation': 10448, 'prolog': 10449, 'programatically': 10450, 'thirteen': 10451, 'anthropic': 10452, 'adware': 10453, 'oundproof': 10454, 'conventional': 10455, 'airfare': 10456, 'vallenar': 10457, 'kleenex': 10458, 'peach': 10459, 'chicka': 10460, 'jaggi': 10461, 'udev': 10462, 'ionary': 10463, 'handicapped': 10464, 'niburu': 10465, 'unhackable': 10466, 'camagüey': 10467, 'inhibit': 10468, 'predni': 10469, 'wound': 10470, 'leatherface': 10471, 'temp': 10472, 'modification': 10473, 'bout': 10474, 'bigot': 10475, 'capacitive': 10476, 'axial': 10477, 'larceny': 10478, 'pentagon': 10479, 'bent': 10480, 'doodle': 10481, 'yankee': 10482, 'laurettaelmer': 10483, 'digger': 10484, 'beneatha': 10485, 'nack': 10486, 'demonitize': 10487, 'mayor': 10488, 'relaxation': 10489, 'filepile': 10490, 'haul': 10491, 'workday': 10492, 'vibrant': 10493, 'zootopia': 10494, 'senegal': 10495, 'lind': 10496, 'lohan': 10497, 'mailing': 10498, 'shaw': 10499, 'denim': 10500, 'haeju': 10501, 'standby': 10502, 'bhavnath': 10503, 'junagadh': 10504, 'kund': 10505, 'mrigi': 10506, 'murgi': 10507, 'alte': 10508, 'attacker': 10509, 'oliver': 10510, 'backhand': 10511, 'hedding': 10512, 'dropout': 10513, 'seneca': 10514, 'wappe': 10515, 'mith': 10516, 'kalki': 10517, 'panexitrol': 10518, 'immer': 10519, 'kyrim': 10520, 'growing': 10521, 'inferiority': 10522, 'repent': 10523, 'zoho': 10524, 'dairy': 10525, 'bolton': 10526, 'paladin': 10527, 'videoview': 10528, 'widget': 10529, 'emble': 10530, 'webb': 10531, 'diagrame': 10532, 'sunlight': 10533, 'rachel': 10534, 'vacuole': 10535, 'pectrum': 10536, 'unlicen': 10537, 'updrade': 10538, 'erieu': 10539, 'grain': 10540, 'precent': 10541, 'empower': 10542, 'verdict': 10543, 'inated': 10544, 'mike': 10545, 'aerial': 10546, 'civilian': 10547, 'coordinate': 10548, 'rely': 10549, 'penetrate': 10550, 'pout': 10551, 'iology': 10552, 'dalit': 10553, 'opine': 10554, 'trian': 10555, 'zoroa': 10556, 'directional': 10557, 'jinnah': 10558, 'imran': 10559, 'wetter': 10560, 'everett': 10561, 'ditch': 10562, 'brownie': 10563, 'toxin': 10564, 'fleet': 10565, 'crispr': 10566, 'enzyme': 10567, 'photoly': 10568, 'believable': 10569, 'igncrowd': 10570, 'criteria': 10571, 'telekine': 10572, 'nama': 10573, 'dear': 10574, 'applie': 10575, 'jobvite': 10576, 'addict': 10577, 'madne': 10578, 'predicament': 10579, 'kiss': 10580, 'gumby': 10581, 'cemetery': 10582, 'grave': 10583, 'keeper': 10584, 'gaana': 10585, 'mamke': 10586, 'rafael': 10587, 'kanyakumari': 10588, 'virginty': 10589, 'recede': 10590, 'forthcoming': 10591, 'sprint': 10592, 'traint': 10593, 'ccsk': 10594, 'emant': 10595, 'nuance': 10596, 'dehydration': 10597, 'blunt': 10598, 'bigtent': 10599, 'bloku': 10600, 'overtime': 10601, 'omewhat': 10602, 'sugge': 10603, 'chizo': 10604, 'chizophrenic': 10605, 'rabri': 10606, 'regime': 10607, 'phentermine': 10608, 'hattering': 10609, 'uniquely': 10610, 'cinnabon': 10611, 'apathetic': 10612, 'stadium': 10613, 'hali': 10614, 'smith': 10615, 'dependency': 10616, 'feeding': 10617, 'andwich': 10618, 'glean': 10619, 'importing': 10620, 'locator': 10621, 'annd': 10622, 'gaddar': 10623, 'ervo': 10624, 'fpga': 10625, 'tupidity': 10626, 'fairly': 10627, 'habandhan': 10628, 'atillite': 10629, 'adhe': 10630, 'udemydownloader': 10631, 'hiping': 10632, 'freely': 10633, 'trampoline': 10634, 'definitely': 10635, 'phantom': 10636, 'centimetre': 10637, 'rockerz': 10638, 'wheeling': 10639, 'itional': 10640, 'cart': 10641, 'brinca': 10642, 'whiter': 10643, 'oprano': 10644, 'kpmg': 10645, 'greatly': 10646, 'polarize': 10647, 'cretion': 10648, 'ifying': 10649, 'accidently': 10650, 'spidercam': 10651, 'touche': 10652, 'uberx': 10653, 'radiant': 10654, 'gymna': 10655, 'rhythmic': 10656, 'surveymonkey': 10657, 'fame': 10658, 'strip': 10659, 'factorization': 10660, 'dedication': 10661, 'intermediary': 10662, 'thermi': 10663, 'thermocouple': 10664, 'peermade': 10665, 'plinth': 10666, 'injurie': 10667, 'etoos': 10668, 'bloodline': 10669, 'targaeryen': 10670, 'mythical': 10671, 'chatville': 10672, 'chooling': 10673, 'laraca': 10674, 'patnabeat': 10675, 'tumble': 10676, 'portland': 10677, 'inating': 10678, 'jawalarlal': 10679, 'mohanda': 10680, 'itant': 10681, 'raga': 10682, 'thaat': 10683, 'ulfur': 10684, 'pedro': 10685, 'arily': 10686, 'unnece': 10687, 'underarm': 10688, 'cappuccino': 10689, 'macchiato': 10690, 'elenium': 10691, 'ewife': 10692, 'elephpant': 10693, 'perfectioni': 10694, 'typewriter': 10695, 'nonmetal': 10696, 'preach': 10697, 'corvid': 10698, 'bourbon': 10699, 'cotch': 10700, 'dateable': 10701, 'debatable': 10702, 'iata': 10703, 'legitemet': 10704, 'parency': 10705, 'prophecy': 10706, 'adoptee': 10707, 'karthikeyan': 10708, 'urant': 10709, 'pankow': 10710, 'titue': 10711, 'namo': 10712, 'reporter': 10713, 'batche': 10714, 'aplin': 10715, 'anatomy': 10716, 'tela': 10717, 'enact': 10718, 'calender': 10719, 'inuya': 10720, 'sechomaru': 10721, 'openion': 10722, 'florence': 10723, 'rcnn': 10724, 'imaging': 10725, 'overridden': 10726, 'bookkeeping': 10727, 'territory': 10728, 'balk': 10729, 'knot': 10730, 'carefully': 10731, 'farc': 10732, 'farming': 10733, 'ignalling': 10734, 'raunchy': 10735, 'excelville': 10736, 'kendra': 10737, 'seva': 10738, 'ethically': 10739, 'mcculloch': 10740, 'sick': 10741, 'gandhiji': 10742, 'biologic': 10743, 'sartre': 10744, 'facility': 10745, 'factorial': 10746, 'inbox': 10747, 'lekkalu': 10748, 'viluvalu': 10749, 'iwant': 10750, 'minority': 10751, 'witholde': 10752, 'providence': 10753, 'gifting': 10754, 'completene': 10755, 'preventative': 10756, 'harri': 10757, 'tanger': 10758, 'taipan': 10759, 'electropo': 10760, 'approval': 10761, 'luggage': 10762, 'cigar': 10763, 'fingalby': 10764, 'finkeybe': 10765, 'finkibi': 10766, 'recycling': 10767, 'tcard': 10768, 'circulate': 10769, 'unifund': 10770, 'modanifil': 10771, 'culinity': 10772, 'portray': 10773, 'vogon': 10774, 'trictly': 10775, 'revival': 10776, 'dotcom': 10777, 'bribe': 10778, 'drawberry': 10779, 'irreparable': 10780, 'rohypnol': 10781, 'imilarity': 10782, 'analogou': 10783, 'myboy': 10784, 'jura': 10785, 'ecuador': 10786, 'technicality': 10787, 'humane': 10788, 'mandir': 10789, 'nakata': 10790, 'goulde': 10791, 'agilent': 10792, 'premedical': 10793, 'brit': 10794, 'deliverie': 10795, 'cloaking': 10796, 'jamie': 10797, 'timeframe': 10798, 'procure': 10799, 'duration': 10800, 'unconditional': 10801, 'poach': 10802, 'canola': 10803, 'kirari': 10804, 'suleman': 10805, 'inert': 10806, 'spartanpoker': 10807, 'notch': 10808, 'grantham': 10809, 'obrian': 10810, 'benificial': 10811, 'verma': 10812, 'didi': 10813, 'zyrtec': 10814, 'goin': 10815, 'tantial': 10816, 'tarawa': 10817, 'caliphate': 10818, 'mongol': 10819, 'criminatory': 10820, 'idiary': 10821, 'kalima': 10822, 'ignalle': 10823, 'precede': 10824, 'oulful': 10825, 'mechanica': 10826, 'natured': 10827, 'gourmet': 10828, 'accumulate': 10829, 'required': 10830, 'erectu': 10831, 'challenging': 10832, 'umrang': 10833, 'sinclair': 10834, 'giver': 10835, 'contemporarie': 10836, 'critici': 10837, 'deimo': 10838, 'shrimp': 10839, 'uriou': 10840, 'dolomede': 10841, 'zepplin': 10842, 'fundamentali': 10843, 'hipe': 10844, 'orthodox': 10845, 'sanctuarie': 10846, 'thira': 10847, 'uncle': 10848, 'yama': 10849, 'yudhi': 10850, 'merely': 10851, 'nikki': 10852, 'survival': 10853, 'oregon': 10854, 'mokume': 10855, 'amit': 10856, 'parvat': 10857, 'repleni': 10858, 'ertively': 10859, 'aluminide': 10860, 'orignal': 10861, 'meluhua': 10862, 'pran': 10863, 'brewery': 10864, 'militant': 10865, 'portation': 10866, 'promotional': 10867, 'ordinance': 10868, 'militarie': 10869, 'dropper': 10870, 'tradegy': 10871, 'getway': 10872, 'esop': 10873, 'encouraged': 10874, 'eeable': 10875, 'vrshared': 10876, 'expiration': 10877, 'stati': 10878, 'pgsm': 10879, 'onia': 10880, 'dodger': 10881, 'entomologi': 10882, 'populated': 10883, 'dramatic': 10884, 'planetary': 10885, 'revamp': 10886, 'aiib': 10887, 'mahabharat': 10888, 'coyote': 10889, 'threre': 10890, 'intimacy': 10891, 'imaginary': 10892, 'baht': 10893, 'iball': 10894, 'kodiak': 10895, 'beetroot': 10896, 'mpdmat': 10897, 'layper': 10898, 'kallipoli': 10899, 'plato': 10900, 'upervolcano': 10901, 'chihuahua': 10902, 'aatank': 10903, 'binatural': 10904, 'diffrence': 10905, 'trata': 10906, 'devote': 10907, 'ixth': 10908, 'manger': 10909, 'urpa': 10910, 'unexplainable': 10911, 'broadly': 10912, 'drie': 10913, 'mouldy': 10914, 'ebola': 10915, 'robotium': 10916, 'atoi': 10917, 'haku': 10918, 'hiei': 10919, 'uchiha': 10920, 'yuyu': 10921, 'patriotic': 10922, 'gigabyte': 10923, 'geology': 10924, 'aloofne': 10925, 'inability': 10926, 'kitti': 10927, 'alhambra': 10928, 'olidifie': 10929, 'garden': 10930, 'wedne': 10931, 'annex': 10932, 'avoidance': 10933, 'lecturer': 10934, 'karu': 10935, 'diluted': 10936, 'alma': 10937, 'mater': 10938, 'kuruma': 10939, 'tariff': 10940, 'carbonic': 10941, 'imir': 10942, 'demonitizition': 10943, 'jethalal': 10944, 'tache': 10945, 'nucleopla': 10946, 'balochi': 10947, 'balti': 10948, 'gilgit': 10949, 'joanna': 10950, 'poitier': 10951, 'gharpay': 10952, 'sequoia': 10953, 'clarification': 10954, 'drag': 10955, 'zimbabwe': 10956, 'newfoundland': 10957, 'glock': 10958, 'cupboard': 10959, 'reactjs': 10960, 'divine': 10961, 'entable': 10962, 'inadequate': 10963, 'laughingly': 10964, 'ubkey': 10965, 'yuengling': 10966, 'guwahati': 10967, 'tamed': 10968, 'ifrs': 10969, 'martinere': 10970, 'mckenna': 10971, 'angrywhitemeni': 10972, 'kilo': 10973, 'confederate': 10974, 'kilowatt': 10975, 'irreducible': 10976, 'winyter': 10977, 'lingual': 10978, 'parodie': 10979, 'rodrigo': 10980, 'tanoccupie': 10981, 'affleck': 10982, 'idereel': 10983, 'eternal': 10984, 'flammable': 10985, 'kabob': 10986, 'dare': 10987, 'lacroix': 10988, 'tene': 10989, 'turizing': 10990, 'liter': 10991, 'spicejet': 10992, 'mathml': 10993, 'dominate': 10994, 'naidu': 10995, 'reddy': 10996, 'fold': 10997, 'connected': 10998, 'leeco': 10999, 'replicate': 11000, 'sslc': 11001, 'reminder': 11002, 'tabbed': 11003, 'stretch': 11004, 'gape': 11005, 'penali': 11006, 'mediatek': 11007, 'ymboli': 11008, 'manau': 11009, 'unrelated': 11010, 'sindri': 11011, 'ervere': 11012, 'microbial': 11013, 'leepover': 11014, 'roadtrip': 11015, 'infidelity': 11016, 'oundtrack': 11017, 'deva': 11018, 'trophie': 11019, 'lortab': 11020, 'cliq': 11021, 'homeotherm': 11022, 'poikilotherm': 11023, 'iodine': 11024, 'looney': 11025, 'firearm': 11026, 'tlier': 11027, 'bottled': 11028, 'candie': 11029, 'taal': 11030, 'aprox': 11031, 'nato': 11032, 'asmr': 11033, 'cared': 11034, 'octet': 11035, 'arie': 11036, 'aturn': 11037, 'macedonia': 11038, 'tokenization': 11039, 'ascii': 11040, 'encoding': 11041, 'chamaeleonidae': 11042, 'fatten': 11043, 'overlook': 11044, 'portable': 11045, 'unan': 11046, 'violently': 11047, 'tight': 11048, 'lump': 11049, 'nandi': 11050, 'titer': 11051, 'dilwale': 11052, 'hahrukh': 11053, 'raee': 11054, 'clemency': 11055, 'contort': 11056, 'cinate': 11057, 'leningrad': 11058, 'ibeacon': 11059, 'pitch': 11060, 'corpio': 11061, 'edly': 11062, 'legible': 11063, 'miraculou': 11064, 'idual': 11065, 'contradictory': 11066, 'colo': 11067, 'unopened': 11068, 'flixcart': 11069, 'inconvenience': 11070, 'repeal': 11071, 'collar': 11072, 'clogged': 11073, 'toxicity': 11074, 'dweller': 11075, 'statute': 11076, 'yemen': 11077, 'wolve': 11078, 'shelob': 11079, 'vital': 11080, 'purdue': 11081, 'inela': 11082, 'igcse': 11083, 'eaterie': 11084, 'tolerate': 11085, 'earre': 11086, 'ballygunge': 11087, 'calibre': 11088, 'minimal': 11089, 'mology': 11090, 'airman': 11091, 'hoolini': 11092, 'melanin': 11093, 'murr': 11094, 'beijing': 11095, 'torture': 11096, 'deleted': 11097, 'cillation': 11098, 'vibration': 11099, 'semite': 11100, 'rhaegar': 11101, 'targaryan': 11102, 'manali': 11103, 'nomer': 11104, 'eloy': 11105, 'denominator': 11106, 'numerator': 11107, 'quotient': 11108, 'pharmaci': 11109, 'cutting': 11110, 'brent': 11111, 'gahssr': 11112, 'tefulne': 11113, 'erval': 11114, 'cheaply': 11115, 'teru': 11116, 'reconcile': 11117, 'actuarie': 11118, 'canning': 11119, 'toggle': 11120, 'itate': 11121, 'kamraa': 11122, 'sorry': 11123, 'iant': 11124, 'ncit': 11125, 'covet': 11126, 'malamute': 11127, 'electrolytic': 11128, 'rectifi': 11129, 'frenectomy': 11130, 'zidane': 11131, 'uncircumci': 11132, 'martel': 11133, 'cliffhanger': 11134, 'lucille': 11135, 'authoritie': 11136, 'truely': 11137, 'cardinal': 11138, 'plaza': 11139, 'amend': 11140, 'quip': 11141, 'aeronautic': 11142, 'authori': 11143, 'earnt': 11144, 'tribune': 11145, 'newyork': 11146, 'beautifully': 11147, 'ridgecre': 11148, 'johannine': 11149, 'vulgate': 11150, 'avga': 11151, 'liba': 11152, 'yamaha': 11153, 'dynamically': 11154, 'tipoff': 11155, 'microbiologi': 11156, 'pade': 11157, 'alefee': 11158, 'effectivene': 11159, 'downe': 11160, 'artificially': 11161, 'todd': 11162, 'lightweight': 11163, 'quadcopter': 11164, 'erviceman': 11165, 'ambani': 11166, 'ekeeper': 11167, 'momofuku': 11168, 'trojan': 11169, 'globali': 11170, 'abdominal': 11171, 'xcel': 11172, 'correction': 11173, 'sandi': 11174, 'forcefully': 11175, 'gnrh': 11176, 'strength': 11177, 'nginx': 11178, 'markovian': 11179, 'prolong': 11180, 'crotch': 11181, 'doughnut': 11182, 'kreme': 11183, 'nitrate': 11184, 'foodpanda': 11185, 'footjob': 11186, 'laundry': 11187, 'soma': 11188, 'ador': 11189, 'amba': 11190, 'ubermoto': 11191, 'teller': 11192, 'merced': 11193, 'adulyadej': 11194, 'bhumibol': 11195, 'irre': 11196, 'stuff': 11197, 'bric': 11198, 'cripting': 11199, 'fidelity': 11200, 'alfred': 11201, 'scratch': 11202, 'trugglee': 11203, 'voce': 11204, 'zooper': 11205, 'knowledgeable': 11206, 'atan': 11207, 'crucified': 11208, 'hroud': 11209, 'jabong': 11210, 'myntra': 11211, 'shgb': 11212, 'akhapatnam': 11213, 'hwar': 11214, 'stamina': 11215, 'cocube': 11216, 'spider': 11217, 'slovakia': 11218, 'purify': 11219, 'overeignty': 11220, 'keepvid': 11221, 'cholarly': 11222, 'cradle': 11223, 'thereforeindia': 11224, 'neelanjay': 11225, 'ielt': 11226, 'biotech': 11227, 'girlfrend': 11228, 'hippocampi': 11229, 'tonight': 11230, 'protractor': 11231, 'electromagnet': 11232, 'docker': 11233, 'approachable': 11234, 'prog': 11235, 'hopefully': 11236, 'surat': 11237, 'saale': 11238, 'analytici': 11239, 'longboarde': 11240, 'amiri': 11241, 'hetty': 11242, 'troop': 11243, 'heyo': 11244, 'handcuff': 11245, 'helf': 11246, 'diatomic': 11247, 'experiance': 11248, 'gyro': 11249, 'sattu': 11250, 'lazyier': 11251, 'tezpur': 11252, 'iject': 11253, 'gaunt': 11254, 'marvolo': 11255, 'modhi': 11256, 'verge': 11257, 'hyena': 11258, 'eucharist': 11259, 'explained': 11260, 'miracle': 11261, 'fend': 11262, 'electorate': 11263, 'jharkhand': 11264, 'ification': 11265, 'oever': 11266, 'middleman': 11267, 'hedly': 11268, 'unaba': 11269, 'teamhealth': 11270, 'omni': 11271, 'excalibur': 11272, 'intended': 11273, 'differentiation': 11274, 'unimportant': 11275, 'bunde': 11276, 'bronx': 11277, 'xflow': 11278, 'alfie': 11279, 'deye': 11280, 'flim': 11281, 'stratoca': 11282, 'reactnative': 11283, 'vaijanti': 11284, 'bribery': 11285, 'widow': 11286, 'araçatuba': 11287, 'ruling': 11288, 'olicite': 11289, 'denizen': 11290, 'incon': 11291, 'radioactive': 11292, 'thirtie': 11293, 'livid': 11294, 'minimization': 11295, 'ophomore': 11296, 'serio': 11297, 'bail': 11298, 'jeopardize': 11299, 'mach': 11300, 'cenic': 11301, 'raindrop': 11302, 'garter': 11303, 'pixie': 11304, 'baeli': 11305, 'petyr': 11306, 'fling': 11307, 'rawr': 11308, 'kove': 11309, 'shillong': 11310, 'citrix': 11311, 'apnea': 11312, 'crayon': 11313, 'hboard': 11314, 'findout': 11315, 'flock': 11316, 'flockof': 11317, 'negativeand': 11318, 'outhward': 11319, 'rebin': 11320, 'payout': 11321, 'immaturity': 11322, 'pecification': 11323, 'mear': 11324, 'daei': 11325, 'efire': 11326, 'violation': 11327, 'peede': 11328, 'ovarian': 11329, 'stardom': 11330, 'evolute': 11331, 'wheati': 11332, 'save': 11333, 'batfi': 11334, 'mogappair': 11335, 'drowning': 11336, 'circu': 11337, 'videolan': 11338, 'fiance': 11339, 'unea': 11340, 'chiron': 11341, 'creenwriter': 11342, 'filmmaker': 11343, 'predominantly': 11344, 'lime': 11345, 'babylon': 11346, 'marth': 11347, 'hydrodynamic': 11348, 'emulate': 11349, 'synchrony': 11350, 'tprandial': 11351, 'imitation': 11352, 'hemmorragic': 11353, 'trim': 11354, 'jeopardy': 11355, 'admiral': 11356, 'thrawn': 11357, 'aile': 11358, 'roger': 11359, 'greencard': 11360, 'trunk': 11361, 'purport': 11362, 'kengeri': 11363, 'undere': 11364, 'aliva': 11365, 'solar': 11366, 'outweigh': 11367, 'elevation': 11368, 'gibralter': 11369, 'foreplay': 11370, 'pondence': 11371, 'flaunt': 11372, 'cogno': 11373, 'caremark': 11374, 'katachi': 11375, 'incere': 11376, 'namele': 11377, 'ucsd': 11378, 'strategy': 11379, 'tougher': 11380, 'uncleared': 11381, 'waive': 11382, 'paternity': 11383, 'nanotechnology': 11384, 'allocation': 11385, 'budgeting': 11386, 'overview': 11387, 'fortie': 11388, 'phenomenal': 11389, 'baxter': 11390, 'beeping': 11391, 'sugarsync': 11392, 'iimjob': 11393, 'merajob': 11394, 'kelpie': 11395, 'staffy': 11396, 'prung': 11397, 'exemption': 11398, 'cherenkov': 11399, 'hetero': 11400, 'carmichael': 11401, 'tace': 11402, 'stupid': 11403, 'chinchilla': 11404, 'lumberjack': 11405, 'durga': 11406, 'rani': 11407, 'bridging': 11408, 'anaheim': 11409, 'epub': 11410, 'independently': 11411, 'tudor': 11412, 'nonverbal': 11413, 'confidently': 11414, 'untraditional': 11415, 'propellant': 11416, 'bipolarity': 11417, 'ymptomology': 11418, 'kodak': 11419, 'vegani': 11420, 'hutt': 11421, 'metalhead': 11422, 'eekforfund': 11423, 'conundrum': 11424, 'chemotherapy': 11425, 'albu': 11426, 'godric': 11427, 'hollow': 11428, 'muggle': 11429, 'scorpiu': 11430, 'tencent': 11431, 'haemoglobin': 11432, 'reuim': 11433, 'gynecomastia': 11434, 'buget': 11435, 'atomicity': 11436, 'woodpecker': 11437, 'colz': 11438, 'takek': 11439, 'nanjing': 11440, 'melee': 11441, 'urvival': 11442, 'memberment': 11443, 'adaptable': 11444, 'earlie': 11445, 'eedboxe': 11446, 'denature': 11447, 'elfmade': 11448, 'fragrance': 11449, 'lxml': 11450, 'mechanize': 11451, 'scrapy': 11452, 'predece': 11453, 'grooming': 11454, 'anding': 11455, 'bournemouth': 11456, 'driller': 11457, 'evacuate': 11458, 'fracking': 11459, 'liable': 11460, 'untouchbility': 11461, 'complication': 11462, 'congenital': 11463, 'bicep': 11464, 'curl': 11465, 'curly': 11466, 'humiliate': 11467, 'uffered': 11468, 'triglyceride': 11469, 'refrence': 11470, 'tebow': 11471, 'paramedic': 11472, 'relatively': 11473, 'epoch': 11474, 'iater': 11475, 'offend': 11476, 'overprice': 11477, 'howed': 11478, 'unlocked': 11479, 'begginer': 11480, 'rahu': 11481, 'cusat': 11482, 'kiit': 11483, 'turba': 11484, 'overfitte': 11485, 'fundlined': 11486, 'tabilization': 11487, 'annihilation': 11488, 'jetform': 11489, 'innie': 11490, 'oddevendobara': 11491, 'cartilage': 11492, 'purple': 11493, 'moot': 11494, 'troughout': 11495, 'ingrown': 11496, 'elling': 11497, 'mourya': 11498, 'saluki': 11499, 'plitting': 11500, 'blogging': 11501, 'dragonfly': 11502, 'exporter': 11503, 'metlife': 11504, 'itenarary': 11505, 'kochi': 11506, 'tlight': 11507, 'xbmc': 11508, 'csir': 11509, 'continou': 11510, 'primer': 11511, 'convex': 11512, 'deformation': 11513, 'patche': 11514, 'wrap': 11515, 'reed': 11516, 'prouve': 11517, 'movnat': 11518, 'morality': 11519, 'sandeep': 11520, 'deceive': 11521, 'cave': 11522, 'devbitrack': 11523, 'fuckbook': 11524, 'nicely': 11525, 'generative': 11526, 'dale': 11527, 'untru': 11528, 'hapen': 11529, 'ertion': 11530, 'thei': 11531, 'fiery': 11532, 'shadrach': 11533, 'commandant': 11534, 'puncture': 11535, 'controll': 11536, 'torrance': 11537, 'ferre': 11538, 'kiva': 11539, 'microlende': 11540, 'evergreen': 11541, 'hydration': 11542, 'kiet': 11543, 'recon': 11544, 'tructe': 11545, 'circ': 11546, 'wilde': 11547, 'energized': 11548, 'rocketmail': 11549, 'wimbledon': 11550, 'tole': 11551, 'ahalife': 11552, 'iced': 11553, 'elevate': 11554, 'vaping': 11555, 'dhan': 11556, 'kangana': 11557, 'payo': 11558, 'piku': 11559, 'ranaut': 11560, 'sonam': 11561, 'archive': 11562, 'policeman': 11563, 'maka': 11564, 'kanpur': 11565, 'aircel': 11566, 'hpande': 11567, 'makarand': 11568, 'undergarment': 11569, 'bazar': 11570, 'chawri': 11571, 'chowk': 11572, 'rajiv': 11573, 'pine': 11574, 'handmade': 11575, 'sati': 11576, 'enate': 11577, 'summary': 11578, 'hardly': 11579, 'telepathic': 11580, 'lecter': 11581, 'fatherly': 11582, 'chronometer': 11583, 'ealing': 11584, 'concu': 11585, 'ieit': 11586, 'heterogeneou': 11587, 'turbe': 11588, 'exit': 11589, 'rudene': 11590, 'survey': 11591, 'roughly': 11592, 'hophealthy': 11593, 'heptanol': 11594, 'omeric': 11595, 'whovi': 11596, 'crim': 11597, 'yichun': 11598, 'inline': 11599, 'khilafah': 11600, 'bilateral': 11601, 'stanni': 11602, 'tommen': 11603, 'brio': 11604, 'boomerang': 11605, 'sanebox': 11606, 'hating': 11607, 'theft': 11608, 'mauka': 11609, 'zombo': 11610, 'culpture': 11611, 'knitted': 11612, 'simi': 11613, 'hatriya': 11614, 'undercover': 11615, 'srimad': 11616, 'humidity': 11617, 'italo': 11618, 'pagani': 11619, 'rïga': 11620, 'ferred': 11621, 'abduct': 11622, 'tantrum': 11623, 'damaged': 11624, 'artwork': 11625, 'dude': 11626, 'eptember': 11627, 'heavie': 11628, 'women': 11629, 'acetaminophen': 11630, 'fond': 11631, 'aalto': 11632, 'cmyk': 11633, 'xiamen': 11634, 'pooling': 11635, 'bodybuilder': 11636, 'tyrrell': 11637, 'portrait': 11638, 'mateo': 11639, 'marrie': 11640, 'iobit': 11641, 'tspeed': 11642, 'tyling': 11643, 'baja': 11644, 'camber': 11645, 'endomorph': 11646, 'handicap': 11647, 'cattere': 11648, 'amrita': 11649, '精神赵家人': 11650, 'andmongodbb': 11651, 'haze': 11652, 'smog': 11653, 'brachial': 11654, 'wendy': 11655, 'paperwork': 11656, 'ther': 11657, 'undr': 11658, 'xtra': 11659, 'metaphorical': 11660, 'shoud': 11661, 'excite': 11662, 'poggled': 11663, 'sharktank': 11664, 'uperpowered': 11665, 'implifie': 11666, 'adre': 11667, 'proff': 11668, '吃香喝辣': 11669, 'internally': 11670, 'tingne': 11671, 'tyrene': 11672, 'mixe': 11673, 'srcc': 11674, 'grep': 11675, 'errand': 11676, 'revelation': 11677, 'grenade': 11678, 'proactively': 11679, 'referrer': 11680, 'opamne': 11681, 'rechargeable': 11682, 'colonie': 11683, 'trucking': 11684, 'eudopaida': 11685, 'knowingly': 11686, 'cater': 11687, 'violator': 11688, 'appium': 11689, 'experti': 11690, 'jmeter': 11691, 'heem': 11692, 'fundrai': 11693, 'completion': 11694, 'unflavored': 11695, 'rupte': 11696, 'akurdi': 11697, 'selfie': 11698, 'teron': 11699, 'nattō': 11700, 'polyhou': 11701, 'expatriate': 11702, 'cicuit': 11703, 'cleanline': 11704, 'binny': 11705, 'woocommerce': 11706, 'workbook': 11707, 'tmisat': 11708, 'implicity': 11709, 'daytime': 11710, 'newbie': 11711, 'neglect': 11712, 'arjun': 11713, 'dancer': 11714, 'blackrock': 11715, 'hedgeable': 11716, 'ishare': 11717, 'diffraction': 11718, 'grating': 11719, 'guernica': 11720, 'netapp': 11721, 'uneducate': 11722, 'feet': 11723, 'wield': 11724, 'takeoff': 11725, 'freezing': 11726, 'bday': 11727, 'decrement': 11728, 'increment': 11729, 'arjit': 11730, 'hore': 11731, 'rafi': 11732, 'adamant': 11733, 'pycraft': 11734, 'tradecraft': 11735, 'phenomena': 11736, 'itter': 11737, 'crowdfund': 11738, 'haier': 11739, 'encoder': 11740, 'fanuc': 11741, 'truebill': 11742, 'pcmb': 11743, 'billlion': 11744, 'fort': 11745, 'twentie': 11746, 'wimme': 11747, 'foreground': 11748, 'trande': 11749, 'wilderne': 11750, 'enrollment': 11751, 'mypay': 11752, 'cbsc': 11753, 'khandala': 11754, 'perimeter': 11755, 'garry': 11756, 'dangelo': 11757, 'atanic': 11758, 'halocel': 11759, 'remarry': 11760, 'riley': 11761, 'talulah': 11762, 'hortly': 11763, 'tether': 11764, 'interfere': 11765, 'kero': 11766, 'idre': 11767, 'pluto': 11768, 'uborbital': 11769, 'lineart': 11770, 'ccat': 11771, 'alephti': 11772, 'haber': 11773, 'infinitivo': 11774, 'meteorology': 11775, 'audi': 11776, 'benz': 11777, 'aots': 11778, 'twinkling': 11779, 'charm': 11780, 'nutanix': 11781, 'toptalent': 11782, 'fourier': 11783, 'hawa': 11784, 'grill': 11785, 'shariah': 11786, 'tandford': 11787, 'noveli': 11788, 'eminary': 11789, 'pied': 11790, 'piper': 11791, 'suryavan': 11792, 'tigator': 11793, 'nonphy': 11794, 'ervlet': 11795, 'jdbc': 11796, 'tomtom': 11797, 'comca': 11798, 'msrtc': 11799, 'column': 11800, 'dementia': 11801, 'ketche': 11802, 'hebrew': 11803, 'deadpool': 11804, 'economie': 11805, 'tral': 11806, 'sharethi': 11807, 'napc': 11808, 'trumpi': 11809, 'troll': 11810, 'recomendation': 11811, 'jenkin': 11812, 'igning': 11813, 'filmmake': 11814, 'arjuna': 11815, 'talaq': 11816, 'dorm': 11817, 'subcontinent': 11818, 'modelling': 11819, 'javafx': 11820, 'laredo': 11821, 'stand': 11822, 'wankhade': 11823, 'katy': 11824, 'perry': 11825, 'ofter': 11826, 'caregive': 11827, 'waiting': 11828, 'interchanged': 11829, 'angela': 11830, 'nickelback': 11831, 'taliban': 11832, 'unrecoverable': 11833, 'categorical': 11834, 'imperative': 11835, 'incude': 11836, 'dupe': 11837, 'goldendoodle': 11838, 'complexion': 11839, 'tanning': 11840, 'aire': 11841, 'bueno': 11842, 'holli': 11843, 'downlode': 11844, 'unavailability': 11845, 'touching': 11846, 'gandoo': 11847, 'carcinogen': 11848, 'interchange': 11849, 'conio': 11850, 'capm': 11851, 'crohn': 11852, 'specter': 11853, 'intragency': 11854, 'carnivorou': 11855, 'differce': 11856, 'intra': 11857, 'approxmiate': 11858, 'johnny': 11859, 'aver': 11860, 'waze': 11861, 'underlying': 11862, 'enticer': 11863, 'backtrack': 11864, 'imbibe': 11865, 'computation': 11866, 'sofia': 11867, 'bradbury': 11868, 'fremont': 11869, 'baku': 11870, 'chevron': 11871, 'hogwart': 11872, 'jinx': 11873, 'claude': 11874, 'evernote': 11875, 'ightly': 11876, 'antagoni': 11877, 'gluteu': 11878, 'maximu': 11879, 'radicalize': 11880, 'avid': 11881, 'comapny': 11882, 'conce': 11883, 'catche': 11884, 'enterprenuer': 11885, 'illiterate': 11886, 'gravitate': 11887, 'higg': 11888, 'primordial': 11889, 'ubatomic': 11890, 'parakeet': 11891, 'tumor': 11892, 'agrawal': 11893, 'satya': 11894, 'apology': 11895, 'bedi': 11896, 'kiran': 11897, 'racing': 11898, 'urgerie': 11899, 'ragged': 11900, 'duryodhana': 11901, 'upapandava': 11902, 'cspo': 11903, 'conducted': 11904, 'upright': 11905, 'extraterre': 11906, 'greenbow': 11907, 'perturbation': 11908, 'kibbu': 11909, 'ararat': 11910, 'aunty': 11911, 'retention': 11912, 'pomeranian': 11913, 'achi': 11914, 'coaxial': 11915, 'dubiou': 11916, 'greeting': 11917, 'aulted': 11918, 'luxuriou': 11919, 'afer': 11920, 'blond': 11921, 'blackbird': 11922, 'thermofla': 11923, 'timor': 11924, 'caulk': 11925, 'manipulator': 11926, 'predatory': 11927, 'aeronautical': 11928, 'carpentry': 11929, 'deceitful': 11930, 'enemy': 11931, 'iguana': 11932, 'alleviate': 11933, 'merger': 11934, 'tplant': 11935, 'fiftie': 11936, 'rhinoviru': 11937, 'blowing': 11938, 'commentary': 11939, 'beter': 11940, 'case': 11941, 'charachteri': 11942, 'bronzeville': 11943, 'basic': 11944, 'calculation': 11945, 'achaemenid': 11946, 'bungalow': 11947, 'chateau': 11948, 'wynk': 11949, 'blunder': 11950, 'nirp': 11951, 'hooter': 11952, 'memcached': 11953, 'redi': 11954, 'unfolllowe': 11955, 'running': 11956, 'jannat': 11957, 'swarg': 11958, 'abolition': 11959, 'villain': 11960, 'triking': 11961, 'pgdm': 11962, 'efficacy': 11963, 'dreamflight': 11964, 'warwick': 11965, 'speaker': 11966, 'athavada': 11967, 'orcad': 11968, 'hermaphroditic': 11969, 'freebookcity': 11970, 'confectionery': 11971, 'overeign': 11972, 'complacent': 11973, 'amerco': 11974, 'municipal': 11975, 'nitro': 11976, 'eraphim': 11977, 'annonymou': 11978, 'gamesalad': 11979, 'matriculation': 11980, 'precedence': 11981, 'gian': 11982, 'tamilian': 11983, 'iiest': 11984, 'pujara': 11985, 'gravitation': 11986, 'blazer': 11987, 'cahrge': 11988, 'cuddle': 11989, 'civilized': 11990, 'ocietal': 11991, 'ipsec': 11992, 'occupie': 11993, 'exploit': 11994, 'eloquent': 11995, 'mata': 11996, 'teamer': 11997, 'acke': 11998, 'uniqa': 11999, 'viit': 12000, 'entitie': 12001, 'unfermente': 12002, 'overwatch': 12003, 'foundry': 12004, 'stayuncle': 12005, 'glad': 12006, 'entrapment': 12007, 'butyl': 12008, 'deuterated': 12009, 'teale': 12010, 'dynpro': 12011, 'haitian': 12012, 'kraizman': 12013, 'clrs': 12014, 'favorable': 12015, 'hedpur': 12016, 'nomao': 12017, 'cloudera': 12018, 'retention_time': 12019, 'dsms': 12020, 'fragmentaion': 12021, 'keenmobi': 12022, 'breathalyzer': 12023, 'itchy': 12024, 'wool': 12025, 'antip': 12026, 'everely': 12027, 'ychotic': 12028, 'profitably': 12029, 'surgery': 12030, 'apparatu': 12031, 'deciwatt': 12032, 'nightcrawler': 12033, 'proprietor': 12034, 'ubterranean': 12035, 'blackhole': 12036, 'fitting': 12037, 'cairo': 12038, 'continually': 12039, 'ivanka': 12040, 'freida': 12041, 'pinto': 12042, 'trivago': 12043, 'ioner': 12044, 'emotely': 12045, 'hemp': 12046, 'bikini': 12047, 'virat': 12048, 'agrabati': 12049, 'flowchart': 12050, 'cameron': 12051, 'glimp': 12052, 'marter': 12053, 'hydroly': 12054, 'refurni': 12055, 'codeine': 12056, 'cutthroat': 12057, 'pecialtie': 12058, 'fledge': 12059, 'exothermic': 12060, 'okavango': 12061, 'ibrd': 12062, 'gatherer': 12063, 'trawberry': 12064, 'chopper': 12065, 'trialize': 12066, 'bord': 12067, 'facetune': 12068, 'blocker': 12069, 'tamped': 12070, 'dendrite': 12071, 'kiritimati': 12072, 'detain': 12073, 'semiconductor': 12074, 'downfall': 12075, 'shreya': 12076, 'quibble': 12077, 'ario': 12078, 'ubcutaneou': 12079, 'yringe': 12080, 'banner': 12081, 'ouri': 12082, 'ltte': 12083, 'prabaharan': 12084, 'komat': 12085, 'movielen': 12086, 'exemplifie': 12087, 'ymdb': 12088, 'greater': 12089, 'pedicure': 12090, 'dellhi': 12091, 'lowing': 12092, 'borehole': 12093, 'catering': 12094, 'handedly': 12095, 'founding': 12096, 'gofundme': 12097, 'ickening': 12098, 'innocence': 12099, 'plead': 12100, 'upernette': 12101, 'trickie': 12102, 'kegel': 12103, 'thedcde': 12104, 'dummie': 12105, 'https': 12106, 'manor': 12107, 'jaundice': 12108, 'overtake': 12109, 'upgradation': 12110, 'baroque': 12111, 'maruchan': 12112, 'vyvan': 12113, 'start': 12114, 'aapke': 12115, 'namak': 12116, 'ized': 12117, 'lateral': 12118, 'bleuflamme': 12119, 'chatty': 12120, 'abhibu': 12121, 'ticketgoo': 12122, 'indi': 12123, 'lighte': 12124, 'machiavelli': 12125, 'reincarnate': 12126, 'statement': 12127, 'anathor': 12128, 'cheque': 12129, 'blockchain': 12130, 'securework': 12131, 'skip': 12132, 'behaviouri': 12133, 'ahmadabad': 12134, 'mouthwa': 12135, 'grambla': 12136, 'nowboarde': 12137, 'apre': 12138, 'reviewer': 12139, 'chubby': 12140, 'sudafe': 12141, 'compelling': 12142, 'mmath': 12143, 'trime': 12144, 'gartner': 12145, 'variation': 12146, 'throated': 12147, 'inver': 12148, 'pectoral': 12149, 'rccb': 12150, 'newe': 12151, 'plurality': 12152, 'hram': 12153, 'cede': 12154, 'reclaim': 12155, 'iquence': 12156, 'integrity': 12157, 'enlarger': 12158, 'applied': 12159, 'churchill': 12160, 'idiom': 12161, 'eeder': 12162, 'leecher': 12163, 'retargete': 12164, 'climax': 12165, 'promethium': 12166, 'addene': 12167, 'huánuco': 12168, 'degradation': 12169, 'cordial': 12170, 'hegemonic': 12171, 'neighbour': 12172, 'ciple': 12173, 'facilitate': 12174, 'auce': 12175, 'licking': 12176, 'kavir': 12177, 'ipxx': 12178, 'roter': 12179, 'flourine': 12180, 'jankow': 12181, 'swede': 12182, 'whiteoat': 12183, 'breakup': 12184, 'jhabua': 12185, 'ubjective': 12186, 'allan': 12187, 'edgar': 12188, 'coma': 12189, 'edmure': 12190, 'frey': 12191, 'tully': 12192, 'broccoli': 12193, 'concentrated': 12194, 'bhakt': 12195, 'grizzly': 12196, 'ilverback': 12197, 'ounding': 12198, 'acquaintance': 12199, 'bertie': 12200, 'solo': 12201, 'granulate': 12202, 'pointle': 12203, 'andagi': 12204, 'safety': 12205, 'equaline': 12206, 'ccube': 12207, 'lope': 12208, 'capex': 12209, 'oncoming': 12210, 'factori': 12211, 'chakra': 12212, 'bathe': 12213, 'ignou': 12214, 'indira': 12215, 'porou': 12216, 'tatute': 12217, 'embled': 12218, 'epfrim': 12219, 'kydiving': 12220, 'fatimah': 12221, 'ucee': 12222, 'dharma': 12223, 'dima': 12224, 'overwhelmingly': 12225, 'undereducated': 12226, 'circulatory': 12227, 'umeri': 12228, 'sell': 12229, 'necklace': 12230, 'carol': 12231, 'courage': 12232, 'treadmill': 12233, 'chronologically': 12234, 'combinatorial': 12235, 'overwork': 12236, 'vite': 12237, 'puppet': 12238, 'erum': 12239, 'anjali': 12240, 'kanele': 12241, 'kanule': 12242, 'milne': 12243, 'minance': 12244, 'clero': 12245, 'reinfection': 12246, 'carier': 12247, 'cribing': 12248, 'piani': 12249, 'uncen': 12250, 'billboard': 12251, 'lovely': 12252, 'ogden': 12253, 'vertically': 12254, 'ehteraam': 12255, 'luxurie': 12256, 'payflex': 12257, 'pretence': 12258, 'slot': 12259, 'nuck': 12260, 'schema': 12261, 'futbol': 12262, 'wikinew': 12263, 'debbie': 12264, 'keulen': 12265, 'factorie': 12266, 'lnkd': 12267, 'seal': 12268, 'swat': 12269, 'ymbio': 12270, 'polling': 12271, 'rapid': 12272, 'empathetic': 12273, 'tracker': 12274, 'benevolent': 12275, 'rgipt': 12276, 'leading': 12277, 'penaltie': 12278, 'comnet': 12279, 'olubility': 12280, 'modulo': 12281, 'delphi': 12282, 'proximity': 12283, 'ycopath': 12284, 'unconfirmed': 12285, 'akkadian': 12286, 'madurai': 12287, 'cortex': 12288, 'octa': 12289, 'poof': 12290, 'cpanel': 12291, 'trani': 12292, 'weedle': 12293, 'ande': 12294, 'fundamentally': 12295, 'yntactic': 12296, 'jaadhagam': 12297, 'orption': 12298, 'undergoe': 12299, 'reeeeeeeee': 12300, 'skillet': 12301, 'uffice': 12302, 'trendy': 12303, 'difficultt': 12304, 'sexual': 12305, 'beaglebone': 12306, 'odroid': 12307, 'oldering': 12308, 'toradex': 12309, 'simply': 12310, 'ziprecruiter': 12311, 'teroidal': 12312, 'lyon': 12313, 'incontinence': 12314, 'tripadvi': 12315, 'salahuddin': 12316, 'syed': 12317, 'bulgur': 12318, 'nominali': 12319, 'girth': 12320, 'lexicon': 12321, 'allot': 12322, 'refactor': 12323, 'madoka': 12324, 'magi': 12325, 'magica': 12326, 'puella': 12327, 'orion': 12328, 'spacecraft': 12329, 'longeval': 12330, 'teri': 12331, 'vijayawada': 12332, 'follicle': 12333, 'iitjee': 12334, 'dart': 12335, 'indict': 12336, 'aveyard': 12337, 'sword': 12338, 'slick': 12339, 'incorporation': 12340, 'tomary': 12341, 'crud': 12342, 'ceptible': 12343, 'guerrilla': 12344, 'buggatti': 12345, 'intex': 12346, 'inductive': 12347, 'forece': 12348, 'colorle': 12349, 'abrahamic': 12350, 'intelligently': 12351, 'workable': 12352, 'unlikely': 12353, 'enginnere': 12354, 'ychiatric': 12355, 'troma': 12356, 'ethno': 12357, 'perchlorate': 12358, 'grandchild': 12359, 'fare': 12360, 'containment': 12361, 'debut': 12362, 'firepit': 12363, 'codejinn': 12364, 'peple': 12365, 'tactle': 12366, 'exeter': 12367, 'ecuritie': 12368, 'socket': 12369, 'comitatu': 12370, 'fema': 12371, 'militarization': 12372, 'sukhoi': 12373, 'modal': 12374, 'darker': 12375, 'huntington': 12376, 'whitley': 12377, 'pecify': 12378, 'nikkor': 12379, 'protegent': 12380, 'legion': 12381, 'lilith': 12382, 'etops': 12383, 'exceed': 12384, 'inarticulate': 12385, 'manegement': 12386, 'andizhan': 12387, 'anatomically': 12388, 'eclip': 12389, 'cottari': 12390, 'kanakaiya': 12391, 'nayudu': 12392, 'excellence': 12393, 'ocajp': 12394, 'ivity': 12395, 'reflectivity': 12396, 'defer': 12397, 'photobooth': 12398, 'tyler': 12399, 'ghaziabad': 12400, 'cegep': 12401, 'québec': 12402, 'flawle': 12403, 'counny': 12404, 'evaporation': 12405, 'chime': 12406, 'trinity': 12407, 'hemoglobin': 12408, 'geographically': 12409, 'mighty': 12410, 'percocet': 12411, 'nhfdc': 12412, 'sociopath': 12413, 'chino': 12414, 'externally': 12415, 'adequate': 12416, 'veteran': 12417, 'intake': 12418, 'ophmore': 12419, 'cite': 12420, 'evade': 12421, 'plebi': 12422, 'flexbox': 12423, 'creator': 12424, 'sabha': 12425, 'meteoric': 12426, 'gimli': 12427, 'moria': 12428, 'metallurgy': 12429, 'omeday': 12430, 'reverent': 12431, 'brink': 12432, 'amie': 12433, 'convever': 12434, 'staad': 12435, 'randomized': 12436, 'entru': 12437, 'rinnegan': 12438, 'backruptcy': 12439, 'idized': 12440, 'dictator': 12441, 'newman': 12442, 'thoma': 12443, 'inflict': 12444, 'elytize': 12445, 'launcher': 12446, 'irvine': 12447, 'iderd': 12448, 'vacuumed': 12449, 'natgeo': 12450, 'veggie': 12451, 'darpu': 12452, 'ahaj': 12453, 'amadhi': 12454, 'rajinikanth': 12455, 'poewr': 12456, 'vanderbilt': 12457, 'enlightment': 12458, 'rink': 12459, 'filament': 12460, 'jetblue': 12461, 'ahim': 12462, 'platonically': 12463, 'gulf': 12464, 'motul': 12465, 'thirty': 12466, 'painfully': 12467, 'quiete': 12468, 'champagne': 12469, 'tuner': 12470, 'peachy': 12471, 'rite': 12472, 'gently': 12473, 'weep': 12474, 'mathod': 12475, 'potting': 12476, 'plagiari': 12477, 'berber': 12478, 'exponential': 12479, 'technological': 12480, 'airborne': 12481, 'particulate': 12482, 'porting': 12483, 'remnant': 12484, 'palate': 12485, 'pection': 12486, 'shear': 12487, 'hakti': 12488, 'witching': 12489, 'superlative': 12490, 'kmno': 12491, 'oxalic': 12492, 'ella': 12493, 'kowloon': 12494, 'higher': 12495, 'differennce': 12496, 'katchewan': 12497, 'serving': 12498, 'oner': 12499, 'hortage': 12500, 'urplu': 12501, 'ubcribe': 12502, 'crutiny': 12503, 'judicial': 12504, 'coherence': 12505, 'emwave': 12506, 'triate': 12507, 'jewelery': 12508, 'inbound': 12509, 'makewebvideo': 12510, 'watermark': 12511, 'anixter': 12512, 'jordyn': 12513, 'panama': 12514, 'legendary': 12515, 'sikhi': 12516, 'pageant': 12517, 'niche': 12518, 'unfulfille': 12519, 'tipate': 12520, 'intru': 12521, 'capi': 12522, 'trano': 12523, 'quadrotor': 12524, 'tadubaivi': 12525, 'intraday': 12526, 'uede': 12527, 'inlge': 12528, 'formally': 12529, 'step': 12530, 'oloi': 12531, 'quartet': 12532, 'canned': 12533, 'fayol': 12534, 'aegon': 12535, 'blackfyre': 12536, 'bloodraven': 12537, 'adhar': 12538, 'bodybuilde': 12539, 'firefly': 12540, 'cafeteria': 12541, 'edinburgh': 12542, 'predictable': 12543, 'uaded': 12544, 'flouride': 12545, 'diagonal': 12546, 'reynold': 12547, 'lactating': 12548, 'dmca': 12549, 'stoned': 12550, 'aboard': 12551, 'unfini': 12552, 'auram': 12553, 'pacifica': 12554, 'bharti': 12555, 'undhra': 12556, 'whine': 12557, 'fjorden': 12558, 'meltdown': 12559, 'succe': 12560, 'taleo': 12561, 'hmenu': 12562, 'yumi': 12563, 'enli': 12564, 'iate': 12565, 'hifted': 12566, 'overpower': 12567, 'racoontown': 12568, 'ervable': 12569, 'ippe': 12570, 'saharan': 12571, 'tercet': 12572, 'coax': 12573, 'optimum': 12574, 'asics': 12575, 'antibacterial': 12576, 'ineffective': 12577, 'cyan': 12578, 'delicacie': 12579, 'evane': 12580, 'terine': 12581, 'bland': 12582, 'inmate': 12583, 'handy': 12584, 'onalized': 12585, 'launder': 12586, 'miller': 12587, 'nmch': 12588, 'pmch': 12589, 'troindu': 12590, 'ultation': 12591, 'marquee': 12592, 'onfini': 12593, 'recive': 12594, 'uniformly': 12595, 'ideology': 12596, 'ironic': 12597, 'thereof': 12598, 'enchant': 12599, 'ferocity': 12600, 'erene': 12601, 'partycar': 12602, 'turation': 12603, 'bellsouth': 12604, 'pumpkin': 12605, 'catchy': 12606, 'lela': 12607, 'loren': 12608, 'interdependence': 12609, 'crunchba': 12610, 'fifty': 12611, 'ychometric': 12612, 'placebo': 12613, 'approved': 12614, 'viability': 12615, 'entanglement': 12616, 'demoli': 12617, 'neptune': 12618, 'thermometer': 12619, 'choli': 12620, 'lehenga': 12621, 'handheld': 12622, 'refill': 12623, 'dharmi': 12624, 'serve': 12625, 'wrapcupid': 12626, 'riot': 12627, 'indexe': 12628, 'teapot': 12629, 'patience': 12630, 'critter': 12631, 'trail': 12632, 'ferring': 12633, 'ilverware': 12634, 'caffe': 12635, 'theono': 12636, 'torch': 12637, 'eventh': 12638, 'programmatic': 12639, 'annexation': 12640, 'null': 12641, 'overu': 12642, 'equencie': 12643, 'ecretive': 12644, 'neaky': 12645, 'humor': 12646, 'cayenne': 12647, 'hardwood': 12648, 'avian': 12649, 'pelt': 12650, 'qadiani': 12651, 'mild': 12652, 'tekken': 12653, 'recry': 12654, 'talize': 12655, 'dhaka': 12656, 'thrive': 12657, 'slam': 12658, 'magical': 12659, 'hamburg': 12660, 'diffrent': 12661, 'engeneare': 12662, 'xtrade': 12663, 'miniclip': 12664, 'pacer': 12665, 'pinner': 12666, 'biodata': 12667, 'bacc': 12668, 'piriti': 12669, 'oberyn': 12670, 'implylearn': 12671, 'tepchildren': 12672, 'pinkman': 12673, 'petrole': 12674, 'ophie': 12675, 'impregnate': 12676, 'enroll': 12677, 'imuntaneou': 12678, 'narrator': 12679, 'calli': 12680, 'pooky': 12681, 'kitchkarma': 12682, 'centurie': 12683, 'turbocharg': 12684, 'tilde': 12685, 'chatrevolve': 12686, 'convenient': 12687, 'concepcion': 12688, 'tigation': 12689, 'talkie': 12690, 'filmy': 12691, 'vlookup': 12692, 'flatland': 12693, '核平统一': 12694, 'tatue': 12695, 'parttime': 12696, 'deferral': 12697, 'scholar': 12698, 'silver': 12699, 'herbivore': 12700, 'careerand': 12701, 'favoured': 12702, 'evalution': 12703, 'flue': 12704, 'tapage': 12705, 'nelat': 12706, 'valium': 12707, 'higgin': 12708, 'backpacking': 12709, 'tocratic': 12710, 'freelancing': 12711, 'qiymat': 12712, 'legali': 12713, 'bahubali': 12714, 'realization': 12715, 'juniper': 12716, 'avidha': 12717, 'gamaka': 12718, 'gamakangal': 12719, 'deut': 12720, 'homepage': 12721, 'continuum': 12722, 'paghetti': 12723, 'pookie': 12724, 'gyming': 12725, 'actively': 12726, 'hercule': 12727, 'odin': 12728, 'trek': 12729, 'weightwatcher': 12730, 'bharatiya': 12731, 'janata': 12732, 'bodybuild': 12733, 'pefer': 12734, 'tickling': 12735, 'antidepre': 12736, 'diplomacy': 12737, 'present': 12738, 'shockwave': 12739, 'opjems': 12740, 'bucky': 12741, 'djangae': 12742, 'elor': 12743, 'mbit': 12744, 'opta': 12745, 'hyperuric': 12746, 'sikkim': 12747, 'esata': 12748, 'monument': 12749, 'brachymetatar': 12750, 'damn': 12751, 'caccount': 12752, 'raft': 12753, 'demented': 12754, 'yncing': 12755, 'tudentmnnit': 12756, 'dictate': 12757, 'etter': 12758, 'şanlıurfa': 12759, 'henil': 12760, 'forehand': 12761, 'tency': 12762, 'smilevo': 12763, 'payteacher': 12764, 'rhllor': 12765, 'sylethrin': 12766, 'individuali': 12767, 'inboxdollar': 12768, 'mnist': 12769, 'apriciate': 12770, 'gong': 12771, 'individually': 12772, 'embodiment': 12773, 'unwillingly': 12774, 'chen': 12775, 'parentage': 12776, 'findfocu': 12777, 'rubbery': 12778, 'nobbie': 12779, 'miata': 12780, 'eare': 12781, 'triamcinolone': 12782, 'yorkie': 12783, 'lethal': 12784, 'prioritie': 12785, 'nowball': 12786, 'warmi': 12787, 'govnment': 12788, 'quat': 12789, 'jolla': 12790, 'monaco': 12791, 'eamle': 12792, 'yoghurt': 12793, 'betrayal': 12794, 'tdole': 12795, 'dipole': 12796, 'raptor': 12797, 'utili': 12798, 'recurly': 12799, 'clarity': 12800, 'kaenon': 12801, 'oakley': 12802, 'incomparable': 12803, 'peacial': 12804, 'houldido': 12805, 'euthanize': 12806, 'humanely': 12807, 'fundly': 12808, 'tbite': 12809, 'manmohan': 12810, 'fertilize': 12811, 'chippewa': 12812, 'oceanic': 12813, 'paranoid': 12814, 'telecomm': 12815, 'deputy': 12816, 'relay': 12817, 'excitement': 12818, 'singularity': 12819, 'chimp': 12820, 'frontière': 12821, 'médecin': 12822, 'whque': 12823, 'iderably': 12824, 'lubrex': 12825, 'optive': 12826, 'niacin': 12827, 'omely': 12828, 'libgen': 12829, 'concerting': 12830, 'dread': 12831, 'mcclellan': 12832, 'relience': 12833, 'coache': 12834, 'chex': 12835, 'fungus': 12836, 'truo': 12837, 'bitche': 12838, 'phillippine': 12839, 'lviv': 12840, 'przemy': 12841, 'sheridan': 12842, 'margo': 12843, 'agna': 12844, 'oppre': 12845, 'usaf': 12846, 'eamcet': 12847, 'shld': 12848, 'scooty': 12849, 'threading': 12850, 'hiker': 12851, 'planck': 12852, 'racquet': 12853, 'agility': 12854, 'governemt': 12855, 'profitability': 12856, 'tang': 12857, 'pyrenee': 12858, 'hevc': 12859, 'tortion': 12860, 'websocket': 12861, 'conning': 12862, '色迷迷的': 12863, 'revere': 12864, 'ymfony': 12865, 'utopic': 12866, 'kang': 12867, 'sung': 12868, 'ickne': 12869, 'boutique': 12870, 'talking': 12871, 'gimmick': 12872, 'crolle': 12873, 'modoc': 12874, 'kutztown': 12875, 'iyari': 12876, 'wankhede': 12877, 'doduo': 12878, 'etalon': 12879, 'combinator': 12880, 'thir': 12881, 'welling': 12882, 'interpool': 12883, 'onaly': 12884, 'dilate': 12885, 'confidential': 12886, 'shri': 12887, 'milf': 12888, 'whereabout': 12889, 'yuba': 12890, 'behoove': 12891, 'hodoring': 12892, 'lawrence': 12893, 'executable': 12894, 'clutche': 12895, 'landlocke': 12896, 'annoyance': 12897, 'upplementation': 12898, 'naic': 12899, 'blurred': 12900, 'flipbook': 12901, 'kvisoft': 12902, 'volvo': 12903, 'itil': 12904, 'dodo': 12905, 'corp': 12906, 'roundel': 12907, 'unpopular': 12908, 'tableau': 12909, 'moridin': 12910, 'pref': 12911, 'quicktype': 12912, 'differnt': 12913, 'lynnwood': 12914, 'tribbiani': 12915, 'allied': 12916, 'icrc': 12917, 'ghori': 12918, 'roux': 12919, 'tonia': 12920, 'gaither': 12921, 'reintroduce': 12922, 'correctne': 12923, 'tranquillity': 12924, 'dalali': 12925, 'categorize': 12926, 'hypocrite': 12927, 'oblige': 12928, 'relational': 12929, 'snapsnapgo': 12930, 'elemental': 12931, 'natrully': 12932, 'capped': 12933, 'reluctant': 12934, 'anticipation': 12935, 'xenon': 12936, 'agni': 12937, 'hso_': 12938, 'experienc': 12939, 'dravidan': 12940, 'رؤؤؤؤؤؤؤؤؤؤعة': 12941, 'caffeinate': 12942, 'purche': 12943, 'audaciou': 12944, 'intentionally': 12945, 'stated': 12946, 'rajendra': 12947, 'sriram': 12948, 'autocomplete': 12949, 'capacitance': 12950, 'electrometer': 12951, 'ungy': 12952, 'bloodie': 12953, 'lengthen': 12954, 'telomera': 12955, 'telomere': 12956, 'pinky': 12957, 'enlargement': 12958, 'mariana': 12959, 'trench': 12960, 'participation': 12961, 'tweetbot': 12962, 'tartegy': 12963, 'json': 12964, 'turnout': 12965, 'rejuvenate': 12966, 'tiring': 12967, 'depiction': 12968, 'riyadh': 12969, 'inchu': 12970, 'potato': 12971, 'ridicule': 12972, 'sanjay': 12973, 'agenda': 12974, 'undp': 12975, 'mobilefun': 12976, 'denbury': 12977, 'fallacy': 12978, 'recycle': 12979, 'incite': 12980, 'licentie': 12981, 'heila': 12982, 'mangalore': 12983, 'antifungal': 12984, 'deceptive': 12985, 'fayetteville': 12986, 'alllow': 12987, 'perou': 12988, 'cerca': 12989, 'italianweb': 12990, 'houte': 12991, 'hypothyroidi': 12992, 'oulmate': 12993, 'cadre': 12994, 'regnal': 12995, 'sinha': 12996, 'hander': 12997, 'coinarch': 12998, 'rome': 12999, 'pringform': 13000, 'vlogge': 13001, 'marabá': 13002, 'cobalt': 13003, 'uncc': 13004, 'allegedly': 13005, 'ukranian': 13006, 'inverne': 13007, 'perl': 13008, 'grinding': 13009, 'coep': 13010, 'spce': 13011, 'vjti': 13012, 'awarne': 13013, 'adyen': 13014, 'marley': 13015, 'reggae': 13016, 'affirm': 13017, 'rafdeal': 13018, 'taying': 13019, '分久必合合久必分': 13020, 'thumbnail': 13021, 'eradication': 13022, 'autodidact': 13023, 'chaplin': 13024, 'laurel': 13025, 'waiver': 13026, 'monocular': 13027, 'fintech': 13028, 'sonata': 13029, 'superu': 13030, 'apto': 13031, 'andbox': 13032, 'ganymede': 13033, 'supplement': 13034, 'palampur': 13035, 'nitpicking': 13036, 'oway': 13037, 'hypoechoic': 13038, 'madi': 13039, 'bowhead': 13040, 'outlier': 13041, 'senior': 13042, 'chilli': 13043, 'womanizer': 13044, 'benewah': 13045, 'hymnal': 13046, 'heard': 13047, 'tealing': 13048, 'birchbox': 13049, 'randomskip': 13050, 'intricate': 13051, 'selective': 13052, 'righteou': 13053, 'bluecre': 13054, 'redeem': 13055, 'freak': 13056, 'amer': 13057, 'foort': 13058, 'vimax': 13059, 'burgundy': 13060, 'bengio': 13061, 'cone': 13062, 'mehendi': 13063, 'indicator': 13064, 'conditioning': 13065, 'cheetah': 13066, 'ambient': 13067, 'yoda': 13068, 'pgcet': 13069, 'foray': 13070, 'jeremy': 13071, 'stoppelman': 13072, 'damper': 13073, 'powervr': 13074, 'vivante': 13075, 'molality': 13076, 'proteu': 13077, 'apac': 13078, 'covert': 13079, 'eager': 13080, 'ixteen': 13081, 'srilanka': 13082, 'evak': 13083, 'htriya': 13084, 'sangh': 13085, 'swayam': 13086, 'datingbuddie': 13087, 'shelby': 13088, 'hiring': 13089, 'attakathi': 13090, 'revalidate': 13091, 'andy': 13092, 'rubin': 13093, 'interviewing': 13094, 'taft': 13095, 'deficit': 13096, 'authenticity': 13097, 'jamaica': 13098, 'patter': 13099, 'soundmagic': 13100, 'dominance': 13101, 'patriarchal': 13102, 'temerity': 13103, 'pleade': 13104, 'dodge': 13105, 'drango': 13106, 'apocalip': 13107, 'mcitp': 13108, 'alem': 13109, 'jeru': 13110, 'chafe': 13111, 'arguably': 13112, 'ruthle': 13113, 'clerical': 13114, 'dive': 13115, 'unavailable': 13116, 'equilibrium': 13117, 'anakin': 13118, 'dagobah': 13119, 'rotj': 13120, 'trilogy': 13121, 'unaltered': 13122, 'callgirl': 13123, 'thong': 13124, 'strebler': 13125, 'sending': 13126, 'holland': 13127, 'children': 13128, 'compa': 13129, 'concurrency': 13130, 'prejudice': 13131, 'reapplye': 13132, 'wartime': 13133, 'asic': 13134, 'buggy': 13135, 'dune': 13136, 'improvment': 13137, 'judged': 13138, 'kumon': 13139, 'paperback': 13140, 'programm': 13141, 'derriere': 13142, 'guevara': 13143, 'truthfully': 13144, 'aflame': 13145, 'areena': 13146, 'framebox': 13147, 'tracture': 13148, 'foren': 13149, 'tituencie': 13150, 'idetracke': 13151, 'charitie': 13152, 'selling': 13153, 'algarve': 13154, 'calgary': 13155, '我有一个二货朋友': 13156, 'linkvehicle': 13157, 'rainier': 13158, 'allergen': 13159, 'cramping': 13160, 'fulne': 13161, 'torque': 13162, 'habitat': 13163, 'wikian': 13164, 'grounding': 13165, 'demobili': 13166, 'viejo': 13167, 'crimean': 13168, 'aguilera': 13169, 'bailey': 13170, 'indulge': 13171, 'goat': 13172, 'mughlai': 13173, 'qorma': 13174, 'limme': 13175, 'evidently': 13176, 'armani': 13177, 'emporio': 13178, 'olace': 13179, 'decentralize': 13180, 'ketch': 13181, 'bloody': 13182, 'aadmk': 13183, 'preventable': 13184, 'conquering': 13185, 'removed': 13186, 'keralite': 13187, 'alternatively': 13188, 'quadrant': 13189, 'orchat': 13190, 'plenty': 13191, 'webma': 13192, 'langauge': 13193, 'cammer': 13194, 'centrally': 13195, 'belaru': 13196, 'rabun': 13197, 'madbid': 13198, 'byte': 13199, 'bleeding': 13200, 'afari': 13201, 'twitche': 13202, 'puff': 13203, 'uncooperative': 13204, 'debri': 13205, 'bearer': 13206, 'onar': 13207, 'yalu': 13208, 'burqa': 13209, 'proportionally': 13210, 'gollum': 13211, 'webi': 13212, 'khum': 13213, 'deliberately': 13214, 'flooring': 13215, 'laker': 13216, 'stable': 13217, 'godaddy': 13218, 'infinitely': 13219, 'coronary': 13220, 'holography': 13221, 'lotu': 13222, 'deflection': 13223, 'lard': 13224, 'underprivileged': 13225, 'daredevil': 13226, 'bhagvat': 13227, 'proofpoint': 13228, 'ftth': 13229, 'troom': 13230, 'invidual': 13231, 'khoob': 13232, 'kitna': 13233, 'urat': 13234, 'creamon': 13235, 'mederma': 13236, 'unplug': 13237, 'gentoo': 13238, 'thiel': 13239, 'fmcg': 13240, 'gail': 13241, 'saving': 13242, 'omnifocu': 13243, 'etrap': 13244, 'malware': 13245, 'prentry': 13246, 'lenght': 13247, 'ritchie': 13248, 'tabilize': 13249, 'comparatively': 13250, 'tumblrplug': 13251, 'togram': 13252, 'santana': 13253, 'ubtraction': 13254, 'democracie': 13255, 'megalomaniac': 13256, 'aturate': 13257, 'tilled': 13258, 'qurbani': 13259, 'liberally': 13260, 'urrounding': 13261, 'enhower': 13262, 'iegel': 13263, 'realate': 13264, 'steyer': 13265, 'flourle': 13266, 'gorgeou': 13267, 'atirical': 13268, 'differnece': 13269, 'venomou': 13270, 'numerically': 13271, 'moat': 13272, 'khazak': 13273, 'attrition': 13274, 'montgomery': 13275, 'riak': 13276, 'pillar': 13277, 'treperou': 13278, 'infectant': 13279, 'cayman': 13280, 'hotelperform': 13281, 'caleb': 13282, 'pendant': 13283, 'buffet': 13284, 'levie': 13285, 'herbocare': 13286, 'omer': 13287, 'calri': 13288, 'lando': 13289, 'fertility': 13290, 'swade': 13291, 'homunculu': 13292, 'athena': 13293, 'minoxidil': 13294, 'naughty': 13295, 'cincinnati': 13296, 'access': 13297, 'continental': 13298, 'acclaimed': 13299, 'heave': 13300, 'gloomy': 13301, 'foamy': 13302, 'machining': 13303, 'hoping': 13304, 'paranoia': 13305, 'cienfuego': 13306, 'deploy': 13307, 'referendum': 13308, 'unri': 13309, 'quanta': 13310, 'cropping': 13311, 'egoti': 13312, 'unde': 13313, 'burglary': 13314, 'bondandbowery': 13315, 'buffering': 13316, 'uscis': 13317, 'faceflow': 13318, 'overtoun': 13319, 'sinuiji': 13320, 'chikamagaluru': 13321, 'homegood': 13322, 'taklamakan': 13323, 'alipay': 13324, 'alted': 13325, 'honorable': 13326, 'spla': 13327, 'weft': 13328, 'copacker': 13329, 'sand': 13330, 'amplify': 13331, 'diaphragm': 13332, 'elixer': 13333, 'townhall': 13334, 'vampire': 13335, 'hollowpoint': 13336, 'hornady': 13337, 'muzzle': 13338, 'headquarter': 13339, 'chatter': 13340, 'tiani': 13341, 'etback': 13342, 'ander': 13343, 'breivik': 13344, 'lengthie': 13345, 'teleport': 13346, 'ptolemaic': 13347, 'mrna': 13348, 'titanic': 13349, 'dominion': 13350, 'eidetic': 13351, 'latch': 13352, 'haunt': 13353, 'ciplinary': 13354, 'interdi': 13355, 'olving': 13356, 'infotech': 13357, 'incognitovpn': 13358, 'allele': 13359, 'inwardly': 13360, 'outwardly': 13361, 'pagan': 13362, 'byrne': 13363, 'rhonda': 13364, 'benning': 13365, 'interpretation': 13366, 'eura': 13367, 'penin': 13368, 'anabolic': 13369, 'corrode': 13370, 'paralleli': 13371, 'funda': 13372, 'urimi': 13373, 'feedbackword': 13374, 'feedforward': 13375, 'matic': 13376, 'demat': 13377, 'greyjoy': 13378, 'theon': 13379, 'jambox': 13380, 'louder': 13381, 'ntfs': 13382, 'remedial': 13383, 'coverfox': 13384, 'policybazaar': 13385, 'ragpicker': 13386, 'expound': 13387, 'hondura': 13388, 'gautam': 13389, 'database': 13390, 'crisc': 13391, 'mcsa': 13392, 'retaliate': 13393, 'kanjira': 13394, 'headband': 13395, 'rubi': 13396, 'craving': 13397, 'domicile': 13398, 'navi': 13399, 'sathyabama': 13400, 'erza': 13401, 'zoro': 13402, 'bain': 13403, 'tacometer': 13404, 'toothbru': 13405, 'jcpenney': 13406, 'scotus': 13407, 'burp': 13408, 'slipknot': 13409, 'mcafee': 13410, 'longing': 13411, 'protea': 13412, 'ironman': 13413, 'durpin': 13414, 'entp': 13415, 'genocidal': 13416, 'oring': 13417, 'afar': 13418, 'aorta': 13419, 'euler': 13420, 'planningpoker': 13421, 'htacce': 13422, 'azerbaijan': 13423, 'gour': 13424, 'sachdev': 13425, 'shivani': 13426, 'surrogacy': 13427, 'columbu': 13428, 'aman': 13429, 'stemcentrx': 13430, 'gainlo': 13431, 'piou': 13432, 'thrill': 13433, 'everclear': 13434, 'somaiya': 13435, 'oppurtunity': 13436, 'ignale': 13437, 'dial': 13438, 'hotline': 13439, 'scrum': 13440, 'stdr': 13441, 'aaing': 13442, 'trichy': 13443, 'fence': 13444, 'parole': 13445, 'tawe': 13446, 'tland': 13447, 'exile': 13448, 'gammon': 13449, 'itachi': 13450, 'tvfplay': 13451, 'leotard': 13452, 'ymail': 13453, 'rodrigue': 13454, 'tematic': 13455, 'rakhee': 13456, 'fitzgerald': 13457, 'indianapoli': 13458, 'azore': 13459, 'nonviewer': 13460, 'cohen': 13461, 'hallelujah': 13462, 'tobe': 13463, 'permaculture': 13464, 'airdrop': 13465, 'entomology': 13466, 'nominally': 13467, 'bschool': 13468, 'avicii': 13469, 'vanity': 13470, 'cortana': 13471, 'recovering': 13472, 'kimi': 13473, 'azeri': 13474, 'neotenou': 13475, 'hajj': 13476, 'fixing': 13477, 'rubble': 13478, 'bucket': 13479, 'aqua': 13480, 'hopaholic': 13481, 'payflow': 13482, 'banter': 13483, 'mira': 13484, 'nair': 13485, 'conciliation': 13486, 'tributive': 13487, 'purr': 13488, 'theqot': 13489, 'punctured': 13490, 'youmail': 13491, 'diligent': 13492, 'cratche': 13493, 'ightful': 13494, 'qualitative': 13495, 'occam': 13496, 'razor': 13497, 'ifex': 13498, 'paxidep': 13499, 'jizzroulette': 13500, 'locally': 13501, 'loquaciou': 13502, 'sadguru': 13503, 'lichen': 13504, 'robbin': 13505, 'aborignal': 13506, 'norco': 13507, 'vicodin': 13508, 'metallurgi': 13509, 'shatri': 13510, 'haploid': 13511, 'anumati': 13512, 'ijazat': 13513, 'cabo': 13514, 'luca': 13515, 'mindtree': 13516, 'adaption': 13517, 'aaka': 13518, 'lumlord': 13519, 'decoder': 13520, 'imulator': 13521, 'plumbing': 13522, 'ecnr': 13523, 'ciber': 13524, 'defect': 13525, 'payable': 13526, 'receivable': 13527, 'rummy': 13528, 'arcattack': 13529, 'methane': 13530, 'nbfc': 13531, 'infringe': 13532, 'bali': 13533, 'odde': 13534, 'folicle': 13535, 'ansys': 13536, 'taming': 13537, 'tication': 13538, 'roomate': 13539, 'preliminary': 13540, 'blipsnip': 13541, 'clay': 13542, 'laveen': 13543, 'moebiu': 13544, 'ductility': 13545, 'malleability': 13546, 'autobiography': 13547, 'checkmate': 13548, 'mapkit': 13549, 'spawn': 13550, 'perjury': 13551, 'khalifa': 13552, 'serb': 13553, 'serbia': 13554, 'false': 13555, 'trioxide': 13556, 'oclock': 13557, 'snapdeal': 13558, 'bhel': 13559, 'nott': 13560, 'lavi': 13561, 'penthou': 13562, 'competent': 13563, 'hipexpert': 13564, 'explaination': 13565, 'exer': 13566, 'communityor': 13567, 'foodclub': 13568, 'girello': 13569, 'autoencoder': 13570, 'bronte': 13571, 'namib': 13572, 'picker': 13573, 'nullkomanix': 13574, 'immanuel': 13575, 'decorate': 13576, 'informatica': 13577, 'pbuh': 13578, 'bandana': 13579, 'roronoa': 13580, 'samurai': 13581, 'ramadan': 13582, 'merong': 13583, 'aricent': 13584, 'sohei': 13585, 'degrading': 13586, 'lignin': 13587, 'loook': 13588, 'mehanical': 13589, 'partially': 13590, 'ourcely': 13591, 'bahrain': 13592, 'titional': 13593, 'wysiwyg': 13594, 'thrilling': 13595, 'bhakra': 13596, 'nangal': 13597, 'tubate': 13598, 'fencing': 13599, 'borrowing': 13600, 'playground': 13601, 'infectiou': 13602, 'leeved': 13603, 'dieudonné': 13604, 'rakhi': 13605, 'meghan': 13606, 'trainor': 13607, 'baleno': 13608, 'limelight': 13609, 'kratom': 13610, 'goodnight': 13611, 'megaboom': 13612, 'purn': 13613, 'bradley': 13614, 'numeral': 13615, 'linearity': 13616, 'sinp': 13617, 'pilgrim': 13618, 'cloth': 13619, 'impotent': 13620, 'manyata': 13621, 'redford': 13622, 'normative': 13623, 'megavenue': 13624, 'incan': 13625, 'heineken': 13626, 'screen': 13627, 'blazeclan': 13628, 'imeetzu': 13629, 'aboriginal': 13630, 'carano': 13631, 'gina': 13632, 'pelle': 13633, 'dameron': 13634, 'peculate': 13635, 'barely': 13636, 'interpret': 13637, 'unwanted': 13638, 'alutation': 13639, 'behno': 13640, 'bhaio': 13641, 'mitron': 13642, 'ignup': 13643, 'boolean': 13644, 'fiability': 13645, 'ternary': 13646, 'hortli': 13647, 'joko': 13648, 'viewpoint': 13649, 'widodo': 13650, 'rewarding': 13651, 'rookie': 13652, 'speak': 13653, 'mendota': 13654, 'nepali': 13655, 'writter': 13656, 'ticate': 13657, 'acrobat': 13658, 'hiva': 13659, 'doctrine': 13660, 'isil': 13661, 'hared': 13662, 'malleable': 13663, 'kahneman': 13664, 'levitt': 13665, 'steven': 13666, 'offcampu': 13667, 'aftermarket': 13668, 'frictional': 13669}\n"
     ]
    }
   ],
   "source": [
    "print('cleaning data...')\n",
    "data_words_clean, mapped = clean_procedure(all_sentences)\n",
    "# Create Dictionary\n",
    "dictionary = corpora.Dictionary(data_words_clean)\n",
    "# Print dictionary\n",
    "print(dictionary.token2id)\n",
    "\n",
    "## Create Term document frequency (corpus)\n",
    "# Term Document Frequency\n",
    "corpus = [dictionary.doc2bow(text) for text in data_words_clean]"
   ]
  },
  {
   "cell_type": "code",
   "execution_count": 31,
   "metadata": {
    "executionInfo": {
     "elapsed": 14,
     "status": "ok",
     "timestamp": 1660492965744,
     "user": {
      "displayName": "Ilan Alex Golik",
      "userId": "15856695005902315184"
     },
     "user_tz": -180
    },
    "id": "3-sugQ0EAyp4"
   },
   "outputs": [],
   "source": [
    "class LDA_Wrapper_Topics_Distributions_Gensim:\n",
    "    def __init__(self, random_seed, data_words_clean, map_for_train, corpus, dictionary, n_components=10):\n",
    "      self.seed = random_seed\n",
    "      self.map_for_train=map_for_train\n",
    "      self.data_words_clean = data_words_clean\n",
    "      self.corpus = corpus\n",
    "      self.dictionary = dictionary\n",
    "      self.n_components = n_components\n",
    "      self.ldamodel = gensim.models.ldamodel.LdaModel(corpus=corpus,\n",
    "                                           id2word=dictionary,\n",
    "                                           num_topics=self.n_components, \n",
    "                                           passes=15,\n",
    "                                           alpha='auto',\n",
    "                                           random_state=random_seed,\n",
    "                                           minimum_probability = 0.00000001)\n",
    "\n",
    "      # Saving trained model\n",
    "      self.ldamodel.save(f'results/LDA_{self.n_components}')\n",
    "      # Loading trained model\n",
    "      self.ldamodel = gensim.models.ldamodel.LdaModel.load(f'results/LDA_{self.n_components}')\n",
    "      self.max_len = n_components\n",
    "      self.log_lines = []\n",
    "      self.print=self.__print_log__\n",
    "\n",
    "    def __print_log__(self, x):\n",
    "      pass\n",
    "\n",
    "    def topic_distribution_by_topic_order(self, string_input):\n",
    "      # Fit and transform\n",
    "      bow = self.ldamodel.id2word.doc2bow(string_input) # convert to bag of words format first\n",
    "      # print(bow)\n",
    "      doc_topics, word_topics, phi_values = self.ldamodel.get_document_topics(bow, per_word_topics=True)\n",
    "      # print(doc_topics)\n",
    "      # Convert sparse matrix to gensim corpus.\n",
    "      # corpus = gensim.matutils.Sparse2Corpus(X, documents_columns=False)\n",
    "\n",
    "      output = [topic[1] for topic in doc_topics]    \n",
    "      return output\n",
    "\n",
    "    def transform(self, sentences):\n",
    "      p = []\n",
    "      for sentence in sentences:\n",
    "        clean_sentence = self.map_for_train[sentence]\n",
    "        # print(sentence)\n",
    "        # print(clean_sentence)\n",
    "        dists = self.topic_distribution_by_topic_order(clean_sentence)\n",
    "        p.append(dists)\n",
    "      # print(f'{len(p)}x{len(p[0])}')\n",
    "      # print(p)\n",
    "      # raise Exception('debug')\n",
    "      self.print(\"in transform\")\n",
    "      # print(p.shape)\n",
    "      # print(p)\n",
    "      return torch.tensor(p).type(torch.FloatTensor);\n",
    "\n",
    "    def transform_cleaned(self, sentences):\n",
    "      p = []\n",
    "      for clean_sentence in sentences:\n",
    "        # print(sentence)\n",
    "        # print(clean_sentence)\n",
    "        dists = self.topic_distribution_by_topic_order(clean_sentence)\n",
    "        p.append(dists)\n",
    "      # print(f'{len(p)}x{len(p[0])}')\n",
    "      # print(p)\n",
    "      # raise Exception('debug')\n",
    "      self.print(\"in transform\")\n",
    "      # print(p.shape)\n",
    "      # print(p)\n",
    "      return torch.tensor(p).type(torch.FloatTensor);\n",
    "\n",
    "    def evaluate_model(self):\n",
    "      # Compute Perplexity Score\n",
    "      print('nPerplexity Score: ', self.ldamodel.log_perplexity(self.corpus))\n",
    "\n",
    "      # Compute Coherence Score\n",
    "      coherence_model_lda = gensim.models.CoherenceModel(model=self.ldamodel, texts=self.data_words_clean, dictionary=self.dictionary, coherence='c_v')\n",
    "      coherence_lda = coherence_model_lda.get_coherence()\n",
    "      print('nCoherence Score: ', coherence_lda)"
   ]
  },
  {
   "cell_type": "code",
   "execution_count": 55,
   "metadata": {
    "colab": {
     "base_uri": "https://localhost:8080/"
    },
    "executionInfo": {
     "elapsed": 301915,
     "status": "ok",
     "timestamp": 1660495965426,
     "user": {
      "displayName": "Ilan Alex Golik",
      "userId": "15856695005902315184"
     },
     "user_tz": -180
    },
    "id": "MY9MS0b_C5L_",
    "outputId": "ff20c212-2366-4604-c5bb-e9d65790a126"
   },
   "outputs": [
    {
     "name": "stdout",
     "output_type": "stream",
     "text": [
      "ceating topic generators\n",
      "nPerplexity Score:  -27.095570738309394\n",
      "nCoherence Score:  0.6301380056122527\n",
      "ceated topic generator for 85 topics\n",
      "nPerplexity Score:  -28.374383315894217\n",
      "nCoherence Score:  0.6234371786198701\n",
      "ceated topic generator for 90 topics\n"
     ]
    }
   ],
   "source": [
    "topics_dict_gensim = dict()\n",
    "print(f'ceating topic generators')\n",
    "# n_topics\n",
    "for n in [85, 90]:\n",
    "  set_seed(SEED)\n",
    "  topics_dict_gensim[n] = LDA_Wrapper_Topics_Distributions_Gensim(T_SEED, data_words_clean, mapped, corpus, dictionary, n_components=n)\n",
    "  topics_dict_gensim[n].evaluate_model()\n",
    "  print(f'ceated topic generator for {n} topics')"
   ]
  },
  {
   "cell_type": "code",
   "execution_count": 56,
   "metadata": {
    "executionInfo": {
     "elapsed": 17,
     "status": "ok",
     "timestamp": 1660495965428,
     "user": {
      "displayName": "Ilan Alex Golik",
      "userId": "15856695005902315184"
     },
     "user_tz": -180
    },
    "id": "rEZmSDRVI-E_"
   },
   "outputs": [],
   "source": [
    "topics_dict = topics_dict_gensim"
   ]
  },
  {
   "cell_type": "code",
   "execution_count": 57,
   "metadata": {
    "executionInfo": {
     "elapsed": 11,
     "status": "ok",
     "timestamp": 1660495965428,
     "user": {
      "displayName": "Ilan Alex Golik",
      "userId": "15856695005902315184"
     },
     "user_tz": -180
    },
    "id": "DWfd86BDNRRI"
   },
   "outputs": [],
   "source": [
    "BATCH_SIZE = 32"
   ]
  },
  {
   "cell_type": "code",
   "execution_count": 58,
   "metadata": {
    "executionInfo": {
     "elapsed": 513,
     "status": "ok",
     "timestamp": 1660495965932,
     "user": {
      "displayName": "Ilan Alex Golik",
      "userId": "15856695005902315184"
     },
     "user_tz": -180
    },
    "id": "gPZ3pKA8tj0P"
   },
   "outputs": [],
   "source": [
    "from transformers import AdamW\n",
    "class myTrainer():\n",
    "  def __init__(self,\n",
    "               model,\n",
    "               train_dataset, val_dataset,test_dataset,\n",
    "               batch_size,\n",
    "               epochs = 5, with_LDA = True, model_name = 'basemodel'):\n",
    "    \n",
    "    self.model = model\n",
    "    self.epochs = epochs\n",
    "    self.with_LDA = with_LDA\n",
    "    self.model_name = str(model_name)\n",
    "\n",
    "    weights_train = compute_class_weight(class_weight='balanced', classes= np.unique(train_dataset.labels), y=train_dataset.labels)\n",
    "    self.weights_train = torch.tensor(weights_train).type(torch.FloatTensor).cuda()\n",
    "    weights_val = compute_class_weight(class_weight='balanced', classes= np.unique(val_dataset.labels), y=val_dataset.labels)\n",
    "    self.weights_val = torch.tensor(weights_val).type(torch.FloatTensor).cuda()\n",
    "    weights_test = compute_class_weight(class_weight='balanced', classes= np.unique(test_dataset.labels), y=test_dataset.labels)\n",
    "    self.weights_test = torch.tensor(weights_test).type(torch.FloatTensor).cuda()\n",
    "\n",
    "    self.criterion = nn.BCELoss()\n",
    "    learningRate = 50 ** -5\n",
    "    self.optimizer = AdamW(self.model.parameters(), lr=learningRate)\n",
    "    self.train_dataloader = DataLoader(train_dataset, batch_size=batch_size, shuffle=False)\n",
    "    self.val_dataloader = DataLoader(val_dataset, batch_size=batch_size, shuffle=False)\n",
    "    self.test_dataloader = DataLoader(test_dataset, batch_size=batch_size, shuffle=False)\n",
    "\n",
    "    self.loss_train = []\n",
    "    self.loss_val = []\n",
    "\n",
    "  def calculate_loss(self, true_y, predicted_y):\n",
    "    label_tensor = true_y.type(torch.FloatTensor).unsqueeze(1).cuda()\n",
    "    loss = self.criterion(predicted_y, label_tensor)\n",
    "    return loss\n",
    "\n",
    "\n",
    "\n",
    "  def train(self):\n",
    "    min_valid_loss = np.inf\n",
    "    \n",
    "    # run on all epochs\n",
    "    print(self.model_name + ': Training \\t',end='')\n",
    "    print('\\n')\n",
    "    for epoch in range(self.epochs):\n",
    "      with tqdm(self.train_dataloader, unit=\"batch\", leave=False) as tepoch:\n",
    "        for data in tepoch:\n",
    "            tepoch.set_description(f\"Epoch {epoch+1} train step\")\n",
    "            if len(data)==3:\n",
    "              self.train_loss_pair(data)\n",
    "            else:\n",
    "              self.train_loss(data)\n",
    "\n",
    "      with tqdm(self.val_dataloader, unit=\"batch\", leave=False) as vepoch:\n",
    "        for data in vepoch:\n",
    "            vepoch.set_description(f\"Epoch {epoch+1} validation step\")\n",
    "            if len(data)==3:\n",
    "              self.val_loss_pair(data)\n",
    "            else:\n",
    "              self.val_loss(data)\n",
    "      # # print()\n",
    "\n",
    "      # # train\n",
    "      # for data in self.train_dataloader:\n",
    "      #   print('.',end='')\n",
    "\n",
    "      #   if len(data)==3:\n",
    "      #     self.train_loss_pair(data)\n",
    "      #   else:\n",
    "      #     self.train_loss(data)\n",
    "      # # eval      \n",
    "      # self.model.eval()     # Optional when not using Model Specific layer\n",
    "      # for data in self.val_dataloader:\n",
    "      #   if len(data)==3:\n",
    "      #     self.val_loss_pair(data)\n",
    "      #   else:\n",
    "      #     self.val_loss(data)\n",
    "      # # print progress\n",
    "      # # print(f'Epoch {e+1} \\t\\t Training Loss: {self.loss_train[-1] / len(self.train_dataloader)} \\t\\t Validation Loss: {self.loss_val[-1] / len(self.val_dataloader)}')\n",
    "\n",
    "      # # save the optimal model    \n",
    "      if min_valid_loss > self.loss_val[-1]:\n",
    "          # print(f'Validation Loss Decreased({min_valid_loss:.6f}--->{self.loss_val[-1]:.6f})')\n",
    "          min_valid_loss = self.loss_val[-1]\n",
    "          self.save_model()\n",
    "    # load best model\n",
    "    self.load_model()      \n",
    "    \n",
    "\n",
    "  def train_loss(self,data):\n",
    "    inputs, labels = data\n",
    "\n",
    "    # Clear the gradients\n",
    "    self.optimizer.zero_grad()\n",
    "\n",
    "    # tokenizer\n",
    "    tokens_bert = self.model.tokenizing(inputs)  #.tokenizer_bert.batch_encode_plus(inputs,return_tensors='pt',padding=True)['input_ids']\n",
    "    tokens_bert = tokens_bert.cuda()\n",
    "\n",
    "    # LDA\n",
    "    if self.with_LDA:\n",
    "      # tokens_lda = self.model.tokenizing(inputs)\n",
    "      features_lda = self.model.model_lda.transform(inputs)\n",
    "      features_lda = features_lda.cuda()\n",
    "\n",
    "      target = self.model(tokens_bert,features_lda)\n",
    "    else:\n",
    "      target = self.model(tokens_bert)\n",
    "      \n",
    "    # Find the Loss\n",
    "    loss = self.calculate_loss(labels, target)\n",
    "\n",
    "    # Calculate gradients \n",
    "    loss.backward()\n",
    "\n",
    "    # Update Weights\n",
    "    self.optimizer.step()\n",
    "\n",
    "    # Calculate Loss\n",
    "    train_loss = loss.item() * len(data)\n",
    "    self.loss_train.append(train_loss)\n",
    "\n",
    "\n",
    "  def train_loss_pair(self,data):\n",
    "    inputs1, inputs2, labels = data\n",
    "\n",
    "    # Clear the gradients\n",
    "    self.optimizer.zero_grad()\n",
    "\n",
    "    # tokenizer\n",
    "    tokens_bert = self.model.tokenizing_pair(inputs1,inputs2)\n",
    "    tokens_bert = tokens_bert.cuda()\n",
    "\n",
    "    # LDA\n",
    "    if self.with_LDA:\n",
    "      # inputs1\n",
    "      # tokens_lda1 = self.model.tokenizing(inputs1)\n",
    "      # print(\"get topics\")\n",
    "      features_lda1 = self.model.model_lda.transform(inputs1)\n",
    "      # print(features_lda1)\n",
    "      # inputs2\n",
    "      # tokens_lda2 = self.model.tokenizing(inputs2)\n",
    "      features_lda2 = self.model.model_lda.transform(inputs2)\n",
    "      # print(features_lda2)\n",
    "      features_lda = torch.cat([features_lda1, features_lda2],dim=1)\n",
    "      features_lda = features_lda.cuda()\n",
    "      # print(\"get topics done\")\n",
    "      target = self.model(tokens_bert,features_lda)\n",
    "    else:\n",
    "      target = self.model(tokens_bert)\n",
    "    # Find the Loss\n",
    "    # print('labels')\n",
    "    loss = self.calculate_loss(labels, target)\n",
    "    # print('loss')\n",
    "    # print(labels.size())\n",
    "    \n",
    "    \n",
    "    # print('loss done')\n",
    "\n",
    "    # Calculate gradients \n",
    "    loss.backward()\n",
    "\n",
    "    # Update Weights\n",
    "    self.optimizer.step()\n",
    "\n",
    "    # Calculate Loss\n",
    "    train_loss = loss.item() * len(data)\n",
    "    self.loss_train.append(train_loss)\n",
    "\n",
    "\n",
    "  def val_loss(self,data):\n",
    "    # get the inputs; data is a list of [inputs, labels]\n",
    "    inputs, labels = data\n",
    "\n",
    "    # tokenizer\n",
    "    tokens_bert = self.model.tokenizing(inputs) #self.model.tokenizer_bert.batch_encode_plus(inputs,return_tensors='pt',padding=True)['input_ids']\n",
    "    tokens_bert = tokens_bert.cuda()\n",
    "\n",
    "    # LDA\n",
    "    if self.with_LDA:\n",
    "      # tokens_lda = self.model.tokenizing(inputs)\n",
    "      features_lda = self.model.model_lda.transform(inputs)\n",
    "      features_lda = features_lda.cuda()      \n",
    "      target = self.model(tokens_bert,features_lda)\n",
    "    else:\n",
    "      target = self.model(tokens_bert)\n",
    "    \n",
    "    # Find the Loss\n",
    "    loss = self.calculate_loss(labels, target)\n",
    "\n",
    "    # Calculate Loss\n",
    "    valid_loss = loss.item() * len(data)\n",
    "    self.loss_val.append(valid_loss)\n",
    "\n",
    "\n",
    "  def val_loss_pair(self,data):\n",
    "    # get the inputs; data is a list of [inputs, labels]\n",
    "    inputs1, inputs2, labels = data\n",
    "\n",
    "    # tokenizer\n",
    "    tokens_bert = self.model.tokenizing_pair(inputs1,inputs2) \n",
    "    tokens_bert = tokens_bert.cuda()\n",
    "\n",
    "    # LDA\n",
    "    if self.with_LDA:\n",
    "      # inputs1\n",
    "      # tokens_lda1 = self.model.tokenizing(inputs1)\n",
    "      features_lda1 = self.model.model_lda.transform(inputs1)\n",
    "      \n",
    "      # inputs2\n",
    "      # tokens_lda2 = self.model.tokenizing(inputs2)\n",
    "      features_lda2 = self.model.model_lda.transform(inputs2)\n",
    "      \n",
    "      features_lda = torch.cat([features_lda1, features_lda2],dim=1)\n",
    "      features_lda = features_lda.cuda()\n",
    "      target = self.model(tokens_bert,features_lda)\n",
    "    else:\n",
    "      target = self.model(tokens_bert)\n",
    "    \n",
    "    # Find the Loss\n",
    "    loss = self.calculate_loss(labels, target)\n",
    "\n",
    "    # Calculate Loss\n",
    "    valid_loss = loss.item() * len(data)\n",
    "    self.loss_val.append(valid_loss)\n",
    "\n",
    "\n",
    "  def predict(self):\n",
    "\n",
    "    # results\n",
    "    real_labels = []\n",
    "    predictions = []\n",
    "\n",
    "    self.model.eval()  \n",
    "    with torch.no_grad():\n",
    "      with tqdm(self.test_dataloader, unit=\"batch\") as test_step:\n",
    "        for b, data in enumerate(test_step):\n",
    "          test_step.set_description(f\"Batch {b+1} predict\")\n",
    "          inputs, labels = data\n",
    "          \n",
    "          # tokenizer\n",
    "          tokens_bert = self.model.tokenizing(inputs)\n",
    "          tokens_bert = tokens_bert.cuda()\n",
    "          \n",
    "          # LDA\n",
    "          if self.with_LDA:\n",
    "            inputs_cleaned, map = clean_procedure(inputs)\n",
    "            # tokens_lda = self.model.tokenizing(inputs)\n",
    "            features_lda = self.model.model_lda.transform_cleaned(inputs_cleaned)\n",
    "            features_lda = features_lda.cuda()\n",
    "            target = self.model(tokens_bert,features_lda)  \n",
    "          else:\n",
    "            target = self.model(tokens_bert)\n",
    "          # print(target)\n",
    "          target = target.round()\n",
    "        predictions.extend(target.cpu().detach()[:,0].tolist())\n",
    "        real_labels.extend(labels.tolist())\n",
    "    return real_labels,predictions\n",
    "\n",
    "\n",
    "  def predict_pair(self):\n",
    "\n",
    "    # results\n",
    "    real_labels = []\n",
    "    predictions = []\n",
    "    print(self.model_name + ': Testing \\t',end='')\n",
    "    print('\\n')\n",
    "    self.model.eval() \n",
    "    with torch.no_grad():\n",
    "      with tqdm(self.test_dataloader, unit=\"batch\", leave=False) as test_step:\n",
    "        for b, data in enumerate(test_step):\n",
    "          test_step.set_description(f\"Batch {b+1} predict\")\n",
    "          inputs1, inputs2, labels = data\n",
    "\n",
    "          # tokenizer\n",
    "          tokens_bert = self.model.tokenizing_pair(inputs1,inputs2)\n",
    "          tokens_bert = tokens_bert.cuda()\n",
    "\n",
    "          \n",
    "          \n",
    "          # LDA\n",
    "          if self.with_LDA:\n",
    "            # tokens_lda1 = self.model.tokenizing(inputs1)\n",
    "            # print(tokens_lda1)\n",
    "            inputs_cleaned1, map = clean_procedure(inputs1)\n",
    "            features_lda1 = self.model.model_lda.transform_cleaned(inputs_cleaned1)\n",
    "            \n",
    "            # tokens_lda2 = self.model.tokenizing(inputs2)\n",
    "            inputs_cleaned2, map = clean_procedure(inputs2)\n",
    "            features_lda2 = self.model.model_lda.transform_cleaned(inputs_cleaned2)\n",
    "      \n",
    "            features_lda = torch.cat([features_lda1, features_lda2],dim=1)\n",
    "            features_lda = features_lda.cuda()\n",
    "            target = self.model(tokens_bert,features_lda)  \n",
    "          else:\n",
    "            target = self.model(tokens_bert)\n",
    "          # print(target)\n",
    "          target = target.round()\n",
    "          predictions.extend(target.cpu().detach()[:,0].tolist())\n",
    "          real_labels.extend(labels.tolist())\n",
    "    return real_labels,predictions\n",
    "\n",
    "\n",
    "  def save_model(self):\n",
    "    # print('Saving the model... ',end='')\n",
    "    with open('results/'+ self.model_name +'.pkl', 'wb') as f:\n",
    "      pickle.dump(self.model, f, pickle.HIGHEST_PROTOCOL)\n",
    "    # print('done!')\n",
    "\n",
    "\n",
    "  def load_model(self):\n",
    "    # print('Loading the model... ',end='')\n",
    "    with open('results/'+ self.model_name +'.pkl', 'rb') as f:\n",
    "      self.model = pickle.load(f)\n",
    "\n",
    "\n",
    "  def plot_losses(self):\n",
    "    plt.figure(figsize=(20,6))\n",
    "\n",
    "    plt.subplot(1,2,1)\n",
    "    plt.plot(self.loss_train)\n",
    "    plt.title('Train Loss')\n",
    "    plt.xlabel('# batch')\n",
    "    plt.ylabel('loss')\n",
    "\n",
    "    plt.subplot(1,2,2)\n",
    "    plt.plot(self.loss_val)\n",
    "    plt.title('Validation Loss')\n",
    "    plt.xlabel('# batch')\n",
    "    plt.ylabel('loss');\n",
    "    "
   ]
  },
  {
   "cell_type": "code",
   "execution_count": 59,
   "metadata": {
    "executionInfo": {
     "elapsed": 459,
     "status": "ok",
     "timestamp": 1660495966388,
     "user": {
      "displayName": "Ilan Alex Golik",
      "userId": "15856695005902315184"
     },
     "user_tz": -180
    },
    "id": "44rVboqNdoFg"
   },
   "outputs": [],
   "source": [
    "# self.n_components\n",
    "class TBertImpl(nn.Module):\n",
    "    def __init__(self, model_name, bert_tokenizer, topic_generator,\n",
    "                 batch_size, t_max_len, n_components=10,\n",
    "                 max_len=80, isPair=0):\n",
    "        super(TBertImpl, self).__init__()\n",
    "\n",
    "        self.batch_size = batch_size\n",
    "        self.max_len = max_len\n",
    "\n",
    "        self.model_lda = topic_generator\n",
    "        self.tokenizer_bert = bert_tokenizer\n",
    "        self.model_bert = BertModel.from_pretrained(model_name)\n",
    "        n_topic_words_counter = self.model_lda.max_len\n",
    "        input_len = (768 + (n_topic_words_counter + (isPair * n_topic_words_counter)))\n",
    "        self.classifier = nn.Sequential(\n",
    "            nn.Linear(input_len, input_len),\n",
    "            nn.ReLU(),\n",
    "            nn.Dropout(p=0.8),\n",
    "            nn.Linear(input_len, 1),\n",
    "            nn.Sigmoid()\n",
    "        )\n",
    "        \n",
    "\n",
    "\n",
    "\n",
    "    def tokenizing(self,sentences):\n",
    "      return self.tokenizer_bert.batch_encode_plus(sentences,return_tensors='pt',add_special_tokens=False,padding=\"max_length\",max_length=self.max_len, pad_to_max_length=True,truncation=True)['input_ids']\n",
    "\n",
    "    def tokenizing_pair(self,sentences1,sentences2):\n",
    "      return self.tokenizer_bert(sentences1,sentences2,return_tensors='pt',add_special_tokens=True,padding=\"max_length\",max_length=self.max_len, pad_to_max_length=True,truncation=True)['input_ids']\n",
    "\n",
    "    def freeze_BERT(self):\n",
    "      for name, param in self.model_bert.named_parameters():\n",
    "        if 'classifier' not in name: # classifier layer\n",
    "          param.requires_grad = False\n",
    "      # for param in self.model_bert.parameters():\n",
    "      #   param.requires_grad = False\n",
    "\n",
    "    def forward(self, tokens_bert,features_lda):\n",
    "\n",
    "        # features\n",
    "        # print('forward bert')\n",
    "        features_bert = self.model_bert(tokens_bert).last_hidden_state[:, 0, :]\n",
    "        # print(features_bert.size())\n",
    "        # raise Exception('debug')\n",
    "        # print('forward bert done')\n",
    "        # concatenate\n",
    "        # print(type(features_lda))\n",
    "        # print(features_bert.size())\n",
    "        # print(features_lda.size())\n",
    "        features = torch.cat([features_bert, features_lda],dim=1)\n",
    "        # print(features.size())\n",
    "        # raise Exception('debug')\n",
    "        \n",
    "        # classification\n",
    "        # print('class')\n",
    "        outputs = self.classifier(features)\n",
    "        # print(outputs)\n",
    "        # raise Exception('Debug')\n",
    "        # print('class done')\n",
    "        return outputs"
   ]
  },
  {
   "cell_type": "markdown",
   "metadata": {
    "id": "_0-L0caRbKKk"
   },
   "source": [
    "## Train Models"
   ]
  },
  {
   "cell_type": "markdown",
   "metadata": {
    "id": "yAz24ytfBYul"
   },
   "source": [
    "##### Train tBERT - with search over number of topics"
   ]
  },
  {
   "cell_type": "code",
   "execution_count": 60,
   "metadata": {
    "executionInfo": {
     "elapsed": 7,
     "status": "ok",
     "timestamp": 1660495966389,
     "user": {
      "displayName": "Ilan Alex Golik",
      "userId": "15856695005902315184"
     },
     "user_tz": -180
    },
    "id": "Gu3GUBPEk_LU"
   },
   "outputs": [],
   "source": [
    "test_results_dictionary = defaultdict(lambda: \"Not Present\")"
   ]
  },
  {
   "cell_type": "code",
   "execution_count": 61,
   "metadata": {
    "colab": {
     "base_uri": "https://localhost:8080/"
    },
    "executionInfo": {
     "elapsed": 944726,
     "status": "ok",
     "timestamp": 1660496911110,
     "user": {
      "displayName": "Ilan Alex Golik",
      "userId": "15856695005902315184"
     },
     "user_tz": -180
    },
    "id": "vlXfYLw2vdP0",
    "outputId": "d8111d9e-e3e8-4556-d650-1a42fd14f878"
   },
   "outputs": [
    {
     "name": "stdout",
     "output_type": "stream",
     "text": [
      "tbert_quora_t85: Training \t\n",
      "\n"
     ]
    },
    {
     "name": "stderr",
     "output_type": "stream",
     "text": []
    },
    {
     "name": "stdout",
     "output_type": "stream",
     "text": [
      "tbert_quora_t85: Testing \t\n",
      "\n"
     ]
    },
    {
     "name": "stderr",
     "output_type": "stream",
     "text": []
    },
    {
     "name": "stdout",
     "output_type": "stream",
     "text": [
      "Done for 85 topics\n",
      "tbert_quora_t90: Training \t\n",
      "\n"
     ]
    },
    {
     "name": "stderr",
     "output_type": "stream",
     "text": []
    },
    {
     "name": "stdout",
     "output_type": "stream",
     "text": [
      "tbert_quora_t90: Testing \t\n",
      "\n"
     ]
    },
    {
     "name": "stderr",
     "output_type": "stream",
     "text": []
    },
    {
     "name": "stdout",
     "output_type": "stream",
     "text": [
      "Done for 90 topics\n"
     ]
    }
   ],
   "source": [
    "df = pd.DataFrame(columns=['TopicsNumber','tBERT_F1','Loss_Train','Loss_Val'])\n",
    "\n",
    "def add_result(topics, real_tbert, pred_tbert, loss_train, loss_val, results_dict):\n",
    "  results_dict[topics] = (real_tbert, pred_tbert)\n",
    "  f1_tbert = f1_score(y_true=real_tbert,y_pred=pred_tbert)\n",
    "  df.loc[len(df)] = [str(topics),f1_tbert,loss_train,loss_val]\n",
    "\n",
    "# n_topics = [60,70,75,80,85,90,100]\n",
    "for n in [85, 90]:\n",
    "  set_seed(SEED)\n",
    "  # model\n",
    "  model_tbert = TBertImpl(BERT_MODEL_NAME, tokenizer, topics_dict[n], batch_size=BATCH_SIZE, \n",
    "                          t_max_len = T_MAX_LEN, isPair=1,n_components=n).cuda();\n",
    "  model_tbert.freeze_BERT()\n",
    "\n",
    "  # train\n",
    "  trainer_tBERT = myTrainer(model_tbert,with_LDA=True,\n",
    "                            model_name='tbert_quora_t'+str(n),\n",
    "                            train_dataset=dataset_quora_train,\n",
    "                            val_dataset=dataset_quora_val,\n",
    "                            test_dataset=dataset_quora_test,\n",
    "                            batch_size=BATCH_SIZE ,epochs=3)\n",
    "  trainer_tBERT.train()\n",
    "\n",
    "  # predict\n",
    "  real_tbert_quora,pred_tbert_quora = trainer_tBERT.predict_pair()\n",
    "\n",
    "  # save model results\n",
    "  add_result(n, real_tbert_quora, pred_tbert_quora,trainer_tBERT.loss_train,trainer_tBERT.loss_val, test_results_dictionary)\n",
    "  print(f'Done for {n} topics')\n",
    "  # print(df.tBERT_Accuracy.values)\n",
    "\n",
    "\n",
    "\n",
    "  # free cuda\n",
    "  model_tbert, trainer_tBERT = None, None\n",
    "  gc.collect()\n",
    "  empty_cache()"
   ]
  },
  {
   "cell_type": "markdown",
   "metadata": {
    "id": "VfIXzix9DNIH"
   },
   "source": [
    "## Evaluation"
   ]
  },
  {
   "cell_type": "code",
   "execution_count": 62,
   "metadata": {
    "colab": {
     "base_uri": "https://localhost:8080/",
     "height": 111
    },
    "executionInfo": {
     "elapsed": 33,
     "status": "ok",
     "timestamp": 1660496911111,
     "user": {
      "displayName": "Ilan Alex Golik",
      "userId": "15856695005902315184"
     },
     "user_tz": -180
    },
    "id": "QIL_ewSWhKFK",
    "outputId": "475b3a0b-1af8-4605-b263-397c54a4392c"
   },
   "outputs": [
    {
     "data": {
      "text/html": [
       "\n",
       "  <div id=\"df-e10e8d9e-7476-4b1f-a904-524438ac4464\">\n",
       "    <div class=\"colab-df-container\">\n",
       "      <div>\n",
       "<style scoped>\n",
       "    .dataframe tbody tr th:only-of-type {\n",
       "        vertical-align: middle;\n",
       "    }\n",
       "\n",
       "    .dataframe tbody tr th {\n",
       "        vertical-align: top;\n",
       "    }\n",
       "\n",
       "    .dataframe thead th {\n",
       "        text-align: right;\n",
       "    }\n",
       "</style>\n",
       "<table border=\"1\" class=\"dataframe\">\n",
       "  <thead>\n",
       "    <tr style=\"text-align: right;\">\n",
       "      <th></th>\n",
       "      <th>TopicsNumber</th>\n",
       "      <th>tBERT_F1</th>\n",
       "      <th>Loss_Train</th>\n",
       "      <th>Loss_Val</th>\n",
       "    </tr>\n",
       "  </thead>\n",
       "  <tbody>\n",
       "    <tr>\n",
       "      <th>0</th>\n",
       "      <td>85</td>\n",
       "      <td>0.350792</td>\n",
       "      <td>[2.053604006767273, 2.069005250930786, 2.10501...</td>\n",
       "      <td>[2.1101905703544617, 2.1829283237457275, 2.015...</td>\n",
       "    </tr>\n",
       "    <tr>\n",
       "      <th>1</th>\n",
       "      <td>90</td>\n",
       "      <td>0.657682</td>\n",
       "      <td>[2.136154890060425, 2.2693578600883484, 2.2862...</td>\n",
       "      <td>[2.20685613155365, 1.9897552728652954, 2.20036...</td>\n",
       "    </tr>\n",
       "  </tbody>\n",
       "</table>\n",
       "</div>\n",
       "      <button class=\"colab-df-convert\" onclick=\"convertToInteractive('df-e10e8d9e-7476-4b1f-a904-524438ac4464')\"\n",
       "              title=\"Convert this dataframe to an interactive table.\"\n",
       "              style=\"display:none;\">\n",
       "        \n",
       "  <svg xmlns=\"http://www.w3.org/2000/svg\" height=\"24px\"viewBox=\"0 0 24 24\"\n",
       "       width=\"24px\">\n",
       "    <path d=\"M0 0h24v24H0V0z\" fill=\"none\"/>\n",
       "    <path d=\"M18.56 5.44l.94 2.06.94-2.06 2.06-.94-2.06-.94-.94-2.06-.94 2.06-2.06.94zm-11 1L8.5 8.5l.94-2.06 2.06-.94-2.06-.94L8.5 2.5l-.94 2.06-2.06.94zm10 10l.94 2.06.94-2.06 2.06-.94-2.06-.94-.94-2.06-.94 2.06-2.06.94z\"/><path d=\"M17.41 7.96l-1.37-1.37c-.4-.4-.92-.59-1.43-.59-.52 0-1.04.2-1.43.59L10.3 9.45l-7.72 7.72c-.78.78-.78 2.05 0 2.83L4 21.41c.39.39.9.59 1.41.59.51 0 1.02-.2 1.41-.59l7.78-7.78 2.81-2.81c.8-.78.8-2.07 0-2.86zM5.41 20L4 18.59l7.72-7.72 1.47 1.35L5.41 20z\"/>\n",
       "  </svg>\n",
       "      </button>\n",
       "      \n",
       "  <style>\n",
       "    .colab-df-container {\n",
       "      display:flex;\n",
       "      flex-wrap:wrap;\n",
       "      gap: 12px;\n",
       "    }\n",
       "\n",
       "    .colab-df-convert {\n",
       "      background-color: #E8F0FE;\n",
       "      border: none;\n",
       "      border-radius: 50%;\n",
       "      cursor: pointer;\n",
       "      display: none;\n",
       "      fill: #1967D2;\n",
       "      height: 32px;\n",
       "      padding: 0 0 0 0;\n",
       "      width: 32px;\n",
       "    }\n",
       "\n",
       "    .colab-df-convert:hover {\n",
       "      background-color: #E2EBFA;\n",
       "      box-shadow: 0px 1px 2px rgba(60, 64, 67, 0.3), 0px 1px 3px 1px rgba(60, 64, 67, 0.15);\n",
       "      fill: #174EA6;\n",
       "    }\n",
       "\n",
       "    [theme=dark] .colab-df-convert {\n",
       "      background-color: #3B4455;\n",
       "      fill: #D2E3FC;\n",
       "    }\n",
       "\n",
       "    [theme=dark] .colab-df-convert:hover {\n",
       "      background-color: #434B5C;\n",
       "      box-shadow: 0px 1px 3px 1px rgba(0, 0, 0, 0.15);\n",
       "      filter: drop-shadow(0px 1px 2px rgba(0, 0, 0, 0.3));\n",
       "      fill: #FFFFFF;\n",
       "    }\n",
       "  </style>\n",
       "\n",
       "      <script>\n",
       "        const buttonEl =\n",
       "          document.querySelector('#df-e10e8d9e-7476-4b1f-a904-524438ac4464 button.colab-df-convert');\n",
       "        buttonEl.style.display =\n",
       "          google.colab.kernel.accessAllowed ? 'block' : 'none';\n",
       "\n",
       "        async function convertToInteractive(key) {\n",
       "          const element = document.querySelector('#df-e10e8d9e-7476-4b1f-a904-524438ac4464');\n",
       "          const dataTable =\n",
       "            await google.colab.kernel.invokeFunction('convertToInteractive',\n",
       "                                                     [key], {});\n",
       "          if (!dataTable) return;\n",
       "\n",
       "          const docLinkHtml = 'Like what you see? Visit the ' +\n",
       "            '<a target=\"_blank\" href=https://colab.research.google.com/notebooks/data_table.ipynb>data table notebook</a>'\n",
       "            + ' to learn more about interactive tables.';\n",
       "          element.innerHTML = '';\n",
       "          dataTable['output_type'] = 'display_data';\n",
       "          await google.colab.output.renderOutput(dataTable, element);\n",
       "          const docLink = document.createElement('div');\n",
       "          docLink.innerHTML = docLinkHtml;\n",
       "          element.appendChild(docLink);\n",
       "        }\n",
       "      </script>\n",
       "    </div>\n",
       "  </div>\n",
       "  "
      ],
      "text/plain": [
       "  TopicsNumber  tBERT_F1                                         Loss_Train  \\\n",
       "0           85  0.350792  [2.053604006767273, 2.069005250930786, 2.10501...   \n",
       "1           90  0.657682  [2.136154890060425, 2.2693578600883484, 2.2862...   \n",
       "\n",
       "                                            Loss_Val  \n",
       "0  [2.1101905703544617, 2.1829283237457275, 2.015...  \n",
       "1  [2.20685613155365, 1.9897552728652954, 2.20036...  "
      ]
     },
     "execution_count": 62,
     "metadata": {},
     "output_type": "execute_result"
    }
   ],
   "source": [
    "df"
   ]
  },
  {
   "cell_type": "code",
   "execution_count": 63,
   "metadata": {
    "colab": {
     "base_uri": "https://localhost:8080/"
    },
    "executionInfo": {
     "elapsed": 24,
     "status": "ok",
     "timestamp": 1660496911112,
     "user": {
      "displayName": "Ilan Alex Golik",
      "userId": "15856695005902315184"
     },
     "user_tz": -180
    },
    "id": "R7ZoNS13w3Q_",
    "outputId": "eec17f6e-331b-4623-9c01-a138b82f949c"
   },
   "outputs": [
    {
     "name": "stdout",
     "output_type": "stream",
     "text": [
      "                   precision    recall  f1-score   support\n",
      "\n",
      "is not paraphrase       0.80      0.01      0.02       511\n",
      "    is paraphrase       0.49      1.00      0.66       489\n",
      "\n",
      "         accuracy                           0.49      1000\n",
      "        macro avg       0.65      0.50      0.34      1000\n",
      "     weighted avg       0.65      0.49      0.33      1000\n",
      "\n"
     ]
    }
   ],
   "source": [
    "real_labels_90 = test_results_dictionary[90][0]\n",
    "predicted_labels_90 = test_results_dictionary[90][1]\n",
    "print(classification_report(real_labels_90, predicted_labels_90, target_names=['is not paraphrase', 'is paraphrase']))"
   ]
  },
  {
   "cell_type": "code",
   "execution_count": 64,
   "metadata": {
    "colab": {
     "base_uri": "https://localhost:8080/",
     "height": 400
    },
    "executionInfo": {
     "elapsed": 790,
     "status": "ok",
     "timestamp": 1660496911889,
     "user": {
      "displayName": "Ilan Alex Golik",
      "userId": "15856695005902315184"
     },
     "user_tz": -180
    },
    "id": "GpKE7IpHXhoc",
    "outputId": "27debaeb-ee6e-4917-965c-ce8420c955a6"
   },
   "outputs": [
    {
     "data": {
      "image/png": "[encoded data removed]",
      "text/plain": [
       "<Figure size 1440x432 with 3 Axes>"
      ]
     },
     "metadata": {
      "needs_background": "light"
     },
     "output_type": "display_data"
    }
   ],
   "source": [
    "plt.figure(figsize=(20,6))\n",
    "\n",
    "plt.subplot(1,3,1)\n",
    "plt.bar(df.TopicsNumber,df.tBERT_F1)\n",
    "for index,data in enumerate(df.tBERT_F1):\n",
    "  plt.text(x=index-0.25, y=data+0.007, s=\"{:.3}\".format(data) )\n",
    "plt.title('Accuracy')\n",
    "\n",
    "for j,c in enumerate(['Loss_Train','Loss_Val']):\n",
    "  plt.subplot(1,3,j+2)\n",
    "  for i in range(len(df)):\n",
    "    y = df[c][i]\n",
    "    x = list(range(len(y)))\n",
    "    l = 'n_topics=' + str(df.TopicsNumber[i])  \n",
    "    plt.plot(x,y,label=l)\n",
    "  \n",
    "  plt.title(c)\n",
    "  plt.xlabel('# batch')\n",
    "  plt.ylabel('loss')\n",
    "  plt.legend()\n",
    "\n",
    "plt.show()"
   ]
  },
  {
   "cell_type": "markdown",
   "metadata": {
    "id": "sXv3LIrc_5RD"
   },
   "source": [
    "The t=90 model performing well as the one in the article.\n",
    "<br><br><br>"
   ]
  },
  {
   "cell_type": "markdown",
   "metadata": {
    "id": "6R7PxjnkK0kF"
   },
   "source": [
    "### GSDMM"
   ]
  },
  {
   "cell_type": "code",
   "execution_count": 65,
   "metadata": {
    "colab": {
     "base_uri": "https://localhost:8080/"
    },
    "executionInfo": {
     "elapsed": 3252,
     "status": "ok",
     "timestamp": 1660496915133,
     "user": {
      "displayName": "Ilan Alex Golik",
      "userId": "15856695005902315184"
     },
     "user_tz": -180
    },
    "id": "AplrcGE6KfaX",
    "outputId": "05e8a6b9-eb14-4cdf-a390-4eeb002b888a"
   },
   "outputs": [
    {
     "name": "stdout",
     "output_type": "stream",
     "text": [
      "Looking in indexes: https://pypi.org/simple, https://us-python.pkg.dev/colab-wheels/public/simple/\n",
      "Collecting git+https://github.com/rwalk/gsdmm.git\n",
      "  Cloning https://github.com/rwalk/gsdmm.git to /tmp/pip-req-build-0g1ugx4h\n",
      "  Running command git clone -q https://github.com/rwalk/gsdmm.git /tmp/pip-req-build-0g1ugx4h\n",
      "Requirement already satisfied: numpy in /usr/local/lib/python3.7/dist-packages (from gsdmm==0.1) (1.21.6)\n"
     ]
    }
   ],
   "source": [
    "!pip install git+https://github.com/rwalk/gsdmm.git"
   ]
  },
  {
   "cell_type": "code",
   "execution_count": 66,
   "metadata": {
    "executionInfo": {
     "elapsed": 423,
     "status": "ok",
     "timestamp": 1660496915542,
     "user": {
      "displayName": "Ilan Alex Golik",
      "userId": "15856695005902315184"
     },
     "user_tz": -180
    },
    "id": "d2RhtSDEKn4h"
   },
   "outputs": [],
   "source": [
    "from gsdmm import MovieGroupProcess"
   ]
  },
  {
   "cell_type": "code",
   "execution_count": 67,
   "metadata": {
    "executionInfo": {
     "elapsed": 9,
     "status": "ok",
     "timestamp": 1660496915544,
     "user": {
      "displayName": "Ilan Alex Golik",
      "userId": "15856695005902315184"
     },
     "user_tz": -180
    },
    "id": "Dn4hNb4T8cAM"
   },
   "outputs": [],
   "source": [
    "class GSDMM_Wrapper_Topics_Distributions:\n",
    "    def __init__(self, random_seed, data_words_clean, map_for_train, corpus, dictionary, n_components=10):\n",
    "      self.seed = random_seed\n",
    "      self.map_for_train=map_for_train\n",
    "      self.data_words_clean = data_words_clean\n",
    "      self.corpus = corpus\n",
    "      self.dictionary = dictionary\n",
    "      self.n_components = n_components\n",
    "      self.gsdmm = MovieGroupProcess(K=self.n_components, alpha=0.1, beta=0.3, n_iters=15)\n",
    "      self.vocab_length = len(self.dictionary)\n",
    "      y = self.gsdmm.fit(np.array(data_words_clean), self.vocab_length)\n",
    "      self.max_len = n_components\n",
    "      self.log_lines = []\n",
    "      self.print=self.__print_log__\n",
    "\n",
    "    def __print_log__(self, x):\n",
    "      pass\n",
    "\n",
    "    def transform(self, sentences):\n",
    "      scores = []\n",
    "      for sentence in sentences:\n",
    "        cleaned = self.map_for_train[sentence]\n",
    "        score = self.gsdmm.score(cleaned)\n",
    "        scores.append(score)\n",
    "      return torch.tensor(scores).type(torch.FloatTensor)\n",
    "\n",
    "    def transform_cleaned(self, sentences):\n",
    "      scores = []\n",
    "      for cleaned in sentences:\n",
    "        score = self.gsdmm.score(cleaned)\n",
    "        scores.append(score)\n",
    "      return torch.tensor(scores).type(torch.FloatTensor)\n",
    "\n",
    "    def evaluate_model(self):\n",
    "      pass"
   ]
  },
  {
   "cell_type": "code",
   "execution_count": 68,
   "metadata": {
    "colab": {
     "base_uri": "https://localhost:8080/"
    },
    "executionInfo": {
     "elapsed": 1312013,
     "status": "ok",
     "timestamp": 1660498227549,
     "user": {
      "displayName": "Ilan Alex Golik",
      "userId": "15856695005902315184"
     },
     "user_tz": -180
    },
    "id": "dtnPRJMfKHBM",
    "outputId": "291e8b65-9fa4-42a9-d545-247ac21401d6"
   },
   "outputs": [
    {
     "name": "stdout",
     "output_type": "stream",
     "text": [
      "ceating topic generators\n",
      "In stage 0: transferred 38911 clusters with 85 clusters populated\n",
      "In stage 1: transferred 31940 clusters with 85 clusters populated\n",
      "In stage 2: transferred 22956 clusters with 85 clusters populated\n",
      "In stage 3: transferred 17194 clusters with 79 clusters populated\n",
      "In stage 4: transferred 14073 clusters with 70 clusters populated\n",
      "In stage 5: transferred 12806 clusters with 60 clusters populated\n",
      "In stage 6: transferred 11655 clusters with 50 clusters populated\n",
      "In stage 7: transferred 11026 clusters with 45 clusters populated\n",
      "In stage 8: transferred 10483 clusters with 46 clusters populated\n",
      "In stage 9: transferred 10222 clusters with 43 clusters populated\n",
      "In stage 10: transferred 10034 clusters with 40 clusters populated\n",
      "In stage 11: transferred 9723 clusters with 38 clusters populated\n",
      "In stage 12: transferred 9751 clusters with 40 clusters populated\n",
      "In stage 13: transferred 9645 clusters with 39 clusters populated\n",
      "In stage 14: transferred 9510 clusters with 37 clusters populated\n",
      "ceated topic generator for 85 topics\n",
      "In stage 0: transferred 38934 clusters with 90 clusters populated\n",
      "In stage 1: transferred 32121 clusters with 90 clusters populated\n",
      "In stage 2: transferred 22488 clusters with 90 clusters populated\n",
      "In stage 3: transferred 16253 clusters with 83 clusters populated\n",
      "In stage 4: transferred 13490 clusters with 69 clusters populated\n",
      "In stage 5: transferred 12183 clusters with 65 clusters populated\n",
      "In stage 6: transferred 11307 clusters with 58 clusters populated\n",
      "In stage 7: transferred 10639 clusters with 54 clusters populated\n",
      "In stage 8: transferred 10289 clusters with 52 clusters populated\n",
      "In stage 9: transferred 10299 clusters with 48 clusters populated\n",
      "In stage 10: transferred 10063 clusters with 46 clusters populated\n",
      "In stage 11: transferred 9814 clusters with 51 clusters populated\n",
      "In stage 12: transferred 9614 clusters with 46 clusters populated\n",
      "In stage 13: transferred 9498 clusters with 46 clusters populated\n",
      "In stage 14: transferred 9428 clusters with 46 clusters populated\n",
      "ceated topic generator for 90 topics\n"
     ]
    }
   ],
   "source": [
    "topics_dict_gensim = dict()\n",
    "print(f'ceating topic generators')\n",
    "# n_topics\n",
    "for n in [85,90]:\n",
    "  set_seed(SEED)\n",
    "  topics_dict_gensim[n] = GSDMM_Wrapper_Topics_Distributions(T_SEED, data_words_clean, mapped, corpus, dictionary, n_components=n)\n",
    "  topics_dict_gensim[n].evaluate_model()\n",
    "  print(f'ceated topic generator for {n} topics')"
   ]
  },
  {
   "cell_type": "code",
   "execution_count": 69,
   "metadata": {
    "executionInfo": {
     "elapsed": 21,
     "status": "ok",
     "timestamp": 1660498227551,
     "user": {
      "displayName": "Ilan Alex Golik",
      "userId": "15856695005902315184"
     },
     "user_tz": -180
    },
    "id": "or4jeOyzKNKU"
   },
   "outputs": [],
   "source": [
    "topics_dict = topics_dict_gensim"
   ]
  },
  {
   "cell_type": "code",
   "execution_count": 71,
   "metadata": {
    "executionInfo": {
     "elapsed": 356,
     "status": "ok",
     "timestamp": 1660498305446,
     "user": {
      "displayName": "Ilan Alex Golik",
      "userId": "15856695005902315184"
     },
     "user_tz": -180
    },
    "id": "0Wjn4Lw5S4IT"
   },
   "outputs": [],
   "source": [
    "test_results_dictionary_GSDMM = defaultdict(lambda: \"Not Present\")"
   ]
  },
  {
   "cell_type": "code",
   "execution_count": 72,
   "metadata": {
    "colab": {
     "base_uri": "https://localhost:8080/"
    },
    "executionInfo": {
     "elapsed": 724084,
     "status": "ok",
     "timestamp": 1660499029786,
     "user": {
      "displayName": "Ilan Alex Golik",
      "userId": "15856695005902315184"
     },
     "user_tz": -180
    },
    "id": "3hO6jBunKOJA",
    "outputId": "0105c8d5-06da-4ba6-d8c9-f3ef55ac6934"
   },
   "outputs": [
    {
     "name": "stdout",
     "output_type": "stream",
     "text": [
      "tbert_quora_t85: Training \t\n",
      "\n"
     ]
    },
    {
     "name": "stderr",
     "output_type": "stream",
     "text": []
    },
    {
     "name": "stdout",
     "output_type": "stream",
     "text": [
      "tbert_quora_t85: Testing \t\n",
      "\n"
     ]
    },
    {
     "name": "stderr",
     "output_type": "stream",
     "text": []
    },
    {
     "name": "stdout",
     "output_type": "stream",
     "text": [
      "Done for 85 topics\n",
      "tbert_quora_t90: Training \t\n",
      "\n"
     ]
    },
    {
     "name": "stderr",
     "output_type": "stream",
     "text": []
    },
    {
     "name": "stdout",
     "output_type": "stream",
     "text": [
      "tbert_quora_t90: Testing \t\n",
      "\n"
     ]
    },
    {
     "name": "stderr",
     "output_type": "stream",
     "text": [
      "                                                                    "
     ]
    },
    {
     "name": "stdout",
     "output_type": "stream",
     "text": [
      "Done for 90 topics\n"
     ]
    },
    {
     "name": "stderr",
     "output_type": "stream",
     "text": [
      "\r"
     ]
    }
   ],
   "source": [
    "df_GSDMM = pd.DataFrame(columns=['TopicsNumber','tBERT_F1','Loss_Train','Loss_Val'])\n",
    "\n",
    "def add_result(topics, real_tbert, pred_tbert, loss_train, loss_val, results_dict):\n",
    "  results_dict[topics] = (real_tbert, pred_tbert)\n",
    "  f1_tbert = f1_score(y_true=real_tbert,y_pred=pred_tbert)\n",
    "  df_GSDMM.loc[len(df_GSDMM)] = [str(topics),f1_tbert,loss_train,loss_val]\n",
    "\n",
    "# n_topics = [60,70,75,80,85,90,100]\n",
    "for n in [85,90]:\n",
    "  set_seed(SEED)\n",
    "  # model\n",
    "  model_tbert = TBertImpl(BERT_MODEL_NAME, tokenizer, topics_dict[n], batch_size=BATCH_SIZE, \n",
    "                          t_max_len = T_MAX_LEN, isPair=1,n_components=n).cuda();\n",
    "  model_tbert.freeze_BERT()\n",
    "\n",
    "  # train\n",
    "  trainer_tBERT = myTrainer(model_tbert,with_LDA=True,\n",
    "                            model_name='tbert_quora_t'+str(n),\n",
    "                            train_dataset=dataset_quora_train,\n",
    "                            val_dataset=dataset_quora_val,\n",
    "                            test_dataset=dataset_quora_test,\n",
    "                            batch_size=BATCH_SIZE ,epochs=3)\n",
    "  trainer_tBERT.train()\n",
    "\n",
    "  # predict\n",
    "  real_tbert_quora,pred_tbert_quora = trainer_tBERT.predict_pair()\n",
    "\n",
    "  # save model results\n",
    "  add_result(n, real_tbert_quora, pred_tbert_quora,trainer_tBERT.loss_train,trainer_tBERT.loss_val, test_results_dictionary_GSDMM)\n",
    "  print(f'Done for {n} topics')\n",
    "  # print(df.tBERT_Accuracy.values)\n",
    "\n",
    "\n",
    "\n",
    "  # free cuda\n",
    "  model_tbert, trainer_tBERT = None, None\n",
    "  gc.collect()\n",
    "  empty_cache()"
   ]
  },
  {
   "cell_type": "code",
   "execution_count": 73,
   "metadata": {
    "colab": {
     "base_uri": "https://localhost:8080/"
    },
    "executionInfo": {
     "elapsed": 20,
     "status": "ok",
     "timestamp": 1660499029788,
     "user": {
      "displayName": "Ilan Alex Golik",
      "userId": "15856695005902315184"
     },
     "user_tz": -180
    },
    "id": "v4wZzqdfLPKW",
    "outputId": "5a76b630-d29e-4016-ace6-69e8f82247ff"
   },
   "outputs": [
    {
     "data": {
      "text/html": [
       "\n",
       "  <div id=\"df-ab7cf291-f067-4063-806c-fa6248aabb16\">\n",
       "    <div class=\"colab-df-container\">\n",
       "      <div>\n",
       "<style scoped>\n",
       "    .dataframe tbody tr th:only-of-type {\n",
       "        vertical-align: middle;\n",
       "    }\n",
       "\n",
       "    .dataframe tbody tr th {\n",
       "        vertical-align: top;\n",
       "    }\n",
       "\n",
       "    .dataframe thead th {\n",
       "        text-align: right;\n",
       "    }\n",
       "</style>\n",
       "<table border=\"1\" class=\"dataframe\">\n",
       "  <thead>\n",
       "    <tr style=\"text-align: right;\">\n",
       "      <th></th>\n",
       "      <th>TopicsNumber</th>\n",
       "      <th>tBERT_F1</th>\n",
       "      <th>Loss_Train</th>\n",
       "      <th>Loss_Val</th>\n",
       "    </tr>\n",
       "  </thead>\n",
       "  <tbody>\n",
       "    <tr>\n",
       "      <th>0</th>\n",
       "      <td>85</td>\n",
       "      <td>0.313376</td>\n",
       "      <td>[2.0544222593307495, 2.072833836078644, 2.1074...</td>\n",
       "      <td>[2.1075607538223267, 2.187228798866272, 2.0255...</td>\n",
       "    </tr>\n",
       "    <tr>\n",
       "      <th>1</th>\n",
       "      <td>90</td>\n",
       "      <td>0.657682</td>\n",
       "      <td>[2.1337838172912598, 2.264770209789276, 2.2779...</td>\n",
       "      <td>[2.2026607990264893, 1.9915755987167358, 2.211...</td>\n",
       "    </tr>\n",
       "  </tbody>\n",
       "</table>\n",
       "</div>\n",
       "      <button class=\"colab-df-convert\" onclick=\"convertToInteractive('df-ab7cf291-f067-4063-806c-fa6248aabb16')\"\n",
       "              title=\"Convert this dataframe to an interactive table.\"\n",
       "              style=\"display:none;\">\n",
       "        \n",
       "  <svg xmlns=\"http://www.w3.org/2000/svg\" height=\"24px\"viewBox=\"0 0 24 24\"\n",
       "       width=\"24px\">\n",
       "    <path d=\"M0 0h24v24H0V0z\" fill=\"none\"/>\n",
       "    <path d=\"M18.56 5.44l.94 2.06.94-2.06 2.06-.94-2.06-.94-.94-2.06-.94 2.06-2.06.94zm-11 1L8.5 8.5l.94-2.06 2.06-.94-2.06-.94L8.5 2.5l-.94 2.06-2.06.94zm10 10l.94 2.06.94-2.06 2.06-.94-2.06-.94-.94-2.06-.94 2.06-2.06.94z\"/><path d=\"M17.41 7.96l-1.37-1.37c-.4-.4-.92-.59-1.43-.59-.52 0-1.04.2-1.43.59L10.3 9.45l-7.72 7.72c-.78.78-.78 2.05 0 2.83L4 21.41c.39.39.9.59 1.41.59.51 0 1.02-.2 1.41-.59l7.78-7.78 2.81-2.81c.8-.78.8-2.07 0-2.86zM5.41 20L4 18.59l7.72-7.72 1.47 1.35L5.41 20z\"/>\n",
       "  </svg>\n",
       "      </button>\n",
       "      \n",
       "  <style>\n",
       "    .colab-df-container {\n",
       "      display:flex;\n",
       "      flex-wrap:wrap;\n",
       "      gap: 12px;\n",
       "    }\n",
       "\n",
       "    .colab-df-convert {\n",
       "      background-color: #E8F0FE;\n",
       "      border: none;\n",
       "      border-radius: 50%;\n",
       "      cursor: pointer;\n",
       "      display: none;\n",
       "      fill: #1967D2;\n",
       "      height: 32px;\n",
       "      padding: 0 0 0 0;\n",
       "      width: 32px;\n",
       "    }\n",
       "\n",
       "    .colab-df-convert:hover {\n",
       "      background-color: #E2EBFA;\n",
       "      box-shadow: 0px 1px 2px rgba(60, 64, 67, 0.3), 0px 1px 3px 1px rgba(60, 64, 67, 0.15);\n",
       "      fill: #174EA6;\n",
       "    }\n",
       "\n",
       "    [theme=dark] .colab-df-convert {\n",
       "      background-color: #3B4455;\n",
       "      fill: #D2E3FC;\n",
       "    }\n",
       "\n",
       "    [theme=dark] .colab-df-convert:hover {\n",
       "      background-color: #434B5C;\n",
       "      box-shadow: 0px 1px 3px 1px rgba(0, 0, 0, 0.15);\n",
       "      filter: drop-shadow(0px 1px 2px rgba(0, 0, 0, 0.3));\n",
       "      fill: #FFFFFF;\n",
       "    }\n",
       "  </style>\n",
       "\n",
       "      <script>\n",
       "        const buttonEl =\n",
       "          document.querySelector('#df-ab7cf291-f067-4063-806c-fa6248aabb16 button.colab-df-convert');\n",
       "        buttonEl.style.display =\n",
       "          google.colab.kernel.accessAllowed ? 'block' : 'none';\n",
       "\n",
       "        async function convertToInteractive(key) {\n",
       "          const element = document.querySelector('#df-ab7cf291-f067-4063-806c-fa6248aabb16');\n",
       "          const dataTable =\n",
       "            await google.colab.kernel.invokeFunction('convertToInteractive',\n",
       "                                                     [key], {});\n",
       "          if (!dataTable) return;\n",
       "\n",
       "          const docLinkHtml = 'Like what you see? Visit the ' +\n",
       "            '<a target=\"_blank\" href=https://colab.research.google.com/notebooks/data_table.ipynb>data table notebook</a>'\n",
       "            + ' to learn more about interactive tables.';\n",
       "          element.innerHTML = '';\n",
       "          dataTable['output_type'] = 'display_data';\n",
       "          await google.colab.output.renderOutput(dataTable, element);\n",
       "          const docLink = document.createElement('div');\n",
       "          docLink.innerHTML = docLinkHtml;\n",
       "          element.appendChild(docLink);\n",
       "        }\n",
       "      </script>\n",
       "    </div>\n",
       "  </div>\n",
       "  "
      ],
      "text/plain": [
       "  TopicsNumber  tBERT_F1                                         Loss_Train  \\\n",
       "0           85  0.313376  [2.0544222593307495, 2.072833836078644, 2.1074...   \n",
       "1           90  0.657682  [2.1337838172912598, 2.264770209789276, 2.2779...   \n",
       "\n",
       "                                            Loss_Val  \n",
       "0  [2.1075607538223267, 2.187228798866272, 2.0255...  \n",
       "1  [2.2026607990264893, 1.9915755987167358, 2.211...  "
      ]
     },
     "execution_count": 73,
     "metadata": {},
     "output_type": "execute_result"
    }
   ],
   "source": [
    "df_GSDMM"
   ]
  },
  {
   "cell_type": "code",
   "execution_count": 74,
   "metadata": {
    "colab": {
     "base_uri": "https://localhost:8080/"
    },
    "executionInfo": {
     "elapsed": 765,
     "status": "ok",
     "timestamp": 1660499030542,
     "user": {
      "displayName": "Ilan Alex Golik",
      "userId": "15856695005902315184"
     },
     "user_tz": -180
    },
    "id": "Jl40p83hLX3T",
    "outputId": "e29bfc22-85e9-4105-913a-4a3ef79ffd8f"
   },
   "outputs": [
    {
     "data": {
      "image/png": "[encoded data removed]",
      "text/plain": [
       "<Figure size 1440x432 with 3 Axes>"
      ]
     },
     "metadata": {
      "needs_background": "light"
     },
     "output_type": "display_data"
    }
   ],
   "source": [
    "plt.figure(figsize=(20,6))\n",
    "\n",
    "plt.subplot(1,3,1)\n",
    "plt.bar(df_GSDMM.TopicsNumber,df.tBERT_F1)\n",
    "for index,data in enumerate(df_GSDMM.tBERT_F1):\n",
    "  plt.text(x=index-0.25, y=data+0.007, s=\"{:.3}\".format(data) )\n",
    "plt.title('Accuracy')\n",
    "\n",
    "for j,c in enumerate(['Loss_Train','Loss_Val']):\n",
    "  plt.subplot(1,3,j+2)\n",
    "  for i in range(len(df_GSDMM)):\n",
    "    y = df_GSDMM[c][i]\n",
    "    x = list(range(len(y)))\n",
    "    l = 'n_topics=' + str(df_GSDMM.TopicsNumber[i])  \n",
    "    plt.plot(x,y,label=l)\n",
    "  \n",
    "  plt.title(c)\n",
    "  plt.xlabel('# batch')\n",
    "  plt.ylabel('loss')\n",
    "  plt.legend()\n",
    "\n",
    "plt.show()"
   ]
  }
 ],
 "metadata": {
  "accelerator": "GPU",
  "colab": {
   "collapsed_sections": [],
   "machine_shape": "hm",
   "name": "tBERT_with_LDA_QOURA.ipynb",
   "provenance": []
  },
  "gpuClass": "standard",
  "kernelspec": {
   "display_name": "Python 3 (ipykernel)",
   "language": "python",
   "name": "python3"
  },
  "language_info": {
   "codemirror_mode": {
    "name": "ipython",
    "version": 3
   },
   "file_extension": ".py",
   "mimetype": "text/x-python",
   "name": "python",
   "nbconvert_exporter": "python",
   "pygments_lexer": "ipython3",
   "version": "3.9.7"
  },
  "widgets": {
   "application/vnd.jupyter.widget-state+json": {
    "022452df2b6248e59e3a6d94485e5c00": {
     "model_module": "@jupyter-widgets/base",
     "model_module_version": "1.2.0",
     "model_name": "LayoutModel",
     "state": {
      "_model_module": "@jupyter-widgets/base",
      "_model_module_version": "1.2.0",
      "_model_name": "LayoutModel",
      "_view_count": null,
      "_view_module": "@jupyter-widgets/base",
      "_view_module_version": "1.2.0",
      "_view_name": "LayoutView",
      "align_content": null,
      "align_items": null,
      "align_self": null,
      "border": null,
      "bottom": null,
      "display": null,
      "flex": null,
      "flex_flow": null,
      "grid_area": null,
      "grid_auto_columns": null,
      "grid_auto_flow": null,
      "grid_auto_rows": null,
      "grid_column": null,
      "grid_gap": null,
      "grid_row": null,
      "grid_template_areas": null,
      "grid_template_columns": null,
      "grid_template_rows": null,
      "height": null,
      "justify_content": null,
      "justify_items": null,
      "left": null,
      "margin": null,
      "max_height": null,
      "max_width": null,
      "min_height": null,
      "min_width": null,
      "object_fit": null,
      "object_position": null,
      "order": null,
      "overflow": null,
      "overflow_x": null,
      "overflow_y": null,
      "padding": null,
      "right": null,
      "top": null,
      "visibility": null,
      "width": null
     }
    },
    "0d860195b5504c66b409cfef2cf7bd8a": {
     "model_module": "@jupyter-widgets/controls",
     "model_module_version": "1.5.0",
     "model_name": "ProgressStyleModel",
     "state": {
      "_model_module": "@jupyter-widgets/controls",
      "_model_module_version": "1.5.0",
      "_model_name": "ProgressStyleModel",
      "_view_count": null,
      "_view_module": "@jupyter-widgets/base",
      "_view_module_version": "1.2.0",
      "_view_name": "StyleView",
      "bar_color": null,
      "description_width": ""
     }
    },
    "13b2c80ed9b24bbd94e1ee7181b96a19": {
     "model_module": "@jupyter-widgets/base",
     "model_module_version": "1.2.0",
     "model_name": "LayoutModel",
     "state": {
      "_model_module": "@jupyter-widgets/base",
      "_model_module_version": "1.2.0",
      "_model_name": "LayoutModel",
      "_view_count": null,
      "_view_module": "@jupyter-widgets/base",
      "_view_module_version": "1.2.0",
      "_view_name": "LayoutView",
      "align_content": null,
      "align_items": null,
      "align_self": null,
      "border": null,
      "bottom": null,
      "display": null,
      "flex": null,
      "flex_flow": null,
      "grid_area": null,
      "grid_auto_columns": null,
      "grid_auto_flow": null,
      "grid_auto_rows": null,
      "grid_column": null,
      "grid_gap": null,
      "grid_row": null,
      "grid_template_areas": null,
      "grid_template_columns": null,
      "grid_template_rows": null,
      "height": null,
      "justify_content": null,
      "justify_items": null,
      "left": null,
      "margin": null,
      "max_height": null,
      "max_width": null,
      "min_height": null,
      "min_width": null,
      "object_fit": null,
      "object_position": null,
      "order": null,
      "overflow": null,
      "overflow_x": null,
      "overflow_y": null,
      "padding": null,
      "right": null,
      "top": null,
      "visibility": null,
      "width": null
     }
    },
    "1f343c04f62647e8aeef7d1fe7496b36": {
     "model_module": "@jupyter-widgets/base",
     "model_module_version": "1.2.0",
     "model_name": "LayoutModel",
     "state": {
      "_model_module": "@jupyter-widgets/base",
      "_model_module_version": "1.2.0",
      "_model_name": "LayoutModel",
      "_view_count": null,
      "_view_module": "@jupyter-widgets/base",
      "_view_module_version": "1.2.0",
      "_view_name": "LayoutView",
      "align_content": null,
      "align_items": null,
      "align_self": null,
      "border": null,
      "bottom": null,
      "display": null,
      "flex": null,
      "flex_flow": null,
      "grid_area": null,
      "grid_auto_columns": null,
      "grid_auto_flow": null,
      "grid_auto_rows": null,
      "grid_column": null,
      "grid_gap": null,
      "grid_row": null,
      "grid_template_areas": null,
      "grid_template_columns": null,
      "grid_template_rows": null,
      "height": null,
      "justify_content": null,
      "justify_items": null,
      "left": null,
      "margin": null,
      "max_height": null,
      "max_width": null,
      "min_height": null,
      "min_width": null,
      "object_fit": null,
      "object_position": null,
      "order": null,
      "overflow": null,
      "overflow_x": null,
      "overflow_y": null,
      "padding": null,
      "right": null,
      "top": null,
      "visibility": null,
      "width": null
     }
    },
    "20257fa3d1004406865840a5539f13df": {
     "model_module": "@jupyter-widgets/controls",
     "model_module_version": "1.5.0",
     "model_name": "FloatProgressModel",
     "state": {
      "_dom_classes": [],
      "_model_module": "@jupyter-widgets/controls",
      "_model_module_version": "1.5.0",
      "_model_name": "FloatProgressModel",
      "_view_count": null,
      "_view_module": "@jupyter-widgets/controls",
      "_view_module_version": "1.5.0",
      "_view_name": "ProgressView",
      "bar_style": "success",
      "description": "",
      "description_tooltip": null,
      "layout": "IPY_MODEL_2985e5769402426aa2842def55631493",
      "max": 231508,
      "min": 0,
      "orientation": "horizontal",
      "style": "IPY_MODEL_0d860195b5504c66b409cfef2cf7bd8a",
      "value": 231508
     }
    },
    "2985e5769402426aa2842def55631493": {
     "model_module": "@jupyter-widgets/base",
     "model_module_version": "1.2.0",
     "model_name": "LayoutModel",
     "state": {
      "_model_module": "@jupyter-widgets/base",
      "_model_module_version": "1.2.0",
      "_model_name": "LayoutModel",
      "_view_count": null,
      "_view_module": "@jupyter-widgets/base",
      "_view_module_version": "1.2.0",
      "_view_name": "LayoutView",
      "align_content": null,
      "align_items": null,
      "align_self": null,
      "border": null,
      "bottom": null,
      "display": null,
      "flex": null,
      "flex_flow": null,
      "grid_area": null,
      "grid_auto_columns": null,
      "grid_auto_flow": null,
      "grid_auto_rows": null,
      "grid_column": null,
      "grid_gap": null,
      "grid_row": null,
      "grid_template_areas": null,
      "grid_template_columns": null,
      "grid_template_rows": null,
      "height": null,
      "justify_content": null,
      "justify_items": null,
      "left": null,
      "margin": null,
      "max_height": null,
      "max_width": null,
      "min_height": null,
      "min_width": null,
      "object_fit": null,
      "object_position": null,
      "order": null,
      "overflow": null,
      "overflow_x": null,
      "overflow_y": null,
      "padding": null,
      "right": null,
      "top": null,
      "visibility": null,
      "width": null
     }
    },
    "336101c4a438464e9fd03871ee47a83d": {
     "model_module": "@jupyter-widgets/base",
     "model_module_version": "1.2.0",
     "model_name": "LayoutModel",
     "state": {
      "_model_module": "@jupyter-widgets/base",
      "_model_module_version": "1.2.0",
      "_model_name": "LayoutModel",
      "_view_count": null,
      "_view_module": "@jupyter-widgets/base",
      "_view_module_version": "1.2.0",
      "_view_name": "LayoutView",
      "align_content": null,
      "align_items": null,
      "align_self": null,
      "border": null,
      "bottom": null,
      "display": null,
      "flex": null,
      "flex_flow": null,
      "grid_area": null,
      "grid_auto_columns": null,
      "grid_auto_flow": null,
      "grid_auto_rows": null,
      "grid_column": null,
      "grid_gap": null,
      "grid_row": null,
      "grid_template_areas": null,
      "grid_template_columns": null,
      "grid_template_rows": null,
      "height": null,
      "justify_content": null,
      "justify_items": null,
      "left": null,
      "margin": null,
      "max_height": null,
      "max_width": null,
      "min_height": null,
      "min_width": null,
      "object_fit": null,
      "object_position": null,
      "order": null,
      "overflow": null,
      "overflow_x": null,
      "overflow_y": null,
      "padding": null,
      "right": null,
      "top": null,
      "visibility": null,
      "width": null
     }
    },
    "4b02393c18e34878a7626510b2158f58": {
     "model_module": "@jupyter-widgets/controls",
     "model_module_version": "1.5.0",
     "model_name": "HTMLModel",
     "state": {
      "_dom_classes": [],
      "_model_module": "@jupyter-widgets/controls",
      "_model_module_version": "1.5.0",
      "_model_name": "HTMLModel",
      "_view_count": null,
      "_view_module": "@jupyter-widgets/controls",
      "_view_module_version": "1.5.0",
      "_view_name": "HTMLView",
      "description": "",
      "description_tooltip": null,
      "layout": "IPY_MODEL_336101c4a438464e9fd03871ee47a83d",
      "placeholder": "​",
      "style": "IPY_MODEL_7094b05e65834d6eb8b9572e975d2aed",
      "value": " 226k/226k [00:00&lt;00:00, 863kB/s]"
     }
    },
    "4c8b181c25d640d29d4245003c7ce8ad": {
     "model_module": "@jupyter-widgets/controls",
     "model_module_version": "1.5.0",
     "model_name": "HTMLModel",
     "state": {
      "_dom_classes": [],
      "_model_module": "@jupyter-widgets/controls",
      "_model_module_version": "1.5.0",
      "_model_name": "HTMLModel",
      "_view_count": null,
      "_view_module": "@jupyter-widgets/controls",
      "_view_module_version": "1.5.0",
      "_view_name": "HTMLView",
      "description": "",
      "description_tooltip": null,
      "layout": "IPY_MODEL_75193076b096401a8d187589c0d2a5e1",
      "placeholder": "​",
      "style": "IPY_MODEL_4f19fe0f05e14909a9625134615586a0",
      "value": " 570/570 [00:00&lt;00:00, 21.6kB/s]"
     }
    },
    "4df61a3bbac34447ae9516ff161316e3": {
     "model_module": "@jupyter-widgets/controls",
     "model_module_version": "1.5.0",
     "model_name": "HTMLModel",
     "state": {
      "_dom_classes": [],
      "_model_module": "@jupyter-widgets/controls",
      "_model_module_version": "1.5.0",
      "_model_name": "HTMLModel",
      "_view_count": null,
      "_view_module": "@jupyter-widgets/controls",
      "_view_module_version": "1.5.0",
      "_view_name": "HTMLView",
      "description": "",
      "description_tooltip": null,
      "layout": "IPY_MODEL_8d0662612570419cb0d959fca6ca7a89",
      "placeholder": "​",
      "style": "IPY_MODEL_a354a4a2ce394d30a5d2091981e3b22a",
      "value": "Downloading vocab.txt: 100%"
     }
    },
    "4f19fe0f05e14909a9625134615586a0": {
     "model_module": "@jupyter-widgets/controls",
     "model_module_version": "1.5.0",
     "model_name": "DescriptionStyleModel",
     "state": {
      "_model_module": "@jupyter-widgets/controls",
      "_model_module_version": "1.5.0",
      "_model_name": "DescriptionStyleModel",
      "_view_count": null,
      "_view_module": "@jupyter-widgets/base",
      "_view_module_version": "1.2.0",
      "_view_name": "StyleView",
      "description_width": ""
     }
    },
    "5b3ca422f2ae4fc584b708259f55864a": {
     "model_module": "@jupyter-widgets/controls",
     "model_module_version": "1.5.0",
     "model_name": "DescriptionStyleModel",
     "state": {
      "_model_module": "@jupyter-widgets/controls",
      "_model_module_version": "1.5.0",
      "_model_name": "DescriptionStyleModel",
      "_view_count": null,
      "_view_module": "@jupyter-widgets/base",
      "_view_module_version": "1.2.0",
      "_view_name": "StyleView",
      "description_width": ""
     }
    },
    "5b9fe172514341ba822ce80ef95c1136": {
     "model_module": "@jupyter-widgets/controls",
     "model_module_version": "1.5.0",
     "model_name": "HTMLModel",
     "state": {
      "_dom_classes": [],
      "_model_module": "@jupyter-widgets/controls",
      "_model_module_version": "1.5.0",
      "_model_name": "HTMLModel",
      "_view_count": null,
      "_view_module": "@jupyter-widgets/controls",
      "_view_module_version": "1.5.0",
      "_view_name": "HTMLView",
      "description": "",
      "description_tooltip": null,
      "layout": "IPY_MODEL_5ca66a80fc9a45399e8c679aca48998e",
      "placeholder": "​",
      "style": "IPY_MODEL_5b3ca422f2ae4fc584b708259f55864a",
      "value": " 28.0/28.0 [00:00&lt;00:00, 1.17kB/s]"
     }
    },
    "5ca66a80fc9a45399e8c679aca48998e": {
     "model_module": "@jupyter-widgets/base",
     "model_module_version": "1.2.0",
     "model_name": "LayoutModel",
     "state": {
      "_model_module": "@jupyter-widgets/base",
      "_model_module_version": "1.2.0",
      "_model_name": "LayoutModel",
      "_view_count": null,
      "_view_module": "@jupyter-widgets/base",
      "_view_module_version": "1.2.0",
      "_view_name": "LayoutView",
      "align_content": null,
      "align_items": null,
      "align_self": null,
      "border": null,
      "bottom": null,
      "display": null,
      "flex": null,
      "flex_flow": null,
      "grid_area": null,
      "grid_auto_columns": null,
      "grid_auto_flow": null,
      "grid_auto_rows": null,
      "grid_column": null,
      "grid_gap": null,
      "grid_row": null,
      "grid_template_areas": null,
      "grid_template_columns": null,
      "grid_template_rows": null,
      "height": null,
      "justify_content": null,
      "justify_items": null,
      "left": null,
      "margin": null,
      "max_height": null,
      "max_width": null,
      "min_height": null,
      "min_width": null,
      "object_fit": null,
      "object_position": null,
      "order": null,
      "overflow": null,
      "overflow_x": null,
      "overflow_y": null,
      "padding": null,
      "right": null,
      "top": null,
      "visibility": null,
      "width": null
     }
    },
    "629bf86f2d19496d99df47d63d5ccf8b": {
     "model_module": "@jupyter-widgets/base",
     "model_module_version": "1.2.0",
     "model_name": "LayoutModel",
     "state": {
      "_model_module": "@jupyter-widgets/base",
      "_model_module_version": "1.2.0",
      "_model_name": "LayoutModel",
      "_view_count": null,
      "_view_module": "@jupyter-widgets/base",
      "_view_module_version": "1.2.0",
      "_view_name": "LayoutView",
      "align_content": null,
      "align_items": null,
      "align_self": null,
      "border": null,
      "bottom": null,
      "display": null,
      "flex": null,
      "flex_flow": null,
      "grid_area": null,
      "grid_auto_columns": null,
      "grid_auto_flow": null,
      "grid_auto_rows": null,
      "grid_column": null,
      "grid_gap": null,
      "grid_row": null,
      "grid_template_areas": null,
      "grid_template_columns": null,
      "grid_template_rows": null,
      "height": null,
      "justify_content": null,
      "justify_items": null,
      "left": null,
      "margin": null,
      "max_height": null,
      "max_width": null,
      "min_height": null,
      "min_width": null,
      "object_fit": null,
      "object_position": null,
      "order": null,
      "overflow": null,
      "overflow_x": null,
      "overflow_y": null,
      "padding": null,
      "right": null,
      "top": null,
      "visibility": null,
      "width": null
     }
    },
    "67e7e23de49c4d53916c409a54af1ae7": {
     "model_module": "@jupyter-widgets/controls",
     "model_module_version": "1.5.0",
     "model_name": "FloatProgressModel",
     "state": {
      "_dom_classes": [],
      "_model_module": "@jupyter-widgets/controls",
      "_model_module_version": "1.5.0",
      "_model_name": "FloatProgressModel",
      "_view_count": null,
      "_view_module": "@jupyter-widgets/controls",
      "_view_module_version": "1.5.0",
      "_view_name": "ProgressView",
      "bar_style": "success",
      "description": "",
      "description_tooltip": null,
      "layout": "IPY_MODEL_13b2c80ed9b24bbd94e1ee7181b96a19",
      "max": 570,
      "min": 0,
      "orientation": "horizontal",
      "style": "IPY_MODEL_a9541fea188d44d3a6a95d41241f9aa9",
      "value": 570
     }
    },
    "7094b05e65834d6eb8b9572e975d2aed": {
     "model_module": "@jupyter-widgets/controls",
     "model_module_version": "1.5.0",
     "model_name": "DescriptionStyleModel",
     "state": {
      "_model_module": "@jupyter-widgets/controls",
      "_model_module_version": "1.5.0",
      "_model_name": "DescriptionStyleModel",
      "_view_count": null,
      "_view_module": "@jupyter-widgets/base",
      "_view_module_version": "1.2.0",
      "_view_name": "StyleView",
      "description_width": ""
     }
    },
    "75193076b096401a8d187589c0d2a5e1": {
     "model_module": "@jupyter-widgets/base",
     "model_module_version": "1.2.0",
     "model_name": "LayoutModel",
     "state": {
      "_model_module": "@jupyter-widgets/base",
      "_model_module_version": "1.2.0",
      "_model_name": "LayoutModel",
      "_view_count": null,
      "_view_module": "@jupyter-widgets/base",
      "_view_module_version": "1.2.0",
      "_view_name": "LayoutView",
      "align_content": null,
      "align_items": null,
      "align_self": null,
      "border": null,
      "bottom": null,
      "display": null,
      "flex": null,
      "flex_flow": null,
      "grid_area": null,
      "grid_auto_columns": null,
      "grid_auto_flow": null,
      "grid_auto_rows": null,
      "grid_column": null,
      "grid_gap": null,
      "grid_row": null,
      "grid_template_areas": null,
      "grid_template_columns": null,
      "grid_template_rows": null,
      "height": null,
      "justify_content": null,
      "justify_items": null,
      "left": null,
      "margin": null,
      "max_height": null,
      "max_width": null,
      "min_height": null,
      "min_width": null,
      "object_fit": null,
      "object_position": null,
      "order": null,
      "overflow": null,
      "overflow_x": null,
      "overflow_y": null,
      "padding": null,
      "right": null,
      "top": null,
      "visibility": null,
      "width": null
     }
    },
    "77b5c8d24aac49b6b093da8c9c851e89": {
     "model_module": "@jupyter-widgets/controls",
     "model_module_version": "1.5.0",
     "model_name": "HTMLModel",
     "state": {
      "_dom_classes": [],
      "_model_module": "@jupyter-widgets/controls",
      "_model_module_version": "1.5.0",
      "_model_name": "HTMLModel",
      "_view_count": null,
      "_view_module": "@jupyter-widgets/controls",
      "_view_module_version": "1.5.0",
      "_view_name": "HTMLView",
      "description": "",
      "description_tooltip": null,
      "layout": "IPY_MODEL_88b7803844214284a675f38cf20a5c7f",
      "placeholder": "​",
      "style": "IPY_MODEL_79ee7340f79e485e930e1a93ee52cbb9",
      "value": "Downloading tokenizer_config.json: 100%"
     }
    },
    "79ee7340f79e485e930e1a93ee52cbb9": {
     "model_module": "@jupyter-widgets/controls",
     "model_module_version": "1.5.0",
     "model_name": "DescriptionStyleModel",
     "state": {
      "_model_module": "@jupyter-widgets/controls",
      "_model_module_version": "1.5.0",
      "_model_name": "DescriptionStyleModel",
      "_view_count": null,
      "_view_module": "@jupyter-widgets/base",
      "_view_module_version": "1.2.0",
      "_view_name": "StyleView",
      "description_width": ""
     }
    },
    "85213433194f40a999c39cb16cf51db9": {
     "model_module": "@jupyter-widgets/controls",
     "model_module_version": "1.5.0",
     "model_name": "DescriptionStyleModel",
     "state": {
      "_model_module": "@jupyter-widgets/controls",
      "_model_module_version": "1.5.0",
      "_model_name": "DescriptionStyleModel",
      "_view_count": null,
      "_view_module": "@jupyter-widgets/base",
      "_view_module_version": "1.2.0",
      "_view_name": "StyleView",
      "description_width": ""
     }
    },
    "88b7803844214284a675f38cf20a5c7f": {
     "model_module": "@jupyter-widgets/base",
     "model_module_version": "1.2.0",
     "model_name": "LayoutModel",
     "state": {
      "_model_module": "@jupyter-widgets/base",
      "_model_module_version": "1.2.0",
      "_model_name": "LayoutModel",
      "_view_count": null,
      "_view_module": "@jupyter-widgets/base",
      "_view_module_version": "1.2.0",
      "_view_name": "LayoutView",
      "align_content": null,
      "align_items": null,
      "align_self": null,
      "border": null,
      "bottom": null,
      "display": null,
      "flex": null,
      "flex_flow": null,
      "grid_area": null,
      "grid_auto_columns": null,
      "grid_auto_flow": null,
      "grid_auto_rows": null,
      "grid_column": null,
      "grid_gap": null,
      "grid_row": null,
      "grid_template_areas": null,
      "grid_template_columns": null,
      "grid_template_rows": null,
      "height": null,
      "justify_content": null,
      "justify_items": null,
      "left": null,
      "margin": null,
      "max_height": null,
      "max_width": null,
      "min_height": null,
      "min_width": null,
      "object_fit": null,
      "object_position": null,
      "order": null,
      "overflow": null,
      "overflow_x": null,
      "overflow_y": null,
      "padding": null,
      "right": null,
      "top": null,
      "visibility": null,
      "width": null
     }
    },
    "8b83dcabe99f49eaade4f11484815951": {
     "model_module": "@jupyter-widgets/controls",
     "model_module_version": "1.5.0",
     "model_name": "HTMLModel",
     "state": {
      "_dom_classes": [],
      "_model_module": "@jupyter-widgets/controls",
      "_model_module_version": "1.5.0",
      "_model_name": "HTMLModel",
      "_view_count": null,
      "_view_module": "@jupyter-widgets/controls",
      "_view_module_version": "1.5.0",
      "_view_name": "HTMLView",
      "description": "",
      "description_tooltip": null,
      "layout": "IPY_MODEL_022452df2b6248e59e3a6d94485e5c00",
      "placeholder": "​",
      "style": "IPY_MODEL_85213433194f40a999c39cb16cf51db9",
      "value": "Downloading config.json: 100%"
     }
    },
    "8d0662612570419cb0d959fca6ca7a89": {
     "model_module": "@jupyter-widgets/base",
     "model_module_version": "1.2.0",
     "model_name": "LayoutModel",
     "state": {
      "_model_module": "@jupyter-widgets/base",
      "_model_module_version": "1.2.0",
      "_model_name": "LayoutModel",
      "_view_count": null,
      "_view_module": "@jupyter-widgets/base",
      "_view_module_version": "1.2.0",
      "_view_name": "LayoutView",
      "align_content": null,
      "align_items": null,
      "align_self": null,
      "border": null,
      "bottom": null,
      "display": null,
      "flex": null,
      "flex_flow": null,
      "grid_area": null,
      "grid_auto_columns": null,
      "grid_auto_flow": null,
      "grid_auto_rows": null,
      "grid_column": null,
      "grid_gap": null,
      "grid_row": null,
      "grid_template_areas": null,
      "grid_template_columns": null,
      "grid_template_rows": null,
      "height": null,
      "justify_content": null,
      "justify_items": null,
      "left": null,
      "margin": null,
      "max_height": null,
      "max_width": null,
      "min_height": null,
      "min_width": null,
      "object_fit": null,
      "object_position": null,
      "order": null,
      "overflow": null,
      "overflow_x": null,
      "overflow_y": null,
      "padding": null,
      "right": null,
      "top": null,
      "visibility": null,
      "width": null
     }
    },
    "8f0c9c935bf742ef8e8a068e3c2eb47a": {
     "model_module": "@jupyter-widgets/controls",
     "model_module_version": "1.5.0",
     "model_name": "HBoxModel",
     "state": {
      "_dom_classes": [],
      "_model_module": "@jupyter-widgets/controls",
      "_model_module_version": "1.5.0",
      "_model_name": "HBoxModel",
      "_view_count": null,
      "_view_module": "@jupyter-widgets/controls",
      "_view_module_version": "1.5.0",
      "_view_name": "HBoxView",
      "box_style": "",
      "children": [
       "IPY_MODEL_4df61a3bbac34447ae9516ff161316e3",
       "IPY_MODEL_20257fa3d1004406865840a5539f13df",
       "IPY_MODEL_4b02393c18e34878a7626510b2158f58"
      ],
      "layout": "IPY_MODEL_be64ee0b65e34c30b46735fddd5166b4"
     }
    },
    "a354a4a2ce394d30a5d2091981e3b22a": {
     "model_module": "@jupyter-widgets/controls",
     "model_module_version": "1.5.0",
     "model_name": "DescriptionStyleModel",
     "state": {
      "_model_module": "@jupyter-widgets/controls",
      "_model_module_version": "1.5.0",
      "_model_name": "DescriptionStyleModel",
      "_view_count": null,
      "_view_module": "@jupyter-widgets/base",
      "_view_module_version": "1.2.0",
      "_view_name": "StyleView",
      "description_width": ""
     }
    },
    "a9541fea188d44d3a6a95d41241f9aa9": {
     "model_module": "@jupyter-widgets/controls",
     "model_module_version": "1.5.0",
     "model_name": "ProgressStyleModel",
     "state": {
      "_model_module": "@jupyter-widgets/controls",
      "_model_module_version": "1.5.0",
      "_model_name": "ProgressStyleModel",
      "_view_count": null,
      "_view_module": "@jupyter-widgets/base",
      "_view_module_version": "1.2.0",
      "_view_name": "StyleView",
      "bar_color": null,
      "description_width": ""
     }
    },
    "b4e245ce147f46c6b70f796947600163": {
     "model_module": "@jupyter-widgets/controls",
     "model_module_version": "1.5.0",
     "model_name": "ProgressStyleModel",
     "state": {
      "_model_module": "@jupyter-widgets/controls",
      "_model_module_version": "1.5.0",
      "_model_name": "ProgressStyleModel",
      "_view_count": null,
      "_view_module": "@jupyter-widgets/base",
      "_view_module_version": "1.2.0",
      "_view_name": "StyleView",
      "bar_color": null,
      "description_width": ""
     }
    },
    "be64ee0b65e34c30b46735fddd5166b4": {
     "model_module": "@jupyter-widgets/base",
     "model_module_version": "1.2.0",
     "model_name": "LayoutModel",
     "state": {
      "_model_module": "@jupyter-widgets/base",
      "_model_module_version": "1.2.0",
      "_model_name": "LayoutModel",
      "_view_count": null,
      "_view_module": "@jupyter-widgets/base",
      "_view_module_version": "1.2.0",
      "_view_name": "LayoutView",
      "align_content": null,
      "align_items": null,
      "align_self": null,
      "border": null,
      "bottom": null,
      "display": null,
      "flex": null,
      "flex_flow": null,
      "grid_area": null,
      "grid_auto_columns": null,
      "grid_auto_flow": null,
      "grid_auto_rows": null,
      "grid_column": null,
      "grid_gap": null,
      "grid_row": null,
      "grid_template_areas": null,
      "grid_template_columns": null,
      "grid_template_rows": null,
      "height": null,
      "justify_content": null,
      "justify_items": null,
      "left": null,
      "margin": null,
      "max_height": null,
      "max_width": null,
      "min_height": null,
      "min_width": null,
      "object_fit": null,
      "object_position": null,
      "order": null,
      "overflow": null,
      "overflow_x": null,
      "overflow_y": null,
      "padding": null,
      "right": null,
      "top": null,
      "visibility": null,
      "width": null
     }
    },
    "c325923f7b5a4ee7b28beeddcc922dec": {
     "model_module": "@jupyter-widgets/controls",
     "model_module_version": "1.5.0",
     "model_name": "HBoxModel",
     "state": {
      "_dom_classes": [],
      "_model_module": "@jupyter-widgets/controls",
      "_model_module_version": "1.5.0",
      "_model_name": "HBoxModel",
      "_view_count": null,
      "_view_module": "@jupyter-widgets/controls",
      "_view_module_version": "1.5.0",
      "_view_name": "HBoxView",
      "box_style": "",
      "children": [
       "IPY_MODEL_8b83dcabe99f49eaade4f11484815951",
       "IPY_MODEL_67e7e23de49c4d53916c409a54af1ae7",
       "IPY_MODEL_4c8b181c25d640d29d4245003c7ce8ad"
      ],
      "layout": "IPY_MODEL_1f343c04f62647e8aeef7d1fe7496b36"
     }
    },
    "c43def29fae6420a85a558f7a6c28fb7": {
     "model_module": "@jupyter-widgets/controls",
     "model_module_version": "1.5.0",
     "model_name": "HBoxModel",
     "state": {
      "_dom_classes": [],
      "_model_module": "@jupyter-widgets/controls",
      "_model_module_version": "1.5.0",
      "_model_name": "HBoxModel",
      "_view_count": null,
      "_view_module": "@jupyter-widgets/controls",
      "_view_module_version": "1.5.0",
      "_view_name": "HBoxView",
      "box_style": "",
      "children": [
       "IPY_MODEL_77b5c8d24aac49b6b093da8c9c851e89",
       "IPY_MODEL_d1c049d7c01a4996b18f6d6e3bc74b98",
       "IPY_MODEL_5b9fe172514341ba822ce80ef95c1136"
      ],
      "layout": "IPY_MODEL_f3cd8571d4de4a23b4dc0a4d33350aa6"
     }
    },
    "d1c049d7c01a4996b18f6d6e3bc74b98": {
     "model_module": "@jupyter-widgets/controls",
     "model_module_version": "1.5.0",
     "model_name": "FloatProgressModel",
     "state": {
      "_dom_classes": [],
      "_model_module": "@jupyter-widgets/controls",
      "_model_module_version": "1.5.0",
      "_model_name": "FloatProgressModel",
      "_view_count": null,
      "_view_module": "@jupyter-widgets/controls",
      "_view_module_version": "1.5.0",
      "_view_name": "ProgressView",
      "bar_style": "success",
      "description": "",
      "description_tooltip": null,
      "layout": "IPY_MODEL_629bf86f2d19496d99df47d63d5ccf8b",
      "max": 28,
      "min": 0,
      "orientation": "horizontal",
      "style": "IPY_MODEL_b4e245ce147f46c6b70f796947600163",
      "value": 28
     }
    },
    "f3cd8571d4de4a23b4dc0a4d33350aa6": {
     "model_module": "@jupyter-widgets/base",
     "model_module_version": "1.2.0",
     "model_name": "LayoutModel",
     "state": {
      "_model_module": "@jupyter-widgets/base",
      "_model_module_version": "1.2.0",
      "_model_name": "LayoutModel",
      "_view_count": null,
      "_view_module": "@jupyter-widgets/base",
      "_view_module_version": "1.2.0",
      "_view_name": "LayoutView",
      "align_content": null,
      "align_items": null,
      "align_self": null,
      "border": null,
      "bottom": null,
      "display": null,
      "flex": null,
      "flex_flow": null,
      "grid_area": null,
      "grid_auto_columns": null,
      "grid_auto_flow": null,
      "grid_auto_rows": null,
      "grid_column": null,
      "grid_gap": null,
      "grid_row": null,
      "grid_template_areas": null,
      "grid_template_columns": null,
      "grid_template_rows": null,
      "height": null,
      "justify_content": null,
      "justify_items": null,
      "left": null,
      "margin": null,
      "max_height": null,
      "max_width": null,
      "min_height": null,
      "min_width": null,
      "object_fit": null,
      "object_position": null,
      "order": null,
      "overflow": null,
      "overflow_x": null,
      "overflow_y": null,
      "padding": null,
      "right": null,
      "top": null,
      "visibility": null,
      "width": null
     }
    }
   }
  }
 },
 "nbformat": 4,
 "nbformat_minor": 4
}
